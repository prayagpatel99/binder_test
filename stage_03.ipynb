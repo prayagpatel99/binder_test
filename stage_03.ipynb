{
 "cells": [
  {
   "cell_type": "markdown",
   "metadata": {},
   "source": [
    "NOTE: Please run the cells one by one to get the outputs. "
   ]
  },
  {
   "cell_type": "code",
   "execution_count": 6,
   "metadata": {},
   "outputs": [
    {
     "name": "stdout",
     "output_type": "stream",
     "text": [
      "End date refers to the more recent date and start date should have occured before end date\n"
     ]
    },
    {
     "data": {
      "application/vnd.jupyter.widget-view+json": {
       "model_id": "32319a9ffe374fcb9862de86614f71f2",
       "version_major": 2,
       "version_minor": 0
      },
      "text/plain": [
       "DatePicker(value=None, description='Select a start date', style=DescriptionStyle(description_width='initial'))"
      ]
     },
     "metadata": {},
     "output_type": "display_data"
    },
    {
     "data": {
      "application/vnd.jupyter.widget-view+json": {
       "model_id": "e072be8c5339478bbed7c8c8d2346dce",
       "version_major": 2,
       "version_minor": 0
      },
      "text/plain": [
       "DatePicker(value=None, description='Select a end date', style=DescriptionStyle(description_width='initial'))"
      ]
     },
     "metadata": {},
     "output_type": "display_data"
    }
   ],
   "source": [
    "import ipywidgets as widgets\n",
    "print(\"End date refers to the more recent date and start date should have occured before end date\")\n",
    "start_date = widgets.DatePicker(\n",
    "    description='Select a start date',\n",
    "    disabled=False,\n",
    "    style={'description_width': 'initial'}\n",
    ")\n",
    "end_date = widgets.DatePicker(\n",
    "    description='Select a end date',\n",
    "    disabled=False,\n",
    "    style={'description_width': 'initial'}\n",
    ")\n",
    "\n",
    "# start_date_val = start_date.value\n",
    "# end_date_val = end_date.value\n",
    "\n",
    "display(start_date)\n",
    "display(end_date)"
   ]
  },
  {
   "cell_type": "code",
   "execution_count": 7,
   "metadata": {},
   "outputs": [
    {
     "data": {
      "application/vnd.plotly.v1+json": {
       "config": {
        "plotlyServerURL": "https://plot.ly"
       },
       "data": [
        {
         "customdata": [
          [
           21,
           2.6
          ],
          [
           27,
           2.7
          ],
          [
           17,
           3.3
          ],
          [
           39,
           5.4
          ],
          [
           32,
           2.5
          ],
          [
           21,
           2.7
          ],
          [
           89,
           2.63
          ],
          [
           65,
           2.77
          ],
          [
           51,
           2.5
          ],
          [
           105,
           2.7
          ],
          [
           29,
           3
          ],
          [
           19,
           2.64
          ],
          [
           29,
           2.75
          ],
          [
           25,
           2.8
          ],
          [
           19,
           2.91
          ],
          [
           25,
           2.9
          ],
          [
           23,
           3.5
          ],
          [
           30,
           2.7
          ],
          [
           24,
           2.8
          ],
          [
           19,
           3.1
          ],
          [
           17,
           2.6
          ],
          [
           39,
           2.7
          ],
          [
           38,
           2.54
          ],
          [
           67,
           3.28
          ],
          [
           18,
           2.68
          ],
          [
           95,
           2.62
          ],
          [
           71,
           2.69
          ],
          [
           32,
           2.5
          ],
          [
           17,
           2.8
          ],
          [
           28,
           2.68
          ],
          [
           22,
           3.3
          ],
          [
           18,
           2.6
          ],
          [
           31,
           3.2
          ],
          [
           24,
           2.9
          ],
          [
           24,
           3.4
          ],
          [
           34,
           2.6
          ],
          [
           100,
           2.71
          ],
          [
           29,
           2.7
          ],
          [
           40,
           4.4
          ],
          [
           17,
           2.5
          ],
          [
           25,
           2.81
          ],
          [
           38,
           2.7
          ],
          [
           79,
           3.04
          ],
          [
           17,
           2.7
          ],
          [
           16,
           2.5
          ],
          [
           36,
           2.5
          ],
          [
           24,
           3
          ],
          [
           33,
           2.7
          ],
          [
           64,
           2.57
          ],
          [
           71,
           2.58
          ],
          [
           4,
           3.28
          ],
          [
           74,
           2.65
          ],
          [
           38,
           2.5
          ],
          [
           9,
           3.1
          ],
          [
           21,
           2.5
          ],
          [
           32,
           3.2
          ],
          [
           21,
           2.8
          ],
          [
           5,
           2.6
          ],
          [
           20,
           2.69
          ],
          [
           24,
           3.12
          ],
          [
           50,
           2.62
          ],
          [
           96,
           2.71
          ],
          [
           25,
           2.7
          ],
          [
           96,
           2.65
          ],
          [
           58,
           3.59
          ],
          [
           15,
           3
          ],
          [
           41,
           3.5
          ],
          [
           28,
           2.74
          ],
          [
           29,
           2.71
          ],
          [
           101,
           2.79
          ],
          [
           89,
           2.83
          ],
          [
           35,
           2.9
          ],
          [
           10,
           3.5
          ],
          [
           72,
           2.63
          ],
          [
           97,
           2.51
          ],
          [
           40,
           2.6
          ],
          [
           66,
           3.98
          ],
          [
           205,
           3.59
          ],
          [
           11,
           2.59
          ],
          [
           21,
           3
          ],
          [
           29,
           2.6
          ],
          [
           18,
           2.9
          ],
          [
           14,
           2.79
          ],
          [
           25,
           2.7
          ],
          [
           30,
           2.63
          ],
          [
           52,
           2.84
          ],
          [
           30,
           2.9
          ],
          [
           26,
           2.5
          ],
          [
           21,
           3.5
          ],
          [
           17,
           2.9
          ],
          [
           109,
           2.9
          ],
          [
           17,
           2.5
          ],
          [
           24,
           3.3
          ],
          [
           15,
           3.2
          ],
          [
           23,
           3
          ],
          [
           14,
           2.6
          ],
          [
           20,
           2.6
          ],
          [
           14,
           2.6
          ],
          [
           15,
           2.6
          ],
          [
           65,
           2.6
          ],
          [
           18,
           3.2
          ],
          [
           19,
           2.9
          ],
          [
           22,
           2.5
          ],
          [
           15,
           3
          ],
          [
           68,
           2.59
          ],
          [
           29,
           3.91
          ],
          [
           25,
           2.58
          ],
          [
           34,
           2.88
          ],
          [
           30,
           2.59
          ],
          [
           14,
           2.7
          ],
          [
           79,
           3.82
          ],
          [
           16,
           2.7
          ],
          [
           16,
           3.6
          ],
          [
           25,
           2.7
          ],
          [
           80,
           2.72
          ],
          [
           14,
           2.5
          ],
          [
           36,
           2.9
          ],
          [
           28,
           2.839175175
          ],
          [
           31,
           2.53
          ],
          [
           40,
           3.1
          ],
          [
           40,
           2.5
          ],
          [
           49,
           2.5
          ],
          [
           35,
           2.5
          ],
          [
           20,
           2.5
          ],
          [
           28,
           3.5
          ],
          [
           96,
           2.9
          ],
          [
           21,
           2.5
          ],
          [
           77,
           2.63
          ],
          [
           41,
           2.6
          ],
          [
           32,
           2.66
          ],
          [
           27,
           3.1
          ],
          [
           31,
           4.3
          ],
          [
           25,
           2.6
          ],
          [
           24,
           2.52
          ],
          [
           25,
           2.9
          ],
          [
           55,
           2.6
          ],
          [
           32,
           2.510355001
          ],
          [
           71,
           2.7
          ],
          [
           10,
           2.5
          ],
          [
           89,
           2.8
          ],
          [
           34,
           2.9
          ],
          [
           14,
           2.6
          ],
          [
           18,
           2.6
          ],
          [
           98,
           2.52
          ],
          [
           23,
           2.5
          ],
          [
           19,
           2.6
          ],
          [
           8,
           2.8
          ],
          [
           26,
           3
          ],
          [
           34,
           2.9
          ],
          [
           19,
           2.5
          ],
          [
           52,
           4.7
          ],
          [
           22,
           2.6
          ],
          [
           42,
           4.5
          ],
          [
           18,
           2.7
          ],
          [
           64,
           2.51
          ],
          [
           54,
           3.01
          ],
          [
           34,
           2.7
          ],
          [
           63,
           4.2
          ],
          [
           10,
           2.5
          ],
          [
           111,
           2.92
          ],
          [
           90,
           2.78
          ],
          [
           26,
           2.7
          ],
          [
           34,
           2.51
          ],
          [
           11,
           2.9
          ],
          [
           71,
           2.57
          ],
          [
           34,
           3.5
          ],
          [
           25,
           3.6
          ],
          [
           10,
           2.9
          ],
          [
           9,
           2.8
          ],
          [
           16,
           2.8
          ],
          [
           25,
           2.5
          ],
          [
           40,
           2.5
          ],
          [
           34,
           4.5
          ],
          [
           24,
           2.87
          ],
          [
           40,
           2.7
          ],
          [
           160,
           6.2
          ],
          [
           26,
           2.6
          ],
          [
           41,
           2.81
          ],
          [
           57,
           2.8
          ],
          [
           25,
           2.9
          ],
          [
           29,
           3
          ],
          [
           47,
           3.2
          ],
          [
           31,
           2.5
          ],
          [
           25,
           2.8
          ],
          [
           39,
           2.5
          ],
          [
           26,
           2.6
          ],
          [
           10,
           2.9
          ],
          [
           61,
           2.81
          ],
          [
           64,
           4
          ],
          [
           104,
           2.62
          ],
          [
           36,
           2.6
          ],
          [
           30,
           2.7
          ],
          [
           40,
           2.5
          ],
          [
           21,
           2.9
          ],
          [
           25,
           2.7
          ],
          [
           36,
           2.7
          ],
          [
           50,
           2.5
          ],
          [
           38,
           2.9
          ],
          [
           69,
           2.7
          ],
          [
           39,
           2.9
          ],
          [
           90,
           2.64
          ],
          [
           40,
           2.5
          ],
          [
           36,
           2.5
          ],
          [
           16,
           3.4
          ],
          [
           23,
           2.5
          ],
          [
           21,
           2.5
          ],
          [
           73,
           2.7
          ],
          [
           61,
           3.8
          ],
          [
           46,
           2.5
          ],
          [
           52,
           2.9
          ],
          [
           73,
           3.5
          ],
          [
           35,
           2.5
          ],
          [
           67,
           2.8
          ],
          [
           33,
           2.6
          ],
          [
           65,
           4
          ],
          [
           18,
           2.6
          ],
          [
           48,
           2.5
          ],
          [
           28,
           2.6
          ],
          [
           31,
           3.4
          ],
          [
           25,
           2.8
          ],
          [
           13,
           2.6
          ],
          [
           42,
           5.4
          ],
          [
           48,
           3.7
          ],
          [
           29,
           3.04
          ],
          [
           30,
           2.6
          ],
          [
           26,
           3.57
          ],
          [
           26,
           2.97
          ],
          [
           30,
           2.81
          ],
          [
           122,
           2.83
          ],
          [
           20,
           2.5
          ],
          [
           96,
           2.92
          ],
          [
           52,
           2.7
          ],
          [
           12,
           3
          ],
          [
           28,
           3
          ],
          [
           44,
           2.69
          ],
          [
           85,
           2.96
          ],
          [
           6,
           2.5
          ],
          [
           26,
           2.59
          ],
          [
           38,
           2.9
          ],
          [
           16,
           2.6
          ],
          [
           26,
           3
          ],
          [
           48,
           2.5
          ],
          [
           62,
           2.6
          ],
          [
           68,
           2.6
          ],
          [
           25,
           3.3
          ],
          [
           42,
           2.8
          ],
          [
           82,
           2.73
          ],
          [
           17,
           3
          ],
          [
           30,
           3.58
          ],
          [
           24,
           3.09
          ],
          [
           12,
           2.78
          ],
          [
           67,
           3.4
          ],
          [
           14,
           2.5
          ],
          [
           134,
           2.71
          ],
          [
           28,
           2.6
          ],
          [
           35,
           2.8
          ],
          [
           45,
           3.19
          ],
          [
           38,
           2.5
          ],
          [
           57,
           3.19
          ],
          [
           31,
           2.7
          ],
          [
           101,
           2.76
          ],
          [
           82,
           2.61
          ],
          [
           53,
           2.7
          ],
          [
           13,
           2.5
          ],
          [
           8,
           2.5
          ],
          [
           11,
           2.97
          ],
          [
           100,
           2.71
          ],
          [
           11,
           2.6
          ],
          [
           34,
           2.7
          ],
          [
           51,
           2.7
          ],
          [
           26,
           2.53
          ],
          [
           25,
           2.76
          ],
          [
           46,
           2.63
          ],
          [
           13,
           2.5
          ],
          [
           27,
           3.3
          ],
          [
           24,
           3.3
          ],
          [
           10,
           2.65
          ],
          [
           22,
           3.23
          ],
          [
           42,
           2.51
          ],
          [
           20,
           2.88
          ],
          [
           36,
           3.5
          ],
          [
           32,
           2.63
          ],
          [
           35,
           3.1
          ],
          [
           90,
           2.51
          ],
          [
           11,
           2.5
          ],
          [
           9,
           3.81
          ],
          [
           14,
           4.04
          ],
          [
           14,
           3.69
          ],
          [
           9,
           3.1
          ],
          [
           17,
           3.6
          ],
          [
           66,
           3.76
          ],
          [
           74,
           2.55
          ],
          [
           100,
           2.61
          ],
          [
           28,
           3.78
          ],
          [
           75,
           2.69
          ],
          [
           79,
           2.8
          ],
          [
           55,
           3.16
          ],
          [
           38,
           2.66
          ],
          [
           23,
           2.8
          ],
          [
           49,
           2.5
          ],
          [
           81,
           2.94
          ],
          [
           90,
           3.19
          ],
          [
           32,
           2.9
          ],
          [
           46,
           2.55
          ],
          [
           150,
           6.1
          ],
          [
           23,
           2.7
          ],
          [
           25,
           2.8
          ],
          [
           83,
           2.83
          ],
          [
           26,
           3
          ],
          [
           14,
           3.3
          ],
          [
           13,
           3.27
          ],
          [
           15,
           3.1
          ],
          [
           121,
           2.8
          ],
          [
           29,
           2.5
          ],
          [
           41,
           2.5
          ],
          [
           12,
           3.3
          ],
          [
           29,
           2.5
          ],
          [
           38,
           2.69
          ],
          [
           31,
           2.8
          ],
          [
           70,
           2.83
          ],
          [
           35,
           2.6
          ],
          [
           13,
           3
          ],
          [
           12,
           3.1
          ],
          [
           50,
           2.54
          ],
          [
           15,
           2.9
          ],
          [
           19,
           2.9
          ],
          [
           42,
           4.2
          ],
          [
           21,
           2.79
          ],
          [
           22,
           3
          ],
          [
           38,
           2.86
          ],
          [
           42,
           2.6
          ],
          [
           17,
           2.6
          ],
          [
           13,
           2.5
          ],
          [
           77,
           2.7
          ],
          [
           124,
           2.83
          ],
          [
           36,
           2.8
          ],
          [
           109,
           2.8
          ],
          [
           130,
           3.01
          ],
          [
           21,
           2.54
          ],
          [
           24,
           2.52
          ],
          [
           50,
           2.5
          ],
          [
           30,
           3.5
          ],
          [
           149,
           2.85
          ],
          [
           33,
           2.79
          ],
          [
           20,
           2.8
          ],
          [
           42,
           2.5
          ],
          [
           16,
           3.4
          ],
          [
           18,
           2.8
          ],
          [
           45,
           2.5
          ],
          [
           14,
           2.5
          ],
          [
           12,
           2.5
          ],
          [
           89,
           2.92
          ],
          [
           35,
           2.87
          ],
          [
           30,
           2.53
          ],
          [
           39,
           3.66
          ],
          [
           31,
           2.62
          ],
          [
           68,
           2.81
          ],
          [
           24,
           3.3
          ],
          [
           18,
           3
          ],
          [
           54,
           2.73
          ],
          [
           113,
           2.75
          ],
          [
           94,
           2.85
          ],
          [
           24,
           3.05
          ],
          [
           109,
           2.72
          ],
          [
           124,
           3.54
          ],
          [
           120,
           2.94
          ],
          [
           199,
           5.06
          ],
          [
           28,
           3
          ],
          [
           23,
           2.59
          ],
          [
           22,
           2.5
          ],
          [
           36,
           2.6
          ],
          [
           101,
           2.66
          ],
          [
           16,
           3
          ],
          [
           67,
           2.52
          ],
          [
           41,
           4.1
          ],
          [
           11,
           2.898075421
          ],
          [
           90,
           2.65
          ],
          [
           120,
           3.27
          ],
          [
           95,
           2.93
          ],
          [
           10,
           2.9
          ],
          [
           5,
           2.6
          ],
          [
           15,
           3.4
          ],
          [
           5,
           2.8
          ],
          [
           82,
           2.57
          ],
          [
           34,
           2.61
          ],
          [
           47,
           3.1
          ],
          [
           69,
           3.7
          ],
          [
           96,
           3.5
          ],
          [
           17,
           3.1
          ],
          [
           75,
           2.53
          ],
          [
           83,
           2.78
          ],
          [
           76,
           2.52
          ],
          [
           18,
           2.5
          ],
          [
           22,
           2.5
          ],
          [
           31,
           2.63
          ],
          [
           15,
           2.68
          ],
          [
           15,
           2.9
          ],
          [
           16,
           3.79
          ],
          [
           52,
           4.32
          ],
          [
           16,
           2.8
          ],
          [
           24,
           3.367831862
          ],
          [
           88,
           3.22
          ],
          [
           35,
           2.55
          ],
          [
           90,
           3.27
          ],
          [
           89,
           3.33
          ],
          [
           23,
           2.51
          ],
          [
           14,
           2.9
          ],
          [
           32,
           2.67
          ],
          [
           14,
           2.5
          ],
          [
           20,
           2.8
          ],
          [
           56,
           2.51
          ],
          [
           100,
           2.59
          ],
          [
           61,
           2.65
          ],
          [
           59,
           2.55
          ],
          [
           20,
           2.9
          ],
          [
           21,
           3.4
          ],
          [
           122,
           2.56
          ],
          [
           14,
           2.6
          ],
          [
           34,
           2.83
          ],
          [
           9,
           2.5
          ],
          [
           11,
           2.59
          ],
          [
           35,
           3.3
          ],
          [
           11,
           2.5
          ],
          [
           91,
           3.14
          ],
          [
           21,
           2.9
          ],
          [
           18,
           2.9
          ],
          [
           25,
           3.1
          ],
          [
           12,
           2.5
          ],
          [
           26,
           3.2
          ],
          [
           25,
           2.7
          ],
          [
           74,
           2.9
          ],
          [
           33,
           2.8
          ],
          [
           59,
           2.72
          ],
          [
           29,
           2.9
          ],
          [
           100,
           2.74
          ],
          [
           73,
           3.4
          ],
          [
           6,
           2.93
          ],
          [
           91,
           2.67
          ],
          [
           61,
           2.61
          ],
          [
           33,
           2.85
          ],
          [
           15,
           2.57
          ],
          [
           94,
           3.15
          ],
          [
           17,
           2.8
          ],
          [
           66,
           2.73
          ],
          [
           81,
           3.67
          ],
          [
           52,
           2.9
          ],
          [
           69,
           2.52
          ],
          [
           30,
           3.54
          ],
          [
           38,
           2.64
          ],
          [
           17,
           2.7
          ],
          [
           35,
           2.64
          ],
          [
           7,
           3.22
          ],
          [
           18,
           2.75
          ],
          [
           37,
           3.8
          ],
          [
           8,
           3.54
          ],
          [
           45,
           2.8
          ],
          [
           54,
           3
          ],
          [
           41,
           2.88
          ],
          [
           25,
           2.6
          ],
          [
           41,
           3.01
          ],
          [
           30,
           2.51
          ],
          [
           21,
           2.6
          ],
          [
           22,
           2.5
          ],
          [
           25,
           2.6
          ],
          [
           52,
           2.5
          ],
          [
           24,
           2.59
          ],
          [
           38,
           3
          ],
          [
           29,
           2.5
          ],
          [
           100,
           2.7
          ],
          [
           33,
           2.7
          ],
          [
           100,
           3.14
          ],
          [
           81,
           2.56
          ],
          [
           117,
           3.47
          ],
          [
           99,
           3.21
          ],
          [
           41,
           4.39
          ],
          [
           100,
           3.42
          ],
          [
           51,
           2.7
          ],
          [
           65,
           3.2
          ],
          [
           45,
           2.9
          ],
          [
           89,
           2.71
          ],
          [
           15,
           2.77
          ],
          [
           100,
           2.88
          ],
          [
           52,
           2.79
          ],
          [
           49,
           2.84
          ],
          [
           97,
           2.78
          ],
          [
           15,
           2.61
          ],
          [
           19,
           2.9
          ],
          [
           98,
           2.54
          ],
          [
           100,
           3.19
          ],
          [
           23,
           2.6
          ],
          [
           13,
           2.6
          ],
          [
           36,
           2.5
          ],
          [
           20,
           2.6
          ],
          [
           90,
           3.01
          ],
          [
           23,
           2.51
          ],
          [
           20,
           3.1
          ],
          [
           26,
           3.57
          ],
          [
           47,
           2.9
          ],
          [
           95,
           2.8
          ],
          [
           114,
           3.01
          ],
          [
           9,
           3.1
          ],
          [
           38,
           2.8
          ],
          [
           15,
           2.5
          ],
          [
           142,
           3.08
          ],
          [
           65,
           2.71
          ],
          [
           17,
           2.8
          ],
          [
           20,
           3.3
          ],
          [
           36,
           2.5
          ],
          [
           99,
           2.6
          ],
          [
           99,
           2.57
          ],
          [
           101,
           2.52
          ],
          [
           24,
           2.77
          ],
          [
           32,
           2.9
          ],
          [
           98,
           2.76
          ],
          [
           10,
           2.5
          ],
          [
           29,
           2.95
          ]
         ],
         "hovertemplate": "<b>%{hovertext}</b><br><br>latitude=%{lat}<br>longitude=%{lon}<br>nst=%{customdata[0]}<br>mag=%{marker.color}<extra></extra>",
         "hovertext": [
          "16 km N of Midland, Texas",
          "19 km N of Midland, Texas",
          "21 km NNW of Midland, Texas",
          "22 km NNW of Midland, Texas",
          "5 km SW of Danville, Kansas",
          "western Texas",
          "2km S of Placentia, CA",
          "49km WSW of Ferndale, CA",
          "western Texas",
          "7km WSW of Big Bear Lake, CA",
          "37 km NNW of Toyah, Texas",
          "24km SE of Blue Lake, CA",
          "7 km WSW of Morton, Washington",
          "western Texas",
          "6 km WNW of Packwood, Washington",
          "51 km S of Whites City, New Mexico",
          "36 km WSW of Mentone, Texas",
          "36 km WSW of Mentone, Texas",
          "52 km S of Whites City, New Mexico",
          "36 km WSW of Mentone, Texas",
          "36 km NNW of Toyah, Texas",
          "30 km NW of Toyah, Texas",
          "16km NW of Pinnacles, CA",
          "10km NW of Pinnacles, CA",
          "4 km E of Lake Marcel-Stillwater, Washington",
          "8 km WSW of Minco, Oklahoma",
          "11km WNW of Cobb, CA",
          "13 km WSW of Norwich, Kansas",
          "38 km WSW of Mentone, Texas",
          "2km NNE of Petrolia, CA",
          "5 km SW of Luis Lopez, New Mexico",
          "Nevada",
          "8 km SW of Danville, Kansas",
          "54 km S of Whites City, New Mexico",
          "55 km S of Whites City, New Mexico",
          "46 km NW of Toyah, Texas",
          "3 km ENE of Crescent, Oklahoma",
          "63 km SSW of Whites City, New Mexico",
          "33 km WSW of Las Brisas, Mexico",
          "15 km NW of Shiner, Texas",
          "9km SSW of Cape Vizcaino, CA",
          "58 km NW of Toyah, Texas",
          "10 km W of Lamont, Oklahoma",
          "49 km ENE of Fort Bidwell, California",
          "50 km ENE of Fort Bidwell, California",
          null,
          "79 km N of Rachel, Nevada",
          "Arizona",
          "12km NNW of Ocotillo, CA",
          "4km NW of The Geysers, CA",
          "120km ESE of Maneadero, B.C., MX",
          "4km ESE of Aromas, CA",
          "48 km W of Mentone, Texas",
          "50 km ENE of Fort Bidwell, California",
          "31 km NW of Toyah, Texas",
          "36 km WSW of Mentone, Texas",
          "38 km NNW of Toyah, Texas",
          "50 km ENE of Fort Bidwell, California",
          "0 km S of Laurel Park, North Carolina",
          "10km ESE of Loyalton, CA",
          "13km SE of Bodfish, CA",
          "8km ESE of Running Springs, CA",
          "11 km SSW of Lawrence, Nebraska",
          "9 km SW of Minco, Oklahoma",
          "13km SE of Bodfish, CA",
          "81 km N of Rachel, Nevada",
          "54 km W of Mentone, Texas",
          "22km NE of Little Lake, CA",
          "21km ENE of Little Lake, CA",
          "Oklahoma",
          "9 km NW of Pocasset, Oklahoma",
          "50 km SSE of Whites City, New Mexico",
          "50 km ENE of Fort Bidwell, California",
          "8km WSW of Muir Beach, CA",
          "Oklahoma",
          "48 km W of Mentone, Texas",
          "9km SSW of Kettleman City, CA",
          "13km ESE of Alum Rock, CA",
          "4 km SW of Madison, Missouri",
          "48 km W of Mentone, Texas",
          "48 km W of Mentone, Texas",
          "20 km SSE of Harrison, Montana",
          "4 km SSW of Welcome Beach, Canada",
          "37 km WSW of Mentone, Texas",
          "7km N of Round Valley, CA",
          "10km SW of Kettleman City, CA",
          "56 km NW of Toyah, Texas",
          "48 km ENE of Fort Bidwell, California",
          "57 km NW of Toyah, Texas",
          "50 km ENE of Fort Bidwell, California",
          "5km NNE of Diablo, CA",
          "35 km WSW of Mentone, Texas",
          "western Texas",
          "western Texas",
          "66 km SSW of Whites City, New Mexico",
          "34 km NW of Stanley, Idaho",
          "64 km SSW of Whites City, New Mexico",
          "36 km WSW of Mentone, Texas",
          "36 km WSW of Mentone, Texas",
          "20km NE of San Lucas, CA",
          "55 km S of Whites City, New Mexico",
          "36 km NW of Toyah, Texas",
          "36 km WSW of Mentone, Texas",
          "35 km SSW of Los Ybanez, Texas",
          "5km WSW of Ojai, CA",
          "4km WSW of Big Pine, CA",
          "6km E of Round Valley, CA",
          "38km SSE of San Clemente Is. (SE tip), CA",
          "6km E of Round Valley, CA",
          null,
          "12km NNW of Ocotillo, CA",
          "36 km WSW of Mentone, Texas",
          "New Mexico",
          null,
          "12km SE of Talmage, CA",
          "36 km NNW of Toyah, Texas",
          "54 km NW of Toyah, Texas",
          "51 km SSW of Whites City, New Mexico",
          "6km ENE of Covelo, CA",
          "55 km S of Whites City, New Mexico",
          "42 km NW of Toyah, Texas",
          "43 km NW of Toyah, Texas",
          "43 km NW of Toyah, Texas",
          "6 km E of New Cambria, Kansas",
          "42 km NW of Toyah, Texas",
          "7 km WSW of Minco, Oklahoma",
          "36 km WSW of Mentone, Texas",
          "11km E of Ocotillo Wells, CA",
          "54 km S of Whites City, New Mexico",
          "24km W of Petrolia, CA",
          "54 km S of Whites City, New Mexico",
          "31 km SW of Las Brisas, Mexico",
          "28 km NE of Benton, California",
          "41km NNW of Fort Irwin, CA",
          "40 km NW of Toyah, Texas",
          "10km S of Tres Pinos, CA",
          "49 km NW of Toyah, Texas",
          "16km NW of Pinnacles, CA",
          "18 km NW of Cacouna, Canada",
          "6 km WSW of Minco, Oklahoma",
          "54 km S of Whites City, New Mexico",
          "35 km SSW of Los Ybanez, Texas",
          "13 km WSW of Saint Regis, Montana",
          "0km SSW of View Park-Windsor Hills, CA",
          "3 km WSW of Danville, Kansas",
          "45 km ENE of Tonopah, Nevada",
          "84km E of Maneadero, B.C., MX",
          "38 km NNW of Toyah, Texas",
          "37 km WSW of Mentone, Texas",
          "39 km NNW of Toyah, Texas",
          null,
          "38 km WSW of Mentone, Texas",
          "western Texas",
          "western Texas",
          "17km NW of Parkfield, CA",
          "5km NE of Westmorland, CA",
          "54 km S of Whites City, New Mexico",
          "34 km W of Las Brisas, Mexico",
          "80 km N of Rachel, Nevada",
          "15km E of Seven Trees, CA",
          "5km ESE of Yorba Linda, CA",
          "31 km NW of Toyah, Texas",
          "15km SSW of Searles Valley, CA",
          "55 km S of Whites City, New Mexico",
          "20km N of Ocotillo, CA",
          "31 km SE of Mina, Nevada",
          "53 km SSW of Whites City, New Mexico",
          "78 km N of Rachel, Nevada",
          "76 km NNW of Rachel, Nevada",
          "13 km NNW of Miramichi, Canada",
          "37 km WSW of Mentone, Texas",
          "52 km NW of Toyah, Texas",
          "Baja California, Mexico",
          "19km W of Alberto Oviedo Mota, B.C., MX",
          "52 km SSW of Whites City, New Mexico",
          "Baja California, Mexico",
          "40 km NW of Toyah, Texas",
          "7 km SW of Corinne, Utah",
          "57 km SSW of Whites City, New Mexico",
          "29 km NE of Benton, California",
          "80 km N of Rachel, Nevada",
          "52 km SSW of Whites City, New Mexico",
          "56 km S of Whites City, New Mexico",
          "56 km SSW of Whites City, New Mexico",
          "38 km NNW of Toyah, Texas",
          "30 km NW of Toyah, Texas",
          "Western Montana",
          "9km WNW of Templeton, CA",
          "38 km WSW of Mentone, Texas",
          "6km SW of Big Bear Lake, CA",
          "western Texas",
          "59 km SSW of Whites City, New Mexico",
          "38 km NW of Toyah, Texas",
          "38 km WSW of Mentone, Texas",
          "western Texas",
          "38 km WSW of Mentone, Texas",
          "37 km WSW of Mentone, Texas",
          "58 km SSW of Whites City, New Mexico",
          "western Texas",
          "61 km SSW of Whites City, New Mexico",
          null,
          "37 km WSW of Mentone, Texas",
          "21 km NW of Valentine, Texas",
          "Oregon-Idaho border region",
          "37 km WSW of Mentone, Texas",
          "37 km WSW of Mentone, Texas",
          "40 km W of Mentone, Texas",
          "37 km WSW of Mentone, Texas",
          "38 km NNW of Toyah, Texas",
          "37 km NNW of Toyah, Texas",
          "37 km WSW of Mentone, Texas",
          "35 km WSW of Mentone, Texas",
          "36 km WSW of Mentone, Texas",
          "37 km NNW of Toyah, Texas",
          "39 km WSW of Mentone, Texas",
          "37 km WSW of Mentone, Texas",
          "37 km WSW of Mentone, Texas",
          "36 km WSW of Mentone, Texas",
          "western Texas",
          "western Texas",
          "37 km WSW of Mentone, Texas",
          "38 km WSW of Mentone, Texas",
          "3 km NE of Ravalli, Montana",
          "18 km NNW of Taylor, Wyoming",
          "18 km NNW of Taylor, Wyoming",
          "17 km NNW of Taylor, Wyoming",
          "17 km NNW of Taylor, Wyoming",
          "18 km NNW of Taylor, Wyoming",
          "3km S of Half Moon Bay, CA",
          "29 km SE of Mina, Nevada",
          "7 km WSW of Minco, Oklahoma",
          "40 km NW of Toyah, Texas",
          "37 km WNW of Kingston, Nevada",
          "4 km WNW of Terrebonne, Canada",
          "6km NW of The Geysers, CA",
          "6km NNW of The Geysers, CA",
          "4 km SSW of Maynard, Arkansas",
          "Wyoming",
          "21 km NW of Stanton, Texas",
          "22 km NW of Stanley, Idaho",
          "4 km SSW of Mooringsport, Louisiana",
          "54 km S of Whites City, New Mexico",
          "41 km NW of Toyah, Texas",
          "41 km NW of Toyah, Texas",
          "54 km NW of Toyah, Texas",
          "54 km NW of Toyah, Texas",
          "3km SSW of San Juan Bautista, CA",
          "14 km WNW of Stanley, Idaho",
          "7 km SW of Corinne, Utah",
          "3km W of Walker, CA",
          "78km ESE of Maneadero, B.C., MX",
          "45 km NE of Dubois, Wyoming",
          "31 km SE of Mina, Nevada",
          "2km SSW of Alamo, CA",
          "16 km NE of Jal, New Mexico",
          "17km ESE of Little Lake, CA",
          "15km W of Searles Valley, CA",
          "8 km S of Manila, Arkansas",
          "5 km SE of Tiptonville, Tennessee",
          "western Texas",
          "1 km ESE of Medicine Park, Oklahoma",
          "2km SW of Cobb, CA",
          "58 km WNW of Toyah, Texas",
          "39 km NNE of Nixon, Nevada",
          "41 km NNE of Nixon, Nevada",
          "84km ESE of Maneadero, B.C., MX",
          "9 km S of Dibble, Oklahoma",
          "41 km NNE of Nixon, Nevada",
          "61 km ENE of San Vicente, Mexico",
          "55 km S of Whites City, New Mexico",
          "12km WSW of Petrolia, CA",
          "15km WSW of Loyalton, CA",
          "16km WNW of Lake Pillsbury, CA",
          "40 km NNE of Nixon, Nevada",
          "56 km S of Whites City, New Mexico",
          "41 km NNE of Nixon, Nevada",
          "86km E of Maneadero, B.C., MX",
          "4km W of Walker, CA",
          "5km E of Covelo, CA",
          "3km WNW of Walker, CA",
          "58 km S of Whites City, New Mexico",
          "12km SSE of San Clemente Is. (SE tip), CA",
          null,
          "8 km WSW of Waynoka, Oklahoma",
          "86km E of Maneadero, B.C., MX",
          "78km ESE of Maneadero, B.C., MX",
          "84km ESE of Maneadero, B.C., MX",
          "83km ESE of Maneadero, B.C., MX",
          "76km ESE of Maneadero, B.C., MX",
          "24 km NW of Stanley, Idaho",
          "16km WNW of Lake Pillsbury, CA",
          "2 km ENE of Wardville, Oklahoma",
          "8 km WSW of Waynoka, Oklahoma",
          "3 km ESE of Colorado City, Arizona",
          "0km E of Carson, CA",
          "14km NW of Pinnacles, CA",
          "10 km N of Van Buren, Missouri",
          "16km SSW of Searles Valley, CA",
          "3 km SE of Falls City, Texas",
          "55 km S of Whites City, New Mexico",
          "6km WNW of Cobb, CA",
          "6km W of Cobb, CA",
          "6 km ENE of Lima, Montana",
          "28km NE of Oakhurst, CA",
          "82 km SSW of Bahía de Kino, Mexico",
          "3 km SE of Falls City, Texas",
          "3 km SE of Falls City, Texas",
          "7km WNW of Cobb, CA",
          "1 km WNW of Falls City, Texas",
          "Baja California, Mexico",
          "79km ESE of Maneadero, B.C., MX",
          "85km ESE of Maneadero, B.C., MX",
          "9km NE of Alum Rock, CA",
          "20 km WSW of Coyanosa, Texas",
          "western Texas",
          "7 km SSW of South Flat, Wyoming",
          "12 km SSE of Lincolnville, Kansas",
          "Utah",
          "Kansas",
          "14km E of Seven Trees, CA",
          "45 km SSW of Valentine, Texas",
          "11 km S of Virden, New Mexico",
          "15 km S of Virden, New Mexico",
          "11km S of Tres Pinos, CA",
          "15 km W of Pistol River, Oregon",
          "17 km E of Smiley, Texas",
          "Sonora, Mexico",
          "33km NW of Santa Barbara Is., CA",
          "32 km NW of Stanley, Idaho",
          "24km NNE of Trona, CA",
          "55 km NW of Toyah, Texas",
          "Southern Texas",
          "15 km NW of Stanley, Idaho",
          "32 km SE of Malaga, New Mexico",
          "14km ESE of Alum Rock, CA",
          "33 km NW of Toyah, Texas",
          "6km SE of Pleasanton, CA",
          "6km ESE of Wrightwood, CA",
          "6 km E of Elgin, South Carolina",
          "23km WSW of Stovepipe Wells, CA",
          "5 km SE of Ackerly, Texas",
          "21 km E of Smiley, Texas",
          "2km E of Loma Linda, CA",
          "12km WSW of Petrolia, CA",
          "44 km NW of Toyah, Texas",
          "26 km SE of Lindsay, Texas",
          "5 km SE of Ackerly, Texas",
          "16 km ESE of Smiley, Texas",
          "54 km NW of Toyah, Texas",
          "16 km ESE of Smiley, Texas",
          "8 km SE of Amarillo, Texas",
          "12km NNE of Hollister, CA",
          "11km ESE of Mammoth Lakes, CA",
          "11km ESE of Mammoth Lakes, CA",
          "7km WSW of Petrolia, CA",
          "14km SSW of Searles Valley, CA",
          "6 km SSE of Catron, Missouri",
          "16 km NE of Fowlerton, Texas",
          "5 km ESE of Fowlerton, Texas",
          "4 km NNE of Ridgely, Tennessee",
          "11km NW of Anza, CA",
          "11km NW of Anza, CA",
          "6km NW of Walker, CA",
          "14km ESE of Alum Rock, CA",
          "15km E of Seven Trees, CA",
          "15km E of Seven Trees, CA",
          "15km ESE of Alum Rock, CA",
          "2 km NNE of La Luz, New Mexico",
          "Virginia-North Carolina border region",
          "38 km NNW of Toyah, Texas",
          "55 km S of Whites City, New Mexico",
          "5km E of Calimesa, CA",
          "21 km NW of Stanley, Idaho",
          "3km NW of The Geysers, CA",
          "3km SSE of Fortuna, CA",
          null,
          "9km ENE of San Martin, CA",
          "23km SSW of La Quinta, CA",
          "6 km SE of Wakita, Oklahoma",
          "22 km ESE of McGill, Nevada",
          "35 km ENE of Austin, Nevada",
          "17 km NE of Austin, Nevada",
          "38 km NE of Austin, Nevada",
          "7km SSW of Muir Beach, CA",
          "5km NNE of Hydesville, CA",
          "western Texas",
          "western Texas",
          "54 km S of Whites City, New Mexico",
          "56 km S of Whites City, New Mexico",
          "8km NW of The Geysers, CA",
          "8km NW of The Geysers, CA",
          "10km E of Alum Rock, CA",
          "55 km NW of Toyah, Texas",
          "California-Nevada border region",
          "21km SE of Bodie, CA",
          "18km NW of Belden, CA",
          "54 km NW of Toyah, Texas",
          "100km S of San Clemente Is. (SE tip), CA",
          "36km NE of Redway, CA",
          "western Texas",
          "56 km NW of Toyah, Texas",
          "6km NW of The Geysers, CA",
          "7km NW of The Geysers, CA",
          "6km NW of The Geysers, CA",
          "6km NW of The Geysers, CA",
          "2 km NNW of Circleville, Utah",
          "56 km NW of Toyah, Texas",
          "7km N of Petrolia, CA",
          "37 km NNW of Toyah, Texas",
          null,
          "1 km NE of Ridgely, Tennessee",
          "4 km SSE of Dover, Oklahoma",
          "14km NNW of Lopez Point, CA",
          "2km N of The Geysers, CA",
          "8 km NNW of Chacra, Colorado",
          "southern Idaho",
          "2km WNW of Aguanga, CA",
          "southern Idaho",
          "16km SE of Mammoth Lakes, CA",
          "54 km NW of Toyah, Texas",
          "78km ESE of Maneadero, B.C., MX",
          "33 km SE of Malaga, New Mexico",
          "54 km S of Whites City, New Mexico",
          "2km WSW of Anderson Springs, CA",
          "31 km SE of Mina, Nevada",
          null,
          "29 km SSE of Mina, Nevada",
          "56 km S of Whites City, New Mexico",
          "2 km ESE of Ravalli, Montana",
          "36 km NNW of Toyah, Texas",
          "western Texas",
          "6 km SE of Floriston, California",
          "13km NNW of Grapevine, CA",
          "19 km NW of Stanton, Texas",
          "4 km SE of Dover, Oklahoma",
          "34 km SE of Malaga, New Mexico",
          "8 km NNE of Airway Heights, Washington",
          "8 km WSW of Hunnewell, Kansas",
          "4 km SE of Dover, Oklahoma",
          "22 km SSW of Mammoth, Wyoming",
          "48km ENE of Maneadero, B.C., MX",
          "4 km SSE of Dover, Oklahoma",
          "42 km NW of Toyah, Texas",
          "9km SE of Talmage, CA",
          "13km NNW of Grapevine, CA",
          "56 km NW of Toyah, Texas",
          "2km ENE of Carson, CA",
          "5km NE of Walker, CA",
          "25km WNW of Petrolia, CA",
          "18 km E of Smiley, Texas",
          "26km WNW of Petrolia, CA",
          "103km SE of Estacion Coahuila, B.C., MX",
          "6km SE of Viola, CA",
          "23 km SSE of Golfo de Santa Clara, Mexico",
          "101km SE of Estacion Coahuila, B.C., MX",
          "6 km SE of Floriston, California",
          "56 km S of Whites City, New Mexico",
          "12km ENE of Ridgecrest, CA",
          "56 km S of Whites City, New Mexico",
          "14km SSW of Searles Valley, CA",
          "2 km N of Farragut, Tennessee",
          "62 km S of Whites City, New Mexico",
          "55 km S of Whites City, New Mexico",
          "55 km NW of Toyah, Texas",
          "western Texas",
          "31km WNW of Crescent City, CA",
          "58 km S of Whites City, New Mexico",
          "55 km NW of Toyah, Texas",
          "Oklahoma",
          "42 km NW of Toyah, Texas",
          "4 km SSE of Dover, Oklahoma",
          "4km WSW of Colma, CA",
          "23km E of Julian, CA",
          "4 km SSE of Dover, Oklahoma",
          "16 km ESE of Lacomb, Oregon",
          "4 km SSE of Dover, Oklahoma",
          null,
          "47 km W of Mentone, Texas",
          "48 km W of Mentone, Texas",
          "4 km SSE of Dover, Oklahoma",
          "51km ESE of Maneadero, B.C., MX",
          "4 km SSE of Dover, Oklahoma",
          "4km SSW of Niland, CA",
          "5km SSW of Niland, CA",
          "4 km SSE of Dover, Oklahoma",
          "58km SSW of Estacion Coahuila, B.C., MX",
          "18 km NE of Silver Peak, Nevada",
          "4km SE of Loma Linda, CA",
          "4 km SSE of Dover, Oklahoma",
          "25 km NNW of Challis, Idaho",
          "56 km NE of McGill, Nevada",
          "19 km SSE of Alamo, Nevada",
          "4 km N of Three Rivers, Texas",
          "19km SSW of Mariposa, CA",
          "34 km ESE of West Yellowstone, Montana",
          "11 km W of Stanley, Idaho",
          "5km WSW of Delta, B.C., MX",
          "47 km W of Mentone, Texas",
          "4 km SSE of Dover, Oklahoma",
          "4km W of Banning, CA",
          null,
          "55 km S of Whites City, New Mexico",
          "western Texas",
          "5km ESE of Yorba Linda, CA",
          "26km WSW of Westmorland, CA",
          "36 km NNW of Toyah, Texas",
          "30 km SSW of Los Ybanez, Texas",
          "6 km E of Bluff City, Kansas",
          "4 km SSE of Dover, Oklahoma",
          "4 km SSE of Dover, Oklahoma",
          "4 km SSE of Dover, Oklahoma",
          null,
          "western Texas",
          "Oklahoma",
          "12 km W of Stanley, Idaho",
          "25 km WNW of Forks, Washington"
         ],
         "lat": [
          32.1441,
          32.17,
          32.18353271,
          32.19085693,
          37.2552,
          31.67515288,
          33.8498333,
          40.4853333,
          31.62538927,
          34.2301667,
          31.60529881,
          40.7068329,
          46.53266666666666,
          32.28790283,
          46.62416666666667,
          31.71619236,
          31.60779679,
          31.60745084,
          31.71229338,
          31.6105518,
          31.60232659,
          31.51443023,
          36.6455002,
          36.6046667,
          47.687333333333335,
          35.27616667,
          38.8615,
          37.4216,
          31.62378864,
          40.342,
          33.9448,
          38.1822,
          37.2318,
          31.68585561,
          31.67115978,
          31.62202289,
          35.96983333,
          31.62072795,
          30.8003,
          29.5211792,
          39.6556667,
          31.61581119,
          36.69633333,
          42.0116,
          42.0161,
          31.68127027,
          38.3553,
          35.4039,
          32.8348333,
          38.8013333,
          31.124,
          36.873,
          31.73456842,
          41.976,
          31.51047843,
          31.61420308,
          31.61894129,
          41.9601,
          35.3063333333333,
          39.631,
          35.5033333,
          34.1771667,
          40.1934,
          35.2575,
          35.5086667,
          38.3737,
          31.71277945,
          36.0448333,
          36.0406667,
          34.949,
          35.2555,
          31.73767798,
          41.9732,
          37.827,
          35.25916667,
          31.73638956,
          35.9356667,
          37.3258333,
          39.4441666666667,
          31.73477526,
          31.73201662,
          45.5361,
          49.44166666666667,
          31.61394824,
          37.4771667,
          35.9336667,
          31.61668416,
          42.0062,
          31.66602425,
          41.9805,
          37.8783333,
          31.60609038,
          31.61431841,
          31.6097471,
          31.59215386,
          44.4663,
          31.6093688,
          31.62728579,
          31.630724,
          36.249,
          31.67545477,
          31.56717435,
          31.61385453,
          32.4307251,
          34.4301667,
          37.1563333,
          37.4156667,
          32.5355,
          37.4171667,
          31.69946955,
          32.8361667,
          31.61479245,
          33.9609,
          33.9689,
          39.0416667,
          31.60971654,
          31.64266733,
          31.72856511,
          39.8096667,
          31.67150103,
          31.56357293,
          31.5621748,
          31.56079363,
          38.8788,
          31.55439337,
          35.28283333,
          31.60928415,
          33.1608333,
          31.68216525,
          40.3545,
          31.68666321,
          30.7737,
          37.9932,
          35.5861667,
          31.56777641,
          36.7043333,
          31.59041145,
          36.6423333,
          48.0269,
          35.28533333,
          31.68441096,
          32.43255615,
          47.2568,
          33.9923333,
          37.2708,
          38.1701,
          31.57,
          31.61248783,
          31.61348604,
          31.6155766,
          31.62673498,
          31.62399855,
          31.63414005,
          31.71009894,
          36.0043333,
          33.0695,
          31.68670531,
          31.0122,
          38.3674,
          37.2916667,
          33.8758333,
          31.52836424,
          35.6381667,
          31.6797273,
          32.91,
          38.1864,
          31.71635872,
          38.3489,
          38.322,
          47.1331,
          31.61543446,
          31.60261979,
          30.9454,
          32.2506667,
          31.72202186,
          30.7839,
          31.5651355,
          41.5098333,
          31.67840454,
          37.9964,
          38.3662,
          31.72073247,
          31.67402863,
          31.67866353,
          31.61467777,
          31.52457686,
          46.8015,
          35.5711667,
          31.63489585,
          34.1968333,
          31.62950719,
          31.65396867,
          31.55345937,
          31.62847084,
          31.63956788,
          31.63248808,
          31.62771827,
          31.66548399,
          31.63077607,
          31.64886475,
          35.87416667,
          31.6348178,
          30.71228027,
          44.2667,
          31.61738727,
          31.6196887,
          31.63748457,
          31.63563504,
          31.61709197,
          31.61013778,
          31.61714426,
          31.61147683,
          31.61717663,
          31.6073499,
          31.62947111,
          31.63447804,
          31.62852652,
          31.60882457,
          31.61834703,
          31.6365363,
          31.63425093,
          31.6367452,
          47.2961,
          42.214,
          42.2158333,
          42.2126667,
          42.2076667,
          42.2151667,
          37.4401667,
          38.2014,
          35.28233333,
          31.56097224,
          39.3318,
          45.7212,
          38.8171667,
          38.82,
          36.3831666666667,
          44.7905,
          32.27325439,
          44.359,
          32.6524,
          31.68403456,
          31.56471977,
          31.56818731,
          31.65098384,
          31.64823732,
          36.8175,
          44.2666,
          41.5125,
          38.5111667,
          31.5266667,
          43.829,
          38.1878,
          37.8308333,
          32.22198486,
          35.8905,
          35.7415,
          35.8008333,
          36.3435,
          31.10995141,
          34.72283333,
          38.8085,
          31.61005255,
          40.1488,
          40.1662,
          31.5633333,
          34.944,
          40.1633,
          31.5097,
          31.6716,
          40.2838333,
          39.6085,
          39.4851667,
          40.1563,
          31.66201297,
          40.172,
          31.5643333,
          38.5181667,
          39.7935,
          38.5203333,
          31.65135131,
          32.727,
          43.0277,
          36.53883333,
          31.5623333,
          31.509,
          31.5571667,
          31.5536667,
          31.5138333,
          44.3722,
          39.4828333,
          34.66583333,
          36.54016667,
          36.9838333,
          33.8315,
          36.629,
          37.0878333,
          35.647,
          28.96087646,
          31.6791131,
          38.8333333,
          38.8331667,
          44.6548,
          37.4886667,
          28.1573,
          28.96179199,
          28.96362305,
          38.8363333,
          28.98834229,
          31.1645,
          31.5301667,
          31.5638333,
          37.43,
          31.16813827,
          31.61903434,
          43.8693,
          38.3953,
          41.5028333,
          38.4013,
          37.3086662,
          30.2041626,
          32.5882,
          32.5442,
          36.6871667,
          42.27166666666667,
          29.25750732,
          27.9226,
          33.7098333,
          44.3927,
          35.974,
          31.61580046,
          29.24102783,
          44.3255,
          32.00623877,
          37.3158333,
          31.50369418,
          37.6296667,
          34.3418333,
          34.1625,
          36.5111667,
          32.49481201,
          29.23736572,
          34.0463333,
          40.274,
          31.61152169,
          31.18922903,
          32.48931885,
          29.23370361,
          31.61084666,
          29.23370361,
          35.16906738,
          36.9416667,
          37.611,
          37.6091667,
          40.3113333,
          35.6548333,
          36.551,
          28.58093262,
          28.4463501,
          36.3023333,
          33.6378333,
          33.6383333,
          38.5471667,
          37.3163333,
          37.3106667,
          37.3056667,
          37.3115,
          33.0002,
          36.5876667,
          31.61366151,
          31.67492506,
          33.9898333,
          44.3233,
          38.7943333,
          40.5781667,
          32.78411865,
          37.1215,
          33.4806667,
          36.83533333,
          39.3107,
          39.6703,
          39.6096,
          39.6995,
          37.8021667,
          40.5906667,
          31.68212359,
          31.67243422,
          31.6826,
          31.66692993,
          38.8256667,
          38.8333333,
          37.3605,
          31.64865291,
          38.0721,
          38.0658333,
          40.1221667,
          31.6480198,
          31.9225,
          40.3495,
          31.64319288,
          31.66128988,
          38.816,
          38.8233333,
          38.8176667,
          38.8121667,
          38.1958333,
          31.60955928,
          40.3865,
          31.6103947,
          31.64591099,
          36.2746667,
          35.9405,
          36.1438333,
          38.7928333,
          39.6415,
          44.3322,
          33.4506667,
          44.7143,
          37.5195,
          31.64293987,
          31.5256667,
          32.00028938,
          31.68204991,
          38.765,
          38.1836,
          31.60720673,
          38.1533,
          31.66941712,
          47.2691,
          31.60605861,
          31.68068884,
          39.353,
          35.0453333,
          32.26593018,
          35.95033333,
          32.00364424,
          47.709,
          36.98083333,
          35.95316667,
          44.7846667,
          31.8176667,
          35.94266667,
          31.55597654,
          39.0688333,
          35.0486667,
          31.65225681,
          33.8378333,
          38.5498333,
          40.3751667,
          29.2666626,
          40.3725,
          31.4663333,
          40.4825,
          31.5071,
          31.4701667,
          39.3511,
          31.66574382,
          35.6735,
          31.6719487,
          35.6578333,
          35.9038333,
          31.61075916,
          31.67521613,
          31.64190362,
          31.62485567,
          41.8303333,
          31.6546837,
          31.60772098,
          35.93616667,
          31.53961864,
          35.94366667,
          37.663,
          33.0413333,
          35.94133333,
          44.540333333333336,
          35.94133333,
          31.73369112,
          31.73564266,
          31.73468275,
          35.9455,
          31.621,
          35.94183333,
          33.2083333,
          33.2041667,
          35.9415,
          31.6836667,
          37.8699,
          34.0243333,
          35.94016667,
          44.7014,
          39.6975,
          37.2028,
          28.50402832,
          37.3278333,
          44.5963333,
          44.2065,
          32.3381667,
          31.73795177,
          35.9395,
          33.9246667,
          40.8273,
          31.67691285,
          31.67862959,
          33.8696667,
          32.9686667,
          31.59933663,
          32.46276855,
          37.0707,
          35.94033333,
          35.93916667,
          35.94183333,
          44.7488333,
          31.68716188,
          36.69933333,
          44.2125,
          48.06783333333333
         ],
         "legendgroup": "",
         "lon": [
          -102.0997,
          -102.1068,
          -102.1364091,
          -102.1406965,
          -97.9348,
          -104.4075586,
          -117.8655,
          -124.8351667,
          -104.2768996,
          -116.9858333,
          -103.9881499,
          -123.8079987,
          -122.36866666666668,
          -101.7912776,
          -121.75633333333332,
          -104.2708664,
          -103.9616681,
          -103.9620701,
          -104.2694902,
          -103.9624869,
          -103.9835641,
          -104.0170221,
          -121.2623367,
          -121.2093333,
          -121.859,
          -98.02616667,
          -122.8348333,
          -97.994,
          -103.9907903,
          -124.2786667,
          -106.9222,
          -117.8737,
          -97.9554,
          -104.3871969,
          -104.3854515,
          -104.1213858,
          -97.56066667,
          -104.5326923,
          -116.4632,
          -97.29078585,
          -123.8715,
          -104.3045324,
          -97.67366667,
          -119.5905,
          -119.585,
          -104.3855411,
          -115.8331,
          -113.6811,
          -116.0415,
          -122.7863333,
          -115.5058333,
          -121.6036667,
          -104.1073856,
          -119.5586,
          -104.0296311,
          -103.9705722,
          -103.9972239,
          -119.5579,
          -82.4926666666667,
          -120.1395,
          -118.393,
          -117.032,
          -98.3011,
          -98.02716667,
          -118.3915,
          -115.8032,
          -104.1747099,
          -117.708,
          -117.7101667,
          -97.61983333,
          -98.0275,
          -104.2497523,
          -119.5587,
          -122.6663333,
          -98.02416667,
          -104.1114364,
          -120.0126667,
          -121.6876667,
          -92.2526666666667,
          -104.1127735,
          -104.1130264,
          -111.6669,
          -123.923,
          -103.9783716,
          -118.6121667,
          -120.026,
          -104.2719908,
          -119.6011,
          -104.2416858,
          -119.5624,
          -121.9458333,
          -103.956147,
          -104.5293976,
          -103.9626179,
          -104.5431518,
          -115.1982,
          -104.5457539,
          -103.9754721,
          -103.9781778,
          -120.8478333,
          -104.4312481,
          -104.0468534,
          -103.9717811,
          -102.0742426,
          -119.2921667,
          -118.338,
          -118.5341667,
          -118.1305,
          -118.5338333,
          -104.1708528,
          -116.0403333,
          -103.9658675,
          -106.9294,
          -106.9125,
          -123.0855,
          -103.9723007,
          -104.2259089,
          -104.5243923,
          -123.1873333,
          -104.4037571,
          -104.1398534,
          -104.1441462,
          -104.1446752,
          -97.4298,
          -104.1371084,
          -98.01716667,
          -103.9636918,
          -116.0193333,
          -104.3893176,
          -124.5653333,
          -104.4044329,
          -116.4114,
          -118.2341,
          -116.9095,
          -104.097804,
          -121.3368333,
          -104.1986443,
          -121.2633333,
          -69.685,
          -98.01083333,
          -104.3974134,
          -102.0742426,
          -115.2674,
          -118.3508333,
          -97.9261,
          -116.7331,
          -115.694,
          -104.0028423,
          -103.9791765,
          -104.0067572,
          -104.0029099,
          -103.9967096,
          -103.9876096,
          -104.4725011,
          -120.5643333,
          -115.5835,
          -104.3979724,
          -116.5181,
          -115.7972,
          -121.6641667,
          -117.7658333,
          -104.0080874,
          -117.4441667,
          -104.4108303,
          -115.9686667,
          -117.8655,
          -104.5581962,
          -115.8266,
          -115.9271,
          -65.603,
          -103.9806647,
          -104.2379952,
          -116.5078,
          -115.369,
          -104.538867,
          -116.3892,
          -104.0973856,
          -112.1785,
          -104.5330249,
          -118.2278,
          -115.8242,
          -104.5270042,
          -104.2907317,
          -104.4980343,
          -104.0008352,
          -104.00686,
          -112.6802,
          -120.8061667,
          -104.0020069,
          -116.9511667,
          -103.9986185,
          -104.5125867,
          -104.0868348,
          -103.9992862,
          -104.013195,
          -104.0005158,
          -103.9838138,
          -104.5398877,
          -103.9971448,
          -104.5844846,
          -97.58933333,
          -103.9911103,
          -104.673447,
          -116.2197,
          -103.980808,
          -103.9797423,
          -104.0174897,
          -103.9872129,
          -104.0004432,
          -103.9841374,
          -103.9848418,
          -103.960608,
          -103.9748891,
          -103.9932696,
          -104.0091105,
          -103.9896289,
          -103.9826069,
          -103.9636898,
          -103.9681694,
          -103.992598,
          -103.9888208,
          -103.9987871,
          -114.1463,
          -111.091,
          -111.0901667,
          -111.091,
          -111.0896667,
          -111.0913333,
          -122.4241667,
          -117.8786,
          -98.01733333,
          -104.1038136,
          -117.4792,
          -73.6966,
          -122.7993333,
          -122.793,
          -90.9101666666667,
          -110.8218333,
          -101.9349038,
          -115.1372,
          -93.9825,
          -104.3844888,
          -104.1141859,
          -104.1093671,
          -104.2173573,
          -104.2151853,
          -121.5528333,
          -115.1032,
          -112.1813333,
          -119.5185,
          -115.7781667,
          -109.2413,
          -117.8543,
          -122.0476667,
          -103.0796256,
          -117.7288333,
          -117.5666667,
          -90.1481667,
          -89.433,
          -103.2439976,
          -98.48466667,
          -122.735,
          -104.3069072,
          -119.1397,
          -119.1438,
          -115.6926667,
          -97.62583333,
          -119.1358,
          -115.6351,
          -104.3605,
          -124.4176667,
          -120.3948333,
          -123.115,
          -119.1389,
          -104.3783731,
          -119.148,
          -115.6708333,
          -119.5206667,
          -123.1898333,
          -119.5126667,
          -104.3180018,
          -118.2761667,
          -111.593,
          -98.96366667,
          -115.6716667,
          -115.782,
          -115.6993333,
          -115.7113333,
          -115.7966667,
          -115.1574,
          -123.1165,
          -96.0045,
          -98.96333333,
          -112.9426667,
          -118.2781667,
          -121.2515,
          -91.0195,
          -117.4993333,
          -97.99804688,
          -104.4339741,
          -122.795,
          -122.7961667,
          -112.5143,
          -119.4043333,
          -112.3106,
          -97.98874081,
          -97.99494485,
          -122.8013333,
          -98.03527114,
          -116.7047,
          -115.7598333,
          -115.6906667,
          -121.7728333,
          -103.264417,
          -104.0946022,
          -108.0343,
          -96.8794,
          -112.1756667,
          -96.8417,
          -121.677002,
          -104.6552258,
          -109.023,
          -109.0157,
          -121.3175,
          -124.57966666666668,
          -97.46036305,
          -111.8314,
          -119.2718333,
          -115.2615,
          -117.3248333,
          -104.2655282,
          -97.46863511,
          -115.0664,
          -103.8406251,
          -121.6805,
          -104.0615686,
          -121.8145,
          -117.569,
          -80.7191667,
          -117.3738333,
          -101.6755192,
          -97.47070313,
          -117.2351667,
          -124.414,
          -104.1051839,
          -103.3572672,
          -101.6733756,
          -97.46863511,
          -104.2466622,
          -97.47277114,
          -101.7660757,
          -121.3346667,
          -118.8613333,
          -118.8613333,
          -124.3686667,
          -117.4845,
          -89.6845,
          -98.70013787,
          -98.7611443,
          -89.4693333,
          -116.7423333,
          -116.7436667,
          -119.534,
          -121.6811667,
          -121.6751667,
          -121.6731667,
          -121.672,
          -105.9296,
          -81.0625,
          -103.9955853,
          -104.3714882,
          -116.9996667,
          -115.1565,
          -122.779,
          -124.14,
          -100.6872856,
          -121.5215,
          -116.4261667,
          -97.87183333,
          -114.5493,
          -116.7279,
          -116.9273,
          -116.7163,
          -122.608,
          -124.0748333,
          -104.3957777,
          -104.4016123,
          -104.419,
          -104.3999478,
          -122.8228333,
          -122.8171667,
          -121.7188333,
          -104.223799,
          -118.8638,
          -118.8585,
          -121.401,
          -104.212762,
          -118.2288333,
          -123.5185,
          -104.2129973,
          -104.2241581,
          -122.8108333,
          -122.8098333,
          -122.8078333,
          -122.8151667,
          -112.2805,
          -104.2722054,
          -124.2983333,
          -103.9758004,
          -104.3809226,
          -89.4768333,
          -97.89,
          -121.605,
          -122.7543333,
          -107.4845,
          -115.1751,
          -116.888,
          -114.4203,
          -118.8795,
          -104.2175697,
          -115.78,
          -103.8287224,
          -104.4070829,
          -122.7143333,
          -117.8566,
          -103.9666414,
          -117.9446,
          -104.4061606,
          -114.1547,
          -103.9663674,
          -104.4043787,
          -119.9641,
          -118.9916667,
          -101.9177544,
          -97.874,
          -103.8175224,
          -117.53916666666667,
          -97.49333333,
          -97.87283333,
          -110.8053333,
          -116.0706667,
          -97.88483333,
          -104.1427634,
          -123.0976667,
          -118.9958333,
          -104.2378177,
          -118.2661667,
          -119.4411667,
          -124.5743333,
          -97.44175092,
          -124.5798333,
          -114.3305,
          -121.619,
          -114.3592,
          -114.3495,
          -119.9712,
          -104.3697934,
          -117.5615,
          -104.2722782,
          -117.4841667,
          -84.155,
          -104.3798065,
          -104.3978691,
          -104.2401641,
          -104.3672863,
          -124.566,
          -104.298115,
          -104.2721914,
          -97.89883333,
          -104.1520685,
          -97.88416667,
          -122.4965,
          -116.3546667,
          -97.89133333,
          -122.55083333333332,
          -97.89,
          -104.0974151,
          -104.0978304,
          -104.1075209,
          -97.8955,
          -116.0356667,
          -97.8895,
          -115.5425,
          -115.5441667,
          -97.891,
          -115.152,
          -117.4765,
          -117.2246667,
          -97.89166667,
          -114.4027,
          -114.244,
          -115.0807,
          -98.17486213,
          -120.0411667,
          -110.6826667,
          -115.0782,
          -115.2443333,
          -104.0951503,
          -97.89266667,
          -116.9215,
          -117.0879,
          -104.4194181,
          -104.4030142,
          -117.7646667,
          -115.8898333,
          -103.9843573,
          -102.0410156,
          -97.7981,
          -97.89583333,
          -97.8935,
          -97.89383333,
          -111.1135,
          -104.1974227,
          -97.6685,
          -115.0913,
          -124.613
         ],
         "marker": {
          "color": [
           2.6,
           2.7,
           3.3,
           5.4,
           2.5,
           2.7,
           2.63,
           2.77,
           2.5,
           2.7,
           3,
           2.64,
           2.75,
           2.8,
           2.91,
           2.9,
           3.5,
           2.7,
           2.8,
           3.1,
           2.6,
           2.7,
           2.54,
           3.28,
           2.68,
           2.62,
           2.69,
           2.5,
           2.8,
           2.68,
           3.3,
           2.6,
           3.2,
           2.9,
           3.4,
           2.6,
           2.71,
           2.7,
           4.4,
           2.5,
           2.81,
           2.7,
           3.04,
           2.7,
           2.5,
           2.5,
           3,
           2.7,
           2.57,
           2.58,
           3.28,
           2.65,
           2.5,
           3.1,
           2.5,
           3.2,
           2.8,
           2.6,
           2.69,
           3.12,
           2.62,
           2.71,
           2.7,
           2.65,
           3.59,
           3,
           3.5,
           2.74,
           2.71,
           2.79,
           2.83,
           2.9,
           3.5,
           2.63,
           2.51,
           2.6,
           3.98,
           3.59,
           2.59,
           3,
           2.6,
           2.9,
           2.79,
           2.7,
           2.63,
           2.84,
           2.9,
           2.5,
           3.5,
           2.9,
           2.9,
           2.5,
           3.3,
           3.2,
           3,
           2.6,
           2.6,
           2.6,
           2.6,
           2.6,
           3.2,
           2.9,
           2.5,
           3,
           2.59,
           3.91,
           2.58,
           2.88,
           2.59,
           2.7,
           3.82,
           2.7,
           3.6,
           2.7,
           2.72,
           2.5,
           2.9,
           2.839175175,
           2.53,
           3.1,
           2.5,
           2.5,
           2.5,
           2.5,
           3.5,
           2.9,
           2.5,
           2.63,
           2.6,
           2.66,
           3.1,
           4.3,
           2.6,
           2.52,
           2.9,
           2.6,
           2.510355001,
           2.7,
           2.5,
           2.8,
           2.9,
           2.6,
           2.6,
           2.52,
           2.5,
           2.6,
           2.8,
           3,
           2.9,
           2.5,
           4.7,
           2.6,
           4.5,
           2.7,
           2.51,
           3.01,
           2.7,
           4.2,
           2.5,
           2.92,
           2.78,
           2.7,
           2.51,
           2.9,
           2.57,
           3.5,
           3.6,
           2.9,
           2.8,
           2.8,
           2.5,
           2.5,
           4.5,
           2.87,
           2.7,
           6.2,
           2.6,
           2.81,
           2.8,
           2.9,
           3,
           3.2,
           2.5,
           2.8,
           2.5,
           2.6,
           2.9,
           2.81,
           4,
           2.62,
           2.6,
           2.7,
           2.5,
           2.9,
           2.7,
           2.7,
           2.5,
           2.9,
           2.7,
           2.9,
           2.64,
           2.5,
           2.5,
           3.4,
           2.5,
           2.5,
           2.7,
           3.8,
           2.5,
           2.9,
           3.5,
           2.5,
           2.8,
           2.6,
           4,
           2.6,
           2.5,
           2.6,
           3.4,
           2.8,
           2.6,
           5.4,
           3.7,
           3.04,
           2.6,
           3.57,
           2.97,
           2.81,
           2.83,
           2.5,
           2.92,
           2.7,
           3,
           3,
           2.69,
           2.96,
           2.5,
           2.59,
           2.9,
           2.6,
           3,
           2.5,
           2.6,
           2.6,
           3.3,
           2.8,
           2.73,
           3,
           3.58,
           3.09,
           2.78,
           3.4,
           2.5,
           2.71,
           2.6,
           2.8,
           3.19,
           2.5,
           3.19,
           2.7,
           2.76,
           2.61,
           2.7,
           2.5,
           2.5,
           2.97,
           2.71,
           2.6,
           2.7,
           2.7,
           2.53,
           2.76,
           2.63,
           2.5,
           3.3,
           3.3,
           2.65,
           3.23,
           2.51,
           2.88,
           3.5,
           2.63,
           3.1,
           2.51,
           2.5,
           3.81,
           4.04,
           3.69,
           3.1,
           3.6,
           3.76,
           2.55,
           2.61,
           3.78,
           2.69,
           2.8,
           3.16,
           2.66,
           2.8,
           2.5,
           2.94,
           3.19,
           2.9,
           2.55,
           6.1,
           2.7,
           2.8,
           2.83,
           3,
           3.3,
           3.27,
           3.1,
           2.8,
           2.5,
           2.5,
           3.3,
           2.5,
           2.69,
           2.8,
           2.83,
           2.6,
           3,
           3.1,
           2.54,
           2.9,
           2.9,
           4.2,
           2.79,
           3,
           2.86,
           2.6,
           2.6,
           2.5,
           2.7,
           2.83,
           2.8,
           2.8,
           3.01,
           2.54,
           2.52,
           2.5,
           3.5,
           2.85,
           2.79,
           2.8,
           2.5,
           3.4,
           2.8,
           2.5,
           2.5,
           2.5,
           2.92,
           2.87,
           2.53,
           3.66,
           2.62,
           2.81,
           3.3,
           3,
           2.73,
           2.75,
           2.85,
           3.05,
           2.72,
           3.54,
           2.94,
           5.06,
           3,
           2.59,
           2.5,
           2.6,
           2.66,
           3,
           2.52,
           4.1,
           2.898075421,
           2.65,
           3.27,
           2.93,
           2.9,
           2.6,
           3.4,
           2.8,
           2.57,
           2.61,
           3.1,
           3.7,
           3.5,
           3.1,
           2.53,
           2.78,
           2.52,
           2.5,
           2.5,
           2.63,
           2.68,
           2.9,
           3.79,
           4.32,
           2.8,
           3.367831862,
           3.22,
           2.55,
           3.27,
           3.33,
           2.51,
           2.9,
           2.67,
           2.5,
           2.8,
           2.51,
           2.59,
           2.65,
           2.55,
           2.9,
           3.4,
           2.56,
           2.6,
           2.83,
           2.5,
           2.59,
           3.3,
           2.5,
           3.14,
           2.9,
           2.9,
           3.1,
           2.5,
           3.2,
           2.7,
           2.9,
           2.8,
           2.72,
           2.9,
           2.74,
           3.4,
           2.93,
           2.67,
           2.61,
           2.85,
           2.57,
           3.15,
           2.8,
           2.73,
           3.67,
           2.9,
           2.52,
           3.54,
           2.64,
           2.7,
           2.64,
           3.22,
           2.75,
           3.8,
           3.54,
           2.8,
           3,
           2.88,
           2.6,
           3.01,
           2.51,
           2.6,
           2.5,
           2.6,
           2.5,
           2.59,
           3,
           2.5,
           2.7,
           2.7,
           3.14,
           2.56,
           3.47,
           3.21,
           4.39,
           3.42,
           2.7,
           3.2,
           2.9,
           2.71,
           2.77,
           2.88,
           2.79,
           2.84,
           2.78,
           2.61,
           2.9,
           2.54,
           3.19,
           2.6,
           2.6,
           2.5,
           2.6,
           3.01,
           2.51,
           3.1,
           3.57,
           2.9,
           2.8,
           3.01,
           3.1,
           2.8,
           2.5,
           3.08,
           2.71,
           2.8,
           3.3,
           2.5,
           2.6,
           2.57,
           2.52,
           2.77,
           2.9,
           2.76,
           2.5,
           2.95
          ],
          "coloraxis": "coloraxis"
         },
         "mode": "markers",
         "name": "",
         "showlegend": false,
         "subplot": "mapbox",
         "type": "scattermapbox"
        }
       ],
       "layout": {
        "coloraxis": {
         "colorbar": {
          "title": {
           "text": "mag"
          }
         },
         "colorscale": [
          [
           0,
           "#000000"
          ],
          [
           0.0625,
           "#001f4d"
          ],
          [
           0.125,
           "#003786"
          ],
          [
           0.1875,
           "#0e58a8"
          ],
          [
           0.25,
           "#217eb8"
          ],
          [
           0.3125,
           "#30a4ca"
          ],
          [
           0.375,
           "#54c8df"
          ],
          [
           0.4375,
           "#9be4ef"
          ],
          [
           0.5,
           "#e1e9d1"
          ],
          [
           0.5625,
           "#f3d573"
          ],
          [
           0.625,
           "#e7b000"
          ],
          [
           0.6875,
           "#da8200"
          ],
          [
           0.75,
           "#c65400"
          ],
          [
           0.8125,
           "#ac2301"
          ],
          [
           0.875,
           "#820000"
          ],
          [
           0.9375,
           "#4c0000"
          ],
          [
           1,
           "#000000"
          ]
         ]
        },
        "height": 600,
        "legend": {
         "tracegroupgap": 0
        },
        "mapbox": {
         "center": {
          "lat": 35.285067860335936,
          "lon": -109.74748703536174
         },
         "domain": {
          "x": [
           0,
           1
          ],
          "y": [
           0,
           1
          ]
         },
         "style": "open-street-map",
         "zoom": 3
        },
        "margin": {
         "b": 0,
         "l": 0,
         "r": 0,
         "t": 0
        },
        "template": {
         "data": {
          "bar": [
           {
            "error_x": {
             "color": "#f2f5fa"
            },
            "error_y": {
             "color": "#f2f5fa"
            },
            "marker": {
             "line": {
              "color": "rgb(17,17,17)",
              "width": 0.5
             },
             "pattern": {
              "fillmode": "overlay",
              "size": 10,
              "solidity": 0.2
             }
            },
            "type": "bar"
           }
          ],
          "barpolar": [
           {
            "marker": {
             "line": {
              "color": "rgb(17,17,17)",
              "width": 0.5
             },
             "pattern": {
              "fillmode": "overlay",
              "size": 10,
              "solidity": 0.2
             }
            },
            "type": "barpolar"
           }
          ],
          "carpet": [
           {
            "aaxis": {
             "endlinecolor": "#A2B1C6",
             "gridcolor": "#506784",
             "linecolor": "#506784",
             "minorgridcolor": "#506784",
             "startlinecolor": "#A2B1C6"
            },
            "baxis": {
             "endlinecolor": "#A2B1C6",
             "gridcolor": "#506784",
             "linecolor": "#506784",
             "minorgridcolor": "#506784",
             "startlinecolor": "#A2B1C6"
            },
            "type": "carpet"
           }
          ],
          "choropleth": [
           {
            "colorbar": {
             "outlinewidth": 0,
             "ticks": ""
            },
            "type": "choropleth"
           }
          ],
          "contour": [
           {
            "colorbar": {
             "outlinewidth": 0,
             "ticks": ""
            },
            "colorscale": [
             [
              0,
              "#0d0887"
             ],
             [
              0.1111111111111111,
              "#46039f"
             ],
             [
              0.2222222222222222,
              "#7201a8"
             ],
             [
              0.3333333333333333,
              "#9c179e"
             ],
             [
              0.4444444444444444,
              "#bd3786"
             ],
             [
              0.5555555555555556,
              "#d8576b"
             ],
             [
              0.6666666666666666,
              "#ed7953"
             ],
             [
              0.7777777777777778,
              "#fb9f3a"
             ],
             [
              0.8888888888888888,
              "#fdca26"
             ],
             [
              1,
              "#f0f921"
             ]
            ],
            "type": "contour"
           }
          ],
          "contourcarpet": [
           {
            "colorbar": {
             "outlinewidth": 0,
             "ticks": ""
            },
            "type": "contourcarpet"
           }
          ],
          "heatmap": [
           {
            "colorbar": {
             "outlinewidth": 0,
             "ticks": ""
            },
            "colorscale": [
             [
              0,
              "#0d0887"
             ],
             [
              0.1111111111111111,
              "#46039f"
             ],
             [
              0.2222222222222222,
              "#7201a8"
             ],
             [
              0.3333333333333333,
              "#9c179e"
             ],
             [
              0.4444444444444444,
              "#bd3786"
             ],
             [
              0.5555555555555556,
              "#d8576b"
             ],
             [
              0.6666666666666666,
              "#ed7953"
             ],
             [
              0.7777777777777778,
              "#fb9f3a"
             ],
             [
              0.8888888888888888,
              "#fdca26"
             ],
             [
              1,
              "#f0f921"
             ]
            ],
            "type": "heatmap"
           }
          ],
          "heatmapgl": [
           {
            "colorbar": {
             "outlinewidth": 0,
             "ticks": ""
            },
            "colorscale": [
             [
              0,
              "#0d0887"
             ],
             [
              0.1111111111111111,
              "#46039f"
             ],
             [
              0.2222222222222222,
              "#7201a8"
             ],
             [
              0.3333333333333333,
              "#9c179e"
             ],
             [
              0.4444444444444444,
              "#bd3786"
             ],
             [
              0.5555555555555556,
              "#d8576b"
             ],
             [
              0.6666666666666666,
              "#ed7953"
             ],
             [
              0.7777777777777778,
              "#fb9f3a"
             ],
             [
              0.8888888888888888,
              "#fdca26"
             ],
             [
              1,
              "#f0f921"
             ]
            ],
            "type": "heatmapgl"
           }
          ],
          "histogram": [
           {
            "marker": {
             "pattern": {
              "fillmode": "overlay",
              "size": 10,
              "solidity": 0.2
             }
            },
            "type": "histogram"
           }
          ],
          "histogram2d": [
           {
            "colorbar": {
             "outlinewidth": 0,
             "ticks": ""
            },
            "colorscale": [
             [
              0,
              "#0d0887"
             ],
             [
              0.1111111111111111,
              "#46039f"
             ],
             [
              0.2222222222222222,
              "#7201a8"
             ],
             [
              0.3333333333333333,
              "#9c179e"
             ],
             [
              0.4444444444444444,
              "#bd3786"
             ],
             [
              0.5555555555555556,
              "#d8576b"
             ],
             [
              0.6666666666666666,
              "#ed7953"
             ],
             [
              0.7777777777777778,
              "#fb9f3a"
             ],
             [
              0.8888888888888888,
              "#fdca26"
             ],
             [
              1,
              "#f0f921"
             ]
            ],
            "type": "histogram2d"
           }
          ],
          "histogram2dcontour": [
           {
            "colorbar": {
             "outlinewidth": 0,
             "ticks": ""
            },
            "colorscale": [
             [
              0,
              "#0d0887"
             ],
             [
              0.1111111111111111,
              "#46039f"
             ],
             [
              0.2222222222222222,
              "#7201a8"
             ],
             [
              0.3333333333333333,
              "#9c179e"
             ],
             [
              0.4444444444444444,
              "#bd3786"
             ],
             [
              0.5555555555555556,
              "#d8576b"
             ],
             [
              0.6666666666666666,
              "#ed7953"
             ],
             [
              0.7777777777777778,
              "#fb9f3a"
             ],
             [
              0.8888888888888888,
              "#fdca26"
             ],
             [
              1,
              "#f0f921"
             ]
            ],
            "type": "histogram2dcontour"
           }
          ],
          "mesh3d": [
           {
            "colorbar": {
             "outlinewidth": 0,
             "ticks": ""
            },
            "type": "mesh3d"
           }
          ],
          "parcoords": [
           {
            "line": {
             "colorbar": {
              "outlinewidth": 0,
              "ticks": ""
             }
            },
            "type": "parcoords"
           }
          ],
          "pie": [
           {
            "automargin": true,
            "type": "pie"
           }
          ],
          "scatter": [
           {
            "marker": {
             "line": {
              "color": "#283442"
             }
            },
            "type": "scatter"
           }
          ],
          "scatter3d": [
           {
            "line": {
             "colorbar": {
              "outlinewidth": 0,
              "ticks": ""
             }
            },
            "marker": {
             "colorbar": {
              "outlinewidth": 0,
              "ticks": ""
             }
            },
            "type": "scatter3d"
           }
          ],
          "scattercarpet": [
           {
            "marker": {
             "colorbar": {
              "outlinewidth": 0,
              "ticks": ""
             }
            },
            "type": "scattercarpet"
           }
          ],
          "scattergeo": [
           {
            "marker": {
             "colorbar": {
              "outlinewidth": 0,
              "ticks": ""
             }
            },
            "type": "scattergeo"
           }
          ],
          "scattergl": [
           {
            "marker": {
             "line": {
              "color": "#283442"
             }
            },
            "type": "scattergl"
           }
          ],
          "scattermapbox": [
           {
            "marker": {
             "colorbar": {
              "outlinewidth": 0,
              "ticks": ""
             }
            },
            "type": "scattermapbox"
           }
          ],
          "scatterpolar": [
           {
            "marker": {
             "colorbar": {
              "outlinewidth": 0,
              "ticks": ""
             }
            },
            "type": "scatterpolar"
           }
          ],
          "scatterpolargl": [
           {
            "marker": {
             "colorbar": {
              "outlinewidth": 0,
              "ticks": ""
             }
            },
            "type": "scatterpolargl"
           }
          ],
          "scatterternary": [
           {
            "marker": {
             "colorbar": {
              "outlinewidth": 0,
              "ticks": ""
             }
            },
            "type": "scatterternary"
           }
          ],
          "surface": [
           {
            "colorbar": {
             "outlinewidth": 0,
             "ticks": ""
            },
            "colorscale": [
             [
              0,
              "#0d0887"
             ],
             [
              0.1111111111111111,
              "#46039f"
             ],
             [
              0.2222222222222222,
              "#7201a8"
             ],
             [
              0.3333333333333333,
              "#9c179e"
             ],
             [
              0.4444444444444444,
              "#bd3786"
             ],
             [
              0.5555555555555556,
              "#d8576b"
             ],
             [
              0.6666666666666666,
              "#ed7953"
             ],
             [
              0.7777777777777778,
              "#fb9f3a"
             ],
             [
              0.8888888888888888,
              "#fdca26"
             ],
             [
              1,
              "#f0f921"
             ]
            ],
            "type": "surface"
           }
          ],
          "table": [
           {
            "cells": {
             "fill": {
              "color": "#506784"
             },
             "line": {
              "color": "rgb(17,17,17)"
             }
            },
            "header": {
             "fill": {
              "color": "#2a3f5f"
             },
             "line": {
              "color": "rgb(17,17,17)"
             }
            },
            "type": "table"
           }
          ]
         },
         "layout": {
          "annotationdefaults": {
           "arrowcolor": "#f2f5fa",
           "arrowhead": 0,
           "arrowwidth": 1
          },
          "autotypenumbers": "strict",
          "coloraxis": {
           "colorbar": {
            "outlinewidth": 0,
            "ticks": ""
           }
          },
          "colorscale": {
           "diverging": [
            [
             0,
             "#8e0152"
            ],
            [
             0.1,
             "#c51b7d"
            ],
            [
             0.2,
             "#de77ae"
            ],
            [
             0.3,
             "#f1b6da"
            ],
            [
             0.4,
             "#fde0ef"
            ],
            [
             0.5,
             "#f7f7f7"
            ],
            [
             0.6,
             "#e6f5d0"
            ],
            [
             0.7,
             "#b8e186"
            ],
            [
             0.8,
             "#7fbc41"
            ],
            [
             0.9,
             "#4d9221"
            ],
            [
             1,
             "#276419"
            ]
           ],
           "sequential": [
            [
             0,
             "#0d0887"
            ],
            [
             0.1111111111111111,
             "#46039f"
            ],
            [
             0.2222222222222222,
             "#7201a8"
            ],
            [
             0.3333333333333333,
             "#9c179e"
            ],
            [
             0.4444444444444444,
             "#bd3786"
            ],
            [
             0.5555555555555556,
             "#d8576b"
            ],
            [
             0.6666666666666666,
             "#ed7953"
            ],
            [
             0.7777777777777778,
             "#fb9f3a"
            ],
            [
             0.8888888888888888,
             "#fdca26"
            ],
            [
             1,
             "#f0f921"
            ]
           ],
           "sequentialminus": [
            [
             0,
             "#0d0887"
            ],
            [
             0.1111111111111111,
             "#46039f"
            ],
            [
             0.2222222222222222,
             "#7201a8"
            ],
            [
             0.3333333333333333,
             "#9c179e"
            ],
            [
             0.4444444444444444,
             "#bd3786"
            ],
            [
             0.5555555555555556,
             "#d8576b"
            ],
            [
             0.6666666666666666,
             "#ed7953"
            ],
            [
             0.7777777777777778,
             "#fb9f3a"
            ],
            [
             0.8888888888888888,
             "#fdca26"
            ],
            [
             1,
             "#f0f921"
            ]
           ]
          },
          "colorway": [
           "#636efa",
           "#EF553B",
           "#00cc96",
           "#ab63fa",
           "#FFA15A",
           "#19d3f3",
           "#FF6692",
           "#B6E880",
           "#FF97FF",
           "#FECB52"
          ],
          "font": {
           "color": "#f2f5fa"
          },
          "geo": {
           "bgcolor": "rgb(17,17,17)",
           "lakecolor": "rgb(17,17,17)",
           "landcolor": "rgb(17,17,17)",
           "showlakes": true,
           "showland": true,
           "subunitcolor": "#506784"
          },
          "hoverlabel": {
           "align": "left"
          },
          "hovermode": "closest",
          "mapbox": {
           "style": "dark"
          },
          "paper_bgcolor": "rgb(17,17,17)",
          "plot_bgcolor": "rgb(17,17,17)",
          "polar": {
           "angularaxis": {
            "gridcolor": "#506784",
            "linecolor": "#506784",
            "ticks": ""
           },
           "bgcolor": "rgb(17,17,17)",
           "radialaxis": {
            "gridcolor": "#506784",
            "linecolor": "#506784",
            "ticks": ""
           }
          },
          "scene": {
           "xaxis": {
            "backgroundcolor": "rgb(17,17,17)",
            "gridcolor": "#506784",
            "gridwidth": 2,
            "linecolor": "#506784",
            "showbackground": true,
            "ticks": "",
            "zerolinecolor": "#C8D4E3"
           },
           "yaxis": {
            "backgroundcolor": "rgb(17,17,17)",
            "gridcolor": "#506784",
            "gridwidth": 2,
            "linecolor": "#506784",
            "showbackground": true,
            "ticks": "",
            "zerolinecolor": "#C8D4E3"
           },
           "zaxis": {
            "backgroundcolor": "rgb(17,17,17)",
            "gridcolor": "#506784",
            "gridwidth": 2,
            "linecolor": "#506784",
            "showbackground": true,
            "ticks": "",
            "zerolinecolor": "#C8D4E3"
           }
          },
          "shapedefaults": {
           "line": {
            "color": "#f2f5fa"
           }
          },
          "sliderdefaults": {
           "bgcolor": "#C8D4E3",
           "bordercolor": "rgb(17,17,17)",
           "borderwidth": 1,
           "tickwidth": 0
          },
          "ternary": {
           "aaxis": {
            "gridcolor": "#506784",
            "linecolor": "#506784",
            "ticks": ""
           },
           "baxis": {
            "gridcolor": "#506784",
            "linecolor": "#506784",
            "ticks": ""
           },
           "bgcolor": "rgb(17,17,17)",
           "caxis": {
            "gridcolor": "#506784",
            "linecolor": "#506784",
            "ticks": ""
           }
          },
          "title": {
           "x": 0.05
          },
          "updatemenudefaults": {
           "bgcolor": "#506784",
           "borderwidth": 0
          },
          "xaxis": {
           "automargin": true,
           "gridcolor": "#283442",
           "linecolor": "#506784",
           "ticks": "",
           "title": {
            "standoff": 15
           },
           "zerolinecolor": "#283442",
           "zerolinewidth": 2
          },
          "yaxis": {
           "automargin": true,
           "gridcolor": "#283442",
           "linecolor": "#506784",
           "ticks": "",
           "title": {
            "standoff": 15
           },
           "zerolinecolor": "#283442",
           "zerolinewidth": 2
          }
         }
        },
        "title": {
         "text": "Earthquakes Across the United States"
        }
       }
      },
      "text/html": [
       "<div>                            <div id=\"95487066-6767-49e2-8978-fe5cea802b33\" class=\"plotly-graph-div\" style=\"height:600px; width:100%;\"></div>            <script type=\"text/javascript\">                require([\"plotly\"], function(Plotly) {                    window.PLOTLYENV=window.PLOTLYENV || {};                                    if (document.getElementById(\"95487066-6767-49e2-8978-fe5cea802b33\")) {                    Plotly.newPlot(                        \"95487066-6767-49e2-8978-fe5cea802b33\",                        [{\"customdata\":[[21.0,2.6],[27.0,2.7],[17.0,3.3],[39.0,5.4],[32.0,2.5],[21.0,2.7],[89.0,2.63],[65.0,2.77],[51.0,2.5],[105.0,2.7],[29.0,3.0],[19.0,2.64],[29.0,2.75],[25.0,2.8],[19.0,2.91],[25.0,2.9],[23.0,3.5],[30.0,2.7],[24.0,2.8],[19.0,3.1],[17.0,2.6],[39.0,2.7],[38.0,2.54],[67.0,3.28],[18.0,2.68],[95.0,2.62],[71.0,2.69],[32.0,2.5],[17.0,2.8],[28.0,2.68],[22.0,3.3],[18.0,2.6],[31.0,3.2],[24.0,2.9],[24.0,3.4],[34.0,2.6],[100.0,2.71],[29.0,2.7],[40.0,4.4],[17.0,2.5],[25.0,2.81],[38.0,2.7],[79.0,3.04],[17.0,2.7],[16.0,2.5],[36.0,2.5],[24.0,3.0],[33.0,2.7],[64.0,2.57],[71.0,2.58],[4.0,3.28],[74.0,2.65],[38.0,2.5],[9.0,3.1],[21.0,2.5],[32.0,3.2],[21.0,2.8],[5.0,2.6],[20.0,2.69],[24.0,3.12],[50.0,2.62],[96.0,2.71],[25.0,2.7],[96.0,2.65],[58.0,3.59],[15.0,3.0],[41.0,3.5],[28.0,2.74],[29.0,2.71],[101.0,2.79],[89.0,2.83],[35.0,2.9],[10.0,3.5],[72.0,2.63],[97.0,2.51],[40.0,2.6],[66.0,3.98],[205.0,3.59],[11.0,2.59],[21.0,3.0],[29.0,2.6],[18.0,2.9],[14.0,2.79],[25.0,2.7],[30.0,2.63],[52.0,2.84],[30.0,2.9],[26.0,2.5],[21.0,3.5],[17.0,2.9],[109.0,2.9],[17.0,2.5],[24.0,3.3],[15.0,3.2],[23.0,3.0],[14.0,2.6],[20.0,2.6],[14.0,2.6],[15.0,2.6],[65.0,2.6],[18.0,3.2],[19.0,2.9],[22.0,2.5],[15.0,3.0],[68.0,2.59],[29.0,3.91],[25.0,2.58],[34.0,2.88],[30.0,2.59],[14.0,2.7],[79.0,3.82],[16.0,2.7],[16.0,3.6],[25.0,2.7],[80.0,2.72],[14.0,2.5],[36.0,2.9],[28.0,2.839175175],[31.0,2.53],[40.0,3.1],[40.0,2.5],[49.0,2.5],[35.0,2.5],[20.0,2.5],[28.0,3.5],[96.0,2.9],[21.0,2.5],[77.0,2.63],[41.0,2.6],[32.0,2.66],[27.0,3.1],[31.0,4.3],[25.0,2.6],[24.0,2.52],[25.0,2.9],[55.0,2.6],[32.0,2.510355001],[71.0,2.7],[10.0,2.5],[89.0,2.8],[34.0,2.9],[14.0,2.6],[18.0,2.6],[98.0,2.52],[23.0,2.5],[19.0,2.6],[8.0,2.8],[26.0,3.0],[34.0,2.9],[19.0,2.5],[52.0,4.7],[22.0,2.6],[42.0,4.5],[18.0,2.7],[64.0,2.51],[54.0,3.01],[34.0,2.7],[63.0,4.2],[10.0,2.5],[111.0,2.92],[90.0,2.78],[26.0,2.7],[34.0,2.51],[11.0,2.9],[71.0,2.57],[34.0,3.5],[25.0,3.6],[10.0,2.9],[9.0,2.8],[16.0,2.8],[25.0,2.5],[40.0,2.5],[34.0,4.5],[24.0,2.87],[40.0,2.7],[160.0,6.2],[26.0,2.6],[41.0,2.81],[57.0,2.8],[25.0,2.9],[29.0,3.0],[47.0,3.2],[31.0,2.5],[25.0,2.8],[39.0,2.5],[26.0,2.6],[10.0,2.9],[61.0,2.81],[64.0,4.0],[104.0,2.62],[36.0,2.6],[30.0,2.7],[40.0,2.5],[21.0,2.9],[25.0,2.7],[36.0,2.7],[50.0,2.5],[38.0,2.9],[69.0,2.7],[39.0,2.9],[90.0,2.64],[40.0,2.5],[36.0,2.5],[16.0,3.4],[23.0,2.5],[21.0,2.5],[73.0,2.7],[61.0,3.8],[46.0,2.5],[52.0,2.9],[73.0,3.5],[35.0,2.5],[67.0,2.8],[33.0,2.6],[65.0,4.0],[18.0,2.6],[48.0,2.5],[28.0,2.6],[31.0,3.4],[25.0,2.8],[13.0,2.6],[42.0,5.4],[48.0,3.7],[29.0,3.04],[30.0,2.6],[26.0,3.57],[26.0,2.97],[30.0,2.81],[122.0,2.83],[20.0,2.5],[96.0,2.92],[52.0,2.7],[12.0,3.0],[28.0,3.0],[44.0,2.69],[85.0,2.96],[6.0,2.5],[26.0,2.59],[38.0,2.9],[16.0,2.6],[26.0,3.0],[48.0,2.5],[62.0,2.6],[68.0,2.6],[25.0,3.3],[42.0,2.8],[82.0,2.73],[17.0,3.0],[30.0,3.58],[24.0,3.09],[12.0,2.78],[67.0,3.4],[14.0,2.5],[134.0,2.71],[28.0,2.6],[35.0,2.8],[45.0,3.19],[38.0,2.5],[57.0,3.19],[31.0,2.7],[101.0,2.76],[82.0,2.61],[53.0,2.7],[13.0,2.5],[8.0,2.5],[11.0,2.97],[100.0,2.71],[11.0,2.6],[34.0,2.7],[51.0,2.7],[26.0,2.53],[25.0,2.76],[46.0,2.63],[13.0,2.5],[27.0,3.3],[24.0,3.3],[10.0,2.65],[22.0,3.23],[42.0,2.51],[20.0,2.88],[36.0,3.5],[32.0,2.63],[35.0,3.1],[90.0,2.51],[11.0,2.5],[9.0,3.81],[14.0,4.04],[14.0,3.69],[9.0,3.1],[17.0,3.6],[66.0,3.76],[74.0,2.55],[100.0,2.61],[28.0,3.78],[75.0,2.69],[79.0,2.8],[55.0,3.16],[38.0,2.66],[23.0,2.8],[49.0,2.5],[81.0,2.94],[90.0,3.19],[32.0,2.9],[46.0,2.55],[150.0,6.1],[23.0,2.7],[25.0,2.8],[83.0,2.83],[26.0,3.0],[14.0,3.3],[13.0,3.27],[15.0,3.1],[121.0,2.8],[29.0,2.5],[41.0,2.5],[12.0,3.3],[29.0,2.5],[38.0,2.69],[31.0,2.8],[70.0,2.83],[35.0,2.6],[13.0,3.0],[12.0,3.1],[50.0,2.54],[15.0,2.9],[19.0,2.9],[42.0,4.2],[21.0,2.79],[22.0,3.0],[38.0,2.86],[42.0,2.6],[17.0,2.6],[13.0,2.5],[77.0,2.7],[124.0,2.83],[36.0,2.8],[109.0,2.8],[130.0,3.01],[21.0,2.54],[24.0,2.52],[50.0,2.5],[30.0,3.5],[149.0,2.85],[33.0,2.79],[20.0,2.8],[42.0,2.5],[16.0,3.4],[18.0,2.8],[45.0,2.5],[14.0,2.5],[12.0,2.5],[89.0,2.92],[35.0,2.87],[30.0,2.53],[39.0,3.66],[31.0,2.62],[68.0,2.81],[24.0,3.3],[18.0,3.0],[54.0,2.73],[113.0,2.75],[94.0,2.85],[24.0,3.05],[109.0,2.72],[124.0,3.54],[120.0,2.94],[199.0,5.06],[28.0,3.0],[23.0,2.59],[22.0,2.5],[36.0,2.6],[101.0,2.66],[16.0,3.0],[67.0,2.52],[41.0,4.1],[11.0,2.898075421],[90.0,2.65],[120.0,3.27],[95.0,2.93],[10.0,2.9],[5.0,2.6],[15.0,3.4],[5.0,2.8],[82.0,2.57],[34.0,2.61],[47.0,3.1],[69.0,3.7],[96.0,3.5],[17.0,3.1],[75.0,2.53],[83.0,2.78],[76.0,2.52],[18.0,2.5],[22.0,2.5],[31.0,2.63],[15.0,2.68],[15.0,2.9],[16.0,3.79],[52.0,4.32],[16.0,2.8],[24.0,3.367831862],[88.0,3.22],[35.0,2.55],[90.0,3.27],[89.0,3.33],[23.0,2.51],[14.0,2.9],[32.0,2.67],[14.0,2.5],[20.0,2.8],[56.0,2.51],[100.0,2.59],[61.0,2.65],[59.0,2.55],[20.0,2.9],[21.0,3.4],[122.0,2.56],[14.0,2.6],[34.0,2.83],[9.0,2.5],[11.0,2.59],[35.0,3.3],[11.0,2.5],[91.0,3.14],[21.0,2.9],[18.0,2.9],[25.0,3.1],[12.0,2.5],[26.0,3.2],[25.0,2.7],[74.0,2.9],[33.0,2.8],[59.0,2.72],[29.0,2.9],[100.0,2.74],[73.0,3.4],[6.0,2.93],[91.0,2.67],[61.0,2.61],[33.0,2.85],[15.0,2.57],[94.0,3.15],[17.0,2.8],[66.0,2.73],[81.0,3.67],[52.0,2.9],[69.0,2.52],[30.0,3.54],[38.0,2.64],[17.0,2.7],[35.0,2.64],[7.0,3.22],[18.0,2.75],[37.0,3.8],[8.0,3.54],[45.0,2.8],[54.0,3.0],[41.0,2.88],[25.0,2.6],[41.0,3.01],[30.0,2.51],[21.0,2.6],[22.0,2.5],[25.0,2.6],[52.0,2.5],[24.0,2.59],[38.0,3.0],[29.0,2.5],[100.0,2.7],[33.0,2.7],[100.0,3.14],[81.0,2.56],[117.0,3.47],[99.0,3.21],[41.0,4.39],[100.0,3.42],[51.0,2.7],[65.0,3.2],[45.0,2.9],[89.0,2.71],[15.0,2.77],[100.0,2.88],[52.0,2.79],[49.0,2.84],[97.0,2.78],[15.0,2.61],[19.0,2.9],[98.0,2.54],[100.0,3.19],[23.0,2.6],[13.0,2.6],[36.0,2.5],[20.0,2.6],[90.0,3.01],[23.0,2.51],[20.0,3.1],[26.0,3.57],[47.0,2.9],[95.0,2.8],[114.0,3.01],[9.0,3.1],[38.0,2.8],[15.0,2.5],[142.0,3.08],[65.0,2.71],[17.0,2.8],[20.0,3.3],[36.0,2.5],[99.0,2.6],[99.0,2.57],[101.0,2.52],[24.0,2.77],[32.0,2.9],[98.0,2.76],[10.0,2.5],[29.0,2.95]],\"hovertemplate\":\"<b>%{hovertext}</b><br><br>latitude=%{lat}<br>longitude=%{lon}<br>nst=%{customdata[0]}<br>mag=%{marker.color}<extra></extra>\",\"hovertext\":[\"16 km N of Midland, Texas\",\"19 km N of Midland, Texas\",\"21 km NNW of Midland, Texas\",\"22 km NNW of Midland, Texas\",\"5 km SW of Danville, Kansas\",\"western Texas\",\"2km S of Placentia, CA\",\"49km WSW of Ferndale, CA\",\"western Texas\",\"7km WSW of Big Bear Lake, CA\",\"37 km NNW of Toyah, Texas\",\"24km SE of Blue Lake, CA\",\"7 km WSW of Morton, Washington\",\"western Texas\",\"6 km WNW of Packwood, Washington\",\"51 km S of Whites City, New Mexico\",\"36 km WSW of Mentone, Texas\",\"36 km WSW of Mentone, Texas\",\"52 km S of Whites City, New Mexico\",\"36 km WSW of Mentone, Texas\",\"36 km NNW of Toyah, Texas\",\"30 km NW of Toyah, Texas\",\"16km NW of Pinnacles, CA\",\"10km NW of Pinnacles, CA\",\"4 km E of Lake Marcel-Stillwater, Washington\",\"8 km WSW of Minco, Oklahoma\",\"11km WNW of Cobb, CA\",\"13 km WSW of Norwich, Kansas\",\"38 km WSW of Mentone, Texas\",\"2km NNE of Petrolia, CA\",\"5 km SW of Luis Lopez, New Mexico\",\"Nevada\",\"8 km SW of Danville, Kansas\",\"54 km S of Whites City, New Mexico\",\"55 km S of Whites City, New Mexico\",\"46 km NW of Toyah, Texas\",\"3 km ENE of Crescent, Oklahoma\",\"63 km SSW of Whites City, New Mexico\",\"33 km WSW of Las Brisas, Mexico\",\"15 km NW of Shiner, Texas\",\"9km SSW of Cape Vizcaino, CA\",\"58 km NW of Toyah, Texas\",\"10 km W of Lamont, Oklahoma\",\"49 km ENE of Fort Bidwell, California\",\"50 km ENE of Fort Bidwell, California\",null,\"79 km N of Rachel, Nevada\",\"Arizona\",\"12km NNW of Ocotillo, CA\",\"4km NW of The Geysers, CA\",\"120km ESE of Maneadero, B.C., MX\",\"4km ESE of Aromas, CA\",\"48 km W of Mentone, Texas\",\"50 km ENE of Fort Bidwell, California\",\"31 km NW of Toyah, Texas\",\"36 km WSW of Mentone, Texas\",\"38 km NNW of Toyah, Texas\",\"50 km ENE of Fort Bidwell, California\",\"0 km S of Laurel Park, North Carolina\",\"10km ESE of Loyalton, CA\",\"13km SE of Bodfish, CA\",\"8km ESE of Running Springs, CA\",\"11 km SSW of Lawrence, Nebraska\",\"9 km SW of Minco, Oklahoma\",\"13km SE of Bodfish, CA\",\"81 km N of Rachel, Nevada\",\"54 km W of Mentone, Texas\",\"22km NE of Little Lake, CA\",\"21km ENE of Little Lake, CA\",\"Oklahoma\",\"9 km NW of Pocasset, Oklahoma\",\"50 km SSE of Whites City, New Mexico\",\"50 km ENE of Fort Bidwell, California\",\"8km WSW of Muir Beach, CA\",\"Oklahoma\",\"48 km W of Mentone, Texas\",\"9km SSW of Kettleman City, CA\",\"13km ESE of Alum Rock, CA\",\"4 km SW of Madison, Missouri\",\"48 km W of Mentone, Texas\",\"48 km W of Mentone, Texas\",\"20 km SSE of Harrison, Montana\",\"4 km SSW of Welcome Beach, Canada\",\"37 km WSW of Mentone, Texas\",\"7km N of Round Valley, CA\",\"10km SW of Kettleman City, CA\",\"56 km NW of Toyah, Texas\",\"48 km ENE of Fort Bidwell, California\",\"57 km NW of Toyah, Texas\",\"50 km ENE of Fort Bidwell, California\",\"5km NNE of Diablo, CA\",\"35 km WSW of Mentone, Texas\",\"western Texas\",\"western Texas\",\"66 km SSW of Whites City, New Mexico\",\"34 km NW of Stanley, Idaho\",\"64 km SSW of Whites City, New Mexico\",\"36 km WSW of Mentone, Texas\",\"36 km WSW of Mentone, Texas\",\"20km NE of San Lucas, CA\",\"55 km S of Whites City, New Mexico\",\"36 km NW of Toyah, Texas\",\"36 km WSW of Mentone, Texas\",\"35 km SSW of Los Ybanez, Texas\",\"5km WSW of Ojai, CA\",\"4km WSW of Big Pine, CA\",\"6km E of Round Valley, CA\",\"38km SSE of San Clemente Is. (SE tip), CA\",\"6km E of Round Valley, CA\",null,\"12km NNW of Ocotillo, CA\",\"36 km WSW of Mentone, Texas\",\"New Mexico\",null,\"12km SE of Talmage, CA\",\"36 km NNW of Toyah, Texas\",\"54 km NW of Toyah, Texas\",\"51 km SSW of Whites City, New Mexico\",\"6km ENE of Covelo, CA\",\"55 km S of Whites City, New Mexico\",\"42 km NW of Toyah, Texas\",\"43 km NW of Toyah, Texas\",\"43 km NW of Toyah, Texas\",\"6 km E of New Cambria, Kansas\",\"42 km NW of Toyah, Texas\",\"7 km WSW of Minco, Oklahoma\",\"36 km WSW of Mentone, Texas\",\"11km E of Ocotillo Wells, CA\",\"54 km S of Whites City, New Mexico\",\"24km W of Petrolia, CA\",\"54 km S of Whites City, New Mexico\",\"31 km SW of Las Brisas, Mexico\",\"28 km NE of Benton, California\",\"41km NNW of Fort Irwin, CA\",\"40 km NW of Toyah, Texas\",\"10km S of Tres Pinos, CA\",\"49 km NW of Toyah, Texas\",\"16km NW of Pinnacles, CA\",\"18 km NW of Cacouna, Canada\",\"6 km WSW of Minco, Oklahoma\",\"54 km S of Whites City, New Mexico\",\"35 km SSW of Los Ybanez, Texas\",\"13 km WSW of Saint Regis, Montana\",\"0km SSW of View Park-Windsor Hills, CA\",\"3 km WSW of Danville, Kansas\",\"45 km ENE of Tonopah, Nevada\",\"84km E of Maneadero, B.C., MX\",\"38 km NNW of Toyah, Texas\",\"37 km WSW of Mentone, Texas\",\"39 km NNW of Toyah, Texas\",null,\"38 km WSW of Mentone, Texas\",\"western Texas\",\"western Texas\",\"17km NW of Parkfield, CA\",\"5km NE of Westmorland, CA\",\"54 km S of Whites City, New Mexico\",\"34 km W of Las Brisas, Mexico\",\"80 km N of Rachel, Nevada\",\"15km E of Seven Trees, CA\",\"5km ESE of Yorba Linda, CA\",\"31 km NW of Toyah, Texas\",\"15km SSW of Searles Valley, CA\",\"55 km S of Whites City, New Mexico\",\"20km N of Ocotillo, CA\",\"31 km SE of Mina, Nevada\",\"53 km SSW of Whites City, New Mexico\",\"78 km N of Rachel, Nevada\",\"76 km NNW of Rachel, Nevada\",\"13 km NNW of Miramichi, Canada\",\"37 km WSW of Mentone, Texas\",\"52 km NW of Toyah, Texas\",\"Baja California, Mexico\",\"19km W of Alberto Oviedo Mota, B.C., MX\",\"52 km SSW of Whites City, New Mexico\",\"Baja California, Mexico\",\"40 km NW of Toyah, Texas\",\"7 km SW of Corinne, Utah\",\"57 km SSW of Whites City, New Mexico\",\"29 km NE of Benton, California\",\"80 km N of Rachel, Nevada\",\"52 km SSW of Whites City, New Mexico\",\"56 km S of Whites City, New Mexico\",\"56 km SSW of Whites City, New Mexico\",\"38 km NNW of Toyah, Texas\",\"30 km NW of Toyah, Texas\",\"Western Montana\",\"9km WNW of Templeton, CA\",\"38 km WSW of Mentone, Texas\",\"6km SW of Big Bear Lake, CA\",\"western Texas\",\"59 km SSW of Whites City, New Mexico\",\"38 km NW of Toyah, Texas\",\"38 km WSW of Mentone, Texas\",\"western Texas\",\"38 km WSW of Mentone, Texas\",\"37 km WSW of Mentone, Texas\",\"58 km SSW of Whites City, New Mexico\",\"western Texas\",\"61 km SSW of Whites City, New Mexico\",null,\"37 km WSW of Mentone, Texas\",\"21 km NW of Valentine, Texas\",\"Oregon-Idaho border region\",\"37 km WSW of Mentone, Texas\",\"37 km WSW of Mentone, Texas\",\"40 km W of Mentone, Texas\",\"37 km WSW of Mentone, Texas\",\"38 km NNW of Toyah, Texas\",\"37 km NNW of Toyah, Texas\",\"37 km WSW of Mentone, Texas\",\"35 km WSW of Mentone, Texas\",\"36 km WSW of Mentone, Texas\",\"37 km NNW of Toyah, Texas\",\"39 km WSW of Mentone, Texas\",\"37 km WSW of Mentone, Texas\",\"37 km WSW of Mentone, Texas\",\"36 km WSW of Mentone, Texas\",\"western Texas\",\"western Texas\",\"37 km WSW of Mentone, Texas\",\"38 km WSW of Mentone, Texas\",\"3 km NE of Ravalli, Montana\",\"18 km NNW of Taylor, Wyoming\",\"18 km NNW of Taylor, Wyoming\",\"17 km NNW of Taylor, Wyoming\",\"17 km NNW of Taylor, Wyoming\",\"18 km NNW of Taylor, Wyoming\",\"3km S of Half Moon Bay, CA\",\"29 km SE of Mina, Nevada\",\"7 km WSW of Minco, Oklahoma\",\"40 km NW of Toyah, Texas\",\"37 km WNW of Kingston, Nevada\",\"4 km WNW of Terrebonne, Canada\",\"6km NW of The Geysers, CA\",\"6km NNW of The Geysers, CA\",\"4 km SSW of Maynard, Arkansas\",\"Wyoming\",\"21 km NW of Stanton, Texas\",\"22 km NW of Stanley, Idaho\",\"4 km SSW of Mooringsport, Louisiana\",\"54 km S of Whites City, New Mexico\",\"41 km NW of Toyah, Texas\",\"41 km NW of Toyah, Texas\",\"54 km NW of Toyah, Texas\",\"54 km NW of Toyah, Texas\",\"3km SSW of San Juan Bautista, CA\",\"14 km WNW of Stanley, Idaho\",\"7 km SW of Corinne, Utah\",\"3km W of Walker, CA\",\"78km ESE of Maneadero, B.C., MX\",\"45 km NE of Dubois, Wyoming\",\"31 km SE of Mina, Nevada\",\"2km SSW of Alamo, CA\",\"16 km NE of Jal, New Mexico\",\"17km ESE of Little Lake, CA\",\"15km W of Searles Valley, CA\",\"8 km S of Manila, Arkansas\",\"5 km SE of Tiptonville, Tennessee\",\"western Texas\",\"1 km ESE of Medicine Park, Oklahoma\",\"2km SW of Cobb, CA\",\"58 km WNW of Toyah, Texas\",\"39 km NNE of Nixon, Nevada\",\"41 km NNE of Nixon, Nevada\",\"84km ESE of Maneadero, B.C., MX\",\"9 km S of Dibble, Oklahoma\",\"41 km NNE of Nixon, Nevada\",\"61 km ENE of San Vicente, Mexico\",\"55 km S of Whites City, New Mexico\",\"12km WSW of Petrolia, CA\",\"15km WSW of Loyalton, CA\",\"16km WNW of Lake Pillsbury, CA\",\"40 km NNE of Nixon, Nevada\",\"56 km S of Whites City, New Mexico\",\"41 km NNE of Nixon, Nevada\",\"86km E of Maneadero, B.C., MX\",\"4km W of Walker, CA\",\"5km E of Covelo, CA\",\"3km WNW of Walker, CA\",\"58 km S of Whites City, New Mexico\",\"12km SSE of San Clemente Is. (SE tip), CA\",null,\"8 km WSW of Waynoka, Oklahoma\",\"86km E of Maneadero, B.C., MX\",\"78km ESE of Maneadero, B.C., MX\",\"84km ESE of Maneadero, B.C., MX\",\"83km ESE of Maneadero, B.C., MX\",\"76km ESE of Maneadero, B.C., MX\",\"24 km NW of Stanley, Idaho\",\"16km WNW of Lake Pillsbury, CA\",\"2 km ENE of Wardville, Oklahoma\",\"8 km WSW of Waynoka, Oklahoma\",\"3 km ESE of Colorado City, Arizona\",\"0km E of Carson, CA\",\"14km NW of Pinnacles, CA\",\"10 km N of Van Buren, Missouri\",\"16km SSW of Searles Valley, CA\",\"3 km SE of Falls City, Texas\",\"55 km S of Whites City, New Mexico\",\"6km WNW of Cobb, CA\",\"6km W of Cobb, CA\",\"6 km ENE of Lima, Montana\",\"28km NE of Oakhurst, CA\",\"82 km SSW of Bah\\u00eda de Kino, Mexico\",\"3 km SE of Falls City, Texas\",\"3 km SE of Falls City, Texas\",\"7km WNW of Cobb, CA\",\"1 km WNW of Falls City, Texas\",\"Baja California, Mexico\",\"79km ESE of Maneadero, B.C., MX\",\"85km ESE of Maneadero, B.C., MX\",\"9km NE of Alum Rock, CA\",\"20 km WSW of Coyanosa, Texas\",\"western Texas\",\"7 km SSW of South Flat, Wyoming\",\"12 km SSE of Lincolnville, Kansas\",\"Utah\",\"Kansas\",\"14km E of Seven Trees, CA\",\"45 km SSW of Valentine, Texas\",\"11 km S of Virden, New Mexico\",\"15 km S of Virden, New Mexico\",\"11km S of Tres Pinos, CA\",\"15 km W of Pistol River, Oregon\",\"17 km E of Smiley, Texas\",\"Sonora, Mexico\",\"33km NW of Santa Barbara Is., CA\",\"32 km NW of Stanley, Idaho\",\"24km NNE of Trona, CA\",\"55 km NW of Toyah, Texas\",\"Southern Texas\",\"15 km NW of Stanley, Idaho\",\"32 km SE of Malaga, New Mexico\",\"14km ESE of Alum Rock, CA\",\"33 km NW of Toyah, Texas\",\"6km SE of Pleasanton, CA\",\"6km ESE of Wrightwood, CA\",\"6 km E of Elgin, South Carolina\",\"23km WSW of Stovepipe Wells, CA\",\"5 km SE of Ackerly, Texas\",\"21 km E of Smiley, Texas\",\"2km E of Loma Linda, CA\",\"12km WSW of Petrolia, CA\",\"44 km NW of Toyah, Texas\",\"26 km SE of Lindsay, Texas\",\"5 km SE of Ackerly, Texas\",\"16 km ESE of Smiley, Texas\",\"54 km NW of Toyah, Texas\",\"16 km ESE of Smiley, Texas\",\"8 km SE of Amarillo, Texas\",\"12km NNE of Hollister, CA\",\"11km ESE of Mammoth Lakes, CA\",\"11km ESE of Mammoth Lakes, CA\",\"7km WSW of Petrolia, CA\",\"14km SSW of Searles Valley, CA\",\"6 km SSE of Catron, Missouri\",\"16 km NE of Fowlerton, Texas\",\"5 km ESE of Fowlerton, Texas\",\"4 km NNE of Ridgely, Tennessee\",\"11km NW of Anza, CA\",\"11km NW of Anza, CA\",\"6km NW of Walker, CA\",\"14km ESE of Alum Rock, CA\",\"15km E of Seven Trees, CA\",\"15km E of Seven Trees, CA\",\"15km ESE of Alum Rock, CA\",\"2 km NNE of La Luz, New Mexico\",\"Virginia-North Carolina border region\",\"38 km NNW of Toyah, Texas\",\"55 km S of Whites City, New Mexico\",\"5km E of Calimesa, CA\",\"21 km NW of Stanley, Idaho\",\"3km NW of The Geysers, CA\",\"3km SSE of Fortuna, CA\",null,\"9km ENE of San Martin, CA\",\"23km SSW of La Quinta, CA\",\"6 km SE of Wakita, Oklahoma\",\"22 km ESE of McGill, Nevada\",\"35 km ENE of Austin, Nevada\",\"17 km NE of Austin, Nevada\",\"38 km NE of Austin, Nevada\",\"7km SSW of Muir Beach, CA\",\"5km NNE of Hydesville, CA\",\"western Texas\",\"western Texas\",\"54 km S of Whites City, New Mexico\",\"56 km S of Whites City, New Mexico\",\"8km NW of The Geysers, CA\",\"8km NW of The Geysers, CA\",\"10km E of Alum Rock, CA\",\"55 km NW of Toyah, Texas\",\"California-Nevada border region\",\"21km SE of Bodie, CA\",\"18km NW of Belden, CA\",\"54 km NW of Toyah, Texas\",\"100km S of San Clemente Is. (SE tip), CA\",\"36km NE of Redway, CA\",\"western Texas\",\"56 km NW of Toyah, Texas\",\"6km NW of The Geysers, CA\",\"7km NW of The Geysers, CA\",\"6km NW of The Geysers, CA\",\"6km NW of The Geysers, CA\",\"2 km NNW of Circleville, Utah\",\"56 km NW of Toyah, Texas\",\"7km N of Petrolia, CA\",\"37 km NNW of Toyah, Texas\",null,\"1 km NE of Ridgely, Tennessee\",\"4 km SSE of Dover, Oklahoma\",\"14km NNW of Lopez Point, CA\",\"2km N of The Geysers, CA\",\"8 km NNW of Chacra, Colorado\",\"southern Idaho\",\"2km WNW of Aguanga, CA\",\"southern Idaho\",\"16km SE of Mammoth Lakes, CA\",\"54 km NW of Toyah, Texas\",\"78km ESE of Maneadero, B.C., MX\",\"33 km SE of Malaga, New Mexico\",\"54 km S of Whites City, New Mexico\",\"2km WSW of Anderson Springs, CA\",\"31 km SE of Mina, Nevada\",null,\"29 km SSE of Mina, Nevada\",\"56 km S of Whites City, New Mexico\",\"2 km ESE of Ravalli, Montana\",\"36 km NNW of Toyah, Texas\",\"western Texas\",\"6 km SE of Floriston, California\",\"13km NNW of Grapevine, CA\",\"19 km NW of Stanton, Texas\",\"4 km SE of Dover, Oklahoma\",\"34 km SE of Malaga, New Mexico\",\"8 km NNE of Airway Heights, Washington\",\"8 km WSW of Hunnewell, Kansas\",\"4 km SE of Dover, Oklahoma\",\"22 km SSW of Mammoth, Wyoming\",\"48km ENE of Maneadero, B.C., MX\",\"4 km SSE of Dover, Oklahoma\",\"42 km NW of Toyah, Texas\",\"9km SE of Talmage, CA\",\"13km NNW of Grapevine, CA\",\"56 km NW of Toyah, Texas\",\"2km ENE of Carson, CA\",\"5km NE of Walker, CA\",\"25km WNW of Petrolia, CA\",\"18 km E of Smiley, Texas\",\"26km WNW of Petrolia, CA\",\"103km SE of Estacion Coahuila, B.C., MX\",\"6km SE of Viola, CA\",\"23 km SSE of Golfo de Santa Clara, Mexico\",\"101km SE of Estacion Coahuila, B.C., MX\",\"6 km SE of Floriston, California\",\"56 km S of Whites City, New Mexico\",\"12km ENE of Ridgecrest, CA\",\"56 km S of Whites City, New Mexico\",\"14km SSW of Searles Valley, CA\",\"2 km N of Farragut, Tennessee\",\"62 km S of Whites City, New Mexico\",\"55 km S of Whites City, New Mexico\",\"55 km NW of Toyah, Texas\",\"western Texas\",\"31km WNW of Crescent City, CA\",\"58 km S of Whites City, New Mexico\",\"55 km NW of Toyah, Texas\",\"Oklahoma\",\"42 km NW of Toyah, Texas\",\"4 km SSE of Dover, Oklahoma\",\"4km WSW of Colma, CA\",\"23km E of Julian, CA\",\"4 km SSE of Dover, Oklahoma\",\"16 km ESE of Lacomb, Oregon\",\"4 km SSE of Dover, Oklahoma\",null,\"47 km W of Mentone, Texas\",\"48 km W of Mentone, Texas\",\"4 km SSE of Dover, Oklahoma\",\"51km ESE of Maneadero, B.C., MX\",\"4 km SSE of Dover, Oklahoma\",\"4km SSW of Niland, CA\",\"5km SSW of Niland, CA\",\"4 km SSE of Dover, Oklahoma\",\"58km SSW of Estacion Coahuila, B.C., MX\",\"18 km NE of Silver Peak, Nevada\",\"4km SE of Loma Linda, CA\",\"4 km SSE of Dover, Oklahoma\",\"25 km NNW of Challis, Idaho\",\"56 km NE of McGill, Nevada\",\"19 km SSE of Alamo, Nevada\",\"4 km N of Three Rivers, Texas\",\"19km SSW of Mariposa, CA\",\"34 km ESE of West Yellowstone, Montana\",\"11 km W of Stanley, Idaho\",\"5km WSW of Delta, B.C., MX\",\"47 km W of Mentone, Texas\",\"4 km SSE of Dover, Oklahoma\",\"4km W of Banning, CA\",null,\"55 km S of Whites City, New Mexico\",\"western Texas\",\"5km ESE of Yorba Linda, CA\",\"26km WSW of Westmorland, CA\",\"36 km NNW of Toyah, Texas\",\"30 km SSW of Los Ybanez, Texas\",\"6 km E of Bluff City, Kansas\",\"4 km SSE of Dover, Oklahoma\",\"4 km SSE of Dover, Oklahoma\",\"4 km SSE of Dover, Oklahoma\",null,\"western Texas\",\"Oklahoma\",\"12 km W of Stanley, Idaho\",\"25 km WNW of Forks, Washington\"],\"lat\":[32.1441,32.17,32.18353271,32.19085693,37.2552,31.67515288,33.8498333,40.4853333,31.62538927,34.2301667,31.60529881,40.7068329,46.53266666666666,32.28790283,46.62416666666667,31.71619236,31.60779679,31.60745084,31.71229338,31.6105518,31.60232659,31.51443023,36.6455002,36.6046667,47.687333333333335,35.27616667,38.8615,37.4216,31.62378864,40.342,33.9448,38.1822,37.2318,31.68585561,31.67115978,31.62202289,35.96983333,31.62072795,30.8003,29.5211792,39.6556667,31.61581119,36.69633333,42.0116,42.0161,31.68127027,38.3553,35.4039,32.8348333,38.8013333,31.124,36.873,31.73456842,41.976,31.51047843,31.61420308,31.61894129,41.9601,35.3063333333333,39.631,35.5033333,34.1771667,40.1934,35.2575,35.5086667,38.3737,31.71277945,36.0448333,36.0406667,34.949,35.2555,31.73767798,41.9732,37.827,35.25916667,31.73638956,35.9356667,37.3258333,39.4441666666667,31.73477526,31.73201662,45.5361,49.44166666666667,31.61394824,37.4771667,35.9336667,31.61668416,42.0062,31.66602425,41.9805,37.8783333,31.60609038,31.61431841,31.6097471,31.59215386,44.4663,31.6093688,31.62728579,31.630724,36.249,31.67545477,31.56717435,31.61385453,32.4307251,34.4301667,37.1563333,37.4156667,32.5355,37.4171667,31.69946955,32.8361667,31.61479245,33.9609,33.9689,39.0416667,31.60971654,31.64266733,31.72856511,39.8096667,31.67150103,31.56357293,31.5621748,31.56079363,38.8788,31.55439337,35.28283333,31.60928415,33.1608333,31.68216525,40.3545,31.68666321,30.7737,37.9932,35.5861667,31.56777641,36.7043333,31.59041145,36.6423333,48.0269,35.28533333,31.68441096,32.43255615,47.2568,33.9923333,37.2708,38.1701,31.57,31.61248783,31.61348604,31.6155766,31.62673498,31.62399855,31.63414005,31.71009894,36.0043333,33.0695,31.68670531,31.0122,38.3674,37.2916667,33.8758333,31.52836424,35.6381667,31.6797273,32.91,38.1864,31.71635872,38.3489,38.322,47.1331,31.61543446,31.60261979,30.9454,32.2506667,31.72202186,30.7839,31.5651355,41.5098333,31.67840454,37.9964,38.3662,31.72073247,31.67402863,31.67866353,31.61467777,31.52457686,46.8015,35.5711667,31.63489585,34.1968333,31.62950719,31.65396867,31.55345937,31.62847084,31.63956788,31.63248808,31.62771827,31.66548399,31.63077607,31.64886475,35.87416667,31.6348178,30.71228027,44.2667,31.61738727,31.6196887,31.63748457,31.63563504,31.61709197,31.61013778,31.61714426,31.61147683,31.61717663,31.6073499,31.62947111,31.63447804,31.62852652,31.60882457,31.61834703,31.6365363,31.63425093,31.6367452,47.2961,42.214,42.2158333,42.2126667,42.2076667,42.2151667,37.4401667,38.2014,35.28233333,31.56097224,39.3318,45.7212,38.8171667,38.82,36.3831666666667,44.7905,32.27325439,44.359,32.6524,31.68403456,31.56471977,31.56818731,31.65098384,31.64823732,36.8175,44.2666,41.5125,38.5111667,31.5266667,43.829,38.1878,37.8308333,32.22198486,35.8905,35.7415,35.8008333,36.3435,31.10995141,34.72283333,38.8085,31.61005255,40.1488,40.1662,31.5633333,34.944,40.1633,31.5097,31.6716,40.2838333,39.6085,39.4851667,40.1563,31.66201297,40.172,31.5643333,38.5181667,39.7935,38.5203333,31.65135131,32.727,43.0277,36.53883333,31.5623333,31.509,31.5571667,31.5536667,31.5138333,44.3722,39.4828333,34.66583333,36.54016667,36.9838333,33.8315,36.629,37.0878333,35.647,28.96087646,31.6791131,38.8333333,38.8331667,44.6548,37.4886667,28.1573,28.96179199,28.96362305,38.8363333,28.98834229,31.1645,31.5301667,31.5638333,37.43,31.16813827,31.61903434,43.8693,38.3953,41.5028333,38.4013,37.3086662,30.2041626,32.5882,32.5442,36.6871667,42.27166666666667,29.25750732,27.9226,33.7098333,44.3927,35.974,31.61580046,29.24102783,44.3255,32.00623877,37.3158333,31.50369418,37.6296667,34.3418333,34.1625,36.5111667,32.49481201,29.23736572,34.0463333,40.274,31.61152169,31.18922903,32.48931885,29.23370361,31.61084666,29.23370361,35.16906738,36.9416667,37.611,37.6091667,40.3113333,35.6548333,36.551,28.58093262,28.4463501,36.3023333,33.6378333,33.6383333,38.5471667,37.3163333,37.3106667,37.3056667,37.3115,33.0002,36.5876667,31.61366151,31.67492506,33.9898333,44.3233,38.7943333,40.5781667,32.78411865,37.1215,33.4806667,36.83533333,39.3107,39.6703,39.6096,39.6995,37.8021667,40.5906667,31.68212359,31.67243422,31.6826,31.66692993,38.8256667,38.8333333,37.3605,31.64865291,38.0721,38.0658333,40.1221667,31.6480198,31.9225,40.3495,31.64319288,31.66128988,38.816,38.8233333,38.8176667,38.8121667,38.1958333,31.60955928,40.3865,31.6103947,31.64591099,36.2746667,35.9405,36.1438333,38.7928333,39.6415,44.3322,33.4506667,44.7143,37.5195,31.64293987,31.5256667,32.00028938,31.68204991,38.765,38.1836,31.60720673,38.1533,31.66941712,47.2691,31.60605861,31.68068884,39.353,35.0453333,32.26593018,35.95033333,32.00364424,47.709,36.98083333,35.95316667,44.7846667,31.8176667,35.94266667,31.55597654,39.0688333,35.0486667,31.65225681,33.8378333,38.5498333,40.3751667,29.2666626,40.3725,31.4663333,40.4825,31.5071,31.4701667,39.3511,31.66574382,35.6735,31.6719487,35.6578333,35.9038333,31.61075916,31.67521613,31.64190362,31.62485567,41.8303333,31.6546837,31.60772098,35.93616667,31.53961864,35.94366667,37.663,33.0413333,35.94133333,44.540333333333336,35.94133333,31.73369112,31.73564266,31.73468275,35.9455,31.621,35.94183333,33.2083333,33.2041667,35.9415,31.6836667,37.8699,34.0243333,35.94016667,44.7014,39.6975,37.2028,28.50402832,37.3278333,44.5963333,44.2065,32.3381667,31.73795177,35.9395,33.9246667,40.8273,31.67691285,31.67862959,33.8696667,32.9686667,31.59933663,32.46276855,37.0707,35.94033333,35.93916667,35.94183333,44.7488333,31.68716188,36.69933333,44.2125,48.06783333333333],\"legendgroup\":\"\",\"lon\":[-102.0997,-102.1068,-102.1364091,-102.1406965,-97.9348,-104.4075586,-117.8655,-124.8351667,-104.2768996,-116.9858333,-103.9881499,-123.8079987,-122.36866666666668,-101.7912776,-121.75633333333332,-104.2708664,-103.9616681,-103.9620701,-104.2694902,-103.9624869,-103.9835641,-104.0170221,-121.2623367,-121.2093333,-121.859,-98.02616667,-122.8348333,-97.994,-103.9907903,-124.2786667,-106.9222,-117.8737,-97.9554,-104.3871969,-104.3854515,-104.1213858,-97.56066667,-104.5326923,-116.4632,-97.29078585,-123.8715,-104.3045324,-97.67366667,-119.5905,-119.585,-104.3855411,-115.8331,-113.6811,-116.0415,-122.7863333,-115.5058333,-121.6036667,-104.1073856,-119.5586,-104.0296311,-103.9705722,-103.9972239,-119.5579,-82.4926666666667,-120.1395,-118.393,-117.032,-98.3011,-98.02716667,-118.3915,-115.8032,-104.1747099,-117.708,-117.7101667,-97.61983333,-98.0275,-104.2497523,-119.5587,-122.6663333,-98.02416667,-104.1114364,-120.0126667,-121.6876667,-92.2526666666667,-104.1127735,-104.1130264,-111.6669,-123.923,-103.9783716,-118.6121667,-120.026,-104.2719908,-119.6011,-104.2416858,-119.5624,-121.9458333,-103.956147,-104.5293976,-103.9626179,-104.5431518,-115.1982,-104.5457539,-103.9754721,-103.9781778,-120.8478333,-104.4312481,-104.0468534,-103.9717811,-102.0742426,-119.2921667,-118.338,-118.5341667,-118.1305,-118.5338333,-104.1708528,-116.0403333,-103.9658675,-106.9294,-106.9125,-123.0855,-103.9723007,-104.2259089,-104.5243923,-123.1873333,-104.4037571,-104.1398534,-104.1441462,-104.1446752,-97.4298,-104.1371084,-98.01716667,-103.9636918,-116.0193333,-104.3893176,-124.5653333,-104.4044329,-116.4114,-118.2341,-116.9095,-104.097804,-121.3368333,-104.1986443,-121.2633333,-69.685,-98.01083333,-104.3974134,-102.0742426,-115.2674,-118.3508333,-97.9261,-116.7331,-115.694,-104.0028423,-103.9791765,-104.0067572,-104.0029099,-103.9967096,-103.9876096,-104.4725011,-120.5643333,-115.5835,-104.3979724,-116.5181,-115.7972,-121.6641667,-117.7658333,-104.0080874,-117.4441667,-104.4108303,-115.9686667,-117.8655,-104.5581962,-115.8266,-115.9271,-65.603,-103.9806647,-104.2379952,-116.5078,-115.369,-104.538867,-116.3892,-104.0973856,-112.1785,-104.5330249,-118.2278,-115.8242,-104.5270042,-104.2907317,-104.4980343,-104.0008352,-104.00686,-112.6802,-120.8061667,-104.0020069,-116.9511667,-103.9986185,-104.5125867,-104.0868348,-103.9992862,-104.013195,-104.0005158,-103.9838138,-104.5398877,-103.9971448,-104.5844846,-97.58933333,-103.9911103,-104.673447,-116.2197,-103.980808,-103.9797423,-104.0174897,-103.9872129,-104.0004432,-103.9841374,-103.9848418,-103.960608,-103.9748891,-103.9932696,-104.0091105,-103.9896289,-103.9826069,-103.9636898,-103.9681694,-103.992598,-103.9888208,-103.9987871,-114.1463,-111.091,-111.0901667,-111.091,-111.0896667,-111.0913333,-122.4241667,-117.8786,-98.01733333,-104.1038136,-117.4792,-73.6966,-122.7993333,-122.793,-90.9101666666667,-110.8218333,-101.9349038,-115.1372,-93.9825,-104.3844888,-104.1141859,-104.1093671,-104.2173573,-104.2151853,-121.5528333,-115.1032,-112.1813333,-119.5185,-115.7781667,-109.2413,-117.8543,-122.0476667,-103.0796256,-117.7288333,-117.5666667,-90.1481667,-89.433,-103.2439976,-98.48466667,-122.735,-104.3069072,-119.1397,-119.1438,-115.6926667,-97.62583333,-119.1358,-115.6351,-104.3605,-124.4176667,-120.3948333,-123.115,-119.1389,-104.3783731,-119.148,-115.6708333,-119.5206667,-123.1898333,-119.5126667,-104.3180018,-118.2761667,-111.593,-98.96366667,-115.6716667,-115.782,-115.6993333,-115.7113333,-115.7966667,-115.1574,-123.1165,-96.0045,-98.96333333,-112.9426667,-118.2781667,-121.2515,-91.0195,-117.4993333,-97.99804688,-104.4339741,-122.795,-122.7961667,-112.5143,-119.4043333,-112.3106,-97.98874081,-97.99494485,-122.8013333,-98.03527114,-116.7047,-115.7598333,-115.6906667,-121.7728333,-103.264417,-104.0946022,-108.0343,-96.8794,-112.1756667,-96.8417,-121.677002,-104.6552258,-109.023,-109.0157,-121.3175,-124.57966666666668,-97.46036305,-111.8314,-119.2718333,-115.2615,-117.3248333,-104.2655282,-97.46863511,-115.0664,-103.8406251,-121.6805,-104.0615686,-121.8145,-117.569,-80.7191667,-117.3738333,-101.6755192,-97.47070313,-117.2351667,-124.414,-104.1051839,-103.3572672,-101.6733756,-97.46863511,-104.2466622,-97.47277114,-101.7660757,-121.3346667,-118.8613333,-118.8613333,-124.3686667,-117.4845,-89.6845,-98.70013787,-98.7611443,-89.4693333,-116.7423333,-116.7436667,-119.534,-121.6811667,-121.6751667,-121.6731667,-121.672,-105.9296,-81.0625,-103.9955853,-104.3714882,-116.9996667,-115.1565,-122.779,-124.14,-100.6872856,-121.5215,-116.4261667,-97.87183333,-114.5493,-116.7279,-116.9273,-116.7163,-122.608,-124.0748333,-104.3957777,-104.4016123,-104.419,-104.3999478,-122.8228333,-122.8171667,-121.7188333,-104.223799,-118.8638,-118.8585,-121.401,-104.212762,-118.2288333,-123.5185,-104.2129973,-104.2241581,-122.8108333,-122.8098333,-122.8078333,-122.8151667,-112.2805,-104.2722054,-124.2983333,-103.9758004,-104.3809226,-89.4768333,-97.89,-121.605,-122.7543333,-107.4845,-115.1751,-116.888,-114.4203,-118.8795,-104.2175697,-115.78,-103.8287224,-104.4070829,-122.7143333,-117.8566,-103.9666414,-117.9446,-104.4061606,-114.1547,-103.9663674,-104.4043787,-119.9641,-118.9916667,-101.9177544,-97.874,-103.8175224,-117.53916666666667,-97.49333333,-97.87283333,-110.8053333,-116.0706667,-97.88483333,-104.1427634,-123.0976667,-118.9958333,-104.2378177,-118.2661667,-119.4411667,-124.5743333,-97.44175092,-124.5798333,-114.3305,-121.619,-114.3592,-114.3495,-119.9712,-104.3697934,-117.5615,-104.2722782,-117.4841667,-84.155,-104.3798065,-104.3978691,-104.2401641,-104.3672863,-124.566,-104.298115,-104.2721914,-97.89883333,-104.1520685,-97.88416667,-122.4965,-116.3546667,-97.89133333,-122.55083333333332,-97.89,-104.0974151,-104.0978304,-104.1075209,-97.8955,-116.0356667,-97.8895,-115.5425,-115.5441667,-97.891,-115.152,-117.4765,-117.2246667,-97.89166667,-114.4027,-114.244,-115.0807,-98.17486213,-120.0411667,-110.6826667,-115.0782,-115.2443333,-104.0951503,-97.89266667,-116.9215,-117.0879,-104.4194181,-104.4030142,-117.7646667,-115.8898333,-103.9843573,-102.0410156,-97.7981,-97.89583333,-97.8935,-97.89383333,-111.1135,-104.1974227,-97.6685,-115.0913,-124.613],\"marker\":{\"color\":[2.6,2.7,3.3,5.4,2.5,2.7,2.63,2.77,2.5,2.7,3.0,2.64,2.75,2.8,2.91,2.9,3.5,2.7,2.8,3.1,2.6,2.7,2.54,3.28,2.68,2.62,2.69,2.5,2.8,2.68,3.3,2.6,3.2,2.9,3.4,2.6,2.71,2.7,4.4,2.5,2.81,2.7,3.04,2.7,2.5,2.5,3.0,2.7,2.57,2.58,3.28,2.65,2.5,3.1,2.5,3.2,2.8,2.6,2.69,3.12,2.62,2.71,2.7,2.65,3.59,3.0,3.5,2.74,2.71,2.79,2.83,2.9,3.5,2.63,2.51,2.6,3.98,3.59,2.59,3.0,2.6,2.9,2.79,2.7,2.63,2.84,2.9,2.5,3.5,2.9,2.9,2.5,3.3,3.2,3.0,2.6,2.6,2.6,2.6,2.6,3.2,2.9,2.5,3.0,2.59,3.91,2.58,2.88,2.59,2.7,3.82,2.7,3.6,2.7,2.72,2.5,2.9,2.839175175,2.53,3.1,2.5,2.5,2.5,2.5,3.5,2.9,2.5,2.63,2.6,2.66,3.1,4.3,2.6,2.52,2.9,2.6,2.510355001,2.7,2.5,2.8,2.9,2.6,2.6,2.52,2.5,2.6,2.8,3.0,2.9,2.5,4.7,2.6,4.5,2.7,2.51,3.01,2.7,4.2,2.5,2.92,2.78,2.7,2.51,2.9,2.57,3.5,3.6,2.9,2.8,2.8,2.5,2.5,4.5,2.87,2.7,6.2,2.6,2.81,2.8,2.9,3.0,3.2,2.5,2.8,2.5,2.6,2.9,2.81,4.0,2.62,2.6,2.7,2.5,2.9,2.7,2.7,2.5,2.9,2.7,2.9,2.64,2.5,2.5,3.4,2.5,2.5,2.7,3.8,2.5,2.9,3.5,2.5,2.8,2.6,4.0,2.6,2.5,2.6,3.4,2.8,2.6,5.4,3.7,3.04,2.6,3.57,2.97,2.81,2.83,2.5,2.92,2.7,3.0,3.0,2.69,2.96,2.5,2.59,2.9,2.6,3.0,2.5,2.6,2.6,3.3,2.8,2.73,3.0,3.58,3.09,2.78,3.4,2.5,2.71,2.6,2.8,3.19,2.5,3.19,2.7,2.76,2.61,2.7,2.5,2.5,2.97,2.71,2.6,2.7,2.7,2.53,2.76,2.63,2.5,3.3,3.3,2.65,3.23,2.51,2.88,3.5,2.63,3.1,2.51,2.5,3.81,4.04,3.69,3.1,3.6,3.76,2.55,2.61,3.78,2.69,2.8,3.16,2.66,2.8,2.5,2.94,3.19,2.9,2.55,6.1,2.7,2.8,2.83,3.0,3.3,3.27,3.1,2.8,2.5,2.5,3.3,2.5,2.69,2.8,2.83,2.6,3.0,3.1,2.54,2.9,2.9,4.2,2.79,3.0,2.86,2.6,2.6,2.5,2.7,2.83,2.8,2.8,3.01,2.54,2.52,2.5,3.5,2.85,2.79,2.8,2.5,3.4,2.8,2.5,2.5,2.5,2.92,2.87,2.53,3.66,2.62,2.81,3.3,3.0,2.73,2.75,2.85,3.05,2.72,3.54,2.94,5.06,3.0,2.59,2.5,2.6,2.66,3.0,2.52,4.1,2.898075421,2.65,3.27,2.93,2.9,2.6,3.4,2.8,2.57,2.61,3.1,3.7,3.5,3.1,2.53,2.78,2.52,2.5,2.5,2.63,2.68,2.9,3.79,4.32,2.8,3.367831862,3.22,2.55,3.27,3.33,2.51,2.9,2.67,2.5,2.8,2.51,2.59,2.65,2.55,2.9,3.4,2.56,2.6,2.83,2.5,2.59,3.3,2.5,3.14,2.9,2.9,3.1,2.5,3.2,2.7,2.9,2.8,2.72,2.9,2.74,3.4,2.93,2.67,2.61,2.85,2.57,3.15,2.8,2.73,3.67,2.9,2.52,3.54,2.64,2.7,2.64,3.22,2.75,3.8,3.54,2.8,3.0,2.88,2.6,3.01,2.51,2.6,2.5,2.6,2.5,2.59,3.0,2.5,2.7,2.7,3.14,2.56,3.47,3.21,4.39,3.42,2.7,3.2,2.9,2.71,2.77,2.88,2.79,2.84,2.78,2.61,2.9,2.54,3.19,2.6,2.6,2.5,2.6,3.01,2.51,3.1,3.57,2.9,2.8,3.01,3.1,2.8,2.5,3.08,2.71,2.8,3.3,2.5,2.6,2.57,2.52,2.77,2.9,2.76,2.5,2.95],\"coloraxis\":\"coloraxis\"},\"mode\":\"markers\",\"name\":\"\",\"showlegend\":false,\"subplot\":\"mapbox\",\"type\":\"scattermapbox\"}],                        {\"template\":{\"data\":{\"barpolar\":[{\"marker\":{\"line\":{\"color\":\"rgb(17,17,17)\",\"width\":0.5},\"pattern\":{\"fillmode\":\"overlay\",\"size\":10,\"solidity\":0.2}},\"type\":\"barpolar\"}],\"bar\":[{\"error_x\":{\"color\":\"#f2f5fa\"},\"error_y\":{\"color\":\"#f2f5fa\"},\"marker\":{\"line\":{\"color\":\"rgb(17,17,17)\",\"width\":0.5},\"pattern\":{\"fillmode\":\"overlay\",\"size\":10,\"solidity\":0.2}},\"type\":\"bar\"}],\"carpet\":[{\"aaxis\":{\"endlinecolor\":\"#A2B1C6\",\"gridcolor\":\"#506784\",\"linecolor\":\"#506784\",\"minorgridcolor\":\"#506784\",\"startlinecolor\":\"#A2B1C6\"},\"baxis\":{\"endlinecolor\":\"#A2B1C6\",\"gridcolor\":\"#506784\",\"linecolor\":\"#506784\",\"minorgridcolor\":\"#506784\",\"startlinecolor\":\"#A2B1C6\"},\"type\":\"carpet\"}],\"choropleth\":[{\"colorbar\":{\"outlinewidth\":0,\"ticks\":\"\"},\"type\":\"choropleth\"}],\"contourcarpet\":[{\"colorbar\":{\"outlinewidth\":0,\"ticks\":\"\"},\"type\":\"contourcarpet\"}],\"contour\":[{\"colorbar\":{\"outlinewidth\":0,\"ticks\":\"\"},\"colorscale\":[[0.0,\"#0d0887\"],[0.1111111111111111,\"#46039f\"],[0.2222222222222222,\"#7201a8\"],[0.3333333333333333,\"#9c179e\"],[0.4444444444444444,\"#bd3786\"],[0.5555555555555556,\"#d8576b\"],[0.6666666666666666,\"#ed7953\"],[0.7777777777777778,\"#fb9f3a\"],[0.8888888888888888,\"#fdca26\"],[1.0,\"#f0f921\"]],\"type\":\"contour\"}],\"heatmapgl\":[{\"colorbar\":{\"outlinewidth\":0,\"ticks\":\"\"},\"colorscale\":[[0.0,\"#0d0887\"],[0.1111111111111111,\"#46039f\"],[0.2222222222222222,\"#7201a8\"],[0.3333333333333333,\"#9c179e\"],[0.4444444444444444,\"#bd3786\"],[0.5555555555555556,\"#d8576b\"],[0.6666666666666666,\"#ed7953\"],[0.7777777777777778,\"#fb9f3a\"],[0.8888888888888888,\"#fdca26\"],[1.0,\"#f0f921\"]],\"type\":\"heatmapgl\"}],\"heatmap\":[{\"colorbar\":{\"outlinewidth\":0,\"ticks\":\"\"},\"colorscale\":[[0.0,\"#0d0887\"],[0.1111111111111111,\"#46039f\"],[0.2222222222222222,\"#7201a8\"],[0.3333333333333333,\"#9c179e\"],[0.4444444444444444,\"#bd3786\"],[0.5555555555555556,\"#d8576b\"],[0.6666666666666666,\"#ed7953\"],[0.7777777777777778,\"#fb9f3a\"],[0.8888888888888888,\"#fdca26\"],[1.0,\"#f0f921\"]],\"type\":\"heatmap\"}],\"histogram2dcontour\":[{\"colorbar\":{\"outlinewidth\":0,\"ticks\":\"\"},\"colorscale\":[[0.0,\"#0d0887\"],[0.1111111111111111,\"#46039f\"],[0.2222222222222222,\"#7201a8\"],[0.3333333333333333,\"#9c179e\"],[0.4444444444444444,\"#bd3786\"],[0.5555555555555556,\"#d8576b\"],[0.6666666666666666,\"#ed7953\"],[0.7777777777777778,\"#fb9f3a\"],[0.8888888888888888,\"#fdca26\"],[1.0,\"#f0f921\"]],\"type\":\"histogram2dcontour\"}],\"histogram2d\":[{\"colorbar\":{\"outlinewidth\":0,\"ticks\":\"\"},\"colorscale\":[[0.0,\"#0d0887\"],[0.1111111111111111,\"#46039f\"],[0.2222222222222222,\"#7201a8\"],[0.3333333333333333,\"#9c179e\"],[0.4444444444444444,\"#bd3786\"],[0.5555555555555556,\"#d8576b\"],[0.6666666666666666,\"#ed7953\"],[0.7777777777777778,\"#fb9f3a\"],[0.8888888888888888,\"#fdca26\"],[1.0,\"#f0f921\"]],\"type\":\"histogram2d\"}],\"histogram\":[{\"marker\":{\"pattern\":{\"fillmode\":\"overlay\",\"size\":10,\"solidity\":0.2}},\"type\":\"histogram\"}],\"mesh3d\":[{\"colorbar\":{\"outlinewidth\":0,\"ticks\":\"\"},\"type\":\"mesh3d\"}],\"parcoords\":[{\"line\":{\"colorbar\":{\"outlinewidth\":0,\"ticks\":\"\"}},\"type\":\"parcoords\"}],\"pie\":[{\"automargin\":true,\"type\":\"pie\"}],\"scatter3d\":[{\"line\":{\"colorbar\":{\"outlinewidth\":0,\"ticks\":\"\"}},\"marker\":{\"colorbar\":{\"outlinewidth\":0,\"ticks\":\"\"}},\"type\":\"scatter3d\"}],\"scattercarpet\":[{\"marker\":{\"colorbar\":{\"outlinewidth\":0,\"ticks\":\"\"}},\"type\":\"scattercarpet\"}],\"scattergeo\":[{\"marker\":{\"colorbar\":{\"outlinewidth\":0,\"ticks\":\"\"}},\"type\":\"scattergeo\"}],\"scattergl\":[{\"marker\":{\"line\":{\"color\":\"#283442\"}},\"type\":\"scattergl\"}],\"scattermapbox\":[{\"marker\":{\"colorbar\":{\"outlinewidth\":0,\"ticks\":\"\"}},\"type\":\"scattermapbox\"}],\"scatterpolargl\":[{\"marker\":{\"colorbar\":{\"outlinewidth\":0,\"ticks\":\"\"}},\"type\":\"scatterpolargl\"}],\"scatterpolar\":[{\"marker\":{\"colorbar\":{\"outlinewidth\":0,\"ticks\":\"\"}},\"type\":\"scatterpolar\"}],\"scatter\":[{\"marker\":{\"line\":{\"color\":\"#283442\"}},\"type\":\"scatter\"}],\"scatterternary\":[{\"marker\":{\"colorbar\":{\"outlinewidth\":0,\"ticks\":\"\"}},\"type\":\"scatterternary\"}],\"surface\":[{\"colorbar\":{\"outlinewidth\":0,\"ticks\":\"\"},\"colorscale\":[[0.0,\"#0d0887\"],[0.1111111111111111,\"#46039f\"],[0.2222222222222222,\"#7201a8\"],[0.3333333333333333,\"#9c179e\"],[0.4444444444444444,\"#bd3786\"],[0.5555555555555556,\"#d8576b\"],[0.6666666666666666,\"#ed7953\"],[0.7777777777777778,\"#fb9f3a\"],[0.8888888888888888,\"#fdca26\"],[1.0,\"#f0f921\"]],\"type\":\"surface\"}],\"table\":[{\"cells\":{\"fill\":{\"color\":\"#506784\"},\"line\":{\"color\":\"rgb(17,17,17)\"}},\"header\":{\"fill\":{\"color\":\"#2a3f5f\"},\"line\":{\"color\":\"rgb(17,17,17)\"}},\"type\":\"table\"}]},\"layout\":{\"annotationdefaults\":{\"arrowcolor\":\"#f2f5fa\",\"arrowhead\":0,\"arrowwidth\":1},\"autotypenumbers\":\"strict\",\"coloraxis\":{\"colorbar\":{\"outlinewidth\":0,\"ticks\":\"\"}},\"colorscale\":{\"diverging\":[[0,\"#8e0152\"],[0.1,\"#c51b7d\"],[0.2,\"#de77ae\"],[0.3,\"#f1b6da\"],[0.4,\"#fde0ef\"],[0.5,\"#f7f7f7\"],[0.6,\"#e6f5d0\"],[0.7,\"#b8e186\"],[0.8,\"#7fbc41\"],[0.9,\"#4d9221\"],[1,\"#276419\"]],\"sequential\":[[0.0,\"#0d0887\"],[0.1111111111111111,\"#46039f\"],[0.2222222222222222,\"#7201a8\"],[0.3333333333333333,\"#9c179e\"],[0.4444444444444444,\"#bd3786\"],[0.5555555555555556,\"#d8576b\"],[0.6666666666666666,\"#ed7953\"],[0.7777777777777778,\"#fb9f3a\"],[0.8888888888888888,\"#fdca26\"],[1.0,\"#f0f921\"]],\"sequentialminus\":[[0.0,\"#0d0887\"],[0.1111111111111111,\"#46039f\"],[0.2222222222222222,\"#7201a8\"],[0.3333333333333333,\"#9c179e\"],[0.4444444444444444,\"#bd3786\"],[0.5555555555555556,\"#d8576b\"],[0.6666666666666666,\"#ed7953\"],[0.7777777777777778,\"#fb9f3a\"],[0.8888888888888888,\"#fdca26\"],[1.0,\"#f0f921\"]]},\"colorway\":[\"#636efa\",\"#EF553B\",\"#00cc96\",\"#ab63fa\",\"#FFA15A\",\"#19d3f3\",\"#FF6692\",\"#B6E880\",\"#FF97FF\",\"#FECB52\"],\"font\":{\"color\":\"#f2f5fa\"},\"geo\":{\"bgcolor\":\"rgb(17,17,17)\",\"lakecolor\":\"rgb(17,17,17)\",\"landcolor\":\"rgb(17,17,17)\",\"showlakes\":true,\"showland\":true,\"subunitcolor\":\"#506784\"},\"hoverlabel\":{\"align\":\"left\"},\"hovermode\":\"closest\",\"mapbox\":{\"style\":\"dark\"},\"paper_bgcolor\":\"rgb(17,17,17)\",\"plot_bgcolor\":\"rgb(17,17,17)\",\"polar\":{\"angularaxis\":{\"gridcolor\":\"#506784\",\"linecolor\":\"#506784\",\"ticks\":\"\"},\"bgcolor\":\"rgb(17,17,17)\",\"radialaxis\":{\"gridcolor\":\"#506784\",\"linecolor\":\"#506784\",\"ticks\":\"\"}},\"scene\":{\"xaxis\":{\"backgroundcolor\":\"rgb(17,17,17)\",\"gridcolor\":\"#506784\",\"gridwidth\":2,\"linecolor\":\"#506784\",\"showbackground\":true,\"ticks\":\"\",\"zerolinecolor\":\"#C8D4E3\"},\"yaxis\":{\"backgroundcolor\":\"rgb(17,17,17)\",\"gridcolor\":\"#506784\",\"gridwidth\":2,\"linecolor\":\"#506784\",\"showbackground\":true,\"ticks\":\"\",\"zerolinecolor\":\"#C8D4E3\"},\"zaxis\":{\"backgroundcolor\":\"rgb(17,17,17)\",\"gridcolor\":\"#506784\",\"gridwidth\":2,\"linecolor\":\"#506784\",\"showbackground\":true,\"ticks\":\"\",\"zerolinecolor\":\"#C8D4E3\"}},\"shapedefaults\":{\"line\":{\"color\":\"#f2f5fa\"}},\"sliderdefaults\":{\"bgcolor\":\"#C8D4E3\",\"bordercolor\":\"rgb(17,17,17)\",\"borderwidth\":1,\"tickwidth\":0},\"ternary\":{\"aaxis\":{\"gridcolor\":\"#506784\",\"linecolor\":\"#506784\",\"ticks\":\"\"},\"baxis\":{\"gridcolor\":\"#506784\",\"linecolor\":\"#506784\",\"ticks\":\"\"},\"bgcolor\":\"rgb(17,17,17)\",\"caxis\":{\"gridcolor\":\"#506784\",\"linecolor\":\"#506784\",\"ticks\":\"\"}},\"title\":{\"x\":0.05},\"updatemenudefaults\":{\"bgcolor\":\"#506784\",\"borderwidth\":0},\"xaxis\":{\"automargin\":true,\"gridcolor\":\"#283442\",\"linecolor\":\"#506784\",\"ticks\":\"\",\"title\":{\"standoff\":15},\"zerolinecolor\":\"#283442\",\"zerolinewidth\":2},\"yaxis\":{\"automargin\":true,\"gridcolor\":\"#283442\",\"linecolor\":\"#506784\",\"ticks\":\"\",\"title\":{\"standoff\":15},\"zerolinecolor\":\"#283442\",\"zerolinewidth\":2}}},\"mapbox\":{\"domain\":{\"x\":[0.0,1.0],\"y\":[0.0,1.0]},\"center\":{\"lat\":35.285067860335936,\"lon\":-109.74748703536174},\"zoom\":3,\"style\":\"open-street-map\"},\"coloraxis\":{\"colorbar\":{\"title\":{\"text\":\"mag\"}},\"colorscale\":[[0.0,\"#000000\"],[0.0625,\"#001f4d\"],[0.125,\"#003786\"],[0.1875,\"#0e58a8\"],[0.25,\"#217eb8\"],[0.3125,\"#30a4ca\"],[0.375,\"#54c8df\"],[0.4375,\"#9be4ef\"],[0.5,\"#e1e9d1\"],[0.5625,\"#f3d573\"],[0.625,\"#e7b000\"],[0.6875,\"#da8200\"],[0.75,\"#c65400\"],[0.8125,\"#ac2301\"],[0.875,\"#820000\"],[0.9375,\"#4c0000\"],[1.0,\"#000000\"]]},\"legend\":{\"tracegroupgap\":0},\"title\":{\"text\":\"Earthquakes Across the United States\"},\"height\":600,\"margin\":{\"r\":0,\"t\":0,\"l\":0,\"b\":0}},                        {\"responsive\": true}                    ).then(function(){\n",
       "                            \n",
       "var gd = document.getElementById('95487066-6767-49e2-8978-fe5cea802b33');\n",
       "var x = new MutationObserver(function (mutations, observer) {{\n",
       "        var display = window.getComputedStyle(gd).display;\n",
       "        if (!display || display === 'none') {{\n",
       "            console.log([gd, 'removed!']);\n",
       "            Plotly.purge(gd);\n",
       "            observer.disconnect();\n",
       "        }}\n",
       "}});\n",
       "\n",
       "// Listen for the removal of the full notebook cells\n",
       "var notebookContainer = gd.closest('#notebook-container');\n",
       "if (notebookContainer) {{\n",
       "    x.observe(notebookContainer, {childList: true});\n",
       "}}\n",
       "\n",
       "// Listen for the clearing of the current output cell\n",
       "var outputEl = gd.closest('.output');\n",
       "if (outputEl) {{\n",
       "    x.observe(outputEl, {childList: true});\n",
       "}}\n",
       "\n",
       "                        })                };                });            </script>        </div>"
      ]
     },
     "metadata": {},
     "output_type": "display_data"
    },
    {
     "data": {
      "application/vnd.plotly.v1+json": {
       "config": {
        "plotlyServerURL": "https://plot.ly"
       },
       "data": [
        {
         "hovertemplate": "mag=%{x}<br>depth=%{y}<br>depthError=%{z}<br>magError=%{marker.color}<extra></extra>",
         "legendgroup": "",
         "marker": {
          "color": [
           0.111,
           0.085,
           0.1,
           0.3,
           0.102,
           0.1,
           0.158,
           0.143,
           0.2,
           0.197,
           0.2,
           0.12,
           0.1395107047525865,
           0.2,
           0.1485348324086937,
           0.1,
           0.1,
           0.2,
           0.1,
           0.1,
           0.2,
           0.2,
           0.12,
           0.129,
           0.1653752932410721,
           0.24,
           0.208,
           0.109,
           0.2,
           0.131,
           0.105,
           0.63,
           0.051,
           0.1,
           0.1,
           0.1,
           0.21,
           0.1,
           0.112,
           0.1,
           0.15,
           0.2,
           0.28,
           0.06,
           0.064,
           0.1,
           0.83,
           0.04,
           0.156,
           0.257,
           0.167,
           0.15,
           0.1,
           0.3,
           0.1,
           0.1,
           0.2,
           0.54,
           0.107468484296295,
           0.166,
           0.156,
           0.129,
           0.058,
           0.23,
           null,
           0.1,
           0.2,
           0.133,
           0.139,
           0.24,
           0.23,
           0.1,
           0.34,
           0.103,
           0.26,
           0.1,
           null,
           null,
           0.141610184938956,
           0.2,
           0.1,
           0.053,
           0.1782113083572243,
           0.2,
           0.187,
           0.109,
           0.1,
           0.045,
           0.3,
           0.041,
           0.13,
           0.2,
           0.2,
           0.2,
           0.2,
           0.062,
           0.1,
           0.2,
           0.2,
           0.202,
           0.1,
           0.1,
           0.2,
           0.2,
           0.19,
           0.178,
           0.164,
           0.101,
           0.218,
           0.3,
           null,
           0.3,
           0.062,
           0.105,
           0.242,
           0.1,
           0.2,
           0.2186302063,
           0.103,
           0.1,
           0.2,
           0,
           0.2,
           0.089,
           0.2,
           0.22,
           0.2,
           0.08,
           0.1,
           0.202,
           0.1,
           0.133,
           0.36,
           0.162,
           0.1,
           0.153,
           0.134250009,
           0.131,
           0.081,
           0.25,
           0.2,
           0.3,
           0.06,
           0.172,
           0.064,
           0.36,
           0.107,
           0.1,
           0.2,
           0.2,
           0.2,
           0.2,
           0.2,
           0.2,
           0.151,
           0.17,
           0.1,
           0.11,
           0.21,
           0.178,
           0.19,
           0.1,
           0.159,
           0.1,
           0.169,
           0.51,
           0.2,
           0.14,
           0.18,
           0.06,
           0.2,
           0,
           0.113,
           0.155,
           0.2,
           0.029,
           0.1,
           0.151,
           0.1,
           0.3,
           0.29,
           0.2,
           0.2,
           0.2,
           0.2,
           0.1,
           0.04,
           0.15,
           0.2,
           0.143,
           0.1,
           0.1,
           0.1,
           0.2,
           0.2,
           0.1,
           0,
           0.1,
           0.2,
           0.1,
           0.23,
           0.2,
           0.1,
           0.029,
           0.2,
           0.2,
           0.2,
           0.2,
           0.2,
           0.1,
           0.2,
           0.2,
           0.1,
           0.2,
           0.2,
           0.2,
           0.2,
           0.1,
           0.2,
           0.1,
           0.1,
           0.2,
           0.047,
           0.207,
           0.195,
           0.218,
           0.166,
           0.192,
           0.156,
           0.41,
           0.27,
           0.1,
           0.05,
           0.073,
           0.279,
           0.155,
           0.0744497332697791,
           0.286,
           0.2,
           0.048,
           0.071,
           0.1,
           0.1,
           0.1,
           0.2,
           0.2,
           0.135,
           0.037,
           0.141,
           0.152,
           0.14,
           0.05,
           0.22,
           0.154,
           0.1,
           0.162,
           0.122,
           0.118,
           0.152904569240703,
           0.2,
           0.25,
           0.14,
           0,
           0.31,
           0.36,
           0.148,
           0.19,
           0.25,
           0.057,
           0.062,
           0.123,
           0.146,
           0.235,
           0.22,
           0.2,
           0.28,
           0.146,
           0.24,
           0.104,
           0.159,
           0.2,
           0.137,
           0.042,
           0.28,
           0.09,
           0.152,
           null,
           0.139,
           0.114,
           0.03,
           null,
           0.2,
           0.22,
           0.149,
           0.192,
           0.131,
           0.099,
           0.134,
           0.2,
           0,
           0.144,
           0.198,
           0.051,
           0.214,
           0.039,
           0.2,
           0.2,
           0.151,
           0.1,
           0.066,
           0.165,
           0.149,
           0.129,
           0.1,
           0,
           0.043,
           0.083,
           0.166,
           0.065,
           0.13,
           0,
           0.091,
           0.097,
           0.249,
           0.1661305125282139,
           0.1,
           0.215,
           0.137,
           0.042,
           0.13,
           0.2,
           0,
           0.091,
           0.1,
           0.158,
           0.2,
           0.146,
           0.184,
           0.174,
           0.125,
           0.1,
           0.1,
           0.128,
           0.195,
           0.2,
           0.1,
           0.1,
           0.1,
           0.1,
           0.1,
           0.2,
           0.138,
           0.158,
           0.161,
           null,
           0.182,
           0.109,
           0.1,
           0.1,
           0.051,
           0.179,
           0.176,
           0.196,
           0.154,
           null,
           0.16,
           null,
           0.066,
           0.038,
           0.3,
           0.1,
           0.113,
           0.048,
           0.152,
           null,
           0.1622967629,
           0.167,
           0.148,
           0.2,
           0.59,
           0.03,
           0.26,
           0.08,
           0.154,
           0.148,
           0.2,
           0.1,
           0.08,
           0.2,
           0.18,
           0.187,
           0.121,
           0.2,
           0.31,
           0.238,
           0.188,
           0.2,
           null,
           null,
           0.2,
           0.134607562,
           0.15,
           0.278,
           0.127,
           0.137,
           0.136,
           0.2,
           0.122,
           0.2,
           0.1,
           0.144,
           0.24,
           0.18,
           0.117,
           0.042,
           null,
           0.184,
           0.049,
           0.148,
           0.1,
           0.124,
           0.2,
           0.1,
           0.126,
           0.52,
           0.2,
           0.24,
           0.1,
           0.041,
           0.2,
           0.2,
           0.3,
           0.139,
           0.1,
           0.2,
           0.1,
           0.0468565826506184,
           0.22,
           0.24,
           0.266,
           0.138,
           0.26,
           0.2,
           0.201,
           null,
           0,
           0.197,
           0.259,
           0.157,
           0.1,
           0.262,
           0.185,
           0.364,
           0.05,
           0.141,
           0.3,
           0.2,
           0.087,
           0.1,
           0.133,
           0.094,
           0.2,
           0.1,
           0.2,
           0,
           0.192,
           0.1,
           0.2,
           0.2,
           0.2,
           0.22,
           0.122,
           0.128,
           0.2,
           0.1708380620290563,
           0.2,
           0,
           0.2,
           0,
           0.23,
           0.144,
           0.23,
           0.186,
           0.163,
           0.21,
           0.206,
           0.59,
           0.212,
           0.24,
           0.051,
           0.148,
           0.25,
           0.1,
           0.144,
           0.268,
           0.035,
           0.186,
           0.1,
           0.23,
           0.148,
           0.06,
           0,
           0.1,
           0.178,
           0.168,
           0.2,
           0.2,
           0.084,
           0.21,
           0.21,
           0.21,
           0.299,
           0.1,
           0.24,
           0.057,
           0.2043836311844553
          ],
          "coloraxis": "coloraxis",
          "symbol": "circle"
         },
         "mode": "markers",
         "name": "",
         "scene": "scene",
         "showlegend": false,
         "type": "scatter3d",
         "x": [
          2.6,
          2.7,
          3.3,
          5.4,
          2.5,
          2.7,
          2.63,
          2.77,
          2.5,
          2.7,
          3,
          2.64,
          2.75,
          2.8,
          2.91,
          2.9,
          3.5,
          2.7,
          2.8,
          3.1,
          2.6,
          2.7,
          2.54,
          3.28,
          2.68,
          2.62,
          2.69,
          2.5,
          2.8,
          2.68,
          3.3,
          2.6,
          3.2,
          2.9,
          3.4,
          2.6,
          2.71,
          2.7,
          4.4,
          2.5,
          2.81,
          2.7,
          3.04,
          2.7,
          2.5,
          2.5,
          3,
          2.7,
          2.57,
          2.58,
          3.28,
          2.65,
          2.5,
          3.1,
          2.5,
          3.2,
          2.8,
          2.6,
          2.69,
          3.12,
          2.62,
          2.71,
          2.7,
          2.65,
          3.59,
          3,
          3.5,
          2.74,
          2.71,
          2.79,
          2.83,
          2.9,
          3.5,
          2.63,
          2.51,
          2.6,
          3.98,
          3.59,
          2.59,
          3,
          2.6,
          2.9,
          2.79,
          2.7,
          2.63,
          2.84,
          2.9,
          2.5,
          3.5,
          2.9,
          2.9,
          2.5,
          3.3,
          3.2,
          3,
          2.6,
          2.6,
          2.6,
          2.6,
          2.6,
          3.2,
          2.9,
          2.5,
          3,
          2.59,
          3.91,
          2.58,
          2.88,
          2.59,
          2.7,
          3.82,
          2.7,
          3.6,
          2.7,
          2.72,
          2.5,
          2.9,
          2.839175175,
          2.53,
          3.1,
          2.5,
          2.5,
          2.5,
          2.5,
          3.5,
          2.9,
          2.5,
          2.63,
          2.6,
          2.66,
          3.1,
          4.3,
          2.6,
          2.52,
          2.9,
          2.6,
          2.510355001,
          2.7,
          2.5,
          2.8,
          2.9,
          2.6,
          2.6,
          2.52,
          2.5,
          2.6,
          2.8,
          3,
          2.9,
          2.5,
          4.7,
          2.6,
          4.5,
          2.7,
          2.51,
          3.01,
          2.7,
          4.2,
          2.5,
          2.92,
          2.78,
          2.7,
          2.51,
          2.9,
          2.57,
          3.5,
          3.6,
          2.9,
          2.8,
          2.8,
          2.5,
          2.5,
          4.5,
          2.87,
          2.7,
          6.2,
          2.6,
          2.81,
          2.8,
          2.9,
          3,
          3.2,
          2.5,
          2.8,
          2.5,
          2.6,
          2.9,
          2.81,
          4,
          2.62,
          2.6,
          2.7,
          2.5,
          2.9,
          2.7,
          2.7,
          2.5,
          2.9,
          2.7,
          2.9,
          2.64,
          2.5,
          2.5,
          3.4,
          2.5,
          2.5,
          2.7,
          3.8,
          2.5,
          2.9,
          3.5,
          2.5,
          2.8,
          2.6,
          4,
          2.6,
          2.5,
          2.6,
          3.4,
          2.8,
          2.6,
          5.4,
          3.7,
          3.04,
          2.6,
          3.57,
          2.97,
          2.81,
          2.83,
          2.5,
          2.92,
          2.7,
          3,
          3,
          2.69,
          2.96,
          2.5,
          2.59,
          2.9,
          2.6,
          3,
          2.5,
          2.6,
          2.6,
          3.3,
          2.8,
          2.73,
          3,
          3.58,
          3.09,
          2.78,
          3.4,
          2.5,
          2.71,
          2.6,
          2.8,
          3.19,
          2.5,
          3.19,
          2.7,
          2.76,
          2.61,
          2.7,
          2.5,
          2.5,
          2.97,
          2.71,
          2.6,
          2.7,
          2.7,
          2.53,
          2.76,
          2.63,
          2.5,
          3.3,
          3.3,
          2.65,
          3.23,
          2.51,
          2.88,
          3.5,
          2.63,
          3.1,
          2.51,
          2.5,
          3.81,
          4.04,
          3.69,
          3.1,
          3.6,
          3.76,
          2.55,
          2.61,
          3.78,
          2.69,
          2.8,
          3.16,
          2.66,
          2.8,
          2.5,
          2.94,
          3.19,
          2.9,
          2.55,
          6.1,
          2.7,
          2.8,
          2.83,
          3,
          3.3,
          3.27,
          3.1,
          2.8,
          2.5,
          2.5,
          3.3,
          2.5,
          2.69,
          2.8,
          2.83,
          2.6,
          3,
          3.1,
          2.54,
          2.9,
          2.9,
          4.2,
          2.79,
          3,
          2.86,
          2.6,
          2.6,
          2.5,
          2.7,
          2.83,
          2.8,
          2.8,
          3.01,
          2.54,
          2.52,
          2.5,
          3.5,
          2.85,
          2.79,
          2.8,
          2.5,
          3.4,
          2.8,
          2.5,
          2.5,
          2.5,
          2.92,
          2.87,
          2.53,
          3.66,
          2.62,
          2.81,
          3.3,
          3,
          2.73,
          2.75,
          2.85,
          3.05,
          2.72,
          3.54,
          2.94,
          5.06,
          3,
          2.59,
          2.5,
          2.6,
          2.66,
          3,
          2.52,
          4.1,
          2.898075421,
          2.65,
          3.27,
          2.93,
          2.9,
          2.6,
          3.4,
          2.8,
          2.57,
          2.61,
          3.1,
          3.7,
          3.5,
          3.1,
          2.53,
          2.78,
          2.52,
          2.5,
          2.5,
          2.63,
          2.68,
          2.9,
          3.79,
          4.32,
          2.8,
          3.367831862,
          3.22,
          2.55,
          3.27,
          3.33,
          2.51,
          2.9,
          2.67,
          2.5,
          2.8,
          2.51,
          2.59,
          2.65,
          2.55,
          2.9,
          3.4,
          2.56,
          2.6,
          2.83,
          2.5,
          2.59,
          3.3,
          2.5,
          3.14,
          2.9,
          2.9,
          3.1,
          2.5,
          3.2,
          2.7,
          2.9,
          2.8,
          2.72,
          2.9,
          2.74,
          3.4,
          2.93,
          2.67,
          2.61,
          2.85,
          2.57,
          3.15,
          2.8,
          2.73,
          3.67,
          2.9,
          2.52,
          3.54,
          2.64,
          2.7,
          2.64,
          3.22,
          2.75,
          3.8,
          3.54,
          2.8,
          3,
          2.88,
          2.6,
          3.01,
          2.51,
          2.6,
          2.5,
          2.6,
          2.5,
          2.59,
          3,
          2.5,
          2.7,
          2.7,
          3.14,
          2.56,
          3.47,
          3.21,
          4.39,
          3.42,
          2.7,
          3.2,
          2.9,
          2.71,
          2.77,
          2.88,
          2.79,
          2.84,
          2.78,
          2.61,
          2.9,
          2.54,
          3.19,
          2.6,
          2.6,
          2.5,
          2.6,
          3.01,
          2.51,
          3.1,
          3.57,
          2.9,
          2.8,
          3.01,
          3.1,
          2.8,
          2.5,
          3.08,
          2.71,
          2.8,
          3.3,
          2.5,
          2.6,
          2.57,
          2.52,
          2.77,
          2.9,
          2.76,
          2.5,
          2.95
         ],
         "y": [
          5,
          5,
          6.676147461,
          8.241251628,
          5,
          6.697143555000001,
          7.38,
          18.79,
          7.057055663999999,
          8,
          10.37338867,
          20.26,
          20.61,
          9.757446289,
          12.68,
          6.979931641,
          7.841149902,
          8.239624022999998,
          7.005639647999999,
          7.147033691,
          9.936352539,
          3.972094727,
          4.91,
          8.88,
          25.66,
          7.73,
          1.13,
          5,
          6.941369629000001,
          27.35,
          8.916,
          8.9,
          10,
          6.080151367,
          6.594311523,
          6.131567383,
          19.17,
          6.671435547,
          10,
          3.986124674,
          4.62,
          4.717626953,
          5,
          5,
          5,
          6.491479492,
          11.2,
          15.59,
          10.3,
          -0.05,
          5.61,
          4.73,
          7.301281738,
          0,
          2.146826172,
          8.535266113,
          8.715222168,
          0,
          1.53,
          -1.24,
          4.85,
          7.42,
          5,
          6.75,
          5.07,
          3.1,
          7.879711914,
          1.79,
          1.8,
          7,
          7.38,
          7.057055663999999,
          0,
          4.21,
          6.25,
          6.941369629000001,
          9.46,
          8.21,
          1.37,
          6.504333496,
          6.632873535,
          9.55,
          64.35,
          8.278186035,
          8.43,
          7.93,
          7.314135742,
          5,
          6.388647461,
          15.23,
          16.47,
          8.445288086,
          6.157275391,
          7.828295898,
          7.288427734,
          10,
          7.365551758,
          5.038977051,
          4.987561035,
          8.15,
          5.10324707,
          6.645727539,
          8.188208008,
          9.757446289,
          10.61,
          8.17,
          6.4,
          5.96,
          5.97,
          6.131567383,
          10.46,
          6.697143555000001,
          6.264,
          5.594,
          4.14,
          7.622631836000001,
          8.445288086,
          5.874487305,
          7.75,
          6.851391602,
          6.851391602,
          7.776879883,
          6.851391602,
          5,
          6.645727539,
          6.75,
          8.856616211,
          3.29,
          6.080151367,
          25.42,
          6.028735352,
          10,
          4,
          1.99,
          6.093005371,
          2.81,
          7.416967772999999,
          6.36,
          18.507,
          7.33,
          5.668823242,
          9.268351237,
          10.861,
          9.84,
          10,
          2.1,
          5.51,
          7.712609863,
          8.509558105,
          7.982543944999999,
          8.483850098,
          6.607165527,
          7.429821777,
          5.051831055,
          4.14,
          11.77,
          6.080151367,
          10,
          6.7,
          5.82,
          4.79,
          6.735705566,
          6.62,
          6.131567383,
          9.87,
          6.3,
          7.828295898,
          7.3,
          4.8,
          12.292,
          7.494091797,
          7.314135742,
          10,
          8.44,
          6.234399414,
          10,
          6.131567383,
          7.2,
          6.131567383,
          5.4,
          10.4,
          5.977319336,
          7.828295898,
          6.080151367,
          9.319360352,
          6.645727539,
          10,
          3.46,
          7.468383789,
          9.08,
          6.041589355,
          8.008251953,
          6.568603515999999,
          8.599536133,
          6.041589355,
          6.093005371,
          7.661193848,
          6.131567383,
          9.473608398,
          7.018513997,
          9.75,
          6.427209473,
          6.602783203000001,
          10,
          8.22677002,
          6.350085449,
          7.224157714999999,
          8.625244141,
          8.021105957,
          9.627856445,
          9.229382324,
          6.118713379,
          7.738317870999999,
          8.496704102000002,
          8.123937988,
          5.874487305,
          8.702368164,
          8.650952148,
          5.604553223,
          5.334619141,
          6.620019531,
          6.902807617,
          12.331,
          7.6,
          7.23,
          9.49,
          10.25,
          7.61,
          10.54,
          8.2,
          7.9,
          7.057055663999999,
          9.2,
          7.952,
          3.39,
          2.92,
          11.55,
          7.63,
          7.898885091,
          10,
          5,
          7.416967772999999,
          6.812829589999999,
          7.04420166,
          6.851391602,
          8.033959961,
          6.37,
          10,
          10.07,
          4.48,
          17.69,
          9.122,
          6.2,
          9.69,
          6.871785482,
          2.73,
          3.56,
          6.03,
          4.38,
          2.738110352,
          20.94,
          2.41,
          7.57121582,
          8.2,
          13,
          4.02,
          10.88,
          8,
          18.894,
          7.599,
          8.5,
          -1.58,
          3.83,
          7,
          6.697143555000001,
          8.3,
          0.74,
          4.61,
          5.85,
          4.55,
          7.468383789,
          5.85,
          10,
          6.64,
          0.39,
          21.56,
          7.04,
          8.36,
          19.58,
          10,
          5.64,
          23.54,
          6.7,
          16.48,
          11.22,
          9.46,
          8.1,
          7.95,
          4.524129232,
          5.977319336,
          1.26,
          2.47,
          10.613,
          21.94,
          10,
          2.494384766,
          6.94514974,
          1.81,
          2.469930013,
          10,
          16.86,
          1.67,
          8.78,
          1.118505859,
          6.658581543,
          5,
          5,
          7.16,
          5,
          7.16,
          0.0244547526,
          5,
          5,
          3.1,
          22.63,
          6.089233398,
          10,
          1.88,
          10,
          2.7,
          7.57121582,
          2.469930013,
          10,
          9.730688477,
          7.25,
          6.697143555000001,
          8.56,
          4.35,
          3.09,
          4.9,
          0.0244547526,
          3.986124674,
          15.17,
          16.85,
          6.440063477,
          7.416967772999999,
          7.556518555000001,
          3.203572591,
          8.548120117,
          3.545939128,
          6.113688151,
          7.04,
          2.54,
          2.61,
          28.88,
          2.06,
          9.19,
          15.11303711,
          6.627237956,
          6.1,
          13.73,
          13.64,
          4.12,
          7.98,
          8.05,
          6.66,
          8.38,
          5,
          2.96,
          8.509558105,
          7.622631836000001,
          15.02,
          10,
          3.35,
          28.35,
          2.421020508,
          6.31,
          5.79,
          7.18,
          10,
          15.9,
          12.8,
          9.8,
          4.82,
          24.1,
          7.416967772999999,
          6.74855957,
          5,
          6.851391602,
          1.28,
          1.39,
          6.42,
          6.131567383,
          12.7,
          10.77,
          14.26,
          7.648339844,
          5.8,
          33.05,
          7.622631836000001,
          8.008251953,
          1.68,
          1.72,
          2.43,
          3.26,
          5.76,
          7.288427734,
          26.46,
          8.882324218999997,
          6.285815430000001,
          7.65,
          6.42,
          11.15,
          0.76,
          4.677,
          10,
          12.71,
          10,
          5.76,
          6.260107422,
          17.2,
          7.725463867,
          6.234399414,
          1.69,
          7.5,
          8.625244141,
          9.8,
          6.671435547,
          10,
          8.856616211,
          6.542895508,
          7.3,
          13.1,
          8.681437174,
          7.32,
          8.535266113,
          -0.68,
          6.18,
          5.7,
          11.68,
          18.12,
          6.6,
          7.596923828000001,
          5.41,
          12.27,
          7.57121582,
          10.75,
          7.27,
          24.87,
          3.839396159,
          24.08,
          5.97,
          16.83,
          22.083,
          5.97,
          7.2,
          7.519799805,
          7.9,
          2.031140137,
          4.94,
          8.07,
          6.157275391,
          7.159887695,
          7.596923828000001,
          7.93112793,
          18.99,
          7.57121582,
          7.288427734,
          5.66,
          7.725463867,
          6.34,
          5.41,
          11.79,
          6.23,
          13.17,
          6.3,
          7.738317870999999,
          7.159887695,
          7.674047852000001,
          4.03,
          4.8,
          6.26,
          6.99,
          5.8,
          5.52,
          5.84,
          0.3,
          11.33,
          5.47,
          10,
          13.19,
          9.8,
          6.602783203000001,
          19.55,
          7.56,
          10,
          2.83,
          7.725463867,
          6.37,
          7.62,
          7.9,
          7.159887695,
          7.905419922,
          4.27,
          11.76,
          7.442675781,
          9.048258464,
          5,
          6.46,
          6.42,
          6.48,
          13.58,
          7.802587891,
          7,
          10,
          40.7
         ],
         "z": [
          2.002,
          2.001,
          2.342051766,
          0.6307722438,
          1.759,
          0.9416835205,
          0.42,
          0.89,
          0.8620124469,
          0.26,
          0.5421187414,
          0.44,
          0.57,
          0.686370745,
          0.88,
          0.6537169267,
          0.5324373041,
          0.6140795285,
          0.725827678,
          0.4378087659,
          0.7193074616,
          1.158480161,
          0.71,
          0.28,
          1.2,
          0.4,
          0.16,
          2.002,
          0.4465115812,
          0.52,
          4.225,
          1.2,
          1.996,
          0.9323002313999998,
          1.009071354,
          0.5836846424,
          0.4,
          0.8967199615,
          1.97,
          2.516833128,
          0.67,
          0.9434236044,
          0.5,
          1.937,
          1.943,
          0.6630266578000001,
          2.3,
          8.312,
          0.54,
          0.17,
          31.61,
          0.29,
          0.5211848576,
          2.2,
          1.228453114,
          0.3984760504,
          0.4073639377,
          0,
          1.51,
          3.36,
          1.23,
          0.36,
          1.998,
          0.5,
          0.9,
          2.6,
          0.862166478,
          0.41,
          0.34,
          0.5,
          0.5,
          0.7257214501,
          0,
          0.54,
          0.4,
          0.554262611,
          0.54,
          0.17,
          2.03,
          0.5832683499999999,
          0.5137227667,
          6.233,
          2.66,
          0.4613452233,
          1.19,
          0.5,
          0.930907709,
          1.911,
          0.9473958272,
          7.404,
          0.25,
          0.7863638862,
          1.285239867,
          0.6450208283,
          1.575028004,
          2.012,
          1.109316955,
          0.3908579877,
          0.4301664847,
          0.34,
          0.8513106422999999,
          0.5431799389,
          0.5819484196,
          1.557748315,
          0.35,
          0.77,
          2.08,
          31.61,
          0.75,
          1.2036179,
          0.47,
          0.6330460466,
          3.129,
          2.26,
          0.65,
          1.186086862,
          1.10483081,
          0.821702844,
          0.4,
          0.6659488957000002,
          0.645425613,
          0.7288545401,
          0.7721828726,
          2.002,
          0.8525760928,
          0.4,
          1.173837599,
          0.35,
          0.7476161329,
          0.86,
          0.6606405197,
          1.96,
          1.4,
          0.83,
          0.4279970683,
          0.22,
          0.8875039241000001,
          0.32,
          8.234,
          0.4,
          0.5713262311,
          1.441473352,
          8.353,
          0.31,
          1.993,
          1.6,
          31.61,
          0.3643216909,
          0.3813544663,
          0.6254181135,
          0.5129711472,
          0.546741406,
          0.5628307978,
          0.6231927762,
          0.18,
          0.32,
          0.6093266244,
          1.968,
          3.8,
          0.17,
          0.33,
          0.5072398595,
          0.57,
          0.6868458639,
          0.42,
          0.8,
          0.48762861,
          8.5,
          5.1,
          8.407,
          0.7478512946,
          1.2270591390000003,
          1.908,
          1.5,
          0.8049782144,
          1.748,
          0.5243154318999999,
          0.54,
          0.5458611471,
          5.4,
          1.8,
          0.7286162548,
          0.75345197,
          0.5519265482,
          0.382363127,
          0.5750945329,
          2.001,
          0.5,
          0.4914256713,
          0.23,
          0.3742234313,
          1.09797552,
          0.6955354633,
          0.702256671,
          0.3810070417,
          0.3484176705,
          0.5464791676,
          0.6586047403,
          0.5480883588,
          1.21013552,
          2.1,
          0.5398813228,
          2.101719389,
          1.61,
          0.46599425,
          0.4040087446,
          0.5200372987000002,
          0.5781065249000001,
          0.4471366673,
          0.3925179174,
          0.5123908262,
          0.4703427896,
          0.5964450022,
          0.5139176089,
          0.4202172365,
          0.6610738489,
          0.7740357686,
          0.931127986,
          0.4768665473,
          0.6457161445,
          0.8094712489,
          0.629622792,
          6.117,
          1.29,
          1.1,
          1.11,
          0.86,
          0.99,
          0.18,
          1.4,
          0.3,
          0.6117183872,
          1.9,
          7.558,
          0.31,
          0.16,
          1.57,
          0.7,
          0.785767704,
          2.013,
          1.99,
          0.8047854906,
          0.5320387458,
          0.5376528799,
          0.9309969014,
          0.7985719206,
          0.41,
          2.012,
          1.28,
          0.37,
          0.9,
          8.498,
          2.1,
          0.22,
          2.378447592,
          0.32,
          0.5,
          0.65,
          0.26,
          0.8206471409000001,
          0.7,
          0.17,
          0.8041388661999999,
          1.2,
          1.6,
          1.09,
          0.7,
          1.4,
          6.89,
          2.404,
          0.37,
          1.26,
          0.54,
          1.8,
          1.093573855,
          0.8,
          0.83,
          0.33,
          0.46,
          0.34,
          0.9912782859,
          31.61,
          2.01,
          0.3,
          0.62,
          0.85,
          0.92,
          1.39,
          1.41,
          2.011,
          0.34,
          0.6,
          0.2,
          0.65,
          0.36,
          0.26,
          0.62,
          0.56,
          1.8117303840000003,
          0.6817216885,
          0.11,
          0.12,
          7.349,
          0.56,
          1.847,
          2.536055324,
          1.357081325,
          0.13,
          1.937869237,
          1.947,
          0.63,
          0.4,
          0.2,
          0.8042793036,
          0.5285228202999999,
          1.95,
          2.002,
          0.69,
          1.982,
          0.27,
          0.523369588,
          1.942,
          1.948,
          0.39,
          0.61,
          2.343348904,
          1.937,
          1.88,
          2.012,
          0.43,
          0.8691278185,
          1.520448342,
          1.992,
          0.5743185435,
          0.2,
          0.9342804610999998,
          0.2,
          0.45,
          0.42,
          31.61,
          0.2322947184,
          1.606423898,
          0.19,
          0.3,
          0.8135117211,
          0.8532436617,
          2.337326203,
          1.887266953,
          1.021837652,
          1.8390289790000005,
          1.343611782,
          0.4,
          0.24,
          0.22,
          0.46,
          0.38,
          0.29,
          1.51131099,
          1.908797918,
          0.36,
          0.23,
          0.27,
          0.31,
          0.2,
          0.19,
          0.21,
          0.18,
          1.934,
          1.88,
          0.4284933966,
          0.9619820673,
          0.34,
          2.011,
          0.19,
          0.58,
          1.499121693,
          0.32,
          0.32,
          0.6,
          0,
          6.2,
          2.4,
          3.3,
          0.43,
          0.53,
          0.7702511921,
          0.6520422468,
          1.262,
          1.051816863,
          0.13,
          0.15,
          0.3,
          1.332976846,
          0.8,
          1.42,
          1.44,
          1.473957882,
          31.61,
          0.48,
          1.458076418,
          0.8328803887,
          0.12,
          0.27,
          0.14,
          0.14,
          1.1,
          1.8559254030000003,
          0.48,
          1.792650114,
          1.35260242,
          0.29,
          0.3,
          0.42,
          0.18,
          4.88,
          2.012,
          0.37,
          1.893,
          0.76,
          1.852519588,
          0.82,
          0.7369326983999999,
          1.083590017,
          0.15,
          2,
          1.23101105,
          0.6,
          1.049459532,
          2.011,
          0.7550085852,
          0.8513044363,
          0.8,
          0.7,
          1.1157775,
          0.4,
          0.3574379692,
          31.61,
          0.6,
          1,
          0.52,
          0.56,
          0.3,
          1.427618024,
          0.81,
          0.64,
          0.7494849857,
          0.39,
          0.29,
          0.84,
          1.706590257,
          0.65,
          31.61,
          0.77,
          3.862,
          31.61,
          0.7,
          1.0924939920000003,
          0.53,
          0.6614116867,
          0.42,
          0.83,
          2.315501002,
          1.054724369,
          1.830676016,
          1.025578991,
          0.82,
          0.9012133356,
          1.9101067,
          0.3,
          1.545752933,
          0.3,
          0.2,
          0.54,
          0.4,
          1.63,
          0.3,
          0.7295807858,
          0.6298104648,
          0.7471406834999998,
          0.7,
          31.61,
          0.4,
          0.55,
          0.55,
          0.3,
          31.61,
          2.4,
          0.2,
          0.3,
          1.989,
          5.23,
          3.3,
          1.776819747,
          0.15,
          0.7,
          2.011,
          0.92,
          0.6942121622000001,
          0.4,
          0.38,
          2.6,
          0.8480347389,
          1.540632471,
          0.38,
          0.49,
          2.122219758,
          3.814218667,
          1.743,
          0.4,
          0.4,
          0.4,
          0.61,
          0.8017526363000002,
          0.5,
          2.012,
          0.72
         ]
        }
       ],
       "layout": {
        "coloraxis": {
         "colorbar": {
          "title": {
           "text": "magError"
          }
         },
         "colorscale": [
          [
           0,
           "#0d0887"
          ],
          [
           0.1111111111111111,
           "#46039f"
          ],
          [
           0.2222222222222222,
           "#7201a8"
          ],
          [
           0.3333333333333333,
           "#9c179e"
          ],
          [
           0.4444444444444444,
           "#bd3786"
          ],
          [
           0.5555555555555556,
           "#d8576b"
          ],
          [
           0.6666666666666666,
           "#ed7953"
          ],
          [
           0.7777777777777778,
           "#fb9f3a"
          ],
          [
           0.8888888888888888,
           "#fdca26"
          ],
          [
           1,
           "#f0f921"
          ]
         ]
        },
        "height": 600,
        "legend": {
         "tracegroupgap": 0
        },
        "scene": {
         "domain": {
          "x": [
           0,
           1
          ],
          "y": [
           0,
           1
          ]
         },
         "xaxis": {
          "title": {
           "text": "mag"
          }
         },
         "yaxis": {
          "title": {
           "text": "depth"
          }
         },
         "zaxis": {
          "title": {
           "text": "depthError"
          }
         }
        },
        "showlegend": false,
        "template": {
         "data": {
          "bar": [
           {
            "error_x": {
             "color": "#f2f5fa"
            },
            "error_y": {
             "color": "#f2f5fa"
            },
            "marker": {
             "line": {
              "color": "rgb(17,17,17)",
              "width": 0.5
             },
             "pattern": {
              "fillmode": "overlay",
              "size": 10,
              "solidity": 0.2
             }
            },
            "type": "bar"
           }
          ],
          "barpolar": [
           {
            "marker": {
             "line": {
              "color": "rgb(17,17,17)",
              "width": 0.5
             },
             "pattern": {
              "fillmode": "overlay",
              "size": 10,
              "solidity": 0.2
             }
            },
            "type": "barpolar"
           }
          ],
          "carpet": [
           {
            "aaxis": {
             "endlinecolor": "#A2B1C6",
             "gridcolor": "#506784",
             "linecolor": "#506784",
             "minorgridcolor": "#506784",
             "startlinecolor": "#A2B1C6"
            },
            "baxis": {
             "endlinecolor": "#A2B1C6",
             "gridcolor": "#506784",
             "linecolor": "#506784",
             "minorgridcolor": "#506784",
             "startlinecolor": "#A2B1C6"
            },
            "type": "carpet"
           }
          ],
          "choropleth": [
           {
            "colorbar": {
             "outlinewidth": 0,
             "ticks": ""
            },
            "type": "choropleth"
           }
          ],
          "contour": [
           {
            "colorbar": {
             "outlinewidth": 0,
             "ticks": ""
            },
            "colorscale": [
             [
              0,
              "#0d0887"
             ],
             [
              0.1111111111111111,
              "#46039f"
             ],
             [
              0.2222222222222222,
              "#7201a8"
             ],
             [
              0.3333333333333333,
              "#9c179e"
             ],
             [
              0.4444444444444444,
              "#bd3786"
             ],
             [
              0.5555555555555556,
              "#d8576b"
             ],
             [
              0.6666666666666666,
              "#ed7953"
             ],
             [
              0.7777777777777778,
              "#fb9f3a"
             ],
             [
              0.8888888888888888,
              "#fdca26"
             ],
             [
              1,
              "#f0f921"
             ]
            ],
            "type": "contour"
           }
          ],
          "contourcarpet": [
           {
            "colorbar": {
             "outlinewidth": 0,
             "ticks": ""
            },
            "type": "contourcarpet"
           }
          ],
          "heatmap": [
           {
            "colorbar": {
             "outlinewidth": 0,
             "ticks": ""
            },
            "colorscale": [
             [
              0,
              "#0d0887"
             ],
             [
              0.1111111111111111,
              "#46039f"
             ],
             [
              0.2222222222222222,
              "#7201a8"
             ],
             [
              0.3333333333333333,
              "#9c179e"
             ],
             [
              0.4444444444444444,
              "#bd3786"
             ],
             [
              0.5555555555555556,
              "#d8576b"
             ],
             [
              0.6666666666666666,
              "#ed7953"
             ],
             [
              0.7777777777777778,
              "#fb9f3a"
             ],
             [
              0.8888888888888888,
              "#fdca26"
             ],
             [
              1,
              "#f0f921"
             ]
            ],
            "type": "heatmap"
           }
          ],
          "heatmapgl": [
           {
            "colorbar": {
             "outlinewidth": 0,
             "ticks": ""
            },
            "colorscale": [
             [
              0,
              "#0d0887"
             ],
             [
              0.1111111111111111,
              "#46039f"
             ],
             [
              0.2222222222222222,
              "#7201a8"
             ],
             [
              0.3333333333333333,
              "#9c179e"
             ],
             [
              0.4444444444444444,
              "#bd3786"
             ],
             [
              0.5555555555555556,
              "#d8576b"
             ],
             [
              0.6666666666666666,
              "#ed7953"
             ],
             [
              0.7777777777777778,
              "#fb9f3a"
             ],
             [
              0.8888888888888888,
              "#fdca26"
             ],
             [
              1,
              "#f0f921"
             ]
            ],
            "type": "heatmapgl"
           }
          ],
          "histogram": [
           {
            "marker": {
             "pattern": {
              "fillmode": "overlay",
              "size": 10,
              "solidity": 0.2
             }
            },
            "type": "histogram"
           }
          ],
          "histogram2d": [
           {
            "colorbar": {
             "outlinewidth": 0,
             "ticks": ""
            },
            "colorscale": [
             [
              0,
              "#0d0887"
             ],
             [
              0.1111111111111111,
              "#46039f"
             ],
             [
              0.2222222222222222,
              "#7201a8"
             ],
             [
              0.3333333333333333,
              "#9c179e"
             ],
             [
              0.4444444444444444,
              "#bd3786"
             ],
             [
              0.5555555555555556,
              "#d8576b"
             ],
             [
              0.6666666666666666,
              "#ed7953"
             ],
             [
              0.7777777777777778,
              "#fb9f3a"
             ],
             [
              0.8888888888888888,
              "#fdca26"
             ],
             [
              1,
              "#f0f921"
             ]
            ],
            "type": "histogram2d"
           }
          ],
          "histogram2dcontour": [
           {
            "colorbar": {
             "outlinewidth": 0,
             "ticks": ""
            },
            "colorscale": [
             [
              0,
              "#0d0887"
             ],
             [
              0.1111111111111111,
              "#46039f"
             ],
             [
              0.2222222222222222,
              "#7201a8"
             ],
             [
              0.3333333333333333,
              "#9c179e"
             ],
             [
              0.4444444444444444,
              "#bd3786"
             ],
             [
              0.5555555555555556,
              "#d8576b"
             ],
             [
              0.6666666666666666,
              "#ed7953"
             ],
             [
              0.7777777777777778,
              "#fb9f3a"
             ],
             [
              0.8888888888888888,
              "#fdca26"
             ],
             [
              1,
              "#f0f921"
             ]
            ],
            "type": "histogram2dcontour"
           }
          ],
          "mesh3d": [
           {
            "colorbar": {
             "outlinewidth": 0,
             "ticks": ""
            },
            "type": "mesh3d"
           }
          ],
          "parcoords": [
           {
            "line": {
             "colorbar": {
              "outlinewidth": 0,
              "ticks": ""
             }
            },
            "type": "parcoords"
           }
          ],
          "pie": [
           {
            "automargin": true,
            "type": "pie"
           }
          ],
          "scatter": [
           {
            "marker": {
             "line": {
              "color": "#283442"
             }
            },
            "type": "scatter"
           }
          ],
          "scatter3d": [
           {
            "line": {
             "colorbar": {
              "outlinewidth": 0,
              "ticks": ""
             }
            },
            "marker": {
             "colorbar": {
              "outlinewidth": 0,
              "ticks": ""
             }
            },
            "type": "scatter3d"
           }
          ],
          "scattercarpet": [
           {
            "marker": {
             "colorbar": {
              "outlinewidth": 0,
              "ticks": ""
             }
            },
            "type": "scattercarpet"
           }
          ],
          "scattergeo": [
           {
            "marker": {
             "colorbar": {
              "outlinewidth": 0,
              "ticks": ""
             }
            },
            "type": "scattergeo"
           }
          ],
          "scattergl": [
           {
            "marker": {
             "line": {
              "color": "#283442"
             }
            },
            "type": "scattergl"
           }
          ],
          "scattermapbox": [
           {
            "marker": {
             "colorbar": {
              "outlinewidth": 0,
              "ticks": ""
             }
            },
            "type": "scattermapbox"
           }
          ],
          "scatterpolar": [
           {
            "marker": {
             "colorbar": {
              "outlinewidth": 0,
              "ticks": ""
             }
            },
            "type": "scatterpolar"
           }
          ],
          "scatterpolargl": [
           {
            "marker": {
             "colorbar": {
              "outlinewidth": 0,
              "ticks": ""
             }
            },
            "type": "scatterpolargl"
           }
          ],
          "scatterternary": [
           {
            "marker": {
             "colorbar": {
              "outlinewidth": 0,
              "ticks": ""
             }
            },
            "type": "scatterternary"
           }
          ],
          "surface": [
           {
            "colorbar": {
             "outlinewidth": 0,
             "ticks": ""
            },
            "colorscale": [
             [
              0,
              "#0d0887"
             ],
             [
              0.1111111111111111,
              "#46039f"
             ],
             [
              0.2222222222222222,
              "#7201a8"
             ],
             [
              0.3333333333333333,
              "#9c179e"
             ],
             [
              0.4444444444444444,
              "#bd3786"
             ],
             [
              0.5555555555555556,
              "#d8576b"
             ],
             [
              0.6666666666666666,
              "#ed7953"
             ],
             [
              0.7777777777777778,
              "#fb9f3a"
             ],
             [
              0.8888888888888888,
              "#fdca26"
             ],
             [
              1,
              "#f0f921"
             ]
            ],
            "type": "surface"
           }
          ],
          "table": [
           {
            "cells": {
             "fill": {
              "color": "#506784"
             },
             "line": {
              "color": "rgb(17,17,17)"
             }
            },
            "header": {
             "fill": {
              "color": "#2a3f5f"
             },
             "line": {
              "color": "rgb(17,17,17)"
             }
            },
            "type": "table"
           }
          ]
         },
         "layout": {
          "annotationdefaults": {
           "arrowcolor": "#f2f5fa",
           "arrowhead": 0,
           "arrowwidth": 1
          },
          "autotypenumbers": "strict",
          "coloraxis": {
           "colorbar": {
            "outlinewidth": 0,
            "ticks": ""
           }
          },
          "colorscale": {
           "diverging": [
            [
             0,
             "#8e0152"
            ],
            [
             0.1,
             "#c51b7d"
            ],
            [
             0.2,
             "#de77ae"
            ],
            [
             0.3,
             "#f1b6da"
            ],
            [
             0.4,
             "#fde0ef"
            ],
            [
             0.5,
             "#f7f7f7"
            ],
            [
             0.6,
             "#e6f5d0"
            ],
            [
             0.7,
             "#b8e186"
            ],
            [
             0.8,
             "#7fbc41"
            ],
            [
             0.9,
             "#4d9221"
            ],
            [
             1,
             "#276419"
            ]
           ],
           "sequential": [
            [
             0,
             "#0d0887"
            ],
            [
             0.1111111111111111,
             "#46039f"
            ],
            [
             0.2222222222222222,
             "#7201a8"
            ],
            [
             0.3333333333333333,
             "#9c179e"
            ],
            [
             0.4444444444444444,
             "#bd3786"
            ],
            [
             0.5555555555555556,
             "#d8576b"
            ],
            [
             0.6666666666666666,
             "#ed7953"
            ],
            [
             0.7777777777777778,
             "#fb9f3a"
            ],
            [
             0.8888888888888888,
             "#fdca26"
            ],
            [
             1,
             "#f0f921"
            ]
           ],
           "sequentialminus": [
            [
             0,
             "#0d0887"
            ],
            [
             0.1111111111111111,
             "#46039f"
            ],
            [
             0.2222222222222222,
             "#7201a8"
            ],
            [
             0.3333333333333333,
             "#9c179e"
            ],
            [
             0.4444444444444444,
             "#bd3786"
            ],
            [
             0.5555555555555556,
             "#d8576b"
            ],
            [
             0.6666666666666666,
             "#ed7953"
            ],
            [
             0.7777777777777778,
             "#fb9f3a"
            ],
            [
             0.8888888888888888,
             "#fdca26"
            ],
            [
             1,
             "#f0f921"
            ]
           ]
          },
          "colorway": [
           "#636efa",
           "#EF553B",
           "#00cc96",
           "#ab63fa",
           "#FFA15A",
           "#19d3f3",
           "#FF6692",
           "#B6E880",
           "#FF97FF",
           "#FECB52"
          ],
          "font": {
           "color": "#f2f5fa"
          },
          "geo": {
           "bgcolor": "rgb(17,17,17)",
           "lakecolor": "rgb(17,17,17)",
           "landcolor": "rgb(17,17,17)",
           "showlakes": true,
           "showland": true,
           "subunitcolor": "#506784"
          },
          "hoverlabel": {
           "align": "left"
          },
          "hovermode": "closest",
          "mapbox": {
           "style": "dark"
          },
          "paper_bgcolor": "rgb(17,17,17)",
          "plot_bgcolor": "rgb(17,17,17)",
          "polar": {
           "angularaxis": {
            "gridcolor": "#506784",
            "linecolor": "#506784",
            "ticks": ""
           },
           "bgcolor": "rgb(17,17,17)",
           "radialaxis": {
            "gridcolor": "#506784",
            "linecolor": "#506784",
            "ticks": ""
           }
          },
          "scene": {
           "xaxis": {
            "backgroundcolor": "rgb(17,17,17)",
            "gridcolor": "#506784",
            "gridwidth": 2,
            "linecolor": "#506784",
            "showbackground": true,
            "ticks": "",
            "zerolinecolor": "#C8D4E3"
           },
           "yaxis": {
            "backgroundcolor": "rgb(17,17,17)",
            "gridcolor": "#506784",
            "gridwidth": 2,
            "linecolor": "#506784",
            "showbackground": true,
            "ticks": "",
            "zerolinecolor": "#C8D4E3"
           },
           "zaxis": {
            "backgroundcolor": "rgb(17,17,17)",
            "gridcolor": "#506784",
            "gridwidth": 2,
            "linecolor": "#506784",
            "showbackground": true,
            "ticks": "",
            "zerolinecolor": "#C8D4E3"
           }
          },
          "shapedefaults": {
           "line": {
            "color": "#f2f5fa"
           }
          },
          "sliderdefaults": {
           "bgcolor": "#C8D4E3",
           "bordercolor": "rgb(17,17,17)",
           "borderwidth": 1,
           "tickwidth": 0
          },
          "ternary": {
           "aaxis": {
            "gridcolor": "#506784",
            "linecolor": "#506784",
            "ticks": ""
           },
           "baxis": {
            "gridcolor": "#506784",
            "linecolor": "#506784",
            "ticks": ""
           },
           "bgcolor": "rgb(17,17,17)",
           "caxis": {
            "gridcolor": "#506784",
            "linecolor": "#506784",
            "ticks": ""
           }
          },
          "title": {
           "x": 0.05
          },
          "updatemenudefaults": {
           "bgcolor": "#506784",
           "borderwidth": 0
          },
          "xaxis": {
           "automargin": true,
           "gridcolor": "#283442",
           "linecolor": "#506784",
           "ticks": "",
           "title": {
            "standoff": 15
           },
           "zerolinecolor": "#283442",
           "zerolinewidth": 2
          },
          "yaxis": {
           "automargin": true,
           "gridcolor": "#283442",
           "linecolor": "#506784",
           "ticks": "",
           "title": {
            "standoff": 15
           },
           "zerolinecolor": "#283442",
           "zerolinewidth": 2
          }
         }
        },
        "title": {
         "text": "Earthquake Depth, Magnitude, and Magnitude Error"
        }
       }
      },
      "text/html": [
       "<div>                            <div id=\"28db3406-8a83-4d87-8b4b-1a7b0f7a214f\" class=\"plotly-graph-div\" style=\"height:600px; width:100%;\"></div>            <script type=\"text/javascript\">                require([\"plotly\"], function(Plotly) {                    window.PLOTLYENV=window.PLOTLYENV || {};                                    if (document.getElementById(\"28db3406-8a83-4d87-8b4b-1a7b0f7a214f\")) {                    Plotly.newPlot(                        \"28db3406-8a83-4d87-8b4b-1a7b0f7a214f\",                        [{\"hovertemplate\":\"mag=%{x}<br>depth=%{y}<br>depthError=%{z}<br>magError=%{marker.color}<extra></extra>\",\"legendgroup\":\"\",\"marker\":{\"color\":[0.111,0.085,0.1,0.3,0.102,0.1,0.158,0.143,0.2,0.197,0.2,0.12,0.1395107047525865,0.2,0.1485348324086937,0.1,0.1,0.2,0.1,0.1,0.2,0.2,0.12,0.129,0.1653752932410721,0.24,0.208,0.109,0.2,0.131,0.105,0.63,0.051,0.1,0.1,0.1,0.21,0.1,0.112,0.1,0.15,0.2,0.28,0.06,0.064,0.1,0.83,0.04,0.156,0.257,0.167,0.15,0.1,0.3,0.1,0.1,0.2,0.54,0.107468484296295,0.166,0.156,0.129,0.058,0.23,null,0.1,0.2,0.133,0.139,0.24,0.23,0.1,0.34,0.103,0.26,0.1,null,null,0.141610184938956,0.2,0.1,0.053,0.1782113083572243,0.2,0.187,0.109,0.1,0.045,0.3,0.041,0.13,0.2,0.2,0.2,0.2,0.062,0.1,0.2,0.2,0.202,0.1,0.1,0.2,0.2,0.19,0.178,0.164,0.101,0.218,0.3,null,0.3,0.062,0.105,0.242,0.1,0.2,0.2186302063,0.103,0.1,0.2,0.0,0.2,0.089,0.2,0.22,0.2,0.08,0.1,0.202,0.1,0.133,0.36,0.162,0.1,0.153,0.134250009,0.131,0.081,0.25,0.2,0.3,0.06,0.172,0.064,0.36,0.107,0.1,0.2,0.2,0.2,0.2,0.2,0.2,0.151,0.17,0.1,0.11,0.21,0.178,0.19,0.1,0.159,0.1,0.169,0.51,0.2,0.14,0.18,0.06,0.2,0.0,0.113,0.155,0.2,0.029,0.1,0.151,0.1,0.3,0.29,0.2,0.2,0.2,0.2,0.1,0.04,0.15,0.2,0.143,0.1,0.1,0.1,0.2,0.2,0.1,0.0,0.1,0.2,0.1,0.23,0.2,0.1,0.029,0.2,0.2,0.2,0.2,0.2,0.1,0.2,0.2,0.1,0.2,0.2,0.2,0.2,0.1,0.2,0.1,0.1,0.2,0.047,0.207,0.195,0.218,0.166,0.192,0.156,0.41,0.27,0.1,0.05,0.073,0.279,0.155,0.0744497332697791,0.286,0.2,0.048,0.071,0.1,0.1,0.1,0.2,0.2,0.135,0.037,0.141,0.152,0.14,0.05,0.22,0.154,0.1,0.162,0.122,0.118,0.152904569240703,0.2,0.25,0.14,0.0,0.31,0.36,0.148,0.19,0.25,0.057,0.062,0.123,0.146,0.235,0.22,0.2,0.28,0.146,0.24,0.104,0.159,0.2,0.137,0.042,0.28,0.09,0.152,null,0.139,0.114,0.03,null,0.2,0.22,0.149,0.192,0.131,0.099,0.134,0.2,0.0,0.144,0.198,0.051,0.214,0.039,0.2,0.2,0.151,0.1,0.066,0.165,0.149,0.129,0.1,0.0,0.043,0.083,0.166,0.065,0.13,0.0,0.091,0.097,0.249,0.1661305125282139,0.1,0.215,0.137,0.042,0.13,0.2,0.0,0.091,0.1,0.158,0.2,0.146,0.184,0.174,0.125,0.1,0.1,0.128,0.195,0.2,0.1,0.1,0.1,0.1,0.1,0.2,0.138,0.158,0.161,null,0.182,0.109,0.1,0.1,0.051,0.179,0.176,0.196,0.154,null,0.16,null,0.066,0.038,0.3,0.1,0.113,0.048,0.152,null,0.1622967629,0.167,0.148,0.2,0.59,0.03,0.26,0.08,0.154,0.148,0.2,0.1,0.08,0.2,0.18,0.187,0.121,0.2,0.31,0.238,0.188,0.2,null,null,0.2,0.134607562,0.15,0.278,0.127,0.137,0.136,0.2,0.122,0.2,0.1,0.144,0.24,0.18,0.117,0.042,null,0.184,0.049,0.148,0.1,0.124,0.2,0.1,0.126,0.52,0.2,0.24,0.1,0.041,0.2,0.2,0.3,0.139,0.1,0.2,0.1,0.0468565826506184,0.22,0.24,0.266,0.138,0.26,0.2,0.201,null,0.0,0.197,0.259,0.157,0.1,0.262,0.185,0.364,0.05,0.141,0.3,0.2,0.087,0.1,0.133,0.094,0.2,0.1,0.2,0.0,0.192,0.1,0.2,0.2,0.2,0.22,0.122,0.128,0.2,0.1708380620290563,0.2,0.0,0.2,0.0,0.23,0.144,0.23,0.186,0.163,0.21,0.206,0.59,0.212,0.24,0.051,0.148,0.25,0.1,0.144,0.268,0.035,0.186,0.1,0.23,0.148,0.06,0.0,0.1,0.178,0.168,0.2,0.2,0.084,0.21,0.21,0.21,0.299,0.1,0.24,0.057,0.2043836311844553],\"coloraxis\":\"coloraxis\",\"symbol\":\"circle\"},\"mode\":\"markers\",\"name\":\"\",\"scene\":\"scene\",\"showlegend\":false,\"x\":[2.6,2.7,3.3,5.4,2.5,2.7,2.63,2.77,2.5,2.7,3.0,2.64,2.75,2.8,2.91,2.9,3.5,2.7,2.8,3.1,2.6,2.7,2.54,3.28,2.68,2.62,2.69,2.5,2.8,2.68,3.3,2.6,3.2,2.9,3.4,2.6,2.71,2.7,4.4,2.5,2.81,2.7,3.04,2.7,2.5,2.5,3.0,2.7,2.57,2.58,3.28,2.65,2.5,3.1,2.5,3.2,2.8,2.6,2.69,3.12,2.62,2.71,2.7,2.65,3.59,3.0,3.5,2.74,2.71,2.79,2.83,2.9,3.5,2.63,2.51,2.6,3.98,3.59,2.59,3.0,2.6,2.9,2.79,2.7,2.63,2.84,2.9,2.5,3.5,2.9,2.9,2.5,3.3,3.2,3.0,2.6,2.6,2.6,2.6,2.6,3.2,2.9,2.5,3.0,2.59,3.91,2.58,2.88,2.59,2.7,3.82,2.7,3.6,2.7,2.72,2.5,2.9,2.839175175,2.53,3.1,2.5,2.5,2.5,2.5,3.5,2.9,2.5,2.63,2.6,2.66,3.1,4.3,2.6,2.52,2.9,2.6,2.510355001,2.7,2.5,2.8,2.9,2.6,2.6,2.52,2.5,2.6,2.8,3.0,2.9,2.5,4.7,2.6,4.5,2.7,2.51,3.01,2.7,4.2,2.5,2.92,2.78,2.7,2.51,2.9,2.57,3.5,3.6,2.9,2.8,2.8,2.5,2.5,4.5,2.87,2.7,6.2,2.6,2.81,2.8,2.9,3.0,3.2,2.5,2.8,2.5,2.6,2.9,2.81,4.0,2.62,2.6,2.7,2.5,2.9,2.7,2.7,2.5,2.9,2.7,2.9,2.64,2.5,2.5,3.4,2.5,2.5,2.7,3.8,2.5,2.9,3.5,2.5,2.8,2.6,4.0,2.6,2.5,2.6,3.4,2.8,2.6,5.4,3.7,3.04,2.6,3.57,2.97,2.81,2.83,2.5,2.92,2.7,3.0,3.0,2.69,2.96,2.5,2.59,2.9,2.6,3.0,2.5,2.6,2.6,3.3,2.8,2.73,3.0,3.58,3.09,2.78,3.4,2.5,2.71,2.6,2.8,3.19,2.5,3.19,2.7,2.76,2.61,2.7,2.5,2.5,2.97,2.71,2.6,2.7,2.7,2.53,2.76,2.63,2.5,3.3,3.3,2.65,3.23,2.51,2.88,3.5,2.63,3.1,2.51,2.5,3.81,4.04,3.69,3.1,3.6,3.76,2.55,2.61,3.78,2.69,2.8,3.16,2.66,2.8,2.5,2.94,3.19,2.9,2.55,6.1,2.7,2.8,2.83,3.0,3.3,3.27,3.1,2.8,2.5,2.5,3.3,2.5,2.69,2.8,2.83,2.6,3.0,3.1,2.54,2.9,2.9,4.2,2.79,3.0,2.86,2.6,2.6,2.5,2.7,2.83,2.8,2.8,3.01,2.54,2.52,2.5,3.5,2.85,2.79,2.8,2.5,3.4,2.8,2.5,2.5,2.5,2.92,2.87,2.53,3.66,2.62,2.81,3.3,3.0,2.73,2.75,2.85,3.05,2.72,3.54,2.94,5.06,3.0,2.59,2.5,2.6,2.66,3.0,2.52,4.1,2.898075421,2.65,3.27,2.93,2.9,2.6,3.4,2.8,2.57,2.61,3.1,3.7,3.5,3.1,2.53,2.78,2.52,2.5,2.5,2.63,2.68,2.9,3.79,4.32,2.8,3.367831862,3.22,2.55,3.27,3.33,2.51,2.9,2.67,2.5,2.8,2.51,2.59,2.65,2.55,2.9,3.4,2.56,2.6,2.83,2.5,2.59,3.3,2.5,3.14,2.9,2.9,3.1,2.5,3.2,2.7,2.9,2.8,2.72,2.9,2.74,3.4,2.93,2.67,2.61,2.85,2.57,3.15,2.8,2.73,3.67,2.9,2.52,3.54,2.64,2.7,2.64,3.22,2.75,3.8,3.54,2.8,3.0,2.88,2.6,3.01,2.51,2.6,2.5,2.6,2.5,2.59,3.0,2.5,2.7,2.7,3.14,2.56,3.47,3.21,4.39,3.42,2.7,3.2,2.9,2.71,2.77,2.88,2.79,2.84,2.78,2.61,2.9,2.54,3.19,2.6,2.6,2.5,2.6,3.01,2.51,3.1,3.57,2.9,2.8,3.01,3.1,2.8,2.5,3.08,2.71,2.8,3.3,2.5,2.6,2.57,2.52,2.77,2.9,2.76,2.5,2.95],\"y\":[5.0,5.0,6.676147461,8.241251628,5.0,6.697143555000001,7.38,18.79,7.057055663999999,8.0,10.37338867,20.26,20.61,9.757446289,12.68,6.979931641,7.841149902,8.239624022999998,7.005639647999999,7.147033691,9.936352539,3.972094727,4.91,8.88,25.66,7.73,1.13,5.0,6.941369629000001,27.35,8.916,8.9,10.0,6.080151367,6.594311523,6.131567383,19.17,6.671435547,10.0,3.986124674,4.62,4.717626953,5.0,5.0,5.0,6.491479492,11.2,15.59,10.3,-0.05,5.61,4.73,7.301281738,0.0,2.146826172,8.535266113,8.715222168,0.0,1.53,-1.24,4.85,7.42,5.0,6.75,5.07,3.1,7.879711914,1.79,1.8,7.0,7.38,7.057055663999999,0.0,4.21,6.25,6.941369629000001,9.46,8.21,1.37,6.504333496,6.632873535,9.55,64.35,8.278186035,8.43,7.93,7.314135742,5.0,6.388647461,15.23,16.47,8.445288086,6.157275391,7.828295898,7.288427734,10.0,7.365551758,5.038977051,4.987561035,8.15,5.10324707,6.645727539,8.188208008,9.757446289,10.61,8.17,6.4,5.96,5.97,6.131567383,10.46,6.697143555000001,6.264,5.594,4.14,7.622631836000001,8.445288086,5.874487305,7.75,6.851391602,6.851391602,7.776879883,6.851391602,5.0,6.645727539,6.75,8.856616211,3.29,6.080151367,25.42,6.028735352,10.0,4.0,1.99,6.093005371,2.81,7.416967772999999,6.36,18.507,7.33,5.668823242,9.268351237,10.861,9.84,10.0,2.1,5.51,7.712609863,8.509558105,7.982543944999999,8.483850098,6.607165527,7.429821777,5.051831055,4.14,11.77,6.080151367,10.0,6.7,5.82,4.79,6.735705566,6.62,6.131567383,9.87,6.3,7.828295898,7.3,4.8,12.292,7.494091797,7.314135742,10.0,8.44,6.234399414,10.0,6.131567383,7.2,6.131567383,5.4,10.4,5.977319336,7.828295898,6.080151367,9.319360352,6.645727539,10.0,3.46,7.468383789,9.08,6.041589355,8.008251953,6.568603515999999,8.599536133,6.041589355,6.093005371,7.661193848,6.131567383,9.473608398,7.018513997,9.75,6.427209473,6.602783203000001,10.0,8.22677002,6.350085449,7.224157714999999,8.625244141,8.021105957,9.627856445,9.229382324,6.118713379,7.738317870999999,8.496704102000002,8.123937988,5.874487305,8.702368164,8.650952148,5.604553223,5.334619141,6.620019531,6.902807617,12.331,7.6,7.23,9.49,10.25,7.61,10.54,8.2,7.9,7.057055663999999,9.2,7.952,3.39,2.92,11.55,7.63,7.898885091,10.0,5.0,7.416967772999999,6.812829589999999,7.04420166,6.851391602,8.033959961,6.37,10.0,10.07,4.48,17.69,9.122,6.2,9.69,6.871785482,2.73,3.56,6.03,4.38,2.738110352,20.94,2.41,7.57121582,8.2,13.0,4.02,10.88,8.0,18.894,7.599,8.5,-1.58,3.83,7.0,6.697143555000001,8.3,0.74,4.61,5.85,4.55,7.468383789,5.85,10.0,6.64,0.39,21.56,7.04,8.36,19.58,10.0,5.64,23.54,6.7,16.48,11.22,9.46,8.1,7.95,4.524129232,5.977319336,1.26,2.47,10.613,21.94,10.0,2.494384766,6.94514974,1.81,2.469930013,10.0,16.86,1.67,8.78,1.118505859,6.658581543,5.0,5.0,7.16,5.0,7.16,0.0244547526,5.0,5.0,3.1,22.63,6.089233398,10.0,1.88,10.0,2.7,7.57121582,2.469930013,10.0,9.730688477,7.25,6.697143555000001,8.56,4.35,3.09,4.9,0.0244547526,3.986124674,15.17,16.85,6.440063477,7.416967772999999,7.556518555000001,3.203572591,8.548120117,3.545939128,6.113688151,7.04,2.54,2.61,28.88,2.06,9.19,15.11303711,6.627237956,6.1,13.73,13.64,4.12,7.98,8.05,6.66,8.38,5.0,2.96,8.509558105,7.622631836000001,15.02,10.0,3.35,28.35,2.421020508,6.31,5.79,7.18,10.0,15.9,12.8,9.8,4.82,24.1,7.416967772999999,6.74855957,5.0,6.851391602,1.28,1.39,6.42,6.131567383,12.7,10.77,14.26,7.648339844,5.8,33.05,7.622631836000001,8.008251953,1.68,1.72,2.43,3.26,5.76,7.288427734,26.46,8.882324218999997,6.285815430000001,7.65,6.42,11.15,0.76,4.677,10.0,12.71,10.0,5.76,6.260107422,17.2,7.725463867,6.234399414,1.69,7.5,8.625244141,9.8,6.671435547,10.0,8.856616211,6.542895508,7.3,13.1,8.681437174,7.32,8.535266113,-0.68,6.18,5.7,11.68,18.12,6.6,7.596923828000001,5.41,12.27,7.57121582,10.75,7.27,24.87,3.839396159,24.08,5.97,16.83,22.083,5.97,7.2,7.519799805,7.9,2.031140137,4.94,8.07,6.157275391,7.159887695,7.596923828000001,7.93112793,18.99,7.57121582,7.288427734,5.66,7.725463867,6.34,5.41,11.79,6.23,13.17,6.3,7.738317870999999,7.159887695,7.674047852000001,4.03,4.8,6.26,6.99,5.8,5.52,5.84,0.3,11.33,5.47,10.0,13.19,9.8,6.602783203000001,19.55,7.56,10.0,2.83,7.725463867,6.37,7.62,7.9,7.159887695,7.905419922,4.27,11.76,7.442675781,9.048258464,5.0,6.46,6.42,6.48,13.58,7.802587891,7.0,10.0,40.7],\"z\":[2.002,2.001,2.342051766,0.6307722438,1.759,0.9416835205,0.42,0.89,0.8620124469,0.26,0.5421187414,0.44,0.57,0.686370745,0.88,0.6537169267,0.5324373041,0.6140795285,0.725827678,0.4378087659,0.7193074616,1.158480161,0.71,0.28,1.2,0.4,0.16,2.002,0.4465115812,0.52,4.225,1.2,1.996,0.9323002313999998,1.009071354,0.5836846424,0.4,0.8967199615,1.97,2.516833128,0.67,0.9434236044,0.5,1.937,1.943,0.6630266578000001,2.3,8.312,0.54,0.17,31.61,0.29,0.5211848576,2.2,1.228453114,0.3984760504,0.4073639377,0.0,1.51,3.36,1.23,0.36,1.998,0.5,0.9,2.6,0.862166478,0.41,0.34,0.5,0.5,0.7257214501,0.0,0.54,0.4,0.554262611,0.54,0.17,2.03,0.5832683499999999,0.5137227667,6.233,2.66,0.4613452233,1.19,0.5,0.930907709,1.911,0.9473958272,7.404,0.25,0.7863638862,1.285239867,0.6450208283,1.575028004,2.012,1.109316955,0.3908579877,0.4301664847,0.34,0.8513106422999999,0.5431799389,0.5819484196,1.557748315,0.35,0.77,2.08,31.61,0.75,1.2036179,0.47,0.6330460466,3.129,2.26,0.65,1.186086862,1.10483081,0.821702844,0.4,0.6659488957000002,0.645425613,0.7288545401,0.7721828726,2.002,0.8525760928,0.4,1.173837599,0.35,0.7476161329,0.86,0.6606405197,1.96,1.4,0.83,0.4279970683,0.22,0.8875039241000001,0.32,8.234,0.4,0.5713262311,1.441473352,8.353,0.31,1.993,1.6,31.61,0.3643216909,0.3813544663,0.6254181135,0.5129711472,0.546741406,0.5628307978,0.6231927762,0.18,0.32,0.6093266244,1.968,3.8,0.17,0.33,0.5072398595,0.57,0.6868458639,0.42,0.8,0.48762861,8.5,5.1,8.407,0.7478512946,1.2270591390000003,1.908,1.5,0.8049782144,1.748,0.5243154318999999,0.54,0.5458611471,5.4,1.8,0.7286162548,0.75345197,0.5519265482,0.382363127,0.5750945329,2.001,0.5,0.4914256713,0.23,0.3742234313,1.09797552,0.6955354633,0.702256671,0.3810070417,0.3484176705,0.5464791676,0.6586047403,0.5480883588,1.21013552,2.1,0.5398813228,2.101719389,1.61,0.46599425,0.4040087446,0.5200372987000002,0.5781065249000001,0.4471366673,0.3925179174,0.5123908262,0.4703427896,0.5964450022,0.5139176089,0.4202172365,0.6610738489,0.7740357686,0.931127986,0.4768665473,0.6457161445,0.8094712489,0.629622792,6.117,1.29,1.1,1.11,0.86,0.99,0.18,1.4,0.3,0.6117183872,1.9,7.558,0.31,0.16,1.57,0.7,0.785767704,2.013,1.99,0.8047854906,0.5320387458,0.5376528799,0.9309969014,0.7985719206,0.41,2.012,1.28,0.37,0.9,8.498,2.1,0.22,2.378447592,0.32,0.5,0.65,0.26,0.8206471409000001,0.7,0.17,0.8041388661999999,1.2,1.6,1.09,0.7,1.4,6.89,2.404,0.37,1.26,0.54,1.8,1.093573855,0.8,0.83,0.33,0.46,0.34,0.9912782859,31.61,2.01,0.3,0.62,0.85,0.92,1.39,1.41,2.011,0.34,0.6,0.2,0.65,0.36,0.26,0.62,0.56,1.8117303840000003,0.6817216885,0.11,0.12,7.349,0.56,1.847,2.536055324,1.357081325,0.13,1.937869237,1.947,0.63,0.4,0.2,0.8042793036,0.5285228202999999,1.95,2.002,0.69,1.982,0.27,0.523369588,1.942,1.948,0.39,0.61,2.343348904,1.937,1.88,2.012,0.43,0.8691278185,1.520448342,1.992,0.5743185435,0.2,0.9342804610999998,0.2,0.45,0.42,31.61,0.2322947184,1.606423898,0.19,0.3,0.8135117211,0.8532436617,2.337326203,1.887266953,1.021837652,1.8390289790000005,1.343611782,0.4,0.24,0.22,0.46,0.38,0.29,1.51131099,1.908797918,0.36,0.23,0.27,0.31,0.2,0.19,0.21,0.18,1.934,1.88,0.4284933966,0.9619820673,0.34,2.011,0.19,0.58,1.499121693,0.32,0.32,0.6,0.0,6.2,2.4,3.3,0.43,0.53,0.7702511921,0.6520422468,1.262,1.051816863,0.13,0.15,0.3,1.332976846,0.8,1.42,1.44,1.473957882,31.61,0.48,1.458076418,0.8328803887,0.12,0.27,0.14,0.14,1.1,1.8559254030000003,0.48,1.792650114,1.35260242,0.29,0.3,0.42,0.18,4.88,2.012,0.37,1.893,0.76,1.852519588,0.82,0.7369326983999999,1.083590017,0.15,2.0,1.23101105,0.6,1.049459532,2.011,0.7550085852,0.8513044363,0.8,0.7,1.1157775,0.4,0.3574379692,31.61,0.6,1.0,0.52,0.56,0.3,1.427618024,0.81,0.64,0.7494849857,0.39,0.29,0.84,1.706590257,0.65,31.61,0.77,3.862,31.61,0.7,1.0924939920000003,0.53,0.6614116867,0.42,0.83,2.315501002,1.054724369,1.830676016,1.025578991,0.82,0.9012133356,1.9101067,0.3,1.545752933,0.3,0.2,0.54,0.4,1.63,0.3,0.7295807858,0.6298104648,0.7471406834999998,0.7,31.61,0.4,0.55,0.55,0.3,31.61,2.4,0.2,0.3,1.989,5.23,3.3,1.776819747,0.15,0.7,2.011,0.92,0.6942121622000001,0.4,0.38,2.6,0.8480347389,1.540632471,0.38,0.49,2.122219758,3.814218667,1.743,0.4,0.4,0.4,0.61,0.8017526363000002,0.5,2.012,0.72],\"type\":\"scatter3d\"}],                        {\"template\":{\"data\":{\"barpolar\":[{\"marker\":{\"line\":{\"color\":\"rgb(17,17,17)\",\"width\":0.5},\"pattern\":{\"fillmode\":\"overlay\",\"size\":10,\"solidity\":0.2}},\"type\":\"barpolar\"}],\"bar\":[{\"error_x\":{\"color\":\"#f2f5fa\"},\"error_y\":{\"color\":\"#f2f5fa\"},\"marker\":{\"line\":{\"color\":\"rgb(17,17,17)\",\"width\":0.5},\"pattern\":{\"fillmode\":\"overlay\",\"size\":10,\"solidity\":0.2}},\"type\":\"bar\"}],\"carpet\":[{\"aaxis\":{\"endlinecolor\":\"#A2B1C6\",\"gridcolor\":\"#506784\",\"linecolor\":\"#506784\",\"minorgridcolor\":\"#506784\",\"startlinecolor\":\"#A2B1C6\"},\"baxis\":{\"endlinecolor\":\"#A2B1C6\",\"gridcolor\":\"#506784\",\"linecolor\":\"#506784\",\"minorgridcolor\":\"#506784\",\"startlinecolor\":\"#A2B1C6\"},\"type\":\"carpet\"}],\"choropleth\":[{\"colorbar\":{\"outlinewidth\":0,\"ticks\":\"\"},\"type\":\"choropleth\"}],\"contourcarpet\":[{\"colorbar\":{\"outlinewidth\":0,\"ticks\":\"\"},\"type\":\"contourcarpet\"}],\"contour\":[{\"colorbar\":{\"outlinewidth\":0,\"ticks\":\"\"},\"colorscale\":[[0.0,\"#0d0887\"],[0.1111111111111111,\"#46039f\"],[0.2222222222222222,\"#7201a8\"],[0.3333333333333333,\"#9c179e\"],[0.4444444444444444,\"#bd3786\"],[0.5555555555555556,\"#d8576b\"],[0.6666666666666666,\"#ed7953\"],[0.7777777777777778,\"#fb9f3a\"],[0.8888888888888888,\"#fdca26\"],[1.0,\"#f0f921\"]],\"type\":\"contour\"}],\"heatmapgl\":[{\"colorbar\":{\"outlinewidth\":0,\"ticks\":\"\"},\"colorscale\":[[0.0,\"#0d0887\"],[0.1111111111111111,\"#46039f\"],[0.2222222222222222,\"#7201a8\"],[0.3333333333333333,\"#9c179e\"],[0.4444444444444444,\"#bd3786\"],[0.5555555555555556,\"#d8576b\"],[0.6666666666666666,\"#ed7953\"],[0.7777777777777778,\"#fb9f3a\"],[0.8888888888888888,\"#fdca26\"],[1.0,\"#f0f921\"]],\"type\":\"heatmapgl\"}],\"heatmap\":[{\"colorbar\":{\"outlinewidth\":0,\"ticks\":\"\"},\"colorscale\":[[0.0,\"#0d0887\"],[0.1111111111111111,\"#46039f\"],[0.2222222222222222,\"#7201a8\"],[0.3333333333333333,\"#9c179e\"],[0.4444444444444444,\"#bd3786\"],[0.5555555555555556,\"#d8576b\"],[0.6666666666666666,\"#ed7953\"],[0.7777777777777778,\"#fb9f3a\"],[0.8888888888888888,\"#fdca26\"],[1.0,\"#f0f921\"]],\"type\":\"heatmap\"}],\"histogram2dcontour\":[{\"colorbar\":{\"outlinewidth\":0,\"ticks\":\"\"},\"colorscale\":[[0.0,\"#0d0887\"],[0.1111111111111111,\"#46039f\"],[0.2222222222222222,\"#7201a8\"],[0.3333333333333333,\"#9c179e\"],[0.4444444444444444,\"#bd3786\"],[0.5555555555555556,\"#d8576b\"],[0.6666666666666666,\"#ed7953\"],[0.7777777777777778,\"#fb9f3a\"],[0.8888888888888888,\"#fdca26\"],[1.0,\"#f0f921\"]],\"type\":\"histogram2dcontour\"}],\"histogram2d\":[{\"colorbar\":{\"outlinewidth\":0,\"ticks\":\"\"},\"colorscale\":[[0.0,\"#0d0887\"],[0.1111111111111111,\"#46039f\"],[0.2222222222222222,\"#7201a8\"],[0.3333333333333333,\"#9c179e\"],[0.4444444444444444,\"#bd3786\"],[0.5555555555555556,\"#d8576b\"],[0.6666666666666666,\"#ed7953\"],[0.7777777777777778,\"#fb9f3a\"],[0.8888888888888888,\"#fdca26\"],[1.0,\"#f0f921\"]],\"type\":\"histogram2d\"}],\"histogram\":[{\"marker\":{\"pattern\":{\"fillmode\":\"overlay\",\"size\":10,\"solidity\":0.2}},\"type\":\"histogram\"}],\"mesh3d\":[{\"colorbar\":{\"outlinewidth\":0,\"ticks\":\"\"},\"type\":\"mesh3d\"}],\"parcoords\":[{\"line\":{\"colorbar\":{\"outlinewidth\":0,\"ticks\":\"\"}},\"type\":\"parcoords\"}],\"pie\":[{\"automargin\":true,\"type\":\"pie\"}],\"scatter3d\":[{\"line\":{\"colorbar\":{\"outlinewidth\":0,\"ticks\":\"\"}},\"marker\":{\"colorbar\":{\"outlinewidth\":0,\"ticks\":\"\"}},\"type\":\"scatter3d\"}],\"scattercarpet\":[{\"marker\":{\"colorbar\":{\"outlinewidth\":0,\"ticks\":\"\"}},\"type\":\"scattercarpet\"}],\"scattergeo\":[{\"marker\":{\"colorbar\":{\"outlinewidth\":0,\"ticks\":\"\"}},\"type\":\"scattergeo\"}],\"scattergl\":[{\"marker\":{\"line\":{\"color\":\"#283442\"}},\"type\":\"scattergl\"}],\"scattermapbox\":[{\"marker\":{\"colorbar\":{\"outlinewidth\":0,\"ticks\":\"\"}},\"type\":\"scattermapbox\"}],\"scatterpolargl\":[{\"marker\":{\"colorbar\":{\"outlinewidth\":0,\"ticks\":\"\"}},\"type\":\"scatterpolargl\"}],\"scatterpolar\":[{\"marker\":{\"colorbar\":{\"outlinewidth\":0,\"ticks\":\"\"}},\"type\":\"scatterpolar\"}],\"scatter\":[{\"marker\":{\"line\":{\"color\":\"#283442\"}},\"type\":\"scatter\"}],\"scatterternary\":[{\"marker\":{\"colorbar\":{\"outlinewidth\":0,\"ticks\":\"\"}},\"type\":\"scatterternary\"}],\"surface\":[{\"colorbar\":{\"outlinewidth\":0,\"ticks\":\"\"},\"colorscale\":[[0.0,\"#0d0887\"],[0.1111111111111111,\"#46039f\"],[0.2222222222222222,\"#7201a8\"],[0.3333333333333333,\"#9c179e\"],[0.4444444444444444,\"#bd3786\"],[0.5555555555555556,\"#d8576b\"],[0.6666666666666666,\"#ed7953\"],[0.7777777777777778,\"#fb9f3a\"],[0.8888888888888888,\"#fdca26\"],[1.0,\"#f0f921\"]],\"type\":\"surface\"}],\"table\":[{\"cells\":{\"fill\":{\"color\":\"#506784\"},\"line\":{\"color\":\"rgb(17,17,17)\"}},\"header\":{\"fill\":{\"color\":\"#2a3f5f\"},\"line\":{\"color\":\"rgb(17,17,17)\"}},\"type\":\"table\"}]},\"layout\":{\"annotationdefaults\":{\"arrowcolor\":\"#f2f5fa\",\"arrowhead\":0,\"arrowwidth\":1},\"autotypenumbers\":\"strict\",\"coloraxis\":{\"colorbar\":{\"outlinewidth\":0,\"ticks\":\"\"}},\"colorscale\":{\"diverging\":[[0,\"#8e0152\"],[0.1,\"#c51b7d\"],[0.2,\"#de77ae\"],[0.3,\"#f1b6da\"],[0.4,\"#fde0ef\"],[0.5,\"#f7f7f7\"],[0.6,\"#e6f5d0\"],[0.7,\"#b8e186\"],[0.8,\"#7fbc41\"],[0.9,\"#4d9221\"],[1,\"#276419\"]],\"sequential\":[[0.0,\"#0d0887\"],[0.1111111111111111,\"#46039f\"],[0.2222222222222222,\"#7201a8\"],[0.3333333333333333,\"#9c179e\"],[0.4444444444444444,\"#bd3786\"],[0.5555555555555556,\"#d8576b\"],[0.6666666666666666,\"#ed7953\"],[0.7777777777777778,\"#fb9f3a\"],[0.8888888888888888,\"#fdca26\"],[1.0,\"#f0f921\"]],\"sequentialminus\":[[0.0,\"#0d0887\"],[0.1111111111111111,\"#46039f\"],[0.2222222222222222,\"#7201a8\"],[0.3333333333333333,\"#9c179e\"],[0.4444444444444444,\"#bd3786\"],[0.5555555555555556,\"#d8576b\"],[0.6666666666666666,\"#ed7953\"],[0.7777777777777778,\"#fb9f3a\"],[0.8888888888888888,\"#fdca26\"],[1.0,\"#f0f921\"]]},\"colorway\":[\"#636efa\",\"#EF553B\",\"#00cc96\",\"#ab63fa\",\"#FFA15A\",\"#19d3f3\",\"#FF6692\",\"#B6E880\",\"#FF97FF\",\"#FECB52\"],\"font\":{\"color\":\"#f2f5fa\"},\"geo\":{\"bgcolor\":\"rgb(17,17,17)\",\"lakecolor\":\"rgb(17,17,17)\",\"landcolor\":\"rgb(17,17,17)\",\"showlakes\":true,\"showland\":true,\"subunitcolor\":\"#506784\"},\"hoverlabel\":{\"align\":\"left\"},\"hovermode\":\"closest\",\"mapbox\":{\"style\":\"dark\"},\"paper_bgcolor\":\"rgb(17,17,17)\",\"plot_bgcolor\":\"rgb(17,17,17)\",\"polar\":{\"angularaxis\":{\"gridcolor\":\"#506784\",\"linecolor\":\"#506784\",\"ticks\":\"\"},\"bgcolor\":\"rgb(17,17,17)\",\"radialaxis\":{\"gridcolor\":\"#506784\",\"linecolor\":\"#506784\",\"ticks\":\"\"}},\"scene\":{\"xaxis\":{\"backgroundcolor\":\"rgb(17,17,17)\",\"gridcolor\":\"#506784\",\"gridwidth\":2,\"linecolor\":\"#506784\",\"showbackground\":true,\"ticks\":\"\",\"zerolinecolor\":\"#C8D4E3\"},\"yaxis\":{\"backgroundcolor\":\"rgb(17,17,17)\",\"gridcolor\":\"#506784\",\"gridwidth\":2,\"linecolor\":\"#506784\",\"showbackground\":true,\"ticks\":\"\",\"zerolinecolor\":\"#C8D4E3\"},\"zaxis\":{\"backgroundcolor\":\"rgb(17,17,17)\",\"gridcolor\":\"#506784\",\"gridwidth\":2,\"linecolor\":\"#506784\",\"showbackground\":true,\"ticks\":\"\",\"zerolinecolor\":\"#C8D4E3\"}},\"shapedefaults\":{\"line\":{\"color\":\"#f2f5fa\"}},\"sliderdefaults\":{\"bgcolor\":\"#C8D4E3\",\"bordercolor\":\"rgb(17,17,17)\",\"borderwidth\":1,\"tickwidth\":0},\"ternary\":{\"aaxis\":{\"gridcolor\":\"#506784\",\"linecolor\":\"#506784\",\"ticks\":\"\"},\"baxis\":{\"gridcolor\":\"#506784\",\"linecolor\":\"#506784\",\"ticks\":\"\"},\"bgcolor\":\"rgb(17,17,17)\",\"caxis\":{\"gridcolor\":\"#506784\",\"linecolor\":\"#506784\",\"ticks\":\"\"}},\"title\":{\"x\":0.05},\"updatemenudefaults\":{\"bgcolor\":\"#506784\",\"borderwidth\":0},\"xaxis\":{\"automargin\":true,\"gridcolor\":\"#283442\",\"linecolor\":\"#506784\",\"ticks\":\"\",\"title\":{\"standoff\":15},\"zerolinecolor\":\"#283442\",\"zerolinewidth\":2},\"yaxis\":{\"automargin\":true,\"gridcolor\":\"#283442\",\"linecolor\":\"#506784\",\"ticks\":\"\",\"title\":{\"standoff\":15},\"zerolinecolor\":\"#283442\",\"zerolinewidth\":2}}},\"scene\":{\"domain\":{\"x\":[0.0,1.0],\"y\":[0.0,1.0]},\"xaxis\":{\"title\":{\"text\":\"mag\"}},\"yaxis\":{\"title\":{\"text\":\"depth\"}},\"zaxis\":{\"title\":{\"text\":\"depthError\"}}},\"coloraxis\":{\"colorbar\":{\"title\":{\"text\":\"magError\"}},\"colorscale\":[[0.0,\"#0d0887\"],[0.1111111111111111,\"#46039f\"],[0.2222222222222222,\"#7201a8\"],[0.3333333333333333,\"#9c179e\"],[0.4444444444444444,\"#bd3786\"],[0.5555555555555556,\"#d8576b\"],[0.6666666666666666,\"#ed7953\"],[0.7777777777777778,\"#fb9f3a\"],[0.8888888888888888,\"#fdca26\"],[1.0,\"#f0f921\"]]},\"legend\":{\"tracegroupgap\":0},\"title\":{\"text\":\"Earthquake Depth, Magnitude, and Magnitude Error\"},\"height\":600,\"showlegend\":false},                        {\"responsive\": true}                    ).then(function(){\n",
       "                            \n",
       "var gd = document.getElementById('28db3406-8a83-4d87-8b4b-1a7b0f7a214f');\n",
       "var x = new MutationObserver(function (mutations, observer) {{\n",
       "        var display = window.getComputedStyle(gd).display;\n",
       "        if (!display || display === 'none') {{\n",
       "            console.log([gd, 'removed!']);\n",
       "            Plotly.purge(gd);\n",
       "            observer.disconnect();\n",
       "        }}\n",
       "}});\n",
       "\n",
       "// Listen for the removal of the full notebook cells\n",
       "var notebookContainer = gd.closest('#notebook-container');\n",
       "if (notebookContainer) {{\n",
       "    x.observe(notebookContainer, {childList: true});\n",
       "}}\n",
       "\n",
       "// Listen for the clearing of the current output cell\n",
       "var outputEl = gd.closest('.output');\n",
       "if (outputEl) {{\n",
       "    x.observe(outputEl, {childList: true});\n",
       "}}\n",
       "\n",
       "                        })                };                });            </script>        </div>"
      ]
     },
     "metadata": {},
     "output_type": "display_data"
    },
    {
     "data": {
      "application/vnd.plotly.v1+json": {
       "config": {
        "plotlyServerURL": "https://plot.ly"
       },
       "data": [
        {
         "alignmentgroup": "True",
         "bingroup": "x",
         "hovertemplate": "nst=%{x}<br>count=%{y}<extra></extra>",
         "legendgroup": "",
         "marker": {
          "color": "#636efa",
          "pattern": {
           "shape": ""
          }
         },
         "name": "",
         "offsetgroup": "",
         "orientation": "v",
         "showlegend": false,
         "type": "histogram",
         "x": [
          21,
          27,
          17,
          39,
          32,
          21,
          89,
          65,
          51,
          29,
          19,
          29,
          25,
          19,
          25,
          23,
          30,
          24,
          19,
          17,
          39,
          38,
          67,
          18,
          95,
          71,
          32,
          17,
          28,
          22,
          18,
          31,
          24,
          24,
          34,
          100,
          29,
          40,
          17,
          25,
          38,
          79,
          17,
          16,
          36,
          24,
          33,
          64,
          71,
          4,
          74,
          38,
          9,
          21,
          32,
          21,
          5,
          20,
          24,
          50,
          96,
          25,
          96,
          58,
          15,
          41,
          28,
          29,
          89,
          35,
          10,
          72,
          97,
          40,
          66,
          11,
          21,
          29,
          18,
          14,
          25,
          30,
          52,
          30,
          26,
          21,
          17,
          17,
          24,
          15,
          23,
          14,
          20,
          14,
          15,
          65,
          18,
          19,
          22,
          15,
          68,
          29,
          25,
          34,
          30,
          14,
          79,
          16,
          16,
          25,
          80,
          14,
          36,
          28,
          31,
          40,
          40,
          49,
          35,
          20,
          28,
          96,
          21,
          77,
          41,
          32,
          27,
          31,
          25,
          24,
          25,
          55,
          32,
          71,
          10,
          89,
          34,
          14,
          18,
          98,
          23,
          19,
          8,
          26,
          34,
          19,
          52,
          22,
          42,
          18,
          64,
          54,
          34,
          63,
          10,
          90,
          26,
          34,
          11,
          71,
          34,
          25,
          10,
          9,
          16,
          25,
          40,
          34,
          24,
          40,
          26,
          41,
          57,
          25,
          29,
          47,
          31,
          25,
          39,
          26,
          10,
          61,
          64,
          36,
          30,
          40,
          21,
          25,
          36,
          50,
          38,
          69,
          39,
          90,
          40,
          36,
          16,
          23,
          21,
          73,
          61,
          46,
          52,
          73,
          35,
          67,
          33,
          65,
          18,
          48,
          28,
          31,
          25,
          13,
          42,
          48,
          29,
          30,
          26,
          26,
          30,
          20,
          96,
          52,
          12,
          28,
          44,
          85,
          6,
          26,
          38,
          16,
          26,
          48,
          62,
          68,
          25,
          42,
          82,
          17,
          30,
          24,
          12,
          67,
          14,
          28,
          35,
          45,
          38,
          57,
          31,
          82,
          53,
          13,
          8,
          11,
          100,
          11,
          34,
          51,
          26,
          25,
          46,
          13,
          27,
          24,
          10,
          22,
          42,
          20,
          36,
          32,
          35,
          90,
          11,
          9,
          14,
          14,
          9,
          17,
          66,
          74,
          100,
          28,
          75,
          79,
          55,
          38,
          23,
          49,
          81,
          90,
          32,
          46,
          23,
          25,
          83,
          26,
          14,
          13,
          15,
          29,
          41,
          12,
          29,
          38,
          31,
          70,
          35,
          13,
          12,
          50,
          15,
          19,
          42,
          21,
          22,
          38,
          42,
          17,
          13,
          77,
          36,
          21,
          24,
          50,
          30,
          33,
          20,
          42,
          16,
          18,
          45,
          14,
          12,
          89,
          35,
          30,
          39,
          31,
          68,
          24,
          18,
          54,
          94,
          24,
          28,
          23,
          22,
          36,
          16,
          67,
          41,
          11,
          90,
          95,
          10,
          5,
          15,
          5,
          82,
          34,
          47,
          69,
          96,
          17,
          75,
          83,
          76,
          18,
          22,
          31,
          15,
          15,
          16,
          52,
          16,
          24,
          88,
          35,
          90,
          89,
          23,
          14,
          32,
          14,
          20,
          56,
          100,
          61,
          59,
          20,
          21,
          14,
          34,
          9,
          11,
          35,
          11,
          91,
          21,
          18,
          25,
          12,
          26,
          25,
          74,
          33,
          59,
          29,
          100,
          73,
          6,
          91,
          61,
          33,
          15,
          94,
          17,
          66,
          81,
          52,
          69,
          30,
          38,
          17,
          35,
          7,
          18,
          37,
          8,
          45,
          54,
          41,
          25,
          41,
          30,
          21,
          22,
          25,
          52,
          24,
          38,
          29,
          100,
          33,
          100,
          81,
          99,
          41,
          100,
          51,
          65,
          45,
          89,
          15,
          100,
          52,
          49,
          97,
          15,
          19,
          98,
          100,
          23,
          13,
          36,
          20,
          90,
          23,
          20,
          26,
          47,
          95,
          9,
          38,
          15,
          65,
          17,
          20,
          36,
          99,
          99,
          24,
          32,
          98,
          10,
          29
         ],
         "xaxis": "x",
         "yaxis": "y"
        }
       ],
       "layout": {
        "barmode": "relative",
        "legend": {
         "tracegroupgap": 0
        },
        "template": {
         "data": {
          "bar": [
           {
            "error_x": {
             "color": "#f2f5fa"
            },
            "error_y": {
             "color": "#f2f5fa"
            },
            "marker": {
             "line": {
              "color": "rgb(17,17,17)",
              "width": 0.5
             },
             "pattern": {
              "fillmode": "overlay",
              "size": 10,
              "solidity": 0.2
             }
            },
            "type": "bar"
           }
          ],
          "barpolar": [
           {
            "marker": {
             "line": {
              "color": "rgb(17,17,17)",
              "width": 0.5
             },
             "pattern": {
              "fillmode": "overlay",
              "size": 10,
              "solidity": 0.2
             }
            },
            "type": "barpolar"
           }
          ],
          "carpet": [
           {
            "aaxis": {
             "endlinecolor": "#A2B1C6",
             "gridcolor": "#506784",
             "linecolor": "#506784",
             "minorgridcolor": "#506784",
             "startlinecolor": "#A2B1C6"
            },
            "baxis": {
             "endlinecolor": "#A2B1C6",
             "gridcolor": "#506784",
             "linecolor": "#506784",
             "minorgridcolor": "#506784",
             "startlinecolor": "#A2B1C6"
            },
            "type": "carpet"
           }
          ],
          "choropleth": [
           {
            "colorbar": {
             "outlinewidth": 0,
             "ticks": ""
            },
            "type": "choropleth"
           }
          ],
          "contour": [
           {
            "colorbar": {
             "outlinewidth": 0,
             "ticks": ""
            },
            "colorscale": [
             [
              0,
              "#0d0887"
             ],
             [
              0.1111111111111111,
              "#46039f"
             ],
             [
              0.2222222222222222,
              "#7201a8"
             ],
             [
              0.3333333333333333,
              "#9c179e"
             ],
             [
              0.4444444444444444,
              "#bd3786"
             ],
             [
              0.5555555555555556,
              "#d8576b"
             ],
             [
              0.6666666666666666,
              "#ed7953"
             ],
             [
              0.7777777777777778,
              "#fb9f3a"
             ],
             [
              0.8888888888888888,
              "#fdca26"
             ],
             [
              1,
              "#f0f921"
             ]
            ],
            "type": "contour"
           }
          ],
          "contourcarpet": [
           {
            "colorbar": {
             "outlinewidth": 0,
             "ticks": ""
            },
            "type": "contourcarpet"
           }
          ],
          "heatmap": [
           {
            "colorbar": {
             "outlinewidth": 0,
             "ticks": ""
            },
            "colorscale": [
             [
              0,
              "#0d0887"
             ],
             [
              0.1111111111111111,
              "#46039f"
             ],
             [
              0.2222222222222222,
              "#7201a8"
             ],
             [
              0.3333333333333333,
              "#9c179e"
             ],
             [
              0.4444444444444444,
              "#bd3786"
             ],
             [
              0.5555555555555556,
              "#d8576b"
             ],
             [
              0.6666666666666666,
              "#ed7953"
             ],
             [
              0.7777777777777778,
              "#fb9f3a"
             ],
             [
              0.8888888888888888,
              "#fdca26"
             ],
             [
              1,
              "#f0f921"
             ]
            ],
            "type": "heatmap"
           }
          ],
          "heatmapgl": [
           {
            "colorbar": {
             "outlinewidth": 0,
             "ticks": ""
            },
            "colorscale": [
             [
              0,
              "#0d0887"
             ],
             [
              0.1111111111111111,
              "#46039f"
             ],
             [
              0.2222222222222222,
              "#7201a8"
             ],
             [
              0.3333333333333333,
              "#9c179e"
             ],
             [
              0.4444444444444444,
              "#bd3786"
             ],
             [
              0.5555555555555556,
              "#d8576b"
             ],
             [
              0.6666666666666666,
              "#ed7953"
             ],
             [
              0.7777777777777778,
              "#fb9f3a"
             ],
             [
              0.8888888888888888,
              "#fdca26"
             ],
             [
              1,
              "#f0f921"
             ]
            ],
            "type": "heatmapgl"
           }
          ],
          "histogram": [
           {
            "marker": {
             "pattern": {
              "fillmode": "overlay",
              "size": 10,
              "solidity": 0.2
             }
            },
            "type": "histogram"
           }
          ],
          "histogram2d": [
           {
            "colorbar": {
             "outlinewidth": 0,
             "ticks": ""
            },
            "colorscale": [
             [
              0,
              "#0d0887"
             ],
             [
              0.1111111111111111,
              "#46039f"
             ],
             [
              0.2222222222222222,
              "#7201a8"
             ],
             [
              0.3333333333333333,
              "#9c179e"
             ],
             [
              0.4444444444444444,
              "#bd3786"
             ],
             [
              0.5555555555555556,
              "#d8576b"
             ],
             [
              0.6666666666666666,
              "#ed7953"
             ],
             [
              0.7777777777777778,
              "#fb9f3a"
             ],
             [
              0.8888888888888888,
              "#fdca26"
             ],
             [
              1,
              "#f0f921"
             ]
            ],
            "type": "histogram2d"
           }
          ],
          "histogram2dcontour": [
           {
            "colorbar": {
             "outlinewidth": 0,
             "ticks": ""
            },
            "colorscale": [
             [
              0,
              "#0d0887"
             ],
             [
              0.1111111111111111,
              "#46039f"
             ],
             [
              0.2222222222222222,
              "#7201a8"
             ],
             [
              0.3333333333333333,
              "#9c179e"
             ],
             [
              0.4444444444444444,
              "#bd3786"
             ],
             [
              0.5555555555555556,
              "#d8576b"
             ],
             [
              0.6666666666666666,
              "#ed7953"
             ],
             [
              0.7777777777777778,
              "#fb9f3a"
             ],
             [
              0.8888888888888888,
              "#fdca26"
             ],
             [
              1,
              "#f0f921"
             ]
            ],
            "type": "histogram2dcontour"
           }
          ],
          "mesh3d": [
           {
            "colorbar": {
             "outlinewidth": 0,
             "ticks": ""
            },
            "type": "mesh3d"
           }
          ],
          "parcoords": [
           {
            "line": {
             "colorbar": {
              "outlinewidth": 0,
              "ticks": ""
             }
            },
            "type": "parcoords"
           }
          ],
          "pie": [
           {
            "automargin": true,
            "type": "pie"
           }
          ],
          "scatter": [
           {
            "marker": {
             "line": {
              "color": "#283442"
             }
            },
            "type": "scatter"
           }
          ],
          "scatter3d": [
           {
            "line": {
             "colorbar": {
              "outlinewidth": 0,
              "ticks": ""
             }
            },
            "marker": {
             "colorbar": {
              "outlinewidth": 0,
              "ticks": ""
             }
            },
            "type": "scatter3d"
           }
          ],
          "scattercarpet": [
           {
            "marker": {
             "colorbar": {
              "outlinewidth": 0,
              "ticks": ""
             }
            },
            "type": "scattercarpet"
           }
          ],
          "scattergeo": [
           {
            "marker": {
             "colorbar": {
              "outlinewidth": 0,
              "ticks": ""
             }
            },
            "type": "scattergeo"
           }
          ],
          "scattergl": [
           {
            "marker": {
             "line": {
              "color": "#283442"
             }
            },
            "type": "scattergl"
           }
          ],
          "scattermapbox": [
           {
            "marker": {
             "colorbar": {
              "outlinewidth": 0,
              "ticks": ""
             }
            },
            "type": "scattermapbox"
           }
          ],
          "scatterpolar": [
           {
            "marker": {
             "colorbar": {
              "outlinewidth": 0,
              "ticks": ""
             }
            },
            "type": "scatterpolar"
           }
          ],
          "scatterpolargl": [
           {
            "marker": {
             "colorbar": {
              "outlinewidth": 0,
              "ticks": ""
             }
            },
            "type": "scatterpolargl"
           }
          ],
          "scatterternary": [
           {
            "marker": {
             "colorbar": {
              "outlinewidth": 0,
              "ticks": ""
             }
            },
            "type": "scatterternary"
           }
          ],
          "surface": [
           {
            "colorbar": {
             "outlinewidth": 0,
             "ticks": ""
            },
            "colorscale": [
             [
              0,
              "#0d0887"
             ],
             [
              0.1111111111111111,
              "#46039f"
             ],
             [
              0.2222222222222222,
              "#7201a8"
             ],
             [
              0.3333333333333333,
              "#9c179e"
             ],
             [
              0.4444444444444444,
              "#bd3786"
             ],
             [
              0.5555555555555556,
              "#d8576b"
             ],
             [
              0.6666666666666666,
              "#ed7953"
             ],
             [
              0.7777777777777778,
              "#fb9f3a"
             ],
             [
              0.8888888888888888,
              "#fdca26"
             ],
             [
              1,
              "#f0f921"
             ]
            ],
            "type": "surface"
           }
          ],
          "table": [
           {
            "cells": {
             "fill": {
              "color": "#506784"
             },
             "line": {
              "color": "rgb(17,17,17)"
             }
            },
            "header": {
             "fill": {
              "color": "#2a3f5f"
             },
             "line": {
              "color": "rgb(17,17,17)"
             }
            },
            "type": "table"
           }
          ]
         },
         "layout": {
          "annotationdefaults": {
           "arrowcolor": "#f2f5fa",
           "arrowhead": 0,
           "arrowwidth": 1
          },
          "autotypenumbers": "strict",
          "coloraxis": {
           "colorbar": {
            "outlinewidth": 0,
            "ticks": ""
           }
          },
          "colorscale": {
           "diverging": [
            [
             0,
             "#8e0152"
            ],
            [
             0.1,
             "#c51b7d"
            ],
            [
             0.2,
             "#de77ae"
            ],
            [
             0.3,
             "#f1b6da"
            ],
            [
             0.4,
             "#fde0ef"
            ],
            [
             0.5,
             "#f7f7f7"
            ],
            [
             0.6,
             "#e6f5d0"
            ],
            [
             0.7,
             "#b8e186"
            ],
            [
             0.8,
             "#7fbc41"
            ],
            [
             0.9,
             "#4d9221"
            ],
            [
             1,
             "#276419"
            ]
           ],
           "sequential": [
            [
             0,
             "#0d0887"
            ],
            [
             0.1111111111111111,
             "#46039f"
            ],
            [
             0.2222222222222222,
             "#7201a8"
            ],
            [
             0.3333333333333333,
             "#9c179e"
            ],
            [
             0.4444444444444444,
             "#bd3786"
            ],
            [
             0.5555555555555556,
             "#d8576b"
            ],
            [
             0.6666666666666666,
             "#ed7953"
            ],
            [
             0.7777777777777778,
             "#fb9f3a"
            ],
            [
             0.8888888888888888,
             "#fdca26"
            ],
            [
             1,
             "#f0f921"
            ]
           ],
           "sequentialminus": [
            [
             0,
             "#0d0887"
            ],
            [
             0.1111111111111111,
             "#46039f"
            ],
            [
             0.2222222222222222,
             "#7201a8"
            ],
            [
             0.3333333333333333,
             "#9c179e"
            ],
            [
             0.4444444444444444,
             "#bd3786"
            ],
            [
             0.5555555555555556,
             "#d8576b"
            ],
            [
             0.6666666666666666,
             "#ed7953"
            ],
            [
             0.7777777777777778,
             "#fb9f3a"
            ],
            [
             0.8888888888888888,
             "#fdca26"
            ],
            [
             1,
             "#f0f921"
            ]
           ]
          },
          "colorway": [
           "#636efa",
           "#EF553B",
           "#00cc96",
           "#ab63fa",
           "#FFA15A",
           "#19d3f3",
           "#FF6692",
           "#B6E880",
           "#FF97FF",
           "#FECB52"
          ],
          "font": {
           "color": "#f2f5fa"
          },
          "geo": {
           "bgcolor": "rgb(17,17,17)",
           "lakecolor": "rgb(17,17,17)",
           "landcolor": "rgb(17,17,17)",
           "showlakes": true,
           "showland": true,
           "subunitcolor": "#506784"
          },
          "hoverlabel": {
           "align": "left"
          },
          "hovermode": "closest",
          "mapbox": {
           "style": "dark"
          },
          "paper_bgcolor": "rgb(17,17,17)",
          "plot_bgcolor": "rgb(17,17,17)",
          "polar": {
           "angularaxis": {
            "gridcolor": "#506784",
            "linecolor": "#506784",
            "ticks": ""
           },
           "bgcolor": "rgb(17,17,17)",
           "radialaxis": {
            "gridcolor": "#506784",
            "linecolor": "#506784",
            "ticks": ""
           }
          },
          "scene": {
           "xaxis": {
            "backgroundcolor": "rgb(17,17,17)",
            "gridcolor": "#506784",
            "gridwidth": 2,
            "linecolor": "#506784",
            "showbackground": true,
            "ticks": "",
            "zerolinecolor": "#C8D4E3"
           },
           "yaxis": {
            "backgroundcolor": "rgb(17,17,17)",
            "gridcolor": "#506784",
            "gridwidth": 2,
            "linecolor": "#506784",
            "showbackground": true,
            "ticks": "",
            "zerolinecolor": "#C8D4E3"
           },
           "zaxis": {
            "backgroundcolor": "rgb(17,17,17)",
            "gridcolor": "#506784",
            "gridwidth": 2,
            "linecolor": "#506784",
            "showbackground": true,
            "ticks": "",
            "zerolinecolor": "#C8D4E3"
           }
          },
          "shapedefaults": {
           "line": {
            "color": "#f2f5fa"
           }
          },
          "sliderdefaults": {
           "bgcolor": "#C8D4E3",
           "bordercolor": "rgb(17,17,17)",
           "borderwidth": 1,
           "tickwidth": 0
          },
          "ternary": {
           "aaxis": {
            "gridcolor": "#506784",
            "linecolor": "#506784",
            "ticks": ""
           },
           "baxis": {
            "gridcolor": "#506784",
            "linecolor": "#506784",
            "ticks": ""
           },
           "bgcolor": "rgb(17,17,17)",
           "caxis": {
            "gridcolor": "#506784",
            "linecolor": "#506784",
            "ticks": ""
           }
          },
          "title": {
           "x": 0.05
          },
          "updatemenudefaults": {
           "bgcolor": "#506784",
           "borderwidth": 0
          },
          "xaxis": {
           "automargin": true,
           "gridcolor": "#283442",
           "linecolor": "#506784",
           "ticks": "",
           "title": {
            "standoff": 15
           },
           "zerolinecolor": "#283442",
           "zerolinewidth": 2
          },
          "yaxis": {
           "automargin": true,
           "gridcolor": "#283442",
           "linecolor": "#506784",
           "ticks": "",
           "title": {
            "standoff": 15
           },
           "zerolinecolor": "#283442",
           "zerolinewidth": 2
          }
         }
        },
        "title": {
         "text": "Number of Sensors Used per Earthquake"
        },
        "xaxis": {
         "anchor": "y",
         "domain": [
          0,
          1
         ],
         "title": {
          "text": "nst"
         }
        },
        "yaxis": {
         "anchor": "x",
         "domain": [
          0,
          1
         ],
         "title": {
          "text": "count"
         }
        }
       }
      },
      "text/html": [
       "<div>                            <div id=\"7e5a2987-e27d-497b-a266-1093c18d1c58\" class=\"plotly-graph-div\" style=\"height:525px; width:100%;\"></div>            <script type=\"text/javascript\">                require([\"plotly\"], function(Plotly) {                    window.PLOTLYENV=window.PLOTLYENV || {};                                    if (document.getElementById(\"7e5a2987-e27d-497b-a266-1093c18d1c58\")) {                    Plotly.newPlot(                        \"7e5a2987-e27d-497b-a266-1093c18d1c58\",                        [{\"alignmentgroup\":\"True\",\"bingroup\":\"x\",\"hovertemplate\":\"nst=%{x}<br>count=%{y}<extra></extra>\",\"legendgroup\":\"\",\"marker\":{\"color\":\"#636efa\",\"pattern\":{\"shape\":\"\"}},\"name\":\"\",\"offsetgroup\":\"\",\"orientation\":\"v\",\"showlegend\":false,\"x\":[21,27,17,39,32,21,89,65,51,29,19,29,25,19,25,23,30,24,19,17,39,38,67,18,95,71,32,17,28,22,18,31,24,24,34,100,29,40,17,25,38,79,17,16,36,24,33,64,71,4,74,38,9,21,32,21,5,20,24,50,96,25,96,58,15,41,28,29,89,35,10,72,97,40,66,11,21,29,18,14,25,30,52,30,26,21,17,17,24,15,23,14,20,14,15,65,18,19,22,15,68,29,25,34,30,14,79,16,16,25,80,14,36,28,31,40,40,49,35,20,28,96,21,77,41,32,27,31,25,24,25,55,32,71,10,89,34,14,18,98,23,19,8,26,34,19,52,22,42,18,64,54,34,63,10,90,26,34,11,71,34,25,10,9,16,25,40,34,24,40,26,41,57,25,29,47,31,25,39,26,10,61,64,36,30,40,21,25,36,50,38,69,39,90,40,36,16,23,21,73,61,46,52,73,35,67,33,65,18,48,28,31,25,13,42,48,29,30,26,26,30,20,96,52,12,28,44,85,6,26,38,16,26,48,62,68,25,42,82,17,30,24,12,67,14,28,35,45,38,57,31,82,53,13,8,11,100,11,34,51,26,25,46,13,27,24,10,22,42,20,36,32,35,90,11,9,14,14,9,17,66,74,100,28,75,79,55,38,23,49,81,90,32,46,23,25,83,26,14,13,15,29,41,12,29,38,31,70,35,13,12,50,15,19,42,21,22,38,42,17,13,77,36,21,24,50,30,33,20,42,16,18,45,14,12,89,35,30,39,31,68,24,18,54,94,24,28,23,22,36,16,67,41,11,90,95,10,5,15,5,82,34,47,69,96,17,75,83,76,18,22,31,15,15,16,52,16,24,88,35,90,89,23,14,32,14,20,56,100,61,59,20,21,14,34,9,11,35,11,91,21,18,25,12,26,25,74,33,59,29,100,73,6,91,61,33,15,94,17,66,81,52,69,30,38,17,35,7,18,37,8,45,54,41,25,41,30,21,22,25,52,24,38,29,100,33,100,81,99,41,100,51,65,45,89,15,100,52,49,97,15,19,98,100,23,13,36,20,90,23,20,26,47,95,9,38,15,65,17,20,36,99,99,24,32,98,10,29],\"xaxis\":\"x\",\"yaxis\":\"y\",\"type\":\"histogram\"}],                        {\"template\":{\"data\":{\"barpolar\":[{\"marker\":{\"line\":{\"color\":\"rgb(17,17,17)\",\"width\":0.5},\"pattern\":{\"fillmode\":\"overlay\",\"size\":10,\"solidity\":0.2}},\"type\":\"barpolar\"}],\"bar\":[{\"error_x\":{\"color\":\"#f2f5fa\"},\"error_y\":{\"color\":\"#f2f5fa\"},\"marker\":{\"line\":{\"color\":\"rgb(17,17,17)\",\"width\":0.5},\"pattern\":{\"fillmode\":\"overlay\",\"size\":10,\"solidity\":0.2}},\"type\":\"bar\"}],\"carpet\":[{\"aaxis\":{\"endlinecolor\":\"#A2B1C6\",\"gridcolor\":\"#506784\",\"linecolor\":\"#506784\",\"minorgridcolor\":\"#506784\",\"startlinecolor\":\"#A2B1C6\"},\"baxis\":{\"endlinecolor\":\"#A2B1C6\",\"gridcolor\":\"#506784\",\"linecolor\":\"#506784\",\"minorgridcolor\":\"#506784\",\"startlinecolor\":\"#A2B1C6\"},\"type\":\"carpet\"}],\"choropleth\":[{\"colorbar\":{\"outlinewidth\":0,\"ticks\":\"\"},\"type\":\"choropleth\"}],\"contourcarpet\":[{\"colorbar\":{\"outlinewidth\":0,\"ticks\":\"\"},\"type\":\"contourcarpet\"}],\"contour\":[{\"colorbar\":{\"outlinewidth\":0,\"ticks\":\"\"},\"colorscale\":[[0.0,\"#0d0887\"],[0.1111111111111111,\"#46039f\"],[0.2222222222222222,\"#7201a8\"],[0.3333333333333333,\"#9c179e\"],[0.4444444444444444,\"#bd3786\"],[0.5555555555555556,\"#d8576b\"],[0.6666666666666666,\"#ed7953\"],[0.7777777777777778,\"#fb9f3a\"],[0.8888888888888888,\"#fdca26\"],[1.0,\"#f0f921\"]],\"type\":\"contour\"}],\"heatmapgl\":[{\"colorbar\":{\"outlinewidth\":0,\"ticks\":\"\"},\"colorscale\":[[0.0,\"#0d0887\"],[0.1111111111111111,\"#46039f\"],[0.2222222222222222,\"#7201a8\"],[0.3333333333333333,\"#9c179e\"],[0.4444444444444444,\"#bd3786\"],[0.5555555555555556,\"#d8576b\"],[0.6666666666666666,\"#ed7953\"],[0.7777777777777778,\"#fb9f3a\"],[0.8888888888888888,\"#fdca26\"],[1.0,\"#f0f921\"]],\"type\":\"heatmapgl\"}],\"heatmap\":[{\"colorbar\":{\"outlinewidth\":0,\"ticks\":\"\"},\"colorscale\":[[0.0,\"#0d0887\"],[0.1111111111111111,\"#46039f\"],[0.2222222222222222,\"#7201a8\"],[0.3333333333333333,\"#9c179e\"],[0.4444444444444444,\"#bd3786\"],[0.5555555555555556,\"#d8576b\"],[0.6666666666666666,\"#ed7953\"],[0.7777777777777778,\"#fb9f3a\"],[0.8888888888888888,\"#fdca26\"],[1.0,\"#f0f921\"]],\"type\":\"heatmap\"}],\"histogram2dcontour\":[{\"colorbar\":{\"outlinewidth\":0,\"ticks\":\"\"},\"colorscale\":[[0.0,\"#0d0887\"],[0.1111111111111111,\"#46039f\"],[0.2222222222222222,\"#7201a8\"],[0.3333333333333333,\"#9c179e\"],[0.4444444444444444,\"#bd3786\"],[0.5555555555555556,\"#d8576b\"],[0.6666666666666666,\"#ed7953\"],[0.7777777777777778,\"#fb9f3a\"],[0.8888888888888888,\"#fdca26\"],[1.0,\"#f0f921\"]],\"type\":\"histogram2dcontour\"}],\"histogram2d\":[{\"colorbar\":{\"outlinewidth\":0,\"ticks\":\"\"},\"colorscale\":[[0.0,\"#0d0887\"],[0.1111111111111111,\"#46039f\"],[0.2222222222222222,\"#7201a8\"],[0.3333333333333333,\"#9c179e\"],[0.4444444444444444,\"#bd3786\"],[0.5555555555555556,\"#d8576b\"],[0.6666666666666666,\"#ed7953\"],[0.7777777777777778,\"#fb9f3a\"],[0.8888888888888888,\"#fdca26\"],[1.0,\"#f0f921\"]],\"type\":\"histogram2d\"}],\"histogram\":[{\"marker\":{\"pattern\":{\"fillmode\":\"overlay\",\"size\":10,\"solidity\":0.2}},\"type\":\"histogram\"}],\"mesh3d\":[{\"colorbar\":{\"outlinewidth\":0,\"ticks\":\"\"},\"type\":\"mesh3d\"}],\"parcoords\":[{\"line\":{\"colorbar\":{\"outlinewidth\":0,\"ticks\":\"\"}},\"type\":\"parcoords\"}],\"pie\":[{\"automargin\":true,\"type\":\"pie\"}],\"scatter3d\":[{\"line\":{\"colorbar\":{\"outlinewidth\":0,\"ticks\":\"\"}},\"marker\":{\"colorbar\":{\"outlinewidth\":0,\"ticks\":\"\"}},\"type\":\"scatter3d\"}],\"scattercarpet\":[{\"marker\":{\"colorbar\":{\"outlinewidth\":0,\"ticks\":\"\"}},\"type\":\"scattercarpet\"}],\"scattergeo\":[{\"marker\":{\"colorbar\":{\"outlinewidth\":0,\"ticks\":\"\"}},\"type\":\"scattergeo\"}],\"scattergl\":[{\"marker\":{\"line\":{\"color\":\"#283442\"}},\"type\":\"scattergl\"}],\"scattermapbox\":[{\"marker\":{\"colorbar\":{\"outlinewidth\":0,\"ticks\":\"\"}},\"type\":\"scattermapbox\"}],\"scatterpolargl\":[{\"marker\":{\"colorbar\":{\"outlinewidth\":0,\"ticks\":\"\"}},\"type\":\"scatterpolargl\"}],\"scatterpolar\":[{\"marker\":{\"colorbar\":{\"outlinewidth\":0,\"ticks\":\"\"}},\"type\":\"scatterpolar\"}],\"scatter\":[{\"marker\":{\"line\":{\"color\":\"#283442\"}},\"type\":\"scatter\"}],\"scatterternary\":[{\"marker\":{\"colorbar\":{\"outlinewidth\":0,\"ticks\":\"\"}},\"type\":\"scatterternary\"}],\"surface\":[{\"colorbar\":{\"outlinewidth\":0,\"ticks\":\"\"},\"colorscale\":[[0.0,\"#0d0887\"],[0.1111111111111111,\"#46039f\"],[0.2222222222222222,\"#7201a8\"],[0.3333333333333333,\"#9c179e\"],[0.4444444444444444,\"#bd3786\"],[0.5555555555555556,\"#d8576b\"],[0.6666666666666666,\"#ed7953\"],[0.7777777777777778,\"#fb9f3a\"],[0.8888888888888888,\"#fdca26\"],[1.0,\"#f0f921\"]],\"type\":\"surface\"}],\"table\":[{\"cells\":{\"fill\":{\"color\":\"#506784\"},\"line\":{\"color\":\"rgb(17,17,17)\"}},\"header\":{\"fill\":{\"color\":\"#2a3f5f\"},\"line\":{\"color\":\"rgb(17,17,17)\"}},\"type\":\"table\"}]},\"layout\":{\"annotationdefaults\":{\"arrowcolor\":\"#f2f5fa\",\"arrowhead\":0,\"arrowwidth\":1},\"autotypenumbers\":\"strict\",\"coloraxis\":{\"colorbar\":{\"outlinewidth\":0,\"ticks\":\"\"}},\"colorscale\":{\"diverging\":[[0,\"#8e0152\"],[0.1,\"#c51b7d\"],[0.2,\"#de77ae\"],[0.3,\"#f1b6da\"],[0.4,\"#fde0ef\"],[0.5,\"#f7f7f7\"],[0.6,\"#e6f5d0\"],[0.7,\"#b8e186\"],[0.8,\"#7fbc41\"],[0.9,\"#4d9221\"],[1,\"#276419\"]],\"sequential\":[[0.0,\"#0d0887\"],[0.1111111111111111,\"#46039f\"],[0.2222222222222222,\"#7201a8\"],[0.3333333333333333,\"#9c179e\"],[0.4444444444444444,\"#bd3786\"],[0.5555555555555556,\"#d8576b\"],[0.6666666666666666,\"#ed7953\"],[0.7777777777777778,\"#fb9f3a\"],[0.8888888888888888,\"#fdca26\"],[1.0,\"#f0f921\"]],\"sequentialminus\":[[0.0,\"#0d0887\"],[0.1111111111111111,\"#46039f\"],[0.2222222222222222,\"#7201a8\"],[0.3333333333333333,\"#9c179e\"],[0.4444444444444444,\"#bd3786\"],[0.5555555555555556,\"#d8576b\"],[0.6666666666666666,\"#ed7953\"],[0.7777777777777778,\"#fb9f3a\"],[0.8888888888888888,\"#fdca26\"],[1.0,\"#f0f921\"]]},\"colorway\":[\"#636efa\",\"#EF553B\",\"#00cc96\",\"#ab63fa\",\"#FFA15A\",\"#19d3f3\",\"#FF6692\",\"#B6E880\",\"#FF97FF\",\"#FECB52\"],\"font\":{\"color\":\"#f2f5fa\"},\"geo\":{\"bgcolor\":\"rgb(17,17,17)\",\"lakecolor\":\"rgb(17,17,17)\",\"landcolor\":\"rgb(17,17,17)\",\"showlakes\":true,\"showland\":true,\"subunitcolor\":\"#506784\"},\"hoverlabel\":{\"align\":\"left\"},\"hovermode\":\"closest\",\"mapbox\":{\"style\":\"dark\"},\"paper_bgcolor\":\"rgb(17,17,17)\",\"plot_bgcolor\":\"rgb(17,17,17)\",\"polar\":{\"angularaxis\":{\"gridcolor\":\"#506784\",\"linecolor\":\"#506784\",\"ticks\":\"\"},\"bgcolor\":\"rgb(17,17,17)\",\"radialaxis\":{\"gridcolor\":\"#506784\",\"linecolor\":\"#506784\",\"ticks\":\"\"}},\"scene\":{\"xaxis\":{\"backgroundcolor\":\"rgb(17,17,17)\",\"gridcolor\":\"#506784\",\"gridwidth\":2,\"linecolor\":\"#506784\",\"showbackground\":true,\"ticks\":\"\",\"zerolinecolor\":\"#C8D4E3\"},\"yaxis\":{\"backgroundcolor\":\"rgb(17,17,17)\",\"gridcolor\":\"#506784\",\"gridwidth\":2,\"linecolor\":\"#506784\",\"showbackground\":true,\"ticks\":\"\",\"zerolinecolor\":\"#C8D4E3\"},\"zaxis\":{\"backgroundcolor\":\"rgb(17,17,17)\",\"gridcolor\":\"#506784\",\"gridwidth\":2,\"linecolor\":\"#506784\",\"showbackground\":true,\"ticks\":\"\",\"zerolinecolor\":\"#C8D4E3\"}},\"shapedefaults\":{\"line\":{\"color\":\"#f2f5fa\"}},\"sliderdefaults\":{\"bgcolor\":\"#C8D4E3\",\"bordercolor\":\"rgb(17,17,17)\",\"borderwidth\":1,\"tickwidth\":0},\"ternary\":{\"aaxis\":{\"gridcolor\":\"#506784\",\"linecolor\":\"#506784\",\"ticks\":\"\"},\"baxis\":{\"gridcolor\":\"#506784\",\"linecolor\":\"#506784\",\"ticks\":\"\"},\"bgcolor\":\"rgb(17,17,17)\",\"caxis\":{\"gridcolor\":\"#506784\",\"linecolor\":\"#506784\",\"ticks\":\"\"}},\"title\":{\"x\":0.05},\"updatemenudefaults\":{\"bgcolor\":\"#506784\",\"borderwidth\":0},\"xaxis\":{\"automargin\":true,\"gridcolor\":\"#283442\",\"linecolor\":\"#506784\",\"ticks\":\"\",\"title\":{\"standoff\":15},\"zerolinecolor\":\"#283442\",\"zerolinewidth\":2},\"yaxis\":{\"automargin\":true,\"gridcolor\":\"#283442\",\"linecolor\":\"#506784\",\"ticks\":\"\",\"title\":{\"standoff\":15},\"zerolinecolor\":\"#283442\",\"zerolinewidth\":2}}},\"xaxis\":{\"anchor\":\"y\",\"domain\":[0.0,1.0],\"title\":{\"text\":\"nst\"}},\"yaxis\":{\"anchor\":\"x\",\"domain\":[0.0,1.0],\"title\":{\"text\":\"count\"}},\"legend\":{\"tracegroupgap\":0},\"title\":{\"text\":\"Number of Sensors Used per Earthquake\"},\"barmode\":\"relative\"},                        {\"responsive\": true}                    ).then(function(){\n",
       "                            \n",
       "var gd = document.getElementById('7e5a2987-e27d-497b-a266-1093c18d1c58');\n",
       "var x = new MutationObserver(function (mutations, observer) {{\n",
       "        var display = window.getComputedStyle(gd).display;\n",
       "        if (!display || display === 'none') {{\n",
       "            console.log([gd, 'removed!']);\n",
       "            Plotly.purge(gd);\n",
       "            observer.disconnect();\n",
       "        }}\n",
       "}});\n",
       "\n",
       "// Listen for the removal of the full notebook cells\n",
       "var notebookContainer = gd.closest('#notebook-container');\n",
       "if (notebookContainer) {{\n",
       "    x.observe(notebookContainer, {childList: true});\n",
       "}}\n",
       "\n",
       "// Listen for the clearing of the current output cell\n",
       "var outputEl = gd.closest('.output');\n",
       "if (outputEl) {{\n",
       "    x.observe(outputEl, {childList: true});\n",
       "}}\n",
       "\n",
       "                        })                };                });            </script>        </div>"
      ]
     },
     "metadata": {},
     "output_type": "display_data"
    },
    {
     "data": {
      "application/vnd.plotly.v1+json": {
       "config": {
        "plotlyServerURL": "https://plot.ly"
       },
       "data": [
        {
         "geo": "geo",
         "hovertemplate": "<b>%{hovertext}</b><br><br>day=17<br>latitude=%{lat}<br>longitude=%{lon}<br>depth=%{marker.color}<extra></extra>",
         "hovertext": [
          "16 km N of Midland, Texas",
          "19 km N of Midland, Texas",
          "37 km WSW of Mentone, Texas",
          "21 km NW of Valentine, Texas",
          "Oregon-Idaho border region",
          "37 km WSW of Mentone, Texas",
          "37 km WSW of Mentone, Texas",
          "40 km W of Mentone, Texas",
          "37 km WSW of Mentone, Texas",
          "38 km NNW of Toyah, Texas",
          "37 km NNW of Toyah, Texas",
          "37 km WSW of Mentone, Texas",
          "35 km WSW of Mentone, Texas",
          "2km N of The Geysers, CA",
          "8 km NNW of Chacra, Colorado",
          "southern Idaho",
          "2km WNW of Aguanga, CA",
          "southern Idaho"
         ],
         "lat": [
          32.1441,
          32.17,
          31.6348178,
          30.71228027,
          44.2667,
          31.61738727,
          31.6196887,
          31.63748457,
          31.63563504,
          31.61709197,
          31.61013778,
          31.61714426,
          31.61147683,
          38.7928333,
          39.6415,
          44.3322,
          33.4506667,
          44.7143
         ],
         "legendgroup": "",
         "lon": [
          -102.0997,
          -102.1068,
          -103.9911103,
          -104.673447,
          -116.2197,
          -103.980808,
          -103.9797423,
          -104.0174897,
          -103.9872129,
          -104.0004432,
          -103.9841374,
          -103.9848418,
          -103.960608,
          -122.7543333,
          -107.4845,
          -115.1751,
          -116.888,
          -114.4203
         ],
         "marker": {
          "color": [
           5,
           5,
           6.427209473,
           6.602783203000001,
           10,
           8.22677002,
           6.350085449,
           7.224157714999999,
           8.625244141,
           8.021105957,
           9.627856445,
           9.229382324,
           6.118713379,
           0.76,
           4.677,
           10,
           12.71,
           10
          ],
          "coloraxis": "coloraxis",
          "symbol": "circle"
         },
         "mode": "markers",
         "name": "",
         "showlegend": false,
         "type": "scattergeo"
        }
       ],
       "frames": [
        {
         "data": [
          {
           "geo": "geo",
           "hovertemplate": "<b>%{hovertext}</b><br><br>day=17<br>latitude=%{lat}<br>longitude=%{lon}<br>depth=%{marker.color}<extra></extra>",
           "hovertext": [
            "16 km N of Midland, Texas",
            "19 km N of Midland, Texas",
            "37 km WSW of Mentone, Texas",
            "21 km NW of Valentine, Texas",
            "Oregon-Idaho border region",
            "37 km WSW of Mentone, Texas",
            "37 km WSW of Mentone, Texas",
            "40 km W of Mentone, Texas",
            "37 km WSW of Mentone, Texas",
            "38 km NNW of Toyah, Texas",
            "37 km NNW of Toyah, Texas",
            "37 km WSW of Mentone, Texas",
            "35 km WSW of Mentone, Texas",
            "2km N of The Geysers, CA",
            "8 km NNW of Chacra, Colorado",
            "southern Idaho",
            "2km WNW of Aguanga, CA",
            "southern Idaho"
           ],
           "lat": [
            32.1441,
            32.17,
            31.6348178,
            30.71228027,
            44.2667,
            31.61738727,
            31.6196887,
            31.63748457,
            31.63563504,
            31.61709197,
            31.61013778,
            31.61714426,
            31.61147683,
            38.7928333,
            39.6415,
            44.3322,
            33.4506667,
            44.7143
           ],
           "legendgroup": "",
           "lon": [
            -102.0997,
            -102.1068,
            -103.9911103,
            -104.673447,
            -116.2197,
            -103.980808,
            -103.9797423,
            -104.0174897,
            -103.9872129,
            -104.0004432,
            -103.9841374,
            -103.9848418,
            -103.960608,
            -122.7543333,
            -107.4845,
            -115.1751,
            -116.888,
            -114.4203
           ],
           "marker": {
            "color": [
             5,
             5,
             6.427209473,
             6.602783203000001,
             10,
             8.22677002,
             6.350085449,
             7.224157714999999,
             8.625244141,
             8.021105957,
             9.627856445,
             9.229382324,
             6.118713379,
             0.76,
             4.677,
             10,
             12.71,
             10
            ],
            "coloraxis": "coloraxis",
            "symbol": "circle"
           },
           "mode": "markers",
           "name": "",
           "showlegend": false,
           "type": "scattergeo"
          }
         ],
         "name": "17"
        },
        {
         "data": [
          {
           "geo": "geo",
           "hovertemplate": "<b>%{hovertext}</b><br><br>day=16<br>latitude=%{lat}<br>longitude=%{lon}<br>depth=%{marker.color}<extra></extra>",
           "hovertext": [
            "21 km NNW of Midland, Texas",
            "22 km NNW of Midland, Texas",
            "5 km SW of Danville, Kansas",
            "western Texas",
            "2km S of Placentia, CA",
            "49km WSW of Ferndale, CA",
            "36 km WSW of Mentone, Texas",
            "37 km NNW of Toyah, Texas",
            "39 km WSW of Mentone, Texas",
            "37 km WSW of Mentone, Texas",
            "37 km WSW of Mentone, Texas",
            "36 km WSW of Mentone, Texas",
            "western Texas",
            "western Texas",
            "37 km WSW of Mentone, Texas",
            "38 km WSW of Mentone, Texas",
            "3 km NE of Ravalli, Montana",
            "18 km NNW of Taylor, Wyoming",
            "18 km NNW of Taylor, Wyoming",
            "17 km NNW of Taylor, Wyoming",
            "17 km NNW of Taylor, Wyoming",
            "18 km NNW of Taylor, Wyoming",
            "3km S of Half Moon Bay, CA",
            "16km SE of Mammoth Lakes, CA",
            "54 km NW of Toyah, Texas",
            "78km ESE of Maneadero, B.C., MX",
            "33 km SE of Malaga, New Mexico"
           ],
           "lat": [
            32.18353271,
            32.19085693,
            37.2552,
            31.67515288,
            33.8498333,
            40.4853333,
            31.61717663,
            31.6073499,
            31.62947111,
            31.63447804,
            31.62852652,
            31.60882457,
            31.61834703,
            31.6365363,
            31.63425093,
            31.6367452,
            47.2961,
            42.214,
            42.2158333,
            42.2126667,
            42.2076667,
            42.2151667,
            37.4401667,
            37.5195,
            31.64293987,
            31.5256667,
            32.00028938
           ],
           "legendgroup": "",
           "lon": [
            -102.1364091,
            -102.1406965,
            -97.9348,
            -104.4075586,
            -117.8655,
            -124.8351667,
            -103.9748891,
            -103.9932696,
            -104.0091105,
            -103.9896289,
            -103.9826069,
            -103.9636898,
            -103.9681694,
            -103.992598,
            -103.9888208,
            -103.9987871,
            -114.1463,
            -111.091,
            -111.0901667,
            -111.091,
            -111.0896667,
            -111.0913333,
            -122.4241667,
            -118.8795,
            -104.2175697,
            -115.78,
            -103.8287224
           ],
           "marker": {
            "color": [
             6.676147461,
             8.241251628,
             5,
             6.697143555000001,
             7.38,
             18.79,
             7.738317870999999,
             8.496704102000002,
             8.123937988,
             5.874487305,
             8.702368164,
             8.650952148,
             5.604553223,
             5.334619141,
             6.620019531,
             6.902807617,
             12.331,
             7.6,
             7.23,
             9.49,
             10.25,
             7.61,
             10.54,
             5.76,
             6.260107422,
             17.2,
             7.725463867
            ],
            "coloraxis": "coloraxis",
            "symbol": "circle"
           },
           "mode": "markers",
           "name": "",
           "showlegend": false,
           "type": "scattergeo"
          }
         ],
         "name": "16"
        },
        {
         "data": [
          {
           "geo": "geo",
           "hovertemplate": "<b>%{hovertext}</b><br><br>day=15<br>latitude=%{lat}<br>longitude=%{lon}<br>depth=%{marker.color}<extra></extra>",
           "hovertext": [
            "western Texas",
            "7km WSW of Big Bear Lake, CA",
            "37 km NNW of Toyah, Texas",
            "24km SE of Blue Lake, CA",
            "7 km WSW of Morton, Washington",
            "western Texas",
            "29 km SE of Mina, Nevada",
            "7 km WSW of Minco, Oklahoma",
            "40 km NW of Toyah, Texas",
            "37 km WNW of Kingston, Nevada",
            "4 km WNW of Terrebonne, Canada",
            "54 km S of Whites City, New Mexico",
            "2km WSW of Anderson Springs, CA",
            "31 km SE of Mina, Nevada",
            null,
            "29 km SSE of Mina, Nevada",
            "56 km S of Whites City, New Mexico",
            "2 km ESE of Ravalli, Montana",
            "36 km NNW of Toyah, Texas",
            "western Texas"
           ],
           "lat": [
            31.62538927,
            34.2301667,
            31.60529881,
            40.7068329,
            46.53266666666666,
            32.28790283,
            38.2014,
            35.28233333,
            31.56097224,
            39.3318,
            45.7212,
            31.68204991,
            38.765,
            38.1836,
            31.60720673,
            38.1533,
            31.66941712,
            47.2691,
            31.60605861,
            31.68068884
           ],
           "legendgroup": "",
           "lon": [
            -104.2768996,
            -116.9858333,
            -103.9881499,
            -123.8079987,
            -122.36866666666668,
            -101.7912776,
            -117.8786,
            -98.01733333,
            -104.1038136,
            -117.4792,
            -73.6966,
            -104.4070829,
            -122.7143333,
            -117.8566,
            -103.9666414,
            -117.9446,
            -104.4061606,
            -114.1547,
            -103.9663674,
            -104.4043787
           ],
           "marker": {
            "color": [
             7.057055663999999,
             8,
             10.37338867,
             20.26,
             20.61,
             9.757446289,
             8.2,
             7.9,
             7.057055663999999,
             9.2,
             7.952,
             6.234399414,
             1.69,
             7.5,
             8.625244141,
             9.8,
             6.671435547,
             10,
             8.856616211,
             6.542895508
            ],
            "coloraxis": "coloraxis",
            "symbol": "circle"
           },
           "mode": "markers",
           "name": "",
           "showlegend": false,
           "type": "scattergeo"
          }
         ],
         "name": "15"
        },
        {
         "data": [
          {
           "geo": "geo",
           "hovertemplate": "<b>%{hovertext}</b><br><br>day=14<br>latitude=%{lat}<br>longitude=%{lon}<br>depth=%{marker.color}<extra></extra>",
           "hovertext": [
            "6 km WNW of Packwood, Washington",
            "51 km S of Whites City, New Mexico",
            "36 km WSW of Mentone, Texas",
            "36 km WSW of Mentone, Texas",
            "52 km S of Whites City, New Mexico",
            "36 km WSW of Mentone, Texas",
            "36 km NNW of Toyah, Texas",
            "30 km NW of Toyah, Texas",
            "16km NW of Pinnacles, CA",
            "6km NW of The Geysers, CA",
            "6km NNW of The Geysers, CA",
            "4 km SSW of Maynard, Arkansas",
            "Wyoming",
            "21 km NW of Stanton, Texas",
            "22 km NW of Stanley, Idaho",
            "6 km SE of Floriston, California",
            "13km NNW of Grapevine, CA",
            "19 km NW of Stanton, Texas",
            "4 km SE of Dover, Oklahoma",
            "34 km SE of Malaga, New Mexico"
           ],
           "lat": [
            46.62416666666667,
            31.71619236,
            31.60779679,
            31.60745084,
            31.71229338,
            31.6105518,
            31.60232659,
            31.51443023,
            36.6455002,
            38.8171667,
            38.82,
            36.3831666666667,
            44.7905,
            32.27325439,
            44.359,
            39.353,
            35.0453333,
            32.26593018,
            35.95033333,
            32.00364424
           ],
           "legendgroup": "",
           "lon": [
            -121.75633333333332,
            -104.2708664,
            -103.9616681,
            -103.9620701,
            -104.2694902,
            -103.9624869,
            -103.9835641,
            -104.0170221,
            -121.2623367,
            -122.7993333,
            -122.793,
            -90.9101666666667,
            -110.8218333,
            -101.9349038,
            -115.1372,
            -119.9641,
            -118.9916667,
            -101.9177544,
            -97.874,
            -103.8175224
           ],
           "marker": {
            "color": [
             12.68,
             6.979931641,
             7.841149902,
             8.239624022999998,
             7.005639647999999,
             7.147033691,
             9.936352539,
             3.972094727,
             4.91,
             3.39,
             2.92,
             11.55,
             7.63,
             7.898885091,
             10,
             7.3,
             13.1,
             8.681437174,
             7.32,
             8.535266113
            ],
            "coloraxis": "coloraxis",
            "symbol": "circle"
           },
           "mode": "markers",
           "name": "",
           "showlegend": false,
           "type": "scattergeo"
          }
         ],
         "name": "14"
        },
        {
         "data": [
          {
           "geo": "geo",
           "hovertemplate": "<b>%{hovertext}</b><br><br>day=13<br>latitude=%{lat}<br>longitude=%{lon}<br>depth=%{marker.color}<extra></extra>",
           "hovertext": [
            "10km NW of Pinnacles, CA",
            "4 km E of Lake Marcel-Stillwater, Washington",
            "8 km WSW of Minco, Oklahoma",
            "4 km SSW of Mooringsport, Louisiana",
            "54 km S of Whites City, New Mexico",
            "41 km NW of Toyah, Texas",
            "41 km NW of Toyah, Texas",
            "54 km NW of Toyah, Texas",
            "54 km NW of Toyah, Texas",
            "8 km NNE of Airway Heights, Washington",
            "8 km WSW of Hunnewell, Kansas",
            "4 km SE of Dover, Oklahoma",
            "22 km SSW of Mammoth, Wyoming",
            "48km ENE of Maneadero, B.C., MX"
           ],
           "lat": [
            36.6046667,
            47.687333333333335,
            35.27616667,
            32.6524,
            31.68403456,
            31.56471977,
            31.56818731,
            31.65098384,
            31.64823732,
            47.709,
            36.98083333,
            35.95316667,
            44.7846667,
            31.8176667
           ],
           "legendgroup": "",
           "lon": [
            -121.2093333,
            -121.859,
            -98.02616667,
            -93.9825,
            -104.3844888,
            -104.1141859,
            -104.1093671,
            -104.2173573,
            -104.2151853,
            -117.53916666666667,
            -97.49333333,
            -97.87283333,
            -110.8053333,
            -116.0706667
           ],
           "marker": {
            "color": [
             8.88,
             25.66,
             7.73,
             5,
             7.416967772999999,
             6.812829589999999,
             7.04420166,
             6.851391602,
             8.033959961,
             -0.68,
             6.18,
             5.7,
             11.68,
             18.12
            ],
            "coloraxis": "coloraxis",
            "symbol": "circle"
           },
           "mode": "markers",
           "name": "",
           "showlegend": false,
           "type": "scattergeo"
          }
         ],
         "name": "13"
        },
        {
         "data": [
          {
           "geo": "geo",
           "hovertemplate": "<b>%{hovertext}</b><br><br>day=12<br>latitude=%{lat}<br>longitude=%{lon}<br>depth=%{marker.color}<extra></extra>",
           "hovertext": [
            "11km WNW of Cobb, CA",
            "13 km WSW of Norwich, Kansas",
            "38 km WSW of Mentone, Texas",
            "2km NNE of Petrolia, CA",
            "3km SSW of San Juan Bautista, CA",
            "14 km WNW of Stanley, Idaho",
            "7 km SW of Corinne, Utah",
            "3km W of Walker, CA",
            "78km ESE of Maneadero, B.C., MX",
            "45 km NE of Dubois, Wyoming",
            "31 km SE of Mina, Nevada",
            "2km SSW of Alamo, CA",
            "16 km NE of Jal, New Mexico",
            "4 km SSE of Dover, Oklahoma",
            "42 km NW of Toyah, Texas",
            "9km SE of Talmage, CA",
            "13km NNW of Grapevine, CA",
            "56 km NW of Toyah, Texas",
            "2km ENE of Carson, CA",
            "5km NE of Walker, CA"
           ],
           "lat": [
            38.8615,
            37.4216,
            31.62378864,
            40.342,
            36.8175,
            44.2666,
            41.5125,
            38.5111667,
            31.5266667,
            43.829,
            38.1878,
            37.8308333,
            32.22198486,
            35.94266667,
            31.55597654,
            39.0688333,
            35.0486667,
            31.65225681,
            33.8378333,
            38.5498333
           ],
           "legendgroup": "",
           "lon": [
            -122.8348333,
            -97.994,
            -103.9907903,
            -124.2786667,
            -121.5528333,
            -115.1032,
            -112.1813333,
            -119.5185,
            -115.7781667,
            -109.2413,
            -117.8543,
            -122.0476667,
            -103.0796256,
            -97.88483333,
            -104.1427634,
            -123.0976667,
            -118.9958333,
            -104.2378177,
            -118.2661667,
            -119.4411667
           ],
           "marker": {
            "color": [
             1.13,
             5,
             6.941369629000001,
             27.35,
             6.37,
             10,
             10.07,
             4.48,
             17.69,
             9.122,
             6.2,
             9.69,
             6.871785482,
             6.6,
             7.596923828000001,
             5.41,
             12.27,
             7.57121582,
             10.75,
             7.27
            ],
            "coloraxis": "coloraxis",
            "symbol": "circle"
           },
           "mode": "markers",
           "name": "",
           "showlegend": false,
           "type": "scattergeo"
          }
         ],
         "name": "12"
        },
        {
         "data": [
          {
           "geo": "geo",
           "hovertemplate": "<b>%{hovertext}</b><br><br>day=11<br>latitude=%{lat}<br>longitude=%{lon}<br>depth=%{marker.color}<extra></extra>",
           "hovertext": [
            "5 km SW of Luis Lopez, New Mexico",
            "Nevada",
            "8 km SW of Danville, Kansas",
            "54 km S of Whites City, New Mexico",
            "55 km S of Whites City, New Mexico",
            "17km ESE of Little Lake, CA",
            "15km W of Searles Valley, CA",
            "8 km S of Manila, Arkansas",
            "5 km SE of Tiptonville, Tennessee",
            "western Texas",
            "25km WNW of Petrolia, CA",
            "18 km E of Smiley, Texas",
            "26km WNW of Petrolia, CA",
            "103km SE of Estacion Coahuila, B.C., MX",
            "6km SE of Viola, CA",
            "23 km SSE of Golfo de Santa Clara, Mexico",
            "101km SE of Estacion Coahuila, B.C., MX"
           ],
           "lat": [
            33.9448,
            38.1822,
            37.2318,
            31.68585561,
            31.67115978,
            35.8905,
            35.7415,
            35.8008333,
            36.3435,
            31.10995141,
            40.3751667,
            29.2666626,
            40.3725,
            31.4663333,
            40.4825,
            31.5071,
            31.4701667
           ],
           "legendgroup": "",
           "lon": [
            -106.9222,
            -117.8737,
            -97.9554,
            -104.3871969,
            -104.3854515,
            -117.7288333,
            -117.5666667,
            -90.1481667,
            -89.433,
            -103.2439976,
            -124.5743333,
            -97.44175092,
            -124.5798333,
            -114.3305,
            -121.619,
            -114.3592,
            -114.3495
           ],
           "marker": {
            "color": [
             8.916,
             8.9,
             10,
             6.080151367,
             6.594311523,
             2.73,
             3.56,
             6.03,
             4.38,
             2.738110352,
             24.87,
             3.839396159,
             24.08,
             5.97,
             16.83,
             22.083,
             5.97
            ],
            "coloraxis": "coloraxis",
            "symbol": "circle"
           },
           "mode": "markers",
           "name": "",
           "showlegend": false,
           "type": "scattergeo"
          }
         ],
         "name": "11"
        },
        {
         "data": [
          {
           "geo": "geo",
           "hovertemplate": "<b>%{hovertext}</b><br><br>day=10<br>latitude=%{lat}<br>longitude=%{lon}<br>depth=%{marker.color}<extra></extra>",
           "hovertext": [
            "46 km NW of Toyah, Texas",
            "3 km ENE of Crescent, Oklahoma",
            "63 km SSW of Whites City, New Mexico",
            "33 km WSW of Las Brisas, Mexico",
            "15 km NW of Shiner, Texas",
            "9km SSW of Cape Vizcaino, CA",
            "58 km NW of Toyah, Texas",
            "10 km W of Lamont, Oklahoma",
            "49 km ENE of Fort Bidwell, California",
            "50 km ENE of Fort Bidwell, California",
            "1 km ESE of Medicine Park, Oklahoma",
            "2km SW of Cobb, CA",
            "58 km WNW of Toyah, Texas",
            "39 km NNE of Nixon, Nevada",
            "41 km NNE of Nixon, Nevada",
            "6 km SE of Floriston, California",
            "56 km S of Whites City, New Mexico",
            "12km ENE of Ridgecrest, CA"
           ],
           "lat": [
            31.62202289,
            35.96983333,
            31.62072795,
            30.8003,
            29.5211792,
            39.6556667,
            31.61581119,
            36.69633333,
            42.0116,
            42.0161,
            34.72283333,
            38.8085,
            31.61005255,
            40.1488,
            40.1662,
            39.3511,
            31.66574382,
            35.6735
           ],
           "legendgroup": "",
           "lon": [
            -104.1213858,
            -97.56066667,
            -104.5326923,
            -116.4632,
            -97.29078585,
            -123.8715,
            -104.3045324,
            -97.67366667,
            -119.5905,
            -119.585,
            -98.48466667,
            -122.735,
            -104.3069072,
            -119.1397,
            -119.1438,
            -119.9712,
            -104.3697934,
            -117.5615
           ],
           "marker": {
            "color": [
             6.131567383,
             19.17,
             6.671435547,
             10,
             3.986124674,
             4.62,
             4.717626953,
             5,
             5,
             5,
             20.94,
             2.41,
             7.57121582,
             8.2,
             13,
             7.2,
             7.519799805,
             7.9
            ],
            "coloraxis": "coloraxis",
            "symbol": "circle"
           },
           "mode": "markers",
           "name": "",
           "showlegend": false,
           "type": "scattergeo"
          }
         ],
         "name": "10"
        },
        {
         "data": [
          {
           "geo": "geo",
           "hovertemplate": "<b>%{hovertext}</b><br><br>day=9<br>latitude=%{lat}<br>longitude=%{lon}<br>depth=%{marker.color}<extra></extra>",
           "hovertext": [
            null,
            "79 km N of Rachel, Nevada",
            "Arizona",
            "12km NNW of Ocotillo, CA",
            "4km NW of The Geysers, CA",
            "120km ESE of Maneadero, B.C., MX",
            "84km ESE of Maneadero, B.C., MX",
            "9 km S of Dibble, Oklahoma",
            "41 km NNE of Nixon, Nevada",
            "61 km ENE of San Vicente, Mexico",
            "56 km S of Whites City, New Mexico",
            "14km SSW of Searles Valley, CA",
            "2 km N of Farragut, Tennessee",
            "62 km S of Whites City, New Mexico",
            "55 km S of Whites City, New Mexico",
            "55 km NW of Toyah, Texas",
            "western Texas",
            "31km WNW of Crescent City, CA",
            "58 km S of Whites City, New Mexico"
           ],
           "lat": [
            31.68127027,
            38.3553,
            35.4039,
            32.8348333,
            38.8013333,
            31.124,
            31.5633333,
            34.944,
            40.1633,
            31.5097,
            31.6719487,
            35.6578333,
            35.9038333,
            31.61075916,
            31.67521613,
            31.64190362,
            31.62485567,
            41.8303333,
            31.6546837
           ],
           "legendgroup": "",
           "lon": [
            -104.3855411,
            -115.8331,
            -113.6811,
            -116.0415,
            -122.7863333,
            -115.5058333,
            -115.6926667,
            -97.62583333,
            -119.1358,
            -115.6351,
            -104.2722782,
            -117.4841667,
            -84.155,
            -104.3798065,
            -104.3978691,
            -104.2401641,
            -104.3672863,
            -124.566,
            -104.298115
           ],
           "marker": {
            "color": [
             6.491479492,
             11.2,
             15.59,
             10.3,
             -0.05,
             5.61,
             4.02,
             10.88,
             8,
             18.894,
             2.031140137,
             4.94,
             8.07,
             6.157275391,
             7.159887695,
             7.596923828000001,
             7.93112793,
             18.99,
             7.57121582
            ],
            "coloraxis": "coloraxis",
            "symbol": "circle"
           },
           "mode": "markers",
           "name": "",
           "showlegend": false,
           "type": "scattergeo"
          }
         ],
         "name": "9"
        },
        {
         "data": [
          {
           "geo": "geo",
           "hovertemplate": "<b>%{hovertext}</b><br><br>day=8<br>latitude=%{lat}<br>longitude=%{lon}<br>depth=%{marker.color}<extra></extra>",
           "hovertext": [
            "4km ESE of Aromas, CA",
            "48 km W of Mentone, Texas",
            "50 km ENE of Fort Bidwell, California",
            "31 km NW of Toyah, Texas",
            "36 km WSW of Mentone, Texas",
            "38 km NNW of Toyah, Texas",
            "50 km ENE of Fort Bidwell, California",
            "0 km S of Laurel Park, North Carolina",
            "10km ESE of Loyalton, CA",
            "13km SE of Bodfish, CA",
            "55 km S of Whites City, New Mexico",
            "12km WSW of Petrolia, CA",
            "15km WSW of Loyalton, CA",
            "16km WNW of Lake Pillsbury, CA",
            "40 km NNE of Nixon, Nevada",
            "56 km S of Whites City, New Mexico",
            "41 km NNE of Nixon, Nevada",
            "86km E of Maneadero, B.C., MX",
            "55 km NW of Toyah, Texas",
            "Oklahoma",
            "42 km NW of Toyah, Texas"
           ],
           "lat": [
            36.873,
            31.73456842,
            41.976,
            31.51047843,
            31.61420308,
            31.61894129,
            41.9601,
            35.3063333333333,
            39.631,
            35.5033333,
            31.6716,
            40.2838333,
            39.6085,
            39.4851667,
            40.1563,
            31.66201297,
            40.172,
            31.5643333,
            31.60772098,
            35.93616667,
            31.53961864
           ],
           "legendgroup": "",
           "lon": [
            -121.6036667,
            -104.1073856,
            -119.5586,
            -104.0296311,
            -103.9705722,
            -103.9972239,
            -119.5579,
            -82.4926666666667,
            -120.1395,
            -118.393,
            -104.3605,
            -124.4176667,
            -120.3948333,
            -123.115,
            -119.1389,
            -104.3783731,
            -119.148,
            -115.6708333,
            -104.2721914,
            -97.89883333,
            -104.1520685
           ],
           "marker": {
            "color": [
             4.73,
             7.301281738,
             0,
             2.146826172,
             8.535266113,
             8.715222168,
             0,
             1.53,
             -1.24,
             4.85,
             7.599,
             8.5,
             -1.58,
             3.83,
             7,
             6.697143555000001,
             8.3,
             0.74,
             7.288427734,
             5.66,
             7.725463867
            ],
            "coloraxis": "coloraxis",
            "symbol": "circle"
           },
           "mode": "markers",
           "name": "",
           "showlegend": false,
           "type": "scattergeo"
          }
         ],
         "name": "8"
        },
        {
         "data": [
          {
           "geo": "geo",
           "hovertemplate": "<b>%{hovertext}</b><br><br>day=7<br>latitude=%{lat}<br>longitude=%{lon}<br>depth=%{marker.color}<extra></extra>",
           "hovertext": [
            "8km ESE of Running Springs, CA",
            "11 km SSW of Lawrence, Nebraska",
            "9 km SW of Minco, Oklahoma",
            "13km SE of Bodfish, CA",
            "81 km N of Rachel, Nevada",
            "54 km W of Mentone, Texas",
            "22km NE of Little Lake, CA",
            "21km ENE of Little Lake, CA",
            "4km W of Walker, CA",
            "5km E of Covelo, CA",
            "3km WNW of Walker, CA",
            "58 km S of Whites City, New Mexico",
            "12km SSE of San Clemente Is. (SE tip), CA",
            null,
            "8 km WSW of Waynoka, Oklahoma",
            "86km E of Maneadero, B.C., MX",
            "78km ESE of Maneadero, B.C., MX",
            "84km ESE of Maneadero, B.C., MX",
            "83km ESE of Maneadero, B.C., MX",
            "76km ESE of Maneadero, B.C., MX",
            "24 km NW of Stanley, Idaho",
            "16km WNW of Lake Pillsbury, CA",
            "4 km SSE of Dover, Oklahoma",
            "4km WSW of Colma, CA",
            "23km E of Julian, CA",
            "4 km SSE of Dover, Oklahoma",
            "16 km ESE of Lacomb, Oregon"
           ],
           "lat": [
            34.1771667,
            40.1934,
            35.2575,
            35.5086667,
            38.3737,
            31.71277945,
            36.0448333,
            36.0406667,
            38.5181667,
            39.7935,
            38.5203333,
            31.65135131,
            32.727,
            43.0277,
            36.53883333,
            31.5623333,
            31.509,
            31.5571667,
            31.5536667,
            31.5138333,
            44.3722,
            39.4828333,
            35.94366667,
            37.663,
            33.0413333,
            35.94133333,
            44.540333333333336
           ],
           "legendgroup": "",
           "lon": [
            -117.032,
            -98.3011,
            -98.02716667,
            -118.3915,
            -115.8032,
            -104.1747099,
            -117.708,
            -117.7101667,
            -119.5206667,
            -123.1898333,
            -119.5126667,
            -104.3180018,
            -118.2761667,
            -111.593,
            -98.96366667,
            -115.6716667,
            -115.782,
            -115.6993333,
            -115.7113333,
            -115.7966667,
            -115.1574,
            -123.1165,
            -97.88416667,
            -122.4965,
            -116.3546667,
            -97.89133333,
            -122.55083333333332
           ],
           "marker": {
            "color": [
             7.42,
             5,
             6.75,
             5.07,
             3.1,
             7.879711914,
             1.79,
             1.8,
             4.61,
             5.85,
             4.55,
             7.468383789,
             5.85,
             10,
             6.64,
             0.39,
             21.56,
             7.04,
             8.36,
             19.58,
             10,
             5.64,
             6.34,
             5.41,
             11.79,
             6.23,
             13.17
            ],
            "coloraxis": "coloraxis",
            "symbol": "circle"
           },
           "mode": "markers",
           "name": "",
           "showlegend": false,
           "type": "scattergeo"
          }
         ],
         "name": "7"
        },
        {
         "data": [
          {
           "geo": "geo",
           "hovertemplate": "<b>%{hovertext}</b><br><br>day=6<br>latitude=%{lat}<br>longitude=%{lon}<br>depth=%{marker.color}<extra></extra>",
           "hovertext": [
            "Oklahoma",
            "9 km NW of Pocasset, Oklahoma",
            "50 km SSE of Whites City, New Mexico",
            "50 km ENE of Fort Bidwell, California",
            "8km WSW of Muir Beach, CA",
            "Oklahoma",
            "48 km W of Mentone, Texas",
            "9km SSW of Kettleman City, CA",
            "2 km ENE of Wardville, Oklahoma",
            "8 km WSW of Waynoka, Oklahoma",
            "3 km ESE of Colorado City, Arizona",
            "4 km SSE of Dover, Oklahoma",
            null,
            "47 km W of Mentone, Texas",
            "48 km W of Mentone, Texas",
            "4 km SSE of Dover, Oklahoma",
            "51km ESE of Maneadero, B.C., MX",
            "4 km SSE of Dover, Oklahoma",
            "4km SSW of Niland, CA",
            "5km SSW of Niland, CA",
            "4 km SSE of Dover, Oklahoma",
            "58km SSW of Estacion Coahuila, B.C., MX",
            "18 km NE of Silver Peak, Nevada",
            "4km SE of Loma Linda, CA",
            "4 km SSE of Dover, Oklahoma"
           ],
           "lat": [
            34.949,
            35.2555,
            31.73767798,
            41.9732,
            37.827,
            35.25916667,
            31.73638956,
            35.9356667,
            34.66583333,
            36.54016667,
            36.9838333,
            35.94133333,
            31.73369112,
            31.73564266,
            31.73468275,
            35.9455,
            31.621,
            35.94183333,
            33.2083333,
            33.2041667,
            35.9415,
            31.6836667,
            37.8699,
            34.0243333,
            35.94016667
           ],
           "legendgroup": "",
           "lon": [
            -97.61983333,
            -98.0275,
            -104.2497523,
            -119.5587,
            -122.6663333,
            -98.02416667,
            -104.1114364,
            -120.0126667,
            -96.0045,
            -98.96333333,
            -112.9426667,
            -97.89,
            -104.0974151,
            -104.0978304,
            -104.1075209,
            -97.8955,
            -116.0356667,
            -97.8895,
            -115.5425,
            -115.5441667,
            -97.891,
            -115.152,
            -117.4765,
            -117.2246667,
            -97.89166667
           ],
           "marker": {
            "color": [
             7,
             7.38,
             7.057055663999999,
             0,
             4.21,
             6.25,
             6.941369629000001,
             9.46,
             23.54,
             6.7,
             16.48,
             6.3,
             7.738317870999999,
             7.159887695,
             7.674047852000001,
             4.03,
             4.8,
             6.26,
             6.99,
             5.8,
             5.52,
             5.84,
             0.3,
             11.33,
             5.47
            ],
            "coloraxis": "coloraxis",
            "symbol": "circle"
           },
           "mode": "markers",
           "name": "",
           "showlegend": false,
           "type": "scattergeo"
          }
         ],
         "name": "6"
        },
        {
         "data": [
          {
           "geo": "geo",
           "hovertemplate": "<b>%{hovertext}</b><br><br>day=5<br>latitude=%{lat}<br>longitude=%{lon}<br>depth=%{marker.color}<extra></extra>",
           "hovertext": [
            "13km ESE of Alum Rock, CA",
            "4 km SW of Madison, Missouri",
            "48 km W of Mentone, Texas",
            "48 km W of Mentone, Texas",
            "20 km SSE of Harrison, Montana",
            "4 km SSW of Welcome Beach, Canada",
            "37 km WSW of Mentone, Texas",
            "7km N of Round Valley, CA",
            "10km SW of Kettleman City, CA",
            "0km E of Carson, CA",
            "14km NW of Pinnacles, CA",
            "10 km N of Van Buren, Missouri",
            "16km SSW of Searles Valley, CA",
            "3 km SE of Falls City, Texas",
            "55 km S of Whites City, New Mexico",
            "25 km NNW of Challis, Idaho",
            "56 km NE of McGill, Nevada",
            "19 km SSE of Alamo, Nevada",
            "4 km N of Three Rivers, Texas",
            "19km SSW of Mariposa, CA",
            "34 km ESE of West Yellowstone, Montana"
           ],
           "lat": [
            37.3258333,
            39.4441666666667,
            31.73477526,
            31.73201662,
            45.5361,
            49.44166666666667,
            31.61394824,
            37.4771667,
            35.9336667,
            33.8315,
            36.629,
            37.0878333,
            35.647,
            28.96087646,
            31.6791131,
            44.7014,
            39.6975,
            37.2028,
            28.50402832,
            37.3278333,
            44.5963333
           ],
           "legendgroup": "",
           "lon": [
            -121.6876667,
            -92.2526666666667,
            -104.1127735,
            -104.1130264,
            -111.6669,
            -123.923,
            -103.9783716,
            -118.6121667,
            -120.026,
            -118.2781667,
            -121.2515,
            -91.0195,
            -117.4993333,
            -97.99804688,
            -104.4339741,
            -114.4027,
            -114.244,
            -115.0807,
            -98.17486213,
            -120.0411667,
            -110.6826667
           ],
           "marker": {
            "color": [
             8.21,
             1.37,
             6.504333496,
             6.632873535,
             9.55,
             64.35,
             8.278186035,
             8.43,
             7.93,
             11.22,
             9.46,
             8.1,
             7.95,
             4.524129232,
             5.977319336,
             10,
             13.19,
             9.8,
             6.602783203000001,
             19.55,
             7.56
            ],
            "coloraxis": "coloraxis",
            "symbol": "circle"
           },
           "mode": "markers",
           "name": "",
           "showlegend": false,
           "type": "scattergeo"
          }
         ],
         "name": "5"
        },
        {
         "data": [
          {
           "geo": "geo",
           "hovertemplate": "<b>%{hovertext}</b><br><br>day=4<br>latitude=%{lat}<br>longitude=%{lon}<br>depth=%{marker.color}<extra></extra>",
           "hovertext": [
            "56 km NW of Toyah, Texas",
            "48 km ENE of Fort Bidwell, California",
            "57 km NW of Toyah, Texas",
            "50 km ENE of Fort Bidwell, California",
            "5km NNE of Diablo, CA",
            "6km WNW of Cobb, CA",
            "6km W of Cobb, CA",
            "6 km ENE of Lima, Montana",
            "28km NE of Oakhurst, CA",
            "82 km SSW of Bahía de Kino, Mexico",
            "3 km SE of Falls City, Texas",
            "3 km SE of Falls City, Texas",
            "7km WNW of Cobb, CA",
            "11 km W of Stanley, Idaho",
            "5km WSW of Delta, B.C., MX"
           ],
           "lat": [
            31.61668416,
            42.0062,
            31.66602425,
            41.9805,
            37.8783333,
            38.8333333,
            38.8331667,
            44.6548,
            37.4886667,
            28.1573,
            28.96179199,
            28.96362305,
            38.8363333,
            44.2065,
            32.3381667
           ],
           "legendgroup": "",
           "lon": [
            -104.2719908,
            -119.6011,
            -104.2416858,
            -119.5624,
            -121.9458333,
            -122.795,
            -122.7961667,
            -112.5143,
            -119.4043333,
            -112.3106,
            -97.98874081,
            -97.99494485,
            -122.8013333,
            -115.0782,
            -115.2443333
           ],
           "marker": {
            "color": [
             7.314135742,
             5,
             6.388647461,
             15.23,
             16.47,
             1.26,
             2.47,
             10.613,
             21.94,
             10,
             2.494384766,
             6.94514974,
             1.81,
             10,
             2.83
            ],
            "coloraxis": "coloraxis",
            "symbol": "circle"
           },
           "mode": "markers",
           "name": "",
           "showlegend": false,
           "type": "scattergeo"
          }
         ],
         "name": "4"
        },
        {
         "data": [
          {
           "geo": "geo",
           "hovertemplate": "<b>%{hovertext}</b><br><br>day=3<br>latitude=%{lat}<br>longitude=%{lon}<br>depth=%{marker.color}<extra></extra>",
           "hovertext": [
            "35 km WSW of Mentone, Texas",
            "western Texas",
            "western Texas",
            "66 km SSW of Whites City, New Mexico",
            "34 km NW of Stanley, Idaho",
            "64 km SSW of Whites City, New Mexico",
            "1 km WNW of Falls City, Texas",
            "Baja California, Mexico",
            "79km ESE of Maneadero, B.C., MX",
            "85km ESE of Maneadero, B.C., MX",
            "9km NE of Alum Rock, CA",
            "20 km WSW of Coyanosa, Texas",
            "47 km W of Mentone, Texas",
            "4 km SSE of Dover, Oklahoma",
            "4km W of Banning, CA",
            null,
            "55 km S of Whites City, New Mexico",
            "western Texas",
            "5km ESE of Yorba Linda, CA",
            "26km WSW of Westmorland, CA",
            "36 km NNW of Toyah, Texas",
            "30 km SSW of Los Ybanez, Texas",
            "6 km E of Bluff City, Kansas"
           ],
           "lat": [
            31.60609038,
            31.61431841,
            31.6097471,
            31.59215386,
            44.4663,
            31.6093688,
            28.98834229,
            31.1645,
            31.5301667,
            31.5638333,
            37.43,
            31.16813827,
            31.73795177,
            35.9395,
            33.9246667,
            40.8273,
            31.67691285,
            31.67862959,
            33.8696667,
            32.9686667,
            31.59933663,
            32.46276855,
            37.0707
           ],
           "legendgroup": "",
           "lon": [
            -103.956147,
            -104.5293976,
            -103.9626179,
            -104.5431518,
            -115.1982,
            -104.5457539,
            -98.03527114,
            -116.7047,
            -115.7598333,
            -115.6906667,
            -121.7728333,
            -103.264417,
            -104.0951503,
            -97.89266667,
            -116.9215,
            -117.0879,
            -104.4194181,
            -104.4030142,
            -117.7646667,
            -115.8898333,
            -103.9843573,
            -102.0410156,
            -97.7981
           ],
           "marker": {
            "color": [
             8.445288086,
             6.157275391,
             7.828295898,
             7.288427734,
             10,
             7.365551758,
             2.469930013,
             10,
             16.86,
             1.67,
             8.78,
             1.118505859,
             7.725463867,
             6.37,
             7.62,
             7.9,
             7.159887695,
             7.905419922,
             4.27,
             11.76,
             7.442675781,
             9.048258464,
             5
            ],
            "coloraxis": "coloraxis",
            "symbol": "circle"
           },
           "mode": "markers",
           "name": "",
           "showlegend": false,
           "type": "scattergeo"
          }
         ],
         "name": "3"
        },
        {
         "data": [
          {
           "geo": "geo",
           "hovertemplate": "<b>%{hovertext}</b><br><br>day=2<br>latitude=%{lat}<br>longitude=%{lon}<br>depth=%{marker.color}<extra></extra>",
           "hovertext": [
            "36 km WSW of Mentone, Texas",
            "36 km WSW of Mentone, Texas",
            "20km NE of San Lucas, CA",
            "55 km S of Whites City, New Mexico",
            "36 km NW of Toyah, Texas",
            "36 km WSW of Mentone, Texas",
            "35 km SSW of Los Ybanez, Texas",
            "5km WSW of Ojai, CA",
            "4km WSW of Big Pine, CA",
            "6km E of Round Valley, CA",
            "38km SSE of San Clemente Is. (SE tip), CA",
            "western Texas",
            "7 km SSW of South Flat, Wyoming",
            "12 km SSE of Lincolnville, Kansas",
            "Utah",
            "Kansas",
            "14km E of Seven Trees, CA",
            "45 km SSW of Valentine, Texas",
            "11 km S of Virden, New Mexico",
            "15 km S of Virden, New Mexico",
            "11km S of Tres Pinos, CA",
            "15 km W of Pistol River, Oregon",
            "4 km SSE of Dover, Oklahoma",
            "4 km SSE of Dover, Oklahoma",
            "4 km SSE of Dover, Oklahoma"
           ],
           "lat": [
            31.62728579,
            31.630724,
            36.249,
            31.67545477,
            31.56717435,
            31.61385453,
            32.4307251,
            34.4301667,
            37.1563333,
            37.4156667,
            32.5355,
            31.61903434,
            43.8693,
            38.3953,
            41.5028333,
            38.4013,
            37.3086662,
            30.2041626,
            32.5882,
            32.5442,
            36.6871667,
            42.27166666666667,
            35.94033333,
            35.93916667,
            35.94183333
           ],
           "legendgroup": "",
           "lon": [
            -103.9754721,
            -103.9781778,
            -120.8478333,
            -104.4312481,
            -104.0468534,
            -103.9717811,
            -102.0742426,
            -119.2921667,
            -118.338,
            -118.5341667,
            -118.1305,
            -104.0946022,
            -108.0343,
            -96.8794,
            -112.1756667,
            -96.8417,
            -121.677002,
            -104.6552258,
            -109.023,
            -109.0157,
            -121.3175,
            -124.57966666666668,
            -97.89583333,
            -97.8935,
            -97.89383333
           ],
           "marker": {
            "color": [
             5.038977051,
             4.987561035,
             8.15,
             5.10324707,
             6.645727539,
             8.188208008,
             9.757446289,
             10.61,
             8.17,
             6.4,
             5.96,
             6.658581543,
             5,
             5,
             7.16,
             5,
             7.16,
             0.0244547526,
             5,
             5,
             3.1,
             22.63,
             6.46,
             6.42,
             6.48
            ],
            "coloraxis": "coloraxis",
            "symbol": "circle"
           },
           "mode": "markers",
           "name": "",
           "showlegend": false,
           "type": "scattergeo"
          }
         ],
         "name": "2"
        },
        {
         "data": [
          {
           "geo": "geo",
           "hovertemplate": "<b>%{hovertext}</b><br><br>day=1<br>latitude=%{lat}<br>longitude=%{lon}<br>depth=%{marker.color}<extra></extra>",
           "hovertext": [
            "6km E of Round Valley, CA",
            null,
            "12km NNW of Ocotillo, CA",
            "36 km WSW of Mentone, Texas",
            "New Mexico",
            null,
            "17 km E of Smiley, Texas",
            "Sonora, Mexico",
            "33km NW of Santa Barbara Is., CA",
            null,
            "western Texas",
            "Oklahoma",
            "12 km W of Stanley, Idaho",
            "25 km WNW of Forks, Washington"
           ],
           "lat": [
            37.4171667,
            31.69946955,
            32.8361667,
            31.61479245,
            33.9609,
            33.9689,
            29.25750732,
            27.9226,
            33.7098333,
            44.7488333,
            31.68716188,
            36.69933333,
            44.2125,
            48.06783333333333
           ],
           "legendgroup": "",
           "lon": [
            -118.5338333,
            -104.1708528,
            -116.0403333,
            -103.9658675,
            -106.9294,
            -106.9125,
            -97.46036305,
            -111.8314,
            -119.2718333,
            -111.1135,
            -104.1974227,
            -97.6685,
            -115.0913,
            -124.613
           ],
           "marker": {
            "color": [
             5.97,
             6.131567383,
             10.46,
             6.697143555000001,
             6.264,
             5.594,
             6.089233398,
             10,
             1.88,
             13.58,
             7.802587891,
             7,
             10,
             40.7
            ],
            "coloraxis": "coloraxis",
            "symbol": "circle"
           },
           "mode": "markers",
           "name": "",
           "showlegend": false,
           "type": "scattergeo"
          }
         ],
         "name": "1"
        },
        {
         "data": [
          {
           "geo": "geo",
           "hovertemplate": "<b>%{hovertext}</b><br><br>day=30<br>latitude=%{lat}<br>longitude=%{lon}<br>depth=%{marker.color}<extra></extra>",
           "hovertext": [
            "12km SE of Talmage, CA",
            "36 km NNW of Toyah, Texas",
            "54 km NW of Toyah, Texas",
            "23km WSW of Stovepipe Wells, CA",
            "5 km SE of Ackerly, Texas",
            "21 km E of Smiley, Texas",
            "2km E of Loma Linda, CA",
            "12km WSW of Petrolia, CA"
           ],
           "lat": [
            39.0416667,
            31.60971654,
            31.64266733,
            36.5111667,
            32.49481201,
            29.23736572,
            34.0463333,
            40.274
           ],
           "legendgroup": "",
           "lon": [
            -123.0855,
            -103.9723007,
            -104.2259089,
            -117.3738333,
            -101.6755192,
            -97.47070313,
            -117.2351667,
            -124.414
           ],
           "marker": {
            "color": [
             4.14,
             7.622631836000001,
             8.445288086,
             4.9,
             0.0244547526,
             3.986124674,
             15.17,
             16.85
            ],
            "coloraxis": "coloraxis",
            "symbol": "circle"
           },
           "mode": "markers",
           "name": "",
           "showlegend": false,
           "type": "scattergeo"
          }
         ],
         "name": "30"
        },
        {
         "data": [
          {
           "geo": "geo",
           "hovertemplate": "<b>%{hovertext}</b><br><br>day=29<br>latitude=%{lat}<br>longitude=%{lon}<br>depth=%{marker.color}<extra></extra>",
           "hovertext": [
            "51 km SSW of Whites City, New Mexico",
            "6km ENE of Covelo, CA",
            "55 km S of Whites City, New Mexico",
            "42 km NW of Toyah, Texas",
            "43 km NW of Toyah, Texas",
            "43 km NW of Toyah, Texas",
            "44 km NW of Toyah, Texas",
            "26 km SE of Lindsay, Texas"
           ],
           "lat": [
            31.72856511,
            39.8096667,
            31.67150103,
            31.56357293,
            31.5621748,
            31.56079363,
            31.61152169,
            31.18922903
           ],
           "legendgroup": "",
           "lon": [
            -104.5243923,
            -123.1873333,
            -104.4037571,
            -104.1398534,
            -104.1441462,
            -104.1446752,
            -104.1051839,
            -103.3572672
           ],
           "marker": {
            "color": [
             5.874487305,
             7.75,
             6.851391602,
             6.851391602,
             7.776879883,
             6.851391602,
             6.440063477,
             7.416967772999999
            ],
            "coloraxis": "coloraxis",
            "symbol": "circle"
           },
           "mode": "markers",
           "name": "",
           "showlegend": false,
           "type": "scattergeo"
          }
         ],
         "name": "29"
        },
        {
         "data": [
          {
           "geo": "geo",
           "hovertemplate": "<b>%{hovertext}</b><br><br>day=28<br>latitude=%{lat}<br>longitude=%{lon}<br>depth=%{marker.color}<extra></extra>",
           "hovertext": [
            "6 km E of New Cambria, Kansas",
            "42 km NW of Toyah, Texas",
            "7 km WSW of Minco, Oklahoma",
            "36 km WSW of Mentone, Texas",
            "5 km SE of Ackerly, Texas",
            "16 km ESE of Smiley, Texas",
            "54 km NW of Toyah, Texas",
            "16 km ESE of Smiley, Texas",
            "8 km SE of Amarillo, Texas",
            "12km NNE of Hollister, CA",
            "11km ESE of Mammoth Lakes, CA"
           ],
           "lat": [
            38.8788,
            31.55439337,
            35.28283333,
            31.60928415,
            32.48931885,
            29.23370361,
            31.61084666,
            29.23370361,
            35.16906738,
            36.9416667,
            37.611
           ],
           "legendgroup": "",
           "lon": [
            -97.4298,
            -104.1371084,
            -98.01716667,
            -103.9636918,
            -101.6733756,
            -97.46863511,
            -104.2466622,
            -97.47277114,
            -101.7660757,
            -121.3346667,
            -118.8613333
           ],
           "marker": {
            "color": [
             5,
             6.645727539,
             6.75,
             8.856616211,
             7.556518555000001,
             3.203572591,
             8.548120117,
             3.545939128,
             6.113688151,
             7.04,
             2.54
            ],
            "coloraxis": "coloraxis",
            "symbol": "circle"
           },
           "mode": "markers",
           "name": "",
           "showlegend": false,
           "type": "scattergeo"
          }
         ],
         "name": "28"
        },
        {
         "data": [
          {
           "geo": "geo",
           "hovertemplate": "<b>%{hovertext}</b><br><br>day=27<br>latitude=%{lat}<br>longitude=%{lon}<br>depth=%{marker.color}<extra></extra>",
           "hovertext": [
            "11km E of Ocotillo Wells, CA",
            "54 km S of Whites City, New Mexico",
            "24km W of Petrolia, CA",
            "11km ESE of Mammoth Lakes, CA",
            "7km WSW of Petrolia, CA",
            "14km SSW of Searles Valley, CA",
            "6 km SSE of Catron, Missouri"
           ],
           "lat": [
            33.1608333,
            31.68216525,
            40.3545,
            37.6091667,
            40.3113333,
            35.6548333,
            36.551
           ],
           "legendgroup": "",
           "lon": [
            -116.0193333,
            -104.3893176,
            -124.5653333,
            -118.8613333,
            -124.3686667,
            -117.4845,
            -89.6845
           ],
           "marker": {
            "color": [
             3.29,
             6.080151367,
             25.42,
             2.61,
             28.88,
             2.06,
             9.19
            ],
            "coloraxis": "coloraxis",
            "symbol": "circle"
           },
           "mode": "markers",
           "name": "",
           "showlegend": false,
           "type": "scattergeo"
          }
         ],
         "name": "27"
        },
        {
         "data": [
          {
           "geo": "geo",
           "hovertemplate": "<b>%{hovertext}</b><br><br>day=26<br>latitude=%{lat}<br>longitude=%{lon}<br>depth=%{marker.color}<extra></extra>",
           "hovertext": [
            "54 km S of Whites City, New Mexico",
            "31 km SW of Las Brisas, Mexico",
            "28 km NE of Benton, California",
            "41km NNW of Fort Irwin, CA",
            "40 km NW of Toyah, Texas",
            "10km S of Tres Pinos, CA",
            "49 km NW of Toyah, Texas",
            "16km NW of Pinnacles, CA",
            "16 km NE of Fowlerton, Texas",
            "5 km ESE of Fowlerton, Texas",
            "4 km NNE of Ridgely, Tennessee",
            "11km NW of Anza, CA",
            "11km NW of Anza, CA",
            "6km NW of Walker, CA",
            "14km ESE of Alum Rock, CA"
           ],
           "lat": [
            31.68666321,
            30.7737,
            37.9932,
            35.5861667,
            31.56777641,
            36.7043333,
            31.59041145,
            36.6423333,
            28.58093262,
            28.4463501,
            36.3023333,
            33.6378333,
            33.6383333,
            38.5471667,
            37.3163333
           ],
           "legendgroup": "",
           "lon": [
            -104.4044329,
            -116.4114,
            -118.2341,
            -116.9095,
            -104.097804,
            -121.3368333,
            -104.1986443,
            -121.2633333,
            -98.70013787,
            -98.7611443,
            -89.4693333,
            -116.7423333,
            -116.7436667,
            -119.534,
            -121.6811667
           ],
           "marker": {
            "color": [
             6.028735352,
             10,
             4,
             1.99,
             6.093005371,
             2.81,
             7.416967772999999,
             6.36,
             15.11303711,
             6.627237956,
             6.1,
             13.73,
             13.64,
             4.12,
             7.98
            ],
            "coloraxis": "coloraxis",
            "symbol": "circle"
           },
           "mode": "markers",
           "name": "",
           "showlegend": false,
           "type": "scattergeo"
          }
         ],
         "name": "26"
        },
        {
         "data": [
          {
           "geo": "geo",
           "hovertemplate": "<b>%{hovertext}</b><br><br>day=25<br>latitude=%{lat}<br>longitude=%{lon}<br>depth=%{marker.color}<extra></extra>",
           "hovertext": [
            "18 km NW of Cacouna, Canada",
            "6 km WSW of Minco, Oklahoma",
            "54 km S of Whites City, New Mexico",
            "35 km SSW of Los Ybanez, Texas",
            "13 km WSW of Saint Regis, Montana",
            "0km SSW of View Park-Windsor Hills, CA",
            "3 km WSW of Danville, Kansas",
            "45 km ENE of Tonopah, Nevada",
            "15km E of Seven Trees, CA",
            "15km E of Seven Trees, CA",
            "15km ESE of Alum Rock, CA",
            "2 km NNE of La Luz, New Mexico",
            "Virginia-North Carolina border region",
            "38 km NNW of Toyah, Texas",
            "55 km S of Whites City, New Mexico"
           ],
           "lat": [
            48.0269,
            35.28533333,
            31.68441096,
            32.43255615,
            47.2568,
            33.9923333,
            37.2708,
            38.1701,
            37.3106667,
            37.3056667,
            37.3115,
            33.0002,
            36.5876667,
            31.61366151,
            31.67492506
           ],
           "legendgroup": "",
           "lon": [
            -69.685,
            -98.01083333,
            -104.3974134,
            -102.0742426,
            -115.2674,
            -118.3508333,
            -97.9261,
            -116.7331,
            -121.6751667,
            -121.6731667,
            -121.672,
            -105.9296,
            -81.0625,
            -103.9955853,
            -104.3714882
           ],
           "marker": {
            "color": [
             18.507,
             7.33,
             5.668823242,
             9.268351237,
             10.861,
             9.84,
             10,
             2.1,
             8.05,
             6.66,
             8.38,
             5,
             2.96,
             8.509558105,
             7.622631836000001
            ],
            "coloraxis": "coloraxis",
            "symbol": "circle"
           },
           "mode": "markers",
           "name": "",
           "showlegend": false,
           "type": "scattergeo"
          }
         ],
         "name": "25"
        },
        {
         "data": [
          {
           "geo": "geo",
           "hovertemplate": "<b>%{hovertext}</b><br><br>day=24<br>latitude=%{lat}<br>longitude=%{lon}<br>depth=%{marker.color}<extra></extra>",
           "hovertext": [
            "84km E of Maneadero, B.C., MX",
            "38 km NNW of Toyah, Texas",
            "37 km WSW of Mentone, Texas",
            "39 km NNW of Toyah, Texas",
            null,
            "38 km WSW of Mentone, Texas",
            "western Texas",
            "western Texas",
            "17km NW of Parkfield, CA",
            "5km NE of Westmorland, CA",
            "54 km S of Whites City, New Mexico",
            "34 km W of Las Brisas, Mexico",
            "80 km N of Rachel, Nevada",
            "5km E of Calimesa, CA",
            "21 km NW of Stanley, Idaho",
            "3km NW of The Geysers, CA"
           ],
           "lat": [
            31.57,
            31.61248783,
            31.61348604,
            31.6155766,
            31.62673498,
            31.62399855,
            31.63414005,
            31.71009894,
            36.0043333,
            33.0695,
            31.68670531,
            31.0122,
            38.3674,
            33.9898333,
            44.3233,
            38.7943333
           ],
           "legendgroup": "",
           "lon": [
            -115.694,
            -104.0028423,
            -103.9791765,
            -104.0067572,
            -104.0029099,
            -103.9967096,
            -103.9876096,
            -104.4725011,
            -120.5643333,
            -115.5835,
            -104.3979724,
            -116.5181,
            -115.7972,
            -116.9996667,
            -115.1565,
            -122.779
           ],
           "marker": {
            "color": [
             5.51,
             7.712609863,
             8.509558105,
             7.982543944999999,
             8.483850098,
             6.607165527,
             7.429821777,
             5.051831055,
             4.14,
             11.77,
             6.080151367,
             10,
             6.7,
             15.02,
             10,
             3.35
            ],
            "coloraxis": "coloraxis",
            "symbol": "circle"
           },
           "mode": "markers",
           "name": "",
           "showlegend": false,
           "type": "scattergeo"
          }
         ],
         "name": "24"
        },
        {
         "data": [
          {
           "geo": "geo",
           "hovertemplate": "<b>%{hovertext}</b><br><br>day=23<br>latitude=%{lat}<br>longitude=%{lon}<br>depth=%{marker.color}<extra></extra>",
           "hovertext": [
            "15km E of Seven Trees, CA",
            "5km ESE of Yorba Linda, CA",
            "31 km NW of Toyah, Texas",
            "15km SSW of Searles Valley, CA",
            "55 km S of Whites City, New Mexico",
            "20km N of Ocotillo, CA",
            "31 km SE of Mina, Nevada",
            "53 km SSW of Whites City, New Mexico",
            "3km SSE of Fortuna, CA",
            null,
            "9km ENE of San Martin, CA",
            "23km SSW of La Quinta, CA"
           ],
           "lat": [
            37.2916667,
            33.8758333,
            31.52836424,
            35.6381667,
            31.6797273,
            32.91,
            38.1864,
            31.71635872,
            40.5781667,
            32.78411865,
            37.1215,
            33.4806667
           ],
           "legendgroup": "",
           "lon": [
            -121.6641667,
            -117.7658333,
            -104.0080874,
            -117.4441667,
            -104.4108303,
            -115.9686667,
            -117.8655,
            -104.5581962,
            -124.14,
            -100.6872856,
            -121.5215,
            -116.4261667
           ],
           "marker": {
            "color": [
             5.82,
             4.79,
             6.735705566,
             6.62,
             6.131567383,
             9.87,
             6.3,
             7.828295898,
             28.35,
             2.421020508,
             6.31,
             5.79
            ],
            "coloraxis": "coloraxis",
            "symbol": "circle"
           },
           "mode": "markers",
           "name": "",
           "showlegend": false,
           "type": "scattergeo"
          }
         ],
         "name": "23"
        },
        {
         "data": [
          {
           "geo": "geo",
           "hovertemplate": "<b>%{hovertext}</b><br><br>day=22<br>latitude=%{lat}<br>longitude=%{lon}<br>depth=%{marker.color}<extra></extra>",
           "hovertext": [
            "78 km N of Rachel, Nevada",
            "76 km NNW of Rachel, Nevada",
            "13 km NNW of Miramichi, Canada",
            "37 km WSW of Mentone, Texas",
            "52 km NW of Toyah, Texas",
            "Baja California, Mexico",
            "19km W of Alberto Oviedo Mota, B.C., MX",
            "52 km SSW of Whites City, New Mexico",
            "Baja California, Mexico",
            "40 km NW of Toyah, Texas",
            "7 km SW of Corinne, Utah",
            "57 km SSW of Whites City, New Mexico",
            "6 km SE of Wakita, Oklahoma",
            "22 km ESE of McGill, Nevada",
            "35 km ENE of Austin, Nevada",
            "17 km NE of Austin, Nevada",
            "38 km NE of Austin, Nevada",
            "7km SSW of Muir Beach, CA",
            "5km NNE of Hydesville, CA"
           ],
           "lat": [
            38.3489,
            38.322,
            47.1331,
            31.61543446,
            31.60261979,
            30.9454,
            32.2506667,
            31.72202186,
            30.7839,
            31.5651355,
            41.5098333,
            31.67840454,
            36.83533333,
            39.3107,
            39.6703,
            39.6096,
            39.6995,
            37.8021667,
            40.5906667
           ],
           "legendgroup": "",
           "lon": [
            -115.8266,
            -115.9271,
            -65.603,
            -103.9806647,
            -104.2379952,
            -116.5078,
            -115.369,
            -104.538867,
            -116.3892,
            -104.0973856,
            -112.1785,
            -104.5330249,
            -97.87183333,
            -114.5493,
            -116.7279,
            -116.9273,
            -116.7163,
            -122.608,
            -124.0748333
           ],
           "marker": {
            "color": [
             7.3,
             4.8,
             12.292,
             7.494091797,
             7.314135742,
             10,
             8.44,
             6.234399414,
             10,
             6.131567383,
             7.2,
             6.131567383,
             7.18,
             10,
             15.9,
             12.8,
             9.8,
             4.82,
             24.1
            ],
            "coloraxis": "coloraxis",
            "symbol": "circle"
           },
           "mode": "markers",
           "name": "",
           "showlegend": false,
           "type": "scattergeo"
          }
         ],
         "name": "22"
        },
        {
         "data": [
          {
           "geo": "geo",
           "hovertemplate": "<b>%{hovertext}</b><br><br>day=21<br>latitude=%{lat}<br>longitude=%{lon}<br>depth=%{marker.color}<extra></extra>",
           "hovertext": [
            "29 km NE of Benton, California",
            "80 km N of Rachel, Nevada",
            "52 km SSW of Whites City, New Mexico",
            "western Texas",
            "western Texas",
            "54 km S of Whites City, New Mexico",
            "56 km S of Whites City, New Mexico",
            "8km NW of The Geysers, CA",
            "8km NW of The Geysers, CA"
           ],
           "lat": [
            37.9964,
            38.3662,
            31.72073247,
            31.68212359,
            31.67243422,
            31.6826,
            31.66692993,
            38.8256667,
            38.8333333
           ],
           "legendgroup": "",
           "lon": [
            -118.2278,
            -115.8242,
            -104.5270042,
            -104.3957777,
            -104.4016123,
            -104.419,
            -104.3999478,
            -122.8228333,
            -122.8171667
           ],
           "marker": {
            "color": [
             5.4,
             10.4,
             5.977319336,
             7.416967772999999,
             6.74855957,
             5,
             6.851391602,
             1.28,
             1.39
            ],
            "coloraxis": "coloraxis",
            "symbol": "circle"
           },
           "mode": "markers",
           "name": "",
           "showlegend": false,
           "type": "scattergeo"
          }
         ],
         "name": "21"
        },
        {
         "data": [
          {
           "geo": "geo",
           "hovertemplate": "<b>%{hovertext}</b><br><br>day=20<br>latitude=%{lat}<br>longitude=%{lon}<br>depth=%{marker.color}<extra></extra>",
           "hovertext": [
            "56 km S of Whites City, New Mexico",
            "56 km SSW of Whites City, New Mexico",
            "38 km NNW of Toyah, Texas",
            "30 km NW of Toyah, Texas",
            "10km E of Alum Rock, CA",
            "55 km NW of Toyah, Texas",
            "California-Nevada border region",
            "21km SE of Bodie, CA",
            "18km NW of Belden, CA",
            "54 km NW of Toyah, Texas",
            "100km S of San Clemente Is. (SE tip), CA",
            "36km NE of Redway, CA",
            "western Texas",
            "56 km NW of Toyah, Texas",
            "6km NW of The Geysers, CA",
            "7km NW of The Geysers, CA"
           ],
           "lat": [
            31.67402863,
            31.67866353,
            31.61467777,
            31.52457686,
            37.3605,
            31.64865291,
            38.0721,
            38.0658333,
            40.1221667,
            31.6480198,
            31.9225,
            40.3495,
            31.64319288,
            31.66128988,
            38.816,
            38.8233333
           ],
           "legendgroup": "",
           "lon": [
            -104.2907317,
            -104.4980343,
            -104.0008352,
            -104.00686,
            -121.7188333,
            -104.223799,
            -118.8638,
            -118.8585,
            -121.401,
            -104.212762,
            -118.2288333,
            -123.5185,
            -104.2129973,
            -104.2241581,
            -122.8108333,
            -122.8098333
           ],
           "marker": {
            "color": [
             7.828295898,
             6.080151367,
             9.319360352,
             6.645727539,
             6.42,
             6.131567383,
             12.7,
             10.77,
             14.26,
             7.648339844,
             5.8,
             33.05,
             7.622631836000001,
             8.008251953,
             1.68,
             1.72
            ],
            "coloraxis": "coloraxis",
            "symbol": "circle"
           },
           "mode": "markers",
           "name": "",
           "showlegend": false,
           "type": "scattergeo"
          }
         ],
         "name": "20"
        },
        {
         "data": [
          {
           "geo": "geo",
           "hovertemplate": "<b>%{hovertext}</b><br><br>day=19<br>latitude=%{lat}<br>longitude=%{lon}<br>depth=%{marker.color}<extra></extra>",
           "hovertext": [
            "Western Montana",
            "9km WNW of Templeton, CA",
            "38 km WSW of Mentone, Texas",
            "6km SW of Big Bear Lake, CA",
            "6km NW of The Geysers, CA",
            "6km NW of The Geysers, CA",
            "2 km NNW of Circleville, Utah",
            "56 km NW of Toyah, Texas",
            "7km N of Petrolia, CA",
            "37 km NNW of Toyah, Texas",
            null,
            "1 km NE of Ridgely, Tennessee"
           ],
           "lat": [
            46.8015,
            35.5711667,
            31.63489585,
            34.1968333,
            38.8176667,
            38.8121667,
            38.1958333,
            31.60955928,
            40.3865,
            31.6103947,
            31.64591099,
            36.2746667
           ],
           "legendgroup": "",
           "lon": [
            -112.6802,
            -120.8061667,
            -104.0020069,
            -116.9511667,
            -122.8078333,
            -122.8151667,
            -112.2805,
            -104.2722054,
            -124.2983333,
            -103.9758004,
            -104.3809226,
            -89.4768333
           ],
           "marker": {
            "color": [
             10,
             3.46,
             7.468383789,
             9.08,
             2.43,
             3.26,
             5.76,
             7.288427734,
             26.46,
             8.882324218999997,
             6.285815430000001,
             7.65
            ],
            "coloraxis": "coloraxis",
            "symbol": "circle"
           },
           "mode": "markers",
           "name": "",
           "showlegend": false,
           "type": "scattergeo"
          }
         ],
         "name": "19"
        },
        {
         "data": [
          {
           "geo": "geo",
           "hovertemplate": "<b>%{hovertext}</b><br><br>day=18<br>latitude=%{lat}<br>longitude=%{lon}<br>depth=%{marker.color}<extra></extra>",
           "hovertext": [
            "western Texas",
            "59 km SSW of Whites City, New Mexico",
            "38 km NW of Toyah, Texas",
            "38 km WSW of Mentone, Texas",
            "western Texas",
            "38 km WSW of Mentone, Texas",
            "37 km WSW of Mentone, Texas",
            "58 km SSW of Whites City, New Mexico",
            "western Texas",
            "61 km SSW of Whites City, New Mexico",
            null,
            "4 km SSE of Dover, Oklahoma",
            "14km NNW of Lopez Point, CA"
           ],
           "lat": [
            31.62950719,
            31.65396867,
            31.55345937,
            31.62847084,
            31.63956788,
            31.63248808,
            31.62771827,
            31.66548399,
            31.63077607,
            31.64886475,
            35.87416667,
            35.9405,
            36.1438333
           ],
           "legendgroup": "",
           "lon": [
            -103.9986185,
            -104.5125867,
            -104.0868348,
            -103.9992862,
            -104.013195,
            -104.0005158,
            -103.9838138,
            -104.5398877,
            -103.9971448,
            -104.5844846,
            -97.58933333,
            -97.89,
            -121.605
           ],
           "marker": {
            "color": [
             6.041589355,
             8.008251953,
             6.568603515999999,
             8.599536133,
             6.041589355,
             6.093005371,
             7.661193848,
             6.131567383,
             9.473608398,
             7.018513997,
             9.75,
             6.42,
             11.15
            ],
            "coloraxis": "coloraxis",
            "symbol": "circle"
           },
           "mode": "markers",
           "name": "",
           "showlegend": false,
           "type": "scattergeo"
          }
         ],
         "name": "18"
        },
        {
         "data": [
          {
           "geo": "geo",
           "hovertemplate": "<b>%{hovertext}</b><br><br>day=31<br>latitude=%{lat}<br>longitude=%{lon}<br>depth=%{marker.color}<extra></extra>",
           "hovertext": [
            "32 km NW of Stanley, Idaho",
            "24km NNE of Trona, CA",
            "55 km NW of Toyah, Texas",
            "Southern Texas",
            "15 km NW of Stanley, Idaho",
            "32 km SE of Malaga, New Mexico",
            "14km ESE of Alum Rock, CA",
            "33 km NW of Toyah, Texas",
            "6km SE of Pleasanton, CA",
            "6km ESE of Wrightwood, CA",
            "6 km E of Elgin, South Carolina"
           ],
           "lat": [
            44.3927,
            35.974,
            31.61580046,
            29.24102783,
            44.3255,
            32.00623877,
            37.3158333,
            31.50369418,
            37.6296667,
            34.3418333,
            34.1625
           ],
           "legendgroup": "",
           "lon": [
            -115.2615,
            -117.3248333,
            -104.2655282,
            -97.46863511,
            -115.0664,
            -103.8406251,
            -121.6805,
            -104.0615686,
            -121.8145,
            -117.569,
            -80.7191667
           ],
           "marker": {
            "color": [
             10,
             2.7,
             7.57121582,
             2.469930013,
             10,
             9.730688477,
             7.25,
             6.697143555000001,
             8.56,
             4.35,
             3.09
            ],
            "coloraxis": "coloraxis",
            "symbol": "circle"
           },
           "mode": "markers",
           "name": "",
           "showlegend": false,
           "type": "scattergeo"
          }
         ],
         "name": "31"
        }
       ],
       "layout": {
        "coloraxis": {
         "colorbar": {
          "title": {
           "text": "depth"
          }
         },
         "colorscale": [
          [
           0,
           "#0d0887"
          ],
          [
           0.1111111111111111,
           "#46039f"
          ],
          [
           0.2222222222222222,
           "#7201a8"
          ],
          [
           0.3333333333333333,
           "#9c179e"
          ],
          [
           0.4444444444444444,
           "#bd3786"
          ],
          [
           0.5555555555555556,
           "#d8576b"
          ],
          [
           0.6666666666666666,
           "#ed7953"
          ],
          [
           0.7777777777777778,
           "#fb9f3a"
          ],
          [
           0.8888888888888888,
           "#fdca26"
          ],
          [
           1,
           "#f0f921"
          ]
         ]
        },
        "geo": {
         "center": {},
         "domain": {
          "x": [
           0,
           1
          ],
          "y": [
           0,
           1
          ]
         },
         "projection": {
          "type": "natural earth"
         },
         "scope": "north america"
        },
        "height": 900,
        "legend": {
         "tracegroupgap": 0
        },
        "sliders": [
         {
          "active": 0,
          "currentvalue": {
           "prefix": "day="
          },
          "len": 0.9,
          "pad": {
           "b": 10,
           "t": 60
          },
          "steps": [
           {
            "args": [
             [
              "17"
             ],
             {
              "frame": {
               "duration": 0,
               "redraw": true
              },
              "fromcurrent": true,
              "mode": "immediate",
              "transition": {
               "duration": 0,
               "easing": "linear"
              }
             }
            ],
            "label": "17",
            "method": "animate"
           },
           {
            "args": [
             [
              "16"
             ],
             {
              "frame": {
               "duration": 0,
               "redraw": true
              },
              "fromcurrent": true,
              "mode": "immediate",
              "transition": {
               "duration": 0,
               "easing": "linear"
              }
             }
            ],
            "label": "16",
            "method": "animate"
           },
           {
            "args": [
             [
              "15"
             ],
             {
              "frame": {
               "duration": 0,
               "redraw": true
              },
              "fromcurrent": true,
              "mode": "immediate",
              "transition": {
               "duration": 0,
               "easing": "linear"
              }
             }
            ],
            "label": "15",
            "method": "animate"
           },
           {
            "args": [
             [
              "14"
             ],
             {
              "frame": {
               "duration": 0,
               "redraw": true
              },
              "fromcurrent": true,
              "mode": "immediate",
              "transition": {
               "duration": 0,
               "easing": "linear"
              }
             }
            ],
            "label": "14",
            "method": "animate"
           },
           {
            "args": [
             [
              "13"
             ],
             {
              "frame": {
               "duration": 0,
               "redraw": true
              },
              "fromcurrent": true,
              "mode": "immediate",
              "transition": {
               "duration": 0,
               "easing": "linear"
              }
             }
            ],
            "label": "13",
            "method": "animate"
           },
           {
            "args": [
             [
              "12"
             ],
             {
              "frame": {
               "duration": 0,
               "redraw": true
              },
              "fromcurrent": true,
              "mode": "immediate",
              "transition": {
               "duration": 0,
               "easing": "linear"
              }
             }
            ],
            "label": "12",
            "method": "animate"
           },
           {
            "args": [
             [
              "11"
             ],
             {
              "frame": {
               "duration": 0,
               "redraw": true
              },
              "fromcurrent": true,
              "mode": "immediate",
              "transition": {
               "duration": 0,
               "easing": "linear"
              }
             }
            ],
            "label": "11",
            "method": "animate"
           },
           {
            "args": [
             [
              "10"
             ],
             {
              "frame": {
               "duration": 0,
               "redraw": true
              },
              "fromcurrent": true,
              "mode": "immediate",
              "transition": {
               "duration": 0,
               "easing": "linear"
              }
             }
            ],
            "label": "10",
            "method": "animate"
           },
           {
            "args": [
             [
              "9"
             ],
             {
              "frame": {
               "duration": 0,
               "redraw": true
              },
              "fromcurrent": true,
              "mode": "immediate",
              "transition": {
               "duration": 0,
               "easing": "linear"
              }
             }
            ],
            "label": "9",
            "method": "animate"
           },
           {
            "args": [
             [
              "8"
             ],
             {
              "frame": {
               "duration": 0,
               "redraw": true
              },
              "fromcurrent": true,
              "mode": "immediate",
              "transition": {
               "duration": 0,
               "easing": "linear"
              }
             }
            ],
            "label": "8",
            "method": "animate"
           },
           {
            "args": [
             [
              "7"
             ],
             {
              "frame": {
               "duration": 0,
               "redraw": true
              },
              "fromcurrent": true,
              "mode": "immediate",
              "transition": {
               "duration": 0,
               "easing": "linear"
              }
             }
            ],
            "label": "7",
            "method": "animate"
           },
           {
            "args": [
             [
              "6"
             ],
             {
              "frame": {
               "duration": 0,
               "redraw": true
              },
              "fromcurrent": true,
              "mode": "immediate",
              "transition": {
               "duration": 0,
               "easing": "linear"
              }
             }
            ],
            "label": "6",
            "method": "animate"
           },
           {
            "args": [
             [
              "5"
             ],
             {
              "frame": {
               "duration": 0,
               "redraw": true
              },
              "fromcurrent": true,
              "mode": "immediate",
              "transition": {
               "duration": 0,
               "easing": "linear"
              }
             }
            ],
            "label": "5",
            "method": "animate"
           },
           {
            "args": [
             [
              "4"
             ],
             {
              "frame": {
               "duration": 0,
               "redraw": true
              },
              "fromcurrent": true,
              "mode": "immediate",
              "transition": {
               "duration": 0,
               "easing": "linear"
              }
             }
            ],
            "label": "4",
            "method": "animate"
           },
           {
            "args": [
             [
              "3"
             ],
             {
              "frame": {
               "duration": 0,
               "redraw": true
              },
              "fromcurrent": true,
              "mode": "immediate",
              "transition": {
               "duration": 0,
               "easing": "linear"
              }
             }
            ],
            "label": "3",
            "method": "animate"
           },
           {
            "args": [
             [
              "2"
             ],
             {
              "frame": {
               "duration": 0,
               "redraw": true
              },
              "fromcurrent": true,
              "mode": "immediate",
              "transition": {
               "duration": 0,
               "easing": "linear"
              }
             }
            ],
            "label": "2",
            "method": "animate"
           },
           {
            "args": [
             [
              "1"
             ],
             {
              "frame": {
               "duration": 0,
               "redraw": true
              },
              "fromcurrent": true,
              "mode": "immediate",
              "transition": {
               "duration": 0,
               "easing": "linear"
              }
             }
            ],
            "label": "1",
            "method": "animate"
           },
           {
            "args": [
             [
              "30"
             ],
             {
              "frame": {
               "duration": 0,
               "redraw": true
              },
              "fromcurrent": true,
              "mode": "immediate",
              "transition": {
               "duration": 0,
               "easing": "linear"
              }
             }
            ],
            "label": "30",
            "method": "animate"
           },
           {
            "args": [
             [
              "29"
             ],
             {
              "frame": {
               "duration": 0,
               "redraw": true
              },
              "fromcurrent": true,
              "mode": "immediate",
              "transition": {
               "duration": 0,
               "easing": "linear"
              }
             }
            ],
            "label": "29",
            "method": "animate"
           },
           {
            "args": [
             [
              "28"
             ],
             {
              "frame": {
               "duration": 0,
               "redraw": true
              },
              "fromcurrent": true,
              "mode": "immediate",
              "transition": {
               "duration": 0,
               "easing": "linear"
              }
             }
            ],
            "label": "28",
            "method": "animate"
           },
           {
            "args": [
             [
              "27"
             ],
             {
              "frame": {
               "duration": 0,
               "redraw": true
              },
              "fromcurrent": true,
              "mode": "immediate",
              "transition": {
               "duration": 0,
               "easing": "linear"
              }
             }
            ],
            "label": "27",
            "method": "animate"
           },
           {
            "args": [
             [
              "26"
             ],
             {
              "frame": {
               "duration": 0,
               "redraw": true
              },
              "fromcurrent": true,
              "mode": "immediate",
              "transition": {
               "duration": 0,
               "easing": "linear"
              }
             }
            ],
            "label": "26",
            "method": "animate"
           },
           {
            "args": [
             [
              "25"
             ],
             {
              "frame": {
               "duration": 0,
               "redraw": true
              },
              "fromcurrent": true,
              "mode": "immediate",
              "transition": {
               "duration": 0,
               "easing": "linear"
              }
             }
            ],
            "label": "25",
            "method": "animate"
           },
           {
            "args": [
             [
              "24"
             ],
             {
              "frame": {
               "duration": 0,
               "redraw": true
              },
              "fromcurrent": true,
              "mode": "immediate",
              "transition": {
               "duration": 0,
               "easing": "linear"
              }
             }
            ],
            "label": "24",
            "method": "animate"
           },
           {
            "args": [
             [
              "23"
             ],
             {
              "frame": {
               "duration": 0,
               "redraw": true
              },
              "fromcurrent": true,
              "mode": "immediate",
              "transition": {
               "duration": 0,
               "easing": "linear"
              }
             }
            ],
            "label": "23",
            "method": "animate"
           },
           {
            "args": [
             [
              "22"
             ],
             {
              "frame": {
               "duration": 0,
               "redraw": true
              },
              "fromcurrent": true,
              "mode": "immediate",
              "transition": {
               "duration": 0,
               "easing": "linear"
              }
             }
            ],
            "label": "22",
            "method": "animate"
           },
           {
            "args": [
             [
              "21"
             ],
             {
              "frame": {
               "duration": 0,
               "redraw": true
              },
              "fromcurrent": true,
              "mode": "immediate",
              "transition": {
               "duration": 0,
               "easing": "linear"
              }
             }
            ],
            "label": "21",
            "method": "animate"
           },
           {
            "args": [
             [
              "20"
             ],
             {
              "frame": {
               "duration": 0,
               "redraw": true
              },
              "fromcurrent": true,
              "mode": "immediate",
              "transition": {
               "duration": 0,
               "easing": "linear"
              }
             }
            ],
            "label": "20",
            "method": "animate"
           },
           {
            "args": [
             [
              "19"
             ],
             {
              "frame": {
               "duration": 0,
               "redraw": true
              },
              "fromcurrent": true,
              "mode": "immediate",
              "transition": {
               "duration": 0,
               "easing": "linear"
              }
             }
            ],
            "label": "19",
            "method": "animate"
           },
           {
            "args": [
             [
              "18"
             ],
             {
              "frame": {
               "duration": 0,
               "redraw": true
              },
              "fromcurrent": true,
              "mode": "immediate",
              "transition": {
               "duration": 0,
               "easing": "linear"
              }
             }
            ],
            "label": "18",
            "method": "animate"
           },
           {
            "args": [
             [
              "31"
             ],
             {
              "frame": {
               "duration": 0,
               "redraw": true
              },
              "fromcurrent": true,
              "mode": "immediate",
              "transition": {
               "duration": 0,
               "easing": "linear"
              }
             }
            ],
            "label": "31",
            "method": "animate"
           }
          ],
          "x": 0.1,
          "xanchor": "left",
          "y": 0,
          "yanchor": "top"
         }
        ],
        "template": {
         "data": {
          "bar": [
           {
            "error_x": {
             "color": "#f2f5fa"
            },
            "error_y": {
             "color": "#f2f5fa"
            },
            "marker": {
             "line": {
              "color": "rgb(17,17,17)",
              "width": 0.5
             },
             "pattern": {
              "fillmode": "overlay",
              "size": 10,
              "solidity": 0.2
             }
            },
            "type": "bar"
           }
          ],
          "barpolar": [
           {
            "marker": {
             "line": {
              "color": "rgb(17,17,17)",
              "width": 0.5
             },
             "pattern": {
              "fillmode": "overlay",
              "size": 10,
              "solidity": 0.2
             }
            },
            "type": "barpolar"
           }
          ],
          "carpet": [
           {
            "aaxis": {
             "endlinecolor": "#A2B1C6",
             "gridcolor": "#506784",
             "linecolor": "#506784",
             "minorgridcolor": "#506784",
             "startlinecolor": "#A2B1C6"
            },
            "baxis": {
             "endlinecolor": "#A2B1C6",
             "gridcolor": "#506784",
             "linecolor": "#506784",
             "minorgridcolor": "#506784",
             "startlinecolor": "#A2B1C6"
            },
            "type": "carpet"
           }
          ],
          "choropleth": [
           {
            "colorbar": {
             "outlinewidth": 0,
             "ticks": ""
            },
            "type": "choropleth"
           }
          ],
          "contour": [
           {
            "colorbar": {
             "outlinewidth": 0,
             "ticks": ""
            },
            "colorscale": [
             [
              0,
              "#0d0887"
             ],
             [
              0.1111111111111111,
              "#46039f"
             ],
             [
              0.2222222222222222,
              "#7201a8"
             ],
             [
              0.3333333333333333,
              "#9c179e"
             ],
             [
              0.4444444444444444,
              "#bd3786"
             ],
             [
              0.5555555555555556,
              "#d8576b"
             ],
             [
              0.6666666666666666,
              "#ed7953"
             ],
             [
              0.7777777777777778,
              "#fb9f3a"
             ],
             [
              0.8888888888888888,
              "#fdca26"
             ],
             [
              1,
              "#f0f921"
             ]
            ],
            "type": "contour"
           }
          ],
          "contourcarpet": [
           {
            "colorbar": {
             "outlinewidth": 0,
             "ticks": ""
            },
            "type": "contourcarpet"
           }
          ],
          "heatmap": [
           {
            "colorbar": {
             "outlinewidth": 0,
             "ticks": ""
            },
            "colorscale": [
             [
              0,
              "#0d0887"
             ],
             [
              0.1111111111111111,
              "#46039f"
             ],
             [
              0.2222222222222222,
              "#7201a8"
             ],
             [
              0.3333333333333333,
              "#9c179e"
             ],
             [
              0.4444444444444444,
              "#bd3786"
             ],
             [
              0.5555555555555556,
              "#d8576b"
             ],
             [
              0.6666666666666666,
              "#ed7953"
             ],
             [
              0.7777777777777778,
              "#fb9f3a"
             ],
             [
              0.8888888888888888,
              "#fdca26"
             ],
             [
              1,
              "#f0f921"
             ]
            ],
            "type": "heatmap"
           }
          ],
          "heatmapgl": [
           {
            "colorbar": {
             "outlinewidth": 0,
             "ticks": ""
            },
            "colorscale": [
             [
              0,
              "#0d0887"
             ],
             [
              0.1111111111111111,
              "#46039f"
             ],
             [
              0.2222222222222222,
              "#7201a8"
             ],
             [
              0.3333333333333333,
              "#9c179e"
             ],
             [
              0.4444444444444444,
              "#bd3786"
             ],
             [
              0.5555555555555556,
              "#d8576b"
             ],
             [
              0.6666666666666666,
              "#ed7953"
             ],
             [
              0.7777777777777778,
              "#fb9f3a"
             ],
             [
              0.8888888888888888,
              "#fdca26"
             ],
             [
              1,
              "#f0f921"
             ]
            ],
            "type": "heatmapgl"
           }
          ],
          "histogram": [
           {
            "marker": {
             "pattern": {
              "fillmode": "overlay",
              "size": 10,
              "solidity": 0.2
             }
            },
            "type": "histogram"
           }
          ],
          "histogram2d": [
           {
            "colorbar": {
             "outlinewidth": 0,
             "ticks": ""
            },
            "colorscale": [
             [
              0,
              "#0d0887"
             ],
             [
              0.1111111111111111,
              "#46039f"
             ],
             [
              0.2222222222222222,
              "#7201a8"
             ],
             [
              0.3333333333333333,
              "#9c179e"
             ],
             [
              0.4444444444444444,
              "#bd3786"
             ],
             [
              0.5555555555555556,
              "#d8576b"
             ],
             [
              0.6666666666666666,
              "#ed7953"
             ],
             [
              0.7777777777777778,
              "#fb9f3a"
             ],
             [
              0.8888888888888888,
              "#fdca26"
             ],
             [
              1,
              "#f0f921"
             ]
            ],
            "type": "histogram2d"
           }
          ],
          "histogram2dcontour": [
           {
            "colorbar": {
             "outlinewidth": 0,
             "ticks": ""
            },
            "colorscale": [
             [
              0,
              "#0d0887"
             ],
             [
              0.1111111111111111,
              "#46039f"
             ],
             [
              0.2222222222222222,
              "#7201a8"
             ],
             [
              0.3333333333333333,
              "#9c179e"
             ],
             [
              0.4444444444444444,
              "#bd3786"
             ],
             [
              0.5555555555555556,
              "#d8576b"
             ],
             [
              0.6666666666666666,
              "#ed7953"
             ],
             [
              0.7777777777777778,
              "#fb9f3a"
             ],
             [
              0.8888888888888888,
              "#fdca26"
             ],
             [
              1,
              "#f0f921"
             ]
            ],
            "type": "histogram2dcontour"
           }
          ],
          "mesh3d": [
           {
            "colorbar": {
             "outlinewidth": 0,
             "ticks": ""
            },
            "type": "mesh3d"
           }
          ],
          "parcoords": [
           {
            "line": {
             "colorbar": {
              "outlinewidth": 0,
              "ticks": ""
             }
            },
            "type": "parcoords"
           }
          ],
          "pie": [
           {
            "automargin": true,
            "type": "pie"
           }
          ],
          "scatter": [
           {
            "marker": {
             "line": {
              "color": "#283442"
             }
            },
            "type": "scatter"
           }
          ],
          "scatter3d": [
           {
            "line": {
             "colorbar": {
              "outlinewidth": 0,
              "ticks": ""
             }
            },
            "marker": {
             "colorbar": {
              "outlinewidth": 0,
              "ticks": ""
             }
            },
            "type": "scatter3d"
           }
          ],
          "scattercarpet": [
           {
            "marker": {
             "colorbar": {
              "outlinewidth": 0,
              "ticks": ""
             }
            },
            "type": "scattercarpet"
           }
          ],
          "scattergeo": [
           {
            "marker": {
             "colorbar": {
              "outlinewidth": 0,
              "ticks": ""
             }
            },
            "type": "scattergeo"
           }
          ],
          "scattergl": [
           {
            "marker": {
             "line": {
              "color": "#283442"
             }
            },
            "type": "scattergl"
           }
          ],
          "scattermapbox": [
           {
            "marker": {
             "colorbar": {
              "outlinewidth": 0,
              "ticks": ""
             }
            },
            "type": "scattermapbox"
           }
          ],
          "scatterpolar": [
           {
            "marker": {
             "colorbar": {
              "outlinewidth": 0,
              "ticks": ""
             }
            },
            "type": "scatterpolar"
           }
          ],
          "scatterpolargl": [
           {
            "marker": {
             "colorbar": {
              "outlinewidth": 0,
              "ticks": ""
             }
            },
            "type": "scatterpolargl"
           }
          ],
          "scatterternary": [
           {
            "marker": {
             "colorbar": {
              "outlinewidth": 0,
              "ticks": ""
             }
            },
            "type": "scatterternary"
           }
          ],
          "surface": [
           {
            "colorbar": {
             "outlinewidth": 0,
             "ticks": ""
            },
            "colorscale": [
             [
              0,
              "#0d0887"
             ],
             [
              0.1111111111111111,
              "#46039f"
             ],
             [
              0.2222222222222222,
              "#7201a8"
             ],
             [
              0.3333333333333333,
              "#9c179e"
             ],
             [
              0.4444444444444444,
              "#bd3786"
             ],
             [
              0.5555555555555556,
              "#d8576b"
             ],
             [
              0.6666666666666666,
              "#ed7953"
             ],
             [
              0.7777777777777778,
              "#fb9f3a"
             ],
             [
              0.8888888888888888,
              "#fdca26"
             ],
             [
              1,
              "#f0f921"
             ]
            ],
            "type": "surface"
           }
          ],
          "table": [
           {
            "cells": {
             "fill": {
              "color": "#506784"
             },
             "line": {
              "color": "rgb(17,17,17)"
             }
            },
            "header": {
             "fill": {
              "color": "#2a3f5f"
             },
             "line": {
              "color": "rgb(17,17,17)"
             }
            },
            "type": "table"
           }
          ]
         },
         "layout": {
          "annotationdefaults": {
           "arrowcolor": "#f2f5fa",
           "arrowhead": 0,
           "arrowwidth": 1
          },
          "autotypenumbers": "strict",
          "coloraxis": {
           "colorbar": {
            "outlinewidth": 0,
            "ticks": ""
           }
          },
          "colorscale": {
           "diverging": [
            [
             0,
             "#8e0152"
            ],
            [
             0.1,
             "#c51b7d"
            ],
            [
             0.2,
             "#de77ae"
            ],
            [
             0.3,
             "#f1b6da"
            ],
            [
             0.4,
             "#fde0ef"
            ],
            [
             0.5,
             "#f7f7f7"
            ],
            [
             0.6,
             "#e6f5d0"
            ],
            [
             0.7,
             "#b8e186"
            ],
            [
             0.8,
             "#7fbc41"
            ],
            [
             0.9,
             "#4d9221"
            ],
            [
             1,
             "#276419"
            ]
           ],
           "sequential": [
            [
             0,
             "#0d0887"
            ],
            [
             0.1111111111111111,
             "#46039f"
            ],
            [
             0.2222222222222222,
             "#7201a8"
            ],
            [
             0.3333333333333333,
             "#9c179e"
            ],
            [
             0.4444444444444444,
             "#bd3786"
            ],
            [
             0.5555555555555556,
             "#d8576b"
            ],
            [
             0.6666666666666666,
             "#ed7953"
            ],
            [
             0.7777777777777778,
             "#fb9f3a"
            ],
            [
             0.8888888888888888,
             "#fdca26"
            ],
            [
             1,
             "#f0f921"
            ]
           ],
           "sequentialminus": [
            [
             0,
             "#0d0887"
            ],
            [
             0.1111111111111111,
             "#46039f"
            ],
            [
             0.2222222222222222,
             "#7201a8"
            ],
            [
             0.3333333333333333,
             "#9c179e"
            ],
            [
             0.4444444444444444,
             "#bd3786"
            ],
            [
             0.5555555555555556,
             "#d8576b"
            ],
            [
             0.6666666666666666,
             "#ed7953"
            ],
            [
             0.7777777777777778,
             "#fb9f3a"
            ],
            [
             0.8888888888888888,
             "#fdca26"
            ],
            [
             1,
             "#f0f921"
            ]
           ]
          },
          "colorway": [
           "#636efa",
           "#EF553B",
           "#00cc96",
           "#ab63fa",
           "#FFA15A",
           "#19d3f3",
           "#FF6692",
           "#B6E880",
           "#FF97FF",
           "#FECB52"
          ],
          "font": {
           "color": "#f2f5fa"
          },
          "geo": {
           "bgcolor": "rgb(17,17,17)",
           "lakecolor": "rgb(17,17,17)",
           "landcolor": "rgb(17,17,17)",
           "showlakes": true,
           "showland": true,
           "subunitcolor": "#506784"
          },
          "hoverlabel": {
           "align": "left"
          },
          "hovermode": "closest",
          "mapbox": {
           "style": "dark"
          },
          "paper_bgcolor": "rgb(17,17,17)",
          "plot_bgcolor": "rgb(17,17,17)",
          "polar": {
           "angularaxis": {
            "gridcolor": "#506784",
            "linecolor": "#506784",
            "ticks": ""
           },
           "bgcolor": "rgb(17,17,17)",
           "radialaxis": {
            "gridcolor": "#506784",
            "linecolor": "#506784",
            "ticks": ""
           }
          },
          "scene": {
           "xaxis": {
            "backgroundcolor": "rgb(17,17,17)",
            "gridcolor": "#506784",
            "gridwidth": 2,
            "linecolor": "#506784",
            "showbackground": true,
            "ticks": "",
            "zerolinecolor": "#C8D4E3"
           },
           "yaxis": {
            "backgroundcolor": "rgb(17,17,17)",
            "gridcolor": "#506784",
            "gridwidth": 2,
            "linecolor": "#506784",
            "showbackground": true,
            "ticks": "",
            "zerolinecolor": "#C8D4E3"
           },
           "zaxis": {
            "backgroundcolor": "rgb(17,17,17)",
            "gridcolor": "#506784",
            "gridwidth": 2,
            "linecolor": "#506784",
            "showbackground": true,
            "ticks": "",
            "zerolinecolor": "#C8D4E3"
           }
          },
          "shapedefaults": {
           "line": {
            "color": "#f2f5fa"
           }
          },
          "sliderdefaults": {
           "bgcolor": "#C8D4E3",
           "bordercolor": "rgb(17,17,17)",
           "borderwidth": 1,
           "tickwidth": 0
          },
          "ternary": {
           "aaxis": {
            "gridcolor": "#506784",
            "linecolor": "#506784",
            "ticks": ""
           },
           "baxis": {
            "gridcolor": "#506784",
            "linecolor": "#506784",
            "ticks": ""
           },
           "bgcolor": "rgb(17,17,17)",
           "caxis": {
            "gridcolor": "#506784",
            "linecolor": "#506784",
            "ticks": ""
           }
          },
          "title": {
           "x": 0.05
          },
          "updatemenudefaults": {
           "bgcolor": "#506784",
           "borderwidth": 0
          },
          "xaxis": {
           "automargin": true,
           "gridcolor": "#283442",
           "linecolor": "#506784",
           "ticks": "",
           "title": {
            "standoff": 15
           },
           "zerolinecolor": "#283442",
           "zerolinewidth": 2
          },
          "yaxis": {
           "automargin": true,
           "gridcolor": "#283442",
           "linecolor": "#506784",
           "ticks": "",
           "title": {
            "standoff": 15
           },
           "zerolinecolor": "#283442",
           "zerolinewidth": 2
          }
         }
        },
        "title": {
         "text": "Location and Depth of Earthquakes across time, between 2022-10-01 and 2022-12-17"
        },
        "updatemenus": [
         {
          "buttons": [
           {
            "args": [
             null,
             {
              "frame": {
               "duration": 500,
               "redraw": true
              },
              "fromcurrent": true,
              "mode": "immediate",
              "transition": {
               "duration": 500,
               "easing": "linear"
              }
             }
            ],
            "label": "&#9654;",
            "method": "animate"
           },
           {
            "args": [
             [
              null
             ],
             {
              "frame": {
               "duration": 0,
               "redraw": true
              },
              "fromcurrent": true,
              "mode": "immediate",
              "transition": {
               "duration": 0,
               "easing": "linear"
              }
             }
            ],
            "label": "&#9724;",
            "method": "animate"
           }
          ],
          "direction": "left",
          "pad": {
           "r": 10,
           "t": 70
          },
          "showactive": false,
          "type": "buttons",
          "x": 0.1,
          "xanchor": "right",
          "y": 0,
          "yanchor": "top"
         }
        ]
       }
      },
      "text/html": [
       "<div>                            <div id=\"a60298ff-4da0-41d7-8c66-0f19c18d542e\" class=\"plotly-graph-div\" style=\"height:900px; width:100%;\"></div>            <script type=\"text/javascript\">                require([\"plotly\"], function(Plotly) {                    window.PLOTLYENV=window.PLOTLYENV || {};                                    if (document.getElementById(\"a60298ff-4da0-41d7-8c66-0f19c18d542e\")) {                    Plotly.newPlot(                        \"a60298ff-4da0-41d7-8c66-0f19c18d542e\",                        [{\"geo\":\"geo\",\"hovertemplate\":\"<b>%{hovertext}</b><br><br>day=17<br>latitude=%{lat}<br>longitude=%{lon}<br>depth=%{marker.color}<extra></extra>\",\"hovertext\":[\"16 km N of Midland, Texas\",\"19 km N of Midland, Texas\",\"37 km WSW of Mentone, Texas\",\"21 km NW of Valentine, Texas\",\"Oregon-Idaho border region\",\"37 km WSW of Mentone, Texas\",\"37 km WSW of Mentone, Texas\",\"40 km W of Mentone, Texas\",\"37 km WSW of Mentone, Texas\",\"38 km NNW of Toyah, Texas\",\"37 km NNW of Toyah, Texas\",\"37 km WSW of Mentone, Texas\",\"35 km WSW of Mentone, Texas\",\"2km N of The Geysers, CA\",\"8 km NNW of Chacra, Colorado\",\"southern Idaho\",\"2km WNW of Aguanga, CA\",\"southern Idaho\"],\"lat\":[32.1441,32.17,31.6348178,30.71228027,44.2667,31.61738727,31.6196887,31.63748457,31.63563504,31.61709197,31.61013778,31.61714426,31.61147683,38.7928333,39.6415,44.3322,33.4506667,44.7143],\"legendgroup\":\"\",\"lon\":[-102.0997,-102.1068,-103.9911103,-104.673447,-116.2197,-103.980808,-103.9797423,-104.0174897,-103.9872129,-104.0004432,-103.9841374,-103.9848418,-103.960608,-122.7543333,-107.4845,-115.1751,-116.888,-114.4203],\"marker\":{\"color\":[5.0,5.0,6.427209473,6.602783203000001,10.0,8.22677002,6.350085449,7.224157714999999,8.625244141,8.021105957,9.627856445,9.229382324,6.118713379,0.76,4.677,10.0,12.71,10.0],\"coloraxis\":\"coloraxis\",\"symbol\":\"circle\"},\"mode\":\"markers\",\"name\":\"\",\"showlegend\":false,\"type\":\"scattergeo\"}],                        {\"template\":{\"data\":{\"barpolar\":[{\"marker\":{\"line\":{\"color\":\"rgb(17,17,17)\",\"width\":0.5},\"pattern\":{\"fillmode\":\"overlay\",\"size\":10,\"solidity\":0.2}},\"type\":\"barpolar\"}],\"bar\":[{\"error_x\":{\"color\":\"#f2f5fa\"},\"error_y\":{\"color\":\"#f2f5fa\"},\"marker\":{\"line\":{\"color\":\"rgb(17,17,17)\",\"width\":0.5},\"pattern\":{\"fillmode\":\"overlay\",\"size\":10,\"solidity\":0.2}},\"type\":\"bar\"}],\"carpet\":[{\"aaxis\":{\"endlinecolor\":\"#A2B1C6\",\"gridcolor\":\"#506784\",\"linecolor\":\"#506784\",\"minorgridcolor\":\"#506784\",\"startlinecolor\":\"#A2B1C6\"},\"baxis\":{\"endlinecolor\":\"#A2B1C6\",\"gridcolor\":\"#506784\",\"linecolor\":\"#506784\",\"minorgridcolor\":\"#506784\",\"startlinecolor\":\"#A2B1C6\"},\"type\":\"carpet\"}],\"choropleth\":[{\"colorbar\":{\"outlinewidth\":0,\"ticks\":\"\"},\"type\":\"choropleth\"}],\"contourcarpet\":[{\"colorbar\":{\"outlinewidth\":0,\"ticks\":\"\"},\"type\":\"contourcarpet\"}],\"contour\":[{\"colorbar\":{\"outlinewidth\":0,\"ticks\":\"\"},\"colorscale\":[[0.0,\"#0d0887\"],[0.1111111111111111,\"#46039f\"],[0.2222222222222222,\"#7201a8\"],[0.3333333333333333,\"#9c179e\"],[0.4444444444444444,\"#bd3786\"],[0.5555555555555556,\"#d8576b\"],[0.6666666666666666,\"#ed7953\"],[0.7777777777777778,\"#fb9f3a\"],[0.8888888888888888,\"#fdca26\"],[1.0,\"#f0f921\"]],\"type\":\"contour\"}],\"heatmapgl\":[{\"colorbar\":{\"outlinewidth\":0,\"ticks\":\"\"},\"colorscale\":[[0.0,\"#0d0887\"],[0.1111111111111111,\"#46039f\"],[0.2222222222222222,\"#7201a8\"],[0.3333333333333333,\"#9c179e\"],[0.4444444444444444,\"#bd3786\"],[0.5555555555555556,\"#d8576b\"],[0.6666666666666666,\"#ed7953\"],[0.7777777777777778,\"#fb9f3a\"],[0.8888888888888888,\"#fdca26\"],[1.0,\"#f0f921\"]],\"type\":\"heatmapgl\"}],\"heatmap\":[{\"colorbar\":{\"outlinewidth\":0,\"ticks\":\"\"},\"colorscale\":[[0.0,\"#0d0887\"],[0.1111111111111111,\"#46039f\"],[0.2222222222222222,\"#7201a8\"],[0.3333333333333333,\"#9c179e\"],[0.4444444444444444,\"#bd3786\"],[0.5555555555555556,\"#d8576b\"],[0.6666666666666666,\"#ed7953\"],[0.7777777777777778,\"#fb9f3a\"],[0.8888888888888888,\"#fdca26\"],[1.0,\"#f0f921\"]],\"type\":\"heatmap\"}],\"histogram2dcontour\":[{\"colorbar\":{\"outlinewidth\":0,\"ticks\":\"\"},\"colorscale\":[[0.0,\"#0d0887\"],[0.1111111111111111,\"#46039f\"],[0.2222222222222222,\"#7201a8\"],[0.3333333333333333,\"#9c179e\"],[0.4444444444444444,\"#bd3786\"],[0.5555555555555556,\"#d8576b\"],[0.6666666666666666,\"#ed7953\"],[0.7777777777777778,\"#fb9f3a\"],[0.8888888888888888,\"#fdca26\"],[1.0,\"#f0f921\"]],\"type\":\"histogram2dcontour\"}],\"histogram2d\":[{\"colorbar\":{\"outlinewidth\":0,\"ticks\":\"\"},\"colorscale\":[[0.0,\"#0d0887\"],[0.1111111111111111,\"#46039f\"],[0.2222222222222222,\"#7201a8\"],[0.3333333333333333,\"#9c179e\"],[0.4444444444444444,\"#bd3786\"],[0.5555555555555556,\"#d8576b\"],[0.6666666666666666,\"#ed7953\"],[0.7777777777777778,\"#fb9f3a\"],[0.8888888888888888,\"#fdca26\"],[1.0,\"#f0f921\"]],\"type\":\"histogram2d\"}],\"histogram\":[{\"marker\":{\"pattern\":{\"fillmode\":\"overlay\",\"size\":10,\"solidity\":0.2}},\"type\":\"histogram\"}],\"mesh3d\":[{\"colorbar\":{\"outlinewidth\":0,\"ticks\":\"\"},\"type\":\"mesh3d\"}],\"parcoords\":[{\"line\":{\"colorbar\":{\"outlinewidth\":0,\"ticks\":\"\"}},\"type\":\"parcoords\"}],\"pie\":[{\"automargin\":true,\"type\":\"pie\"}],\"scatter3d\":[{\"line\":{\"colorbar\":{\"outlinewidth\":0,\"ticks\":\"\"}},\"marker\":{\"colorbar\":{\"outlinewidth\":0,\"ticks\":\"\"}},\"type\":\"scatter3d\"}],\"scattercarpet\":[{\"marker\":{\"colorbar\":{\"outlinewidth\":0,\"ticks\":\"\"}},\"type\":\"scattercarpet\"}],\"scattergeo\":[{\"marker\":{\"colorbar\":{\"outlinewidth\":0,\"ticks\":\"\"}},\"type\":\"scattergeo\"}],\"scattergl\":[{\"marker\":{\"line\":{\"color\":\"#283442\"}},\"type\":\"scattergl\"}],\"scattermapbox\":[{\"marker\":{\"colorbar\":{\"outlinewidth\":0,\"ticks\":\"\"}},\"type\":\"scattermapbox\"}],\"scatterpolargl\":[{\"marker\":{\"colorbar\":{\"outlinewidth\":0,\"ticks\":\"\"}},\"type\":\"scatterpolargl\"}],\"scatterpolar\":[{\"marker\":{\"colorbar\":{\"outlinewidth\":0,\"ticks\":\"\"}},\"type\":\"scatterpolar\"}],\"scatter\":[{\"marker\":{\"line\":{\"color\":\"#283442\"}},\"type\":\"scatter\"}],\"scatterternary\":[{\"marker\":{\"colorbar\":{\"outlinewidth\":0,\"ticks\":\"\"}},\"type\":\"scatterternary\"}],\"surface\":[{\"colorbar\":{\"outlinewidth\":0,\"ticks\":\"\"},\"colorscale\":[[0.0,\"#0d0887\"],[0.1111111111111111,\"#46039f\"],[0.2222222222222222,\"#7201a8\"],[0.3333333333333333,\"#9c179e\"],[0.4444444444444444,\"#bd3786\"],[0.5555555555555556,\"#d8576b\"],[0.6666666666666666,\"#ed7953\"],[0.7777777777777778,\"#fb9f3a\"],[0.8888888888888888,\"#fdca26\"],[1.0,\"#f0f921\"]],\"type\":\"surface\"}],\"table\":[{\"cells\":{\"fill\":{\"color\":\"#506784\"},\"line\":{\"color\":\"rgb(17,17,17)\"}},\"header\":{\"fill\":{\"color\":\"#2a3f5f\"},\"line\":{\"color\":\"rgb(17,17,17)\"}},\"type\":\"table\"}]},\"layout\":{\"annotationdefaults\":{\"arrowcolor\":\"#f2f5fa\",\"arrowhead\":0,\"arrowwidth\":1},\"autotypenumbers\":\"strict\",\"coloraxis\":{\"colorbar\":{\"outlinewidth\":0,\"ticks\":\"\"}},\"colorscale\":{\"diverging\":[[0,\"#8e0152\"],[0.1,\"#c51b7d\"],[0.2,\"#de77ae\"],[0.3,\"#f1b6da\"],[0.4,\"#fde0ef\"],[0.5,\"#f7f7f7\"],[0.6,\"#e6f5d0\"],[0.7,\"#b8e186\"],[0.8,\"#7fbc41\"],[0.9,\"#4d9221\"],[1,\"#276419\"]],\"sequential\":[[0.0,\"#0d0887\"],[0.1111111111111111,\"#46039f\"],[0.2222222222222222,\"#7201a8\"],[0.3333333333333333,\"#9c179e\"],[0.4444444444444444,\"#bd3786\"],[0.5555555555555556,\"#d8576b\"],[0.6666666666666666,\"#ed7953\"],[0.7777777777777778,\"#fb9f3a\"],[0.8888888888888888,\"#fdca26\"],[1.0,\"#f0f921\"]],\"sequentialminus\":[[0.0,\"#0d0887\"],[0.1111111111111111,\"#46039f\"],[0.2222222222222222,\"#7201a8\"],[0.3333333333333333,\"#9c179e\"],[0.4444444444444444,\"#bd3786\"],[0.5555555555555556,\"#d8576b\"],[0.6666666666666666,\"#ed7953\"],[0.7777777777777778,\"#fb9f3a\"],[0.8888888888888888,\"#fdca26\"],[1.0,\"#f0f921\"]]},\"colorway\":[\"#636efa\",\"#EF553B\",\"#00cc96\",\"#ab63fa\",\"#FFA15A\",\"#19d3f3\",\"#FF6692\",\"#B6E880\",\"#FF97FF\",\"#FECB52\"],\"font\":{\"color\":\"#f2f5fa\"},\"geo\":{\"bgcolor\":\"rgb(17,17,17)\",\"lakecolor\":\"rgb(17,17,17)\",\"landcolor\":\"rgb(17,17,17)\",\"showlakes\":true,\"showland\":true,\"subunitcolor\":\"#506784\"},\"hoverlabel\":{\"align\":\"left\"},\"hovermode\":\"closest\",\"mapbox\":{\"style\":\"dark\"},\"paper_bgcolor\":\"rgb(17,17,17)\",\"plot_bgcolor\":\"rgb(17,17,17)\",\"polar\":{\"angularaxis\":{\"gridcolor\":\"#506784\",\"linecolor\":\"#506784\",\"ticks\":\"\"},\"bgcolor\":\"rgb(17,17,17)\",\"radialaxis\":{\"gridcolor\":\"#506784\",\"linecolor\":\"#506784\",\"ticks\":\"\"}},\"scene\":{\"xaxis\":{\"backgroundcolor\":\"rgb(17,17,17)\",\"gridcolor\":\"#506784\",\"gridwidth\":2,\"linecolor\":\"#506784\",\"showbackground\":true,\"ticks\":\"\",\"zerolinecolor\":\"#C8D4E3\"},\"yaxis\":{\"backgroundcolor\":\"rgb(17,17,17)\",\"gridcolor\":\"#506784\",\"gridwidth\":2,\"linecolor\":\"#506784\",\"showbackground\":true,\"ticks\":\"\",\"zerolinecolor\":\"#C8D4E3\"},\"zaxis\":{\"backgroundcolor\":\"rgb(17,17,17)\",\"gridcolor\":\"#506784\",\"gridwidth\":2,\"linecolor\":\"#506784\",\"showbackground\":true,\"ticks\":\"\",\"zerolinecolor\":\"#C8D4E3\"}},\"shapedefaults\":{\"line\":{\"color\":\"#f2f5fa\"}},\"sliderdefaults\":{\"bgcolor\":\"#C8D4E3\",\"bordercolor\":\"rgb(17,17,17)\",\"borderwidth\":1,\"tickwidth\":0},\"ternary\":{\"aaxis\":{\"gridcolor\":\"#506784\",\"linecolor\":\"#506784\",\"ticks\":\"\"},\"baxis\":{\"gridcolor\":\"#506784\",\"linecolor\":\"#506784\",\"ticks\":\"\"},\"bgcolor\":\"rgb(17,17,17)\",\"caxis\":{\"gridcolor\":\"#506784\",\"linecolor\":\"#506784\",\"ticks\":\"\"}},\"title\":{\"x\":0.05},\"updatemenudefaults\":{\"bgcolor\":\"#506784\",\"borderwidth\":0},\"xaxis\":{\"automargin\":true,\"gridcolor\":\"#283442\",\"linecolor\":\"#506784\",\"ticks\":\"\",\"title\":{\"standoff\":15},\"zerolinecolor\":\"#283442\",\"zerolinewidth\":2},\"yaxis\":{\"automargin\":true,\"gridcolor\":\"#283442\",\"linecolor\":\"#506784\",\"ticks\":\"\",\"title\":{\"standoff\":15},\"zerolinecolor\":\"#283442\",\"zerolinewidth\":2}}},\"geo\":{\"domain\":{\"x\":[0.0,1.0],\"y\":[0.0,1.0]},\"projection\":{\"type\":\"natural earth\"},\"center\":{},\"scope\":\"north america\"},\"coloraxis\":{\"colorbar\":{\"title\":{\"text\":\"depth\"}},\"colorscale\":[[0.0,\"#0d0887\"],[0.1111111111111111,\"#46039f\"],[0.2222222222222222,\"#7201a8\"],[0.3333333333333333,\"#9c179e\"],[0.4444444444444444,\"#bd3786\"],[0.5555555555555556,\"#d8576b\"],[0.6666666666666666,\"#ed7953\"],[0.7777777777777778,\"#fb9f3a\"],[0.8888888888888888,\"#fdca26\"],[1.0,\"#f0f921\"]]},\"legend\":{\"tracegroupgap\":0},\"title\":{\"text\":\"Location and Depth of Earthquakes across time, between 2022-10-01 and 2022-12-17\"},\"height\":900,\"updatemenus\":[{\"buttons\":[{\"args\":[null,{\"frame\":{\"duration\":500,\"redraw\":true},\"mode\":\"immediate\",\"fromcurrent\":true,\"transition\":{\"duration\":500,\"easing\":\"linear\"}}],\"label\":\"&#9654;\",\"method\":\"animate\"},{\"args\":[[null],{\"frame\":{\"duration\":0,\"redraw\":true},\"mode\":\"immediate\",\"fromcurrent\":true,\"transition\":{\"duration\":0,\"easing\":\"linear\"}}],\"label\":\"&#9724;\",\"method\":\"animate\"}],\"direction\":\"left\",\"pad\":{\"r\":10,\"t\":70},\"showactive\":false,\"type\":\"buttons\",\"x\":0.1,\"xanchor\":\"right\",\"y\":0,\"yanchor\":\"top\"}],\"sliders\":[{\"active\":0,\"currentvalue\":{\"prefix\":\"day=\"},\"len\":0.9,\"pad\":{\"b\":10,\"t\":60},\"steps\":[{\"args\":[[\"17\"],{\"frame\":{\"duration\":0,\"redraw\":true},\"mode\":\"immediate\",\"fromcurrent\":true,\"transition\":{\"duration\":0,\"easing\":\"linear\"}}],\"label\":\"17\",\"method\":\"animate\"},{\"args\":[[\"16\"],{\"frame\":{\"duration\":0,\"redraw\":true},\"mode\":\"immediate\",\"fromcurrent\":true,\"transition\":{\"duration\":0,\"easing\":\"linear\"}}],\"label\":\"16\",\"method\":\"animate\"},{\"args\":[[\"15\"],{\"frame\":{\"duration\":0,\"redraw\":true},\"mode\":\"immediate\",\"fromcurrent\":true,\"transition\":{\"duration\":0,\"easing\":\"linear\"}}],\"label\":\"15\",\"method\":\"animate\"},{\"args\":[[\"14\"],{\"frame\":{\"duration\":0,\"redraw\":true},\"mode\":\"immediate\",\"fromcurrent\":true,\"transition\":{\"duration\":0,\"easing\":\"linear\"}}],\"label\":\"14\",\"method\":\"animate\"},{\"args\":[[\"13\"],{\"frame\":{\"duration\":0,\"redraw\":true},\"mode\":\"immediate\",\"fromcurrent\":true,\"transition\":{\"duration\":0,\"easing\":\"linear\"}}],\"label\":\"13\",\"method\":\"animate\"},{\"args\":[[\"12\"],{\"frame\":{\"duration\":0,\"redraw\":true},\"mode\":\"immediate\",\"fromcurrent\":true,\"transition\":{\"duration\":0,\"easing\":\"linear\"}}],\"label\":\"12\",\"method\":\"animate\"},{\"args\":[[\"11\"],{\"frame\":{\"duration\":0,\"redraw\":true},\"mode\":\"immediate\",\"fromcurrent\":true,\"transition\":{\"duration\":0,\"easing\":\"linear\"}}],\"label\":\"11\",\"method\":\"animate\"},{\"args\":[[\"10\"],{\"frame\":{\"duration\":0,\"redraw\":true},\"mode\":\"immediate\",\"fromcurrent\":true,\"transition\":{\"duration\":0,\"easing\":\"linear\"}}],\"label\":\"10\",\"method\":\"animate\"},{\"args\":[[\"9\"],{\"frame\":{\"duration\":0,\"redraw\":true},\"mode\":\"immediate\",\"fromcurrent\":true,\"transition\":{\"duration\":0,\"easing\":\"linear\"}}],\"label\":\"9\",\"method\":\"animate\"},{\"args\":[[\"8\"],{\"frame\":{\"duration\":0,\"redraw\":true},\"mode\":\"immediate\",\"fromcurrent\":true,\"transition\":{\"duration\":0,\"easing\":\"linear\"}}],\"label\":\"8\",\"method\":\"animate\"},{\"args\":[[\"7\"],{\"frame\":{\"duration\":0,\"redraw\":true},\"mode\":\"immediate\",\"fromcurrent\":true,\"transition\":{\"duration\":0,\"easing\":\"linear\"}}],\"label\":\"7\",\"method\":\"animate\"},{\"args\":[[\"6\"],{\"frame\":{\"duration\":0,\"redraw\":true},\"mode\":\"immediate\",\"fromcurrent\":true,\"transition\":{\"duration\":0,\"easing\":\"linear\"}}],\"label\":\"6\",\"method\":\"animate\"},{\"args\":[[\"5\"],{\"frame\":{\"duration\":0,\"redraw\":true},\"mode\":\"immediate\",\"fromcurrent\":true,\"transition\":{\"duration\":0,\"easing\":\"linear\"}}],\"label\":\"5\",\"method\":\"animate\"},{\"args\":[[\"4\"],{\"frame\":{\"duration\":0,\"redraw\":true},\"mode\":\"immediate\",\"fromcurrent\":true,\"transition\":{\"duration\":0,\"easing\":\"linear\"}}],\"label\":\"4\",\"method\":\"animate\"},{\"args\":[[\"3\"],{\"frame\":{\"duration\":0,\"redraw\":true},\"mode\":\"immediate\",\"fromcurrent\":true,\"transition\":{\"duration\":0,\"easing\":\"linear\"}}],\"label\":\"3\",\"method\":\"animate\"},{\"args\":[[\"2\"],{\"frame\":{\"duration\":0,\"redraw\":true},\"mode\":\"immediate\",\"fromcurrent\":true,\"transition\":{\"duration\":0,\"easing\":\"linear\"}}],\"label\":\"2\",\"method\":\"animate\"},{\"args\":[[\"1\"],{\"frame\":{\"duration\":0,\"redraw\":true},\"mode\":\"immediate\",\"fromcurrent\":true,\"transition\":{\"duration\":0,\"easing\":\"linear\"}}],\"label\":\"1\",\"method\":\"animate\"},{\"args\":[[\"30\"],{\"frame\":{\"duration\":0,\"redraw\":true},\"mode\":\"immediate\",\"fromcurrent\":true,\"transition\":{\"duration\":0,\"easing\":\"linear\"}}],\"label\":\"30\",\"method\":\"animate\"},{\"args\":[[\"29\"],{\"frame\":{\"duration\":0,\"redraw\":true},\"mode\":\"immediate\",\"fromcurrent\":true,\"transition\":{\"duration\":0,\"easing\":\"linear\"}}],\"label\":\"29\",\"method\":\"animate\"},{\"args\":[[\"28\"],{\"frame\":{\"duration\":0,\"redraw\":true},\"mode\":\"immediate\",\"fromcurrent\":true,\"transition\":{\"duration\":0,\"easing\":\"linear\"}}],\"label\":\"28\",\"method\":\"animate\"},{\"args\":[[\"27\"],{\"frame\":{\"duration\":0,\"redraw\":true},\"mode\":\"immediate\",\"fromcurrent\":true,\"transition\":{\"duration\":0,\"easing\":\"linear\"}}],\"label\":\"27\",\"method\":\"animate\"},{\"args\":[[\"26\"],{\"frame\":{\"duration\":0,\"redraw\":true},\"mode\":\"immediate\",\"fromcurrent\":true,\"transition\":{\"duration\":0,\"easing\":\"linear\"}}],\"label\":\"26\",\"method\":\"animate\"},{\"args\":[[\"25\"],{\"frame\":{\"duration\":0,\"redraw\":true},\"mode\":\"immediate\",\"fromcurrent\":true,\"transition\":{\"duration\":0,\"easing\":\"linear\"}}],\"label\":\"25\",\"method\":\"animate\"},{\"args\":[[\"24\"],{\"frame\":{\"duration\":0,\"redraw\":true},\"mode\":\"immediate\",\"fromcurrent\":true,\"transition\":{\"duration\":0,\"easing\":\"linear\"}}],\"label\":\"24\",\"method\":\"animate\"},{\"args\":[[\"23\"],{\"frame\":{\"duration\":0,\"redraw\":true},\"mode\":\"immediate\",\"fromcurrent\":true,\"transition\":{\"duration\":0,\"easing\":\"linear\"}}],\"label\":\"23\",\"method\":\"animate\"},{\"args\":[[\"22\"],{\"frame\":{\"duration\":0,\"redraw\":true},\"mode\":\"immediate\",\"fromcurrent\":true,\"transition\":{\"duration\":0,\"easing\":\"linear\"}}],\"label\":\"22\",\"method\":\"animate\"},{\"args\":[[\"21\"],{\"frame\":{\"duration\":0,\"redraw\":true},\"mode\":\"immediate\",\"fromcurrent\":true,\"transition\":{\"duration\":0,\"easing\":\"linear\"}}],\"label\":\"21\",\"method\":\"animate\"},{\"args\":[[\"20\"],{\"frame\":{\"duration\":0,\"redraw\":true},\"mode\":\"immediate\",\"fromcurrent\":true,\"transition\":{\"duration\":0,\"easing\":\"linear\"}}],\"label\":\"20\",\"method\":\"animate\"},{\"args\":[[\"19\"],{\"frame\":{\"duration\":0,\"redraw\":true},\"mode\":\"immediate\",\"fromcurrent\":true,\"transition\":{\"duration\":0,\"easing\":\"linear\"}}],\"label\":\"19\",\"method\":\"animate\"},{\"args\":[[\"18\"],{\"frame\":{\"duration\":0,\"redraw\":true},\"mode\":\"immediate\",\"fromcurrent\":true,\"transition\":{\"duration\":0,\"easing\":\"linear\"}}],\"label\":\"18\",\"method\":\"animate\"},{\"args\":[[\"31\"],{\"frame\":{\"duration\":0,\"redraw\":true},\"mode\":\"immediate\",\"fromcurrent\":true,\"transition\":{\"duration\":0,\"easing\":\"linear\"}}],\"label\":\"31\",\"method\":\"animate\"}],\"x\":0.1,\"xanchor\":\"left\",\"y\":0,\"yanchor\":\"top\"}]},                        {\"responsive\": true}                    ).then(function(){\n",
       "                            Plotly.addFrames('a60298ff-4da0-41d7-8c66-0f19c18d542e', [{\"data\":[{\"geo\":\"geo\",\"hovertemplate\":\"<b>%{hovertext}</b><br><br>day=17<br>latitude=%{lat}<br>longitude=%{lon}<br>depth=%{marker.color}<extra></extra>\",\"hovertext\":[\"16 km N of Midland, Texas\",\"19 km N of Midland, Texas\",\"37 km WSW of Mentone, Texas\",\"21 km NW of Valentine, Texas\",\"Oregon-Idaho border region\",\"37 km WSW of Mentone, Texas\",\"37 km WSW of Mentone, Texas\",\"40 km W of Mentone, Texas\",\"37 km WSW of Mentone, Texas\",\"38 km NNW of Toyah, Texas\",\"37 km NNW of Toyah, Texas\",\"37 km WSW of Mentone, Texas\",\"35 km WSW of Mentone, Texas\",\"2km N of The Geysers, CA\",\"8 km NNW of Chacra, Colorado\",\"southern Idaho\",\"2km WNW of Aguanga, CA\",\"southern Idaho\"],\"lat\":[32.1441,32.17,31.6348178,30.71228027,44.2667,31.61738727,31.6196887,31.63748457,31.63563504,31.61709197,31.61013778,31.61714426,31.61147683,38.7928333,39.6415,44.3322,33.4506667,44.7143],\"legendgroup\":\"\",\"lon\":[-102.0997,-102.1068,-103.9911103,-104.673447,-116.2197,-103.980808,-103.9797423,-104.0174897,-103.9872129,-104.0004432,-103.9841374,-103.9848418,-103.960608,-122.7543333,-107.4845,-115.1751,-116.888,-114.4203],\"marker\":{\"color\":[5.0,5.0,6.427209473,6.602783203000001,10.0,8.22677002,6.350085449,7.224157714999999,8.625244141,8.021105957,9.627856445,9.229382324,6.118713379,0.76,4.677,10.0,12.71,10.0],\"coloraxis\":\"coloraxis\",\"symbol\":\"circle\"},\"mode\":\"markers\",\"name\":\"\",\"showlegend\":false,\"type\":\"scattergeo\"}],\"name\":\"17\"},{\"data\":[{\"geo\":\"geo\",\"hovertemplate\":\"<b>%{hovertext}</b><br><br>day=16<br>latitude=%{lat}<br>longitude=%{lon}<br>depth=%{marker.color}<extra></extra>\",\"hovertext\":[\"21 km NNW of Midland, Texas\",\"22 km NNW of Midland, Texas\",\"5 km SW of Danville, Kansas\",\"western Texas\",\"2km S of Placentia, CA\",\"49km WSW of Ferndale, CA\",\"36 km WSW of Mentone, Texas\",\"37 km NNW of Toyah, Texas\",\"39 km WSW of Mentone, Texas\",\"37 km WSW of Mentone, Texas\",\"37 km WSW of Mentone, Texas\",\"36 km WSW of Mentone, Texas\",\"western Texas\",\"western Texas\",\"37 km WSW of Mentone, Texas\",\"38 km WSW of Mentone, Texas\",\"3 km NE of Ravalli, Montana\",\"18 km NNW of Taylor, Wyoming\",\"18 km NNW of Taylor, Wyoming\",\"17 km NNW of Taylor, Wyoming\",\"17 km NNW of Taylor, Wyoming\",\"18 km NNW of Taylor, Wyoming\",\"3km S of Half Moon Bay, CA\",\"16km SE of Mammoth Lakes, CA\",\"54 km NW of Toyah, Texas\",\"78km ESE of Maneadero, B.C., MX\",\"33 km SE of Malaga, New Mexico\"],\"lat\":[32.18353271,32.19085693,37.2552,31.67515288,33.8498333,40.4853333,31.61717663,31.6073499,31.62947111,31.63447804,31.62852652,31.60882457,31.61834703,31.6365363,31.63425093,31.6367452,47.2961,42.214,42.2158333,42.2126667,42.2076667,42.2151667,37.4401667,37.5195,31.64293987,31.5256667,32.00028938],\"legendgroup\":\"\",\"lon\":[-102.1364091,-102.1406965,-97.9348,-104.4075586,-117.8655,-124.8351667,-103.9748891,-103.9932696,-104.0091105,-103.9896289,-103.9826069,-103.9636898,-103.9681694,-103.992598,-103.9888208,-103.9987871,-114.1463,-111.091,-111.0901667,-111.091,-111.0896667,-111.0913333,-122.4241667,-118.8795,-104.2175697,-115.78,-103.8287224],\"marker\":{\"color\":[6.676147461,8.241251628,5.0,6.697143555000001,7.38,18.79,7.738317870999999,8.496704102000002,8.123937988,5.874487305,8.702368164,8.650952148,5.604553223,5.334619141,6.620019531,6.902807617,12.331,7.6,7.23,9.49,10.25,7.61,10.54,5.76,6.260107422,17.2,7.725463867],\"coloraxis\":\"coloraxis\",\"symbol\":\"circle\"},\"mode\":\"markers\",\"name\":\"\",\"showlegend\":false,\"type\":\"scattergeo\"}],\"name\":\"16\"},{\"data\":[{\"geo\":\"geo\",\"hovertemplate\":\"<b>%{hovertext}</b><br><br>day=15<br>latitude=%{lat}<br>longitude=%{lon}<br>depth=%{marker.color}<extra></extra>\",\"hovertext\":[\"western Texas\",\"7km WSW of Big Bear Lake, CA\",\"37 km NNW of Toyah, Texas\",\"24km SE of Blue Lake, CA\",\"7 km WSW of Morton, Washington\",\"western Texas\",\"29 km SE of Mina, Nevada\",\"7 km WSW of Minco, Oklahoma\",\"40 km NW of Toyah, Texas\",\"37 km WNW of Kingston, Nevada\",\"4 km WNW of Terrebonne, Canada\",\"54 km S of Whites City, New Mexico\",\"2km WSW of Anderson Springs, CA\",\"31 km SE of Mina, Nevada\",null,\"29 km SSE of Mina, Nevada\",\"56 km S of Whites City, New Mexico\",\"2 km ESE of Ravalli, Montana\",\"36 km NNW of Toyah, Texas\",\"western Texas\"],\"lat\":[31.62538927,34.2301667,31.60529881,40.7068329,46.53266666666666,32.28790283,38.2014,35.28233333,31.56097224,39.3318,45.7212,31.68204991,38.765,38.1836,31.60720673,38.1533,31.66941712,47.2691,31.60605861,31.68068884],\"legendgroup\":\"\",\"lon\":[-104.2768996,-116.9858333,-103.9881499,-123.8079987,-122.36866666666668,-101.7912776,-117.8786,-98.01733333,-104.1038136,-117.4792,-73.6966,-104.4070829,-122.7143333,-117.8566,-103.9666414,-117.9446,-104.4061606,-114.1547,-103.9663674,-104.4043787],\"marker\":{\"color\":[7.057055663999999,8.0,10.37338867,20.26,20.61,9.757446289,8.2,7.9,7.057055663999999,9.2,7.952,6.234399414,1.69,7.5,8.625244141,9.8,6.671435547,10.0,8.856616211,6.542895508],\"coloraxis\":\"coloraxis\",\"symbol\":\"circle\"},\"mode\":\"markers\",\"name\":\"\",\"showlegend\":false,\"type\":\"scattergeo\"}],\"name\":\"15\"},{\"data\":[{\"geo\":\"geo\",\"hovertemplate\":\"<b>%{hovertext}</b><br><br>day=14<br>latitude=%{lat}<br>longitude=%{lon}<br>depth=%{marker.color}<extra></extra>\",\"hovertext\":[\"6 km WNW of Packwood, Washington\",\"51 km S of Whites City, New Mexico\",\"36 km WSW of Mentone, Texas\",\"36 km WSW of Mentone, Texas\",\"52 km S of Whites City, New Mexico\",\"36 km WSW of Mentone, Texas\",\"36 km NNW of Toyah, Texas\",\"30 km NW of Toyah, Texas\",\"16km NW of Pinnacles, CA\",\"6km NW of The Geysers, CA\",\"6km NNW of The Geysers, CA\",\"4 km SSW of Maynard, Arkansas\",\"Wyoming\",\"21 km NW of Stanton, Texas\",\"22 km NW of Stanley, Idaho\",\"6 km SE of Floriston, California\",\"13km NNW of Grapevine, CA\",\"19 km NW of Stanton, Texas\",\"4 km SE of Dover, Oklahoma\",\"34 km SE of Malaga, New Mexico\"],\"lat\":[46.62416666666667,31.71619236,31.60779679,31.60745084,31.71229338,31.6105518,31.60232659,31.51443023,36.6455002,38.8171667,38.82,36.3831666666667,44.7905,32.27325439,44.359,39.353,35.0453333,32.26593018,35.95033333,32.00364424],\"legendgroup\":\"\",\"lon\":[-121.75633333333332,-104.2708664,-103.9616681,-103.9620701,-104.2694902,-103.9624869,-103.9835641,-104.0170221,-121.2623367,-122.7993333,-122.793,-90.9101666666667,-110.8218333,-101.9349038,-115.1372,-119.9641,-118.9916667,-101.9177544,-97.874,-103.8175224],\"marker\":{\"color\":[12.68,6.979931641,7.841149902,8.239624022999998,7.005639647999999,7.147033691,9.936352539,3.972094727,4.91,3.39,2.92,11.55,7.63,7.898885091,10.0,7.3,13.1,8.681437174,7.32,8.535266113],\"coloraxis\":\"coloraxis\",\"symbol\":\"circle\"},\"mode\":\"markers\",\"name\":\"\",\"showlegend\":false,\"type\":\"scattergeo\"}],\"name\":\"14\"},{\"data\":[{\"geo\":\"geo\",\"hovertemplate\":\"<b>%{hovertext}</b><br><br>day=13<br>latitude=%{lat}<br>longitude=%{lon}<br>depth=%{marker.color}<extra></extra>\",\"hovertext\":[\"10km NW of Pinnacles, CA\",\"4 km E of Lake Marcel-Stillwater, Washington\",\"8 km WSW of Minco, Oklahoma\",\"4 km SSW of Mooringsport, Louisiana\",\"54 km S of Whites City, New Mexico\",\"41 km NW of Toyah, Texas\",\"41 km NW of Toyah, Texas\",\"54 km NW of Toyah, Texas\",\"54 km NW of Toyah, Texas\",\"8 km NNE of Airway Heights, Washington\",\"8 km WSW of Hunnewell, Kansas\",\"4 km SE of Dover, Oklahoma\",\"22 km SSW of Mammoth, Wyoming\",\"48km ENE of Maneadero, B.C., MX\"],\"lat\":[36.6046667,47.687333333333335,35.27616667,32.6524,31.68403456,31.56471977,31.56818731,31.65098384,31.64823732,47.709,36.98083333,35.95316667,44.7846667,31.8176667],\"legendgroup\":\"\",\"lon\":[-121.2093333,-121.859,-98.02616667,-93.9825,-104.3844888,-104.1141859,-104.1093671,-104.2173573,-104.2151853,-117.53916666666667,-97.49333333,-97.87283333,-110.8053333,-116.0706667],\"marker\":{\"color\":[8.88,25.66,7.73,5.0,7.416967772999999,6.812829589999999,7.04420166,6.851391602,8.033959961,-0.68,6.18,5.7,11.68,18.12],\"coloraxis\":\"coloraxis\",\"symbol\":\"circle\"},\"mode\":\"markers\",\"name\":\"\",\"showlegend\":false,\"type\":\"scattergeo\"}],\"name\":\"13\"},{\"data\":[{\"geo\":\"geo\",\"hovertemplate\":\"<b>%{hovertext}</b><br><br>day=12<br>latitude=%{lat}<br>longitude=%{lon}<br>depth=%{marker.color}<extra></extra>\",\"hovertext\":[\"11km WNW of Cobb, CA\",\"13 km WSW of Norwich, Kansas\",\"38 km WSW of Mentone, Texas\",\"2km NNE of Petrolia, CA\",\"3km SSW of San Juan Bautista, CA\",\"14 km WNW of Stanley, Idaho\",\"7 km SW of Corinne, Utah\",\"3km W of Walker, CA\",\"78km ESE of Maneadero, B.C., MX\",\"45 km NE of Dubois, Wyoming\",\"31 km SE of Mina, Nevada\",\"2km SSW of Alamo, CA\",\"16 km NE of Jal, New Mexico\",\"4 km SSE of Dover, Oklahoma\",\"42 km NW of Toyah, Texas\",\"9km SE of Talmage, CA\",\"13km NNW of Grapevine, CA\",\"56 km NW of Toyah, Texas\",\"2km ENE of Carson, CA\",\"5km NE of Walker, CA\"],\"lat\":[38.8615,37.4216,31.62378864,40.342,36.8175,44.2666,41.5125,38.5111667,31.5266667,43.829,38.1878,37.8308333,32.22198486,35.94266667,31.55597654,39.0688333,35.0486667,31.65225681,33.8378333,38.5498333],\"legendgroup\":\"\",\"lon\":[-122.8348333,-97.994,-103.9907903,-124.2786667,-121.5528333,-115.1032,-112.1813333,-119.5185,-115.7781667,-109.2413,-117.8543,-122.0476667,-103.0796256,-97.88483333,-104.1427634,-123.0976667,-118.9958333,-104.2378177,-118.2661667,-119.4411667],\"marker\":{\"color\":[1.13,5.0,6.941369629000001,27.35,6.37,10.0,10.07,4.48,17.69,9.122,6.2,9.69,6.871785482,6.6,7.596923828000001,5.41,12.27,7.57121582,10.75,7.27],\"coloraxis\":\"coloraxis\",\"symbol\":\"circle\"},\"mode\":\"markers\",\"name\":\"\",\"showlegend\":false,\"type\":\"scattergeo\"}],\"name\":\"12\"},{\"data\":[{\"geo\":\"geo\",\"hovertemplate\":\"<b>%{hovertext}</b><br><br>day=11<br>latitude=%{lat}<br>longitude=%{lon}<br>depth=%{marker.color}<extra></extra>\",\"hovertext\":[\"5 km SW of Luis Lopez, New Mexico\",\"Nevada\",\"8 km SW of Danville, Kansas\",\"54 km S of Whites City, New Mexico\",\"55 km S of Whites City, New Mexico\",\"17km ESE of Little Lake, CA\",\"15km W of Searles Valley, CA\",\"8 km S of Manila, Arkansas\",\"5 km SE of Tiptonville, Tennessee\",\"western Texas\",\"25km WNW of Petrolia, CA\",\"18 km E of Smiley, Texas\",\"26km WNW of Petrolia, CA\",\"103km SE of Estacion Coahuila, B.C., MX\",\"6km SE of Viola, CA\",\"23 km SSE of Golfo de Santa Clara, Mexico\",\"101km SE of Estacion Coahuila, B.C., MX\"],\"lat\":[33.9448,38.1822,37.2318,31.68585561,31.67115978,35.8905,35.7415,35.8008333,36.3435,31.10995141,40.3751667,29.2666626,40.3725,31.4663333,40.4825,31.5071,31.4701667],\"legendgroup\":\"\",\"lon\":[-106.9222,-117.8737,-97.9554,-104.3871969,-104.3854515,-117.7288333,-117.5666667,-90.1481667,-89.433,-103.2439976,-124.5743333,-97.44175092,-124.5798333,-114.3305,-121.619,-114.3592,-114.3495],\"marker\":{\"color\":[8.916,8.9,10.0,6.080151367,6.594311523,2.73,3.56,6.03,4.38,2.738110352,24.87,3.839396159,24.08,5.97,16.83,22.083,5.97],\"coloraxis\":\"coloraxis\",\"symbol\":\"circle\"},\"mode\":\"markers\",\"name\":\"\",\"showlegend\":false,\"type\":\"scattergeo\"}],\"name\":\"11\"},{\"data\":[{\"geo\":\"geo\",\"hovertemplate\":\"<b>%{hovertext}</b><br><br>day=10<br>latitude=%{lat}<br>longitude=%{lon}<br>depth=%{marker.color}<extra></extra>\",\"hovertext\":[\"46 km NW of Toyah, Texas\",\"3 km ENE of Crescent, Oklahoma\",\"63 km SSW of Whites City, New Mexico\",\"33 km WSW of Las Brisas, Mexico\",\"15 km NW of Shiner, Texas\",\"9km SSW of Cape Vizcaino, CA\",\"58 km NW of Toyah, Texas\",\"10 km W of Lamont, Oklahoma\",\"49 km ENE of Fort Bidwell, California\",\"50 km ENE of Fort Bidwell, California\",\"1 km ESE of Medicine Park, Oklahoma\",\"2km SW of Cobb, CA\",\"58 km WNW of Toyah, Texas\",\"39 km NNE of Nixon, Nevada\",\"41 km NNE of Nixon, Nevada\",\"6 km SE of Floriston, California\",\"56 km S of Whites City, New Mexico\",\"12km ENE of Ridgecrest, CA\"],\"lat\":[31.62202289,35.96983333,31.62072795,30.8003,29.5211792,39.6556667,31.61581119,36.69633333,42.0116,42.0161,34.72283333,38.8085,31.61005255,40.1488,40.1662,39.3511,31.66574382,35.6735],\"legendgroup\":\"\",\"lon\":[-104.1213858,-97.56066667,-104.5326923,-116.4632,-97.29078585,-123.8715,-104.3045324,-97.67366667,-119.5905,-119.585,-98.48466667,-122.735,-104.3069072,-119.1397,-119.1438,-119.9712,-104.3697934,-117.5615],\"marker\":{\"color\":[6.131567383,19.17,6.671435547,10.0,3.986124674,4.62,4.717626953,5.0,5.0,5.0,20.94,2.41,7.57121582,8.2,13.0,7.2,7.519799805,7.9],\"coloraxis\":\"coloraxis\",\"symbol\":\"circle\"},\"mode\":\"markers\",\"name\":\"\",\"showlegend\":false,\"type\":\"scattergeo\"}],\"name\":\"10\"},{\"data\":[{\"geo\":\"geo\",\"hovertemplate\":\"<b>%{hovertext}</b><br><br>day=9<br>latitude=%{lat}<br>longitude=%{lon}<br>depth=%{marker.color}<extra></extra>\",\"hovertext\":[null,\"79 km N of Rachel, Nevada\",\"Arizona\",\"12km NNW of Ocotillo, CA\",\"4km NW of The Geysers, CA\",\"120km ESE of Maneadero, B.C., MX\",\"84km ESE of Maneadero, B.C., MX\",\"9 km S of Dibble, Oklahoma\",\"41 km NNE of Nixon, Nevada\",\"61 km ENE of San Vicente, Mexico\",\"56 km S of Whites City, New Mexico\",\"14km SSW of Searles Valley, CA\",\"2 km N of Farragut, Tennessee\",\"62 km S of Whites City, New Mexico\",\"55 km S of Whites City, New Mexico\",\"55 km NW of Toyah, Texas\",\"western Texas\",\"31km WNW of Crescent City, CA\",\"58 km S of Whites City, New Mexico\"],\"lat\":[31.68127027,38.3553,35.4039,32.8348333,38.8013333,31.124,31.5633333,34.944,40.1633,31.5097,31.6719487,35.6578333,35.9038333,31.61075916,31.67521613,31.64190362,31.62485567,41.8303333,31.6546837],\"legendgroup\":\"\",\"lon\":[-104.3855411,-115.8331,-113.6811,-116.0415,-122.7863333,-115.5058333,-115.6926667,-97.62583333,-119.1358,-115.6351,-104.2722782,-117.4841667,-84.155,-104.3798065,-104.3978691,-104.2401641,-104.3672863,-124.566,-104.298115],\"marker\":{\"color\":[6.491479492,11.2,15.59,10.3,-0.05,5.61,4.02,10.88,8.0,18.894,2.031140137,4.94,8.07,6.157275391,7.159887695,7.596923828000001,7.93112793,18.99,7.57121582],\"coloraxis\":\"coloraxis\",\"symbol\":\"circle\"},\"mode\":\"markers\",\"name\":\"\",\"showlegend\":false,\"type\":\"scattergeo\"}],\"name\":\"9\"},{\"data\":[{\"geo\":\"geo\",\"hovertemplate\":\"<b>%{hovertext}</b><br><br>day=8<br>latitude=%{lat}<br>longitude=%{lon}<br>depth=%{marker.color}<extra></extra>\",\"hovertext\":[\"4km ESE of Aromas, CA\",\"48 km W of Mentone, Texas\",\"50 km ENE of Fort Bidwell, California\",\"31 km NW of Toyah, Texas\",\"36 km WSW of Mentone, Texas\",\"38 km NNW of Toyah, Texas\",\"50 km ENE of Fort Bidwell, California\",\"0 km S of Laurel Park, North Carolina\",\"10km ESE of Loyalton, CA\",\"13km SE of Bodfish, CA\",\"55 km S of Whites City, New Mexico\",\"12km WSW of Petrolia, CA\",\"15km WSW of Loyalton, CA\",\"16km WNW of Lake Pillsbury, CA\",\"40 km NNE of Nixon, Nevada\",\"56 km S of Whites City, New Mexico\",\"41 km NNE of Nixon, Nevada\",\"86km E of Maneadero, B.C., MX\",\"55 km NW of Toyah, Texas\",\"Oklahoma\",\"42 km NW of Toyah, Texas\"],\"lat\":[36.873,31.73456842,41.976,31.51047843,31.61420308,31.61894129,41.9601,35.3063333333333,39.631,35.5033333,31.6716,40.2838333,39.6085,39.4851667,40.1563,31.66201297,40.172,31.5643333,31.60772098,35.93616667,31.53961864],\"legendgroup\":\"\",\"lon\":[-121.6036667,-104.1073856,-119.5586,-104.0296311,-103.9705722,-103.9972239,-119.5579,-82.4926666666667,-120.1395,-118.393,-104.3605,-124.4176667,-120.3948333,-123.115,-119.1389,-104.3783731,-119.148,-115.6708333,-104.2721914,-97.89883333,-104.1520685],\"marker\":{\"color\":[4.73,7.301281738,0.0,2.146826172,8.535266113,8.715222168,0.0,1.53,-1.24,4.85,7.599,8.5,-1.58,3.83,7.0,6.697143555000001,8.3,0.74,7.288427734,5.66,7.725463867],\"coloraxis\":\"coloraxis\",\"symbol\":\"circle\"},\"mode\":\"markers\",\"name\":\"\",\"showlegend\":false,\"type\":\"scattergeo\"}],\"name\":\"8\"},{\"data\":[{\"geo\":\"geo\",\"hovertemplate\":\"<b>%{hovertext}</b><br><br>day=7<br>latitude=%{lat}<br>longitude=%{lon}<br>depth=%{marker.color}<extra></extra>\",\"hovertext\":[\"8km ESE of Running Springs, CA\",\"11 km SSW of Lawrence, Nebraska\",\"9 km SW of Minco, Oklahoma\",\"13km SE of Bodfish, CA\",\"81 km N of Rachel, Nevada\",\"54 km W of Mentone, Texas\",\"22km NE of Little Lake, CA\",\"21km ENE of Little Lake, CA\",\"4km W of Walker, CA\",\"5km E of Covelo, CA\",\"3km WNW of Walker, CA\",\"58 km S of Whites City, New Mexico\",\"12km SSE of San Clemente Is. (SE tip), CA\",null,\"8 km WSW of Waynoka, Oklahoma\",\"86km E of Maneadero, B.C., MX\",\"78km ESE of Maneadero, B.C., MX\",\"84km ESE of Maneadero, B.C., MX\",\"83km ESE of Maneadero, B.C., MX\",\"76km ESE of Maneadero, B.C., MX\",\"24 km NW of Stanley, Idaho\",\"16km WNW of Lake Pillsbury, CA\",\"4 km SSE of Dover, Oklahoma\",\"4km WSW of Colma, CA\",\"23km E of Julian, CA\",\"4 km SSE of Dover, Oklahoma\",\"16 km ESE of Lacomb, Oregon\"],\"lat\":[34.1771667,40.1934,35.2575,35.5086667,38.3737,31.71277945,36.0448333,36.0406667,38.5181667,39.7935,38.5203333,31.65135131,32.727,43.0277,36.53883333,31.5623333,31.509,31.5571667,31.5536667,31.5138333,44.3722,39.4828333,35.94366667,37.663,33.0413333,35.94133333,44.540333333333336],\"legendgroup\":\"\",\"lon\":[-117.032,-98.3011,-98.02716667,-118.3915,-115.8032,-104.1747099,-117.708,-117.7101667,-119.5206667,-123.1898333,-119.5126667,-104.3180018,-118.2761667,-111.593,-98.96366667,-115.6716667,-115.782,-115.6993333,-115.7113333,-115.7966667,-115.1574,-123.1165,-97.88416667,-122.4965,-116.3546667,-97.89133333,-122.55083333333332],\"marker\":{\"color\":[7.42,5.0,6.75,5.07,3.1,7.879711914,1.79,1.8,4.61,5.85,4.55,7.468383789,5.85,10.0,6.64,0.39,21.56,7.04,8.36,19.58,10.0,5.64,6.34,5.41,11.79,6.23,13.17],\"coloraxis\":\"coloraxis\",\"symbol\":\"circle\"},\"mode\":\"markers\",\"name\":\"\",\"showlegend\":false,\"type\":\"scattergeo\"}],\"name\":\"7\"},{\"data\":[{\"geo\":\"geo\",\"hovertemplate\":\"<b>%{hovertext}</b><br><br>day=6<br>latitude=%{lat}<br>longitude=%{lon}<br>depth=%{marker.color}<extra></extra>\",\"hovertext\":[\"Oklahoma\",\"9 km NW of Pocasset, Oklahoma\",\"50 km SSE of Whites City, New Mexico\",\"50 km ENE of Fort Bidwell, California\",\"8km WSW of Muir Beach, CA\",\"Oklahoma\",\"48 km W of Mentone, Texas\",\"9km SSW of Kettleman City, CA\",\"2 km ENE of Wardville, Oklahoma\",\"8 km WSW of Waynoka, Oklahoma\",\"3 km ESE of Colorado City, Arizona\",\"4 km SSE of Dover, Oklahoma\",null,\"47 km W of Mentone, Texas\",\"48 km W of Mentone, Texas\",\"4 km SSE of Dover, Oklahoma\",\"51km ESE of Maneadero, B.C., MX\",\"4 km SSE of Dover, Oklahoma\",\"4km SSW of Niland, CA\",\"5km SSW of Niland, CA\",\"4 km SSE of Dover, Oklahoma\",\"58km SSW of Estacion Coahuila, B.C., MX\",\"18 km NE of Silver Peak, Nevada\",\"4km SE of Loma Linda, CA\",\"4 km SSE of Dover, Oklahoma\"],\"lat\":[34.949,35.2555,31.73767798,41.9732,37.827,35.25916667,31.73638956,35.9356667,34.66583333,36.54016667,36.9838333,35.94133333,31.73369112,31.73564266,31.73468275,35.9455,31.621,35.94183333,33.2083333,33.2041667,35.9415,31.6836667,37.8699,34.0243333,35.94016667],\"legendgroup\":\"\",\"lon\":[-97.61983333,-98.0275,-104.2497523,-119.5587,-122.6663333,-98.02416667,-104.1114364,-120.0126667,-96.0045,-98.96333333,-112.9426667,-97.89,-104.0974151,-104.0978304,-104.1075209,-97.8955,-116.0356667,-97.8895,-115.5425,-115.5441667,-97.891,-115.152,-117.4765,-117.2246667,-97.89166667],\"marker\":{\"color\":[7.0,7.38,7.057055663999999,0.0,4.21,6.25,6.941369629000001,9.46,23.54,6.7,16.48,6.3,7.738317870999999,7.159887695,7.674047852000001,4.03,4.8,6.26,6.99,5.8,5.52,5.84,0.3,11.33,5.47],\"coloraxis\":\"coloraxis\",\"symbol\":\"circle\"},\"mode\":\"markers\",\"name\":\"\",\"showlegend\":false,\"type\":\"scattergeo\"}],\"name\":\"6\"},{\"data\":[{\"geo\":\"geo\",\"hovertemplate\":\"<b>%{hovertext}</b><br><br>day=5<br>latitude=%{lat}<br>longitude=%{lon}<br>depth=%{marker.color}<extra></extra>\",\"hovertext\":[\"13km ESE of Alum Rock, CA\",\"4 km SW of Madison, Missouri\",\"48 km W of Mentone, Texas\",\"48 km W of Mentone, Texas\",\"20 km SSE of Harrison, Montana\",\"4 km SSW of Welcome Beach, Canada\",\"37 km WSW of Mentone, Texas\",\"7km N of Round Valley, CA\",\"10km SW of Kettleman City, CA\",\"0km E of Carson, CA\",\"14km NW of Pinnacles, CA\",\"10 km N of Van Buren, Missouri\",\"16km SSW of Searles Valley, CA\",\"3 km SE of Falls City, Texas\",\"55 km S of Whites City, New Mexico\",\"25 km NNW of Challis, Idaho\",\"56 km NE of McGill, Nevada\",\"19 km SSE of Alamo, Nevada\",\"4 km N of Three Rivers, Texas\",\"19km SSW of Mariposa, CA\",\"34 km ESE of West Yellowstone, Montana\"],\"lat\":[37.3258333,39.4441666666667,31.73477526,31.73201662,45.5361,49.44166666666667,31.61394824,37.4771667,35.9336667,33.8315,36.629,37.0878333,35.647,28.96087646,31.6791131,44.7014,39.6975,37.2028,28.50402832,37.3278333,44.5963333],\"legendgroup\":\"\",\"lon\":[-121.6876667,-92.2526666666667,-104.1127735,-104.1130264,-111.6669,-123.923,-103.9783716,-118.6121667,-120.026,-118.2781667,-121.2515,-91.0195,-117.4993333,-97.99804688,-104.4339741,-114.4027,-114.244,-115.0807,-98.17486213,-120.0411667,-110.6826667],\"marker\":{\"color\":[8.21,1.37,6.504333496,6.632873535,9.55,64.35,8.278186035,8.43,7.93,11.22,9.46,8.1,7.95,4.524129232,5.977319336,10.0,13.19,9.8,6.602783203000001,19.55,7.56],\"coloraxis\":\"coloraxis\",\"symbol\":\"circle\"},\"mode\":\"markers\",\"name\":\"\",\"showlegend\":false,\"type\":\"scattergeo\"}],\"name\":\"5\"},{\"data\":[{\"geo\":\"geo\",\"hovertemplate\":\"<b>%{hovertext}</b><br><br>day=4<br>latitude=%{lat}<br>longitude=%{lon}<br>depth=%{marker.color}<extra></extra>\",\"hovertext\":[\"56 km NW of Toyah, Texas\",\"48 km ENE of Fort Bidwell, California\",\"57 km NW of Toyah, Texas\",\"50 km ENE of Fort Bidwell, California\",\"5km NNE of Diablo, CA\",\"6km WNW of Cobb, CA\",\"6km W of Cobb, CA\",\"6 km ENE of Lima, Montana\",\"28km NE of Oakhurst, CA\",\"82 km SSW of Bah\\u00eda de Kino, Mexico\",\"3 km SE of Falls City, Texas\",\"3 km SE of Falls City, Texas\",\"7km WNW of Cobb, CA\",\"11 km W of Stanley, Idaho\",\"5km WSW of Delta, B.C., MX\"],\"lat\":[31.61668416,42.0062,31.66602425,41.9805,37.8783333,38.8333333,38.8331667,44.6548,37.4886667,28.1573,28.96179199,28.96362305,38.8363333,44.2065,32.3381667],\"legendgroup\":\"\",\"lon\":[-104.2719908,-119.6011,-104.2416858,-119.5624,-121.9458333,-122.795,-122.7961667,-112.5143,-119.4043333,-112.3106,-97.98874081,-97.99494485,-122.8013333,-115.0782,-115.2443333],\"marker\":{\"color\":[7.314135742,5.0,6.388647461,15.23,16.47,1.26,2.47,10.613,21.94,10.0,2.494384766,6.94514974,1.81,10.0,2.83],\"coloraxis\":\"coloraxis\",\"symbol\":\"circle\"},\"mode\":\"markers\",\"name\":\"\",\"showlegend\":false,\"type\":\"scattergeo\"}],\"name\":\"4\"},{\"data\":[{\"geo\":\"geo\",\"hovertemplate\":\"<b>%{hovertext}</b><br><br>day=3<br>latitude=%{lat}<br>longitude=%{lon}<br>depth=%{marker.color}<extra></extra>\",\"hovertext\":[\"35 km WSW of Mentone, Texas\",\"western Texas\",\"western Texas\",\"66 km SSW of Whites City, New Mexico\",\"34 km NW of Stanley, Idaho\",\"64 km SSW of Whites City, New Mexico\",\"1 km WNW of Falls City, Texas\",\"Baja California, Mexico\",\"79km ESE of Maneadero, B.C., MX\",\"85km ESE of Maneadero, B.C., MX\",\"9km NE of Alum Rock, CA\",\"20 km WSW of Coyanosa, Texas\",\"47 km W of Mentone, Texas\",\"4 km SSE of Dover, Oklahoma\",\"4km W of Banning, CA\",null,\"55 km S of Whites City, New Mexico\",\"western Texas\",\"5km ESE of Yorba Linda, CA\",\"26km WSW of Westmorland, CA\",\"36 km NNW of Toyah, Texas\",\"30 km SSW of Los Ybanez, Texas\",\"6 km E of Bluff City, Kansas\"],\"lat\":[31.60609038,31.61431841,31.6097471,31.59215386,44.4663,31.6093688,28.98834229,31.1645,31.5301667,31.5638333,37.43,31.16813827,31.73795177,35.9395,33.9246667,40.8273,31.67691285,31.67862959,33.8696667,32.9686667,31.59933663,32.46276855,37.0707],\"legendgroup\":\"\",\"lon\":[-103.956147,-104.5293976,-103.9626179,-104.5431518,-115.1982,-104.5457539,-98.03527114,-116.7047,-115.7598333,-115.6906667,-121.7728333,-103.264417,-104.0951503,-97.89266667,-116.9215,-117.0879,-104.4194181,-104.4030142,-117.7646667,-115.8898333,-103.9843573,-102.0410156,-97.7981],\"marker\":{\"color\":[8.445288086,6.157275391,7.828295898,7.288427734,10.0,7.365551758,2.469930013,10.0,16.86,1.67,8.78,1.118505859,7.725463867,6.37,7.62,7.9,7.159887695,7.905419922,4.27,11.76,7.442675781,9.048258464,5.0],\"coloraxis\":\"coloraxis\",\"symbol\":\"circle\"},\"mode\":\"markers\",\"name\":\"\",\"showlegend\":false,\"type\":\"scattergeo\"}],\"name\":\"3\"},{\"data\":[{\"geo\":\"geo\",\"hovertemplate\":\"<b>%{hovertext}</b><br><br>day=2<br>latitude=%{lat}<br>longitude=%{lon}<br>depth=%{marker.color}<extra></extra>\",\"hovertext\":[\"36 km WSW of Mentone, Texas\",\"36 km WSW of Mentone, Texas\",\"20km NE of San Lucas, CA\",\"55 km S of Whites City, New Mexico\",\"36 km NW of Toyah, Texas\",\"36 km WSW of Mentone, Texas\",\"35 km SSW of Los Ybanez, Texas\",\"5km WSW of Ojai, CA\",\"4km WSW of Big Pine, CA\",\"6km E of Round Valley, CA\",\"38km SSE of San Clemente Is. (SE tip), CA\",\"western Texas\",\"7 km SSW of South Flat, Wyoming\",\"12 km SSE of Lincolnville, Kansas\",\"Utah\",\"Kansas\",\"14km E of Seven Trees, CA\",\"45 km SSW of Valentine, Texas\",\"11 km S of Virden, New Mexico\",\"15 km S of Virden, New Mexico\",\"11km S of Tres Pinos, CA\",\"15 km W of Pistol River, Oregon\",\"4 km SSE of Dover, Oklahoma\",\"4 km SSE of Dover, Oklahoma\",\"4 km SSE of Dover, Oklahoma\"],\"lat\":[31.62728579,31.630724,36.249,31.67545477,31.56717435,31.61385453,32.4307251,34.4301667,37.1563333,37.4156667,32.5355,31.61903434,43.8693,38.3953,41.5028333,38.4013,37.3086662,30.2041626,32.5882,32.5442,36.6871667,42.27166666666667,35.94033333,35.93916667,35.94183333],\"legendgroup\":\"\",\"lon\":[-103.9754721,-103.9781778,-120.8478333,-104.4312481,-104.0468534,-103.9717811,-102.0742426,-119.2921667,-118.338,-118.5341667,-118.1305,-104.0946022,-108.0343,-96.8794,-112.1756667,-96.8417,-121.677002,-104.6552258,-109.023,-109.0157,-121.3175,-124.57966666666668,-97.89583333,-97.8935,-97.89383333],\"marker\":{\"color\":[5.038977051,4.987561035,8.15,5.10324707,6.645727539,8.188208008,9.757446289,10.61,8.17,6.4,5.96,6.658581543,5.0,5.0,7.16,5.0,7.16,0.0244547526,5.0,5.0,3.1,22.63,6.46,6.42,6.48],\"coloraxis\":\"coloraxis\",\"symbol\":\"circle\"},\"mode\":\"markers\",\"name\":\"\",\"showlegend\":false,\"type\":\"scattergeo\"}],\"name\":\"2\"},{\"data\":[{\"geo\":\"geo\",\"hovertemplate\":\"<b>%{hovertext}</b><br><br>day=1<br>latitude=%{lat}<br>longitude=%{lon}<br>depth=%{marker.color}<extra></extra>\",\"hovertext\":[\"6km E of Round Valley, CA\",null,\"12km NNW of Ocotillo, CA\",\"36 km WSW of Mentone, Texas\",\"New Mexico\",null,\"17 km E of Smiley, Texas\",\"Sonora, Mexico\",\"33km NW of Santa Barbara Is., CA\",null,\"western Texas\",\"Oklahoma\",\"12 km W of Stanley, Idaho\",\"25 km WNW of Forks, Washington\"],\"lat\":[37.4171667,31.69946955,32.8361667,31.61479245,33.9609,33.9689,29.25750732,27.9226,33.7098333,44.7488333,31.68716188,36.69933333,44.2125,48.06783333333333],\"legendgroup\":\"\",\"lon\":[-118.5338333,-104.1708528,-116.0403333,-103.9658675,-106.9294,-106.9125,-97.46036305,-111.8314,-119.2718333,-111.1135,-104.1974227,-97.6685,-115.0913,-124.613],\"marker\":{\"color\":[5.97,6.131567383,10.46,6.697143555000001,6.264,5.594,6.089233398,10.0,1.88,13.58,7.802587891,7.0,10.0,40.7],\"coloraxis\":\"coloraxis\",\"symbol\":\"circle\"},\"mode\":\"markers\",\"name\":\"\",\"showlegend\":false,\"type\":\"scattergeo\"}],\"name\":\"1\"},{\"data\":[{\"geo\":\"geo\",\"hovertemplate\":\"<b>%{hovertext}</b><br><br>day=30<br>latitude=%{lat}<br>longitude=%{lon}<br>depth=%{marker.color}<extra></extra>\",\"hovertext\":[\"12km SE of Talmage, CA\",\"36 km NNW of Toyah, Texas\",\"54 km NW of Toyah, Texas\",\"23km WSW of Stovepipe Wells, CA\",\"5 km SE of Ackerly, Texas\",\"21 km E of Smiley, Texas\",\"2km E of Loma Linda, CA\",\"12km WSW of Petrolia, CA\"],\"lat\":[39.0416667,31.60971654,31.64266733,36.5111667,32.49481201,29.23736572,34.0463333,40.274],\"legendgroup\":\"\",\"lon\":[-123.0855,-103.9723007,-104.2259089,-117.3738333,-101.6755192,-97.47070313,-117.2351667,-124.414],\"marker\":{\"color\":[4.14,7.622631836000001,8.445288086,4.9,0.0244547526,3.986124674,15.17,16.85],\"coloraxis\":\"coloraxis\",\"symbol\":\"circle\"},\"mode\":\"markers\",\"name\":\"\",\"showlegend\":false,\"type\":\"scattergeo\"}],\"name\":\"30\"},{\"data\":[{\"geo\":\"geo\",\"hovertemplate\":\"<b>%{hovertext}</b><br><br>day=29<br>latitude=%{lat}<br>longitude=%{lon}<br>depth=%{marker.color}<extra></extra>\",\"hovertext\":[\"51 km SSW of Whites City, New Mexico\",\"6km ENE of Covelo, CA\",\"55 km S of Whites City, New Mexico\",\"42 km NW of Toyah, Texas\",\"43 km NW of Toyah, Texas\",\"43 km NW of Toyah, Texas\",\"44 km NW of Toyah, Texas\",\"26 km SE of Lindsay, Texas\"],\"lat\":[31.72856511,39.8096667,31.67150103,31.56357293,31.5621748,31.56079363,31.61152169,31.18922903],\"legendgroup\":\"\",\"lon\":[-104.5243923,-123.1873333,-104.4037571,-104.1398534,-104.1441462,-104.1446752,-104.1051839,-103.3572672],\"marker\":{\"color\":[5.874487305,7.75,6.851391602,6.851391602,7.776879883,6.851391602,6.440063477,7.416967772999999],\"coloraxis\":\"coloraxis\",\"symbol\":\"circle\"},\"mode\":\"markers\",\"name\":\"\",\"showlegend\":false,\"type\":\"scattergeo\"}],\"name\":\"29\"},{\"data\":[{\"geo\":\"geo\",\"hovertemplate\":\"<b>%{hovertext}</b><br><br>day=28<br>latitude=%{lat}<br>longitude=%{lon}<br>depth=%{marker.color}<extra></extra>\",\"hovertext\":[\"6 km E of New Cambria, Kansas\",\"42 km NW of Toyah, Texas\",\"7 km WSW of Minco, Oklahoma\",\"36 km WSW of Mentone, Texas\",\"5 km SE of Ackerly, Texas\",\"16 km ESE of Smiley, Texas\",\"54 km NW of Toyah, Texas\",\"16 km ESE of Smiley, Texas\",\"8 km SE of Amarillo, Texas\",\"12km NNE of Hollister, CA\",\"11km ESE of Mammoth Lakes, CA\"],\"lat\":[38.8788,31.55439337,35.28283333,31.60928415,32.48931885,29.23370361,31.61084666,29.23370361,35.16906738,36.9416667,37.611],\"legendgroup\":\"\",\"lon\":[-97.4298,-104.1371084,-98.01716667,-103.9636918,-101.6733756,-97.46863511,-104.2466622,-97.47277114,-101.7660757,-121.3346667,-118.8613333],\"marker\":{\"color\":[5.0,6.645727539,6.75,8.856616211,7.556518555000001,3.203572591,8.548120117,3.545939128,6.113688151,7.04,2.54],\"coloraxis\":\"coloraxis\",\"symbol\":\"circle\"},\"mode\":\"markers\",\"name\":\"\",\"showlegend\":false,\"type\":\"scattergeo\"}],\"name\":\"28\"},{\"data\":[{\"geo\":\"geo\",\"hovertemplate\":\"<b>%{hovertext}</b><br><br>day=27<br>latitude=%{lat}<br>longitude=%{lon}<br>depth=%{marker.color}<extra></extra>\",\"hovertext\":[\"11km E of Ocotillo Wells, CA\",\"54 km S of Whites City, New Mexico\",\"24km W of Petrolia, CA\",\"11km ESE of Mammoth Lakes, CA\",\"7km WSW of Petrolia, CA\",\"14km SSW of Searles Valley, CA\",\"6 km SSE of Catron, Missouri\"],\"lat\":[33.1608333,31.68216525,40.3545,37.6091667,40.3113333,35.6548333,36.551],\"legendgroup\":\"\",\"lon\":[-116.0193333,-104.3893176,-124.5653333,-118.8613333,-124.3686667,-117.4845,-89.6845],\"marker\":{\"color\":[3.29,6.080151367,25.42,2.61,28.88,2.06,9.19],\"coloraxis\":\"coloraxis\",\"symbol\":\"circle\"},\"mode\":\"markers\",\"name\":\"\",\"showlegend\":false,\"type\":\"scattergeo\"}],\"name\":\"27\"},{\"data\":[{\"geo\":\"geo\",\"hovertemplate\":\"<b>%{hovertext}</b><br><br>day=26<br>latitude=%{lat}<br>longitude=%{lon}<br>depth=%{marker.color}<extra></extra>\",\"hovertext\":[\"54 km S of Whites City, New Mexico\",\"31 km SW of Las Brisas, Mexico\",\"28 km NE of Benton, California\",\"41km NNW of Fort Irwin, CA\",\"40 km NW of Toyah, Texas\",\"10km S of Tres Pinos, CA\",\"49 km NW of Toyah, Texas\",\"16km NW of Pinnacles, CA\",\"16 km NE of Fowlerton, Texas\",\"5 km ESE of Fowlerton, Texas\",\"4 km NNE of Ridgely, Tennessee\",\"11km NW of Anza, CA\",\"11km NW of Anza, CA\",\"6km NW of Walker, CA\",\"14km ESE of Alum Rock, CA\"],\"lat\":[31.68666321,30.7737,37.9932,35.5861667,31.56777641,36.7043333,31.59041145,36.6423333,28.58093262,28.4463501,36.3023333,33.6378333,33.6383333,38.5471667,37.3163333],\"legendgroup\":\"\",\"lon\":[-104.4044329,-116.4114,-118.2341,-116.9095,-104.097804,-121.3368333,-104.1986443,-121.2633333,-98.70013787,-98.7611443,-89.4693333,-116.7423333,-116.7436667,-119.534,-121.6811667],\"marker\":{\"color\":[6.028735352,10.0,4.0,1.99,6.093005371,2.81,7.416967772999999,6.36,15.11303711,6.627237956,6.1,13.73,13.64,4.12,7.98],\"coloraxis\":\"coloraxis\",\"symbol\":\"circle\"},\"mode\":\"markers\",\"name\":\"\",\"showlegend\":false,\"type\":\"scattergeo\"}],\"name\":\"26\"},{\"data\":[{\"geo\":\"geo\",\"hovertemplate\":\"<b>%{hovertext}</b><br><br>day=25<br>latitude=%{lat}<br>longitude=%{lon}<br>depth=%{marker.color}<extra></extra>\",\"hovertext\":[\"18 km NW of Cacouna, Canada\",\"6 km WSW of Minco, Oklahoma\",\"54 km S of Whites City, New Mexico\",\"35 km SSW of Los Ybanez, Texas\",\"13 km WSW of Saint Regis, Montana\",\"0km SSW of View Park-Windsor Hills, CA\",\"3 km WSW of Danville, Kansas\",\"45 km ENE of Tonopah, Nevada\",\"15km E of Seven Trees, CA\",\"15km E of Seven Trees, CA\",\"15km ESE of Alum Rock, CA\",\"2 km NNE of La Luz, New Mexico\",\"Virginia-North Carolina border region\",\"38 km NNW of Toyah, Texas\",\"55 km S of Whites City, New Mexico\"],\"lat\":[48.0269,35.28533333,31.68441096,32.43255615,47.2568,33.9923333,37.2708,38.1701,37.3106667,37.3056667,37.3115,33.0002,36.5876667,31.61366151,31.67492506],\"legendgroup\":\"\",\"lon\":[-69.685,-98.01083333,-104.3974134,-102.0742426,-115.2674,-118.3508333,-97.9261,-116.7331,-121.6751667,-121.6731667,-121.672,-105.9296,-81.0625,-103.9955853,-104.3714882],\"marker\":{\"color\":[18.507,7.33,5.668823242,9.268351237,10.861,9.84,10.0,2.1,8.05,6.66,8.38,5.0,2.96,8.509558105,7.622631836000001],\"coloraxis\":\"coloraxis\",\"symbol\":\"circle\"},\"mode\":\"markers\",\"name\":\"\",\"showlegend\":false,\"type\":\"scattergeo\"}],\"name\":\"25\"},{\"data\":[{\"geo\":\"geo\",\"hovertemplate\":\"<b>%{hovertext}</b><br><br>day=24<br>latitude=%{lat}<br>longitude=%{lon}<br>depth=%{marker.color}<extra></extra>\",\"hovertext\":[\"84km E of Maneadero, B.C., MX\",\"38 km NNW of Toyah, Texas\",\"37 km WSW of Mentone, Texas\",\"39 km NNW of Toyah, Texas\",null,\"38 km WSW of Mentone, Texas\",\"western Texas\",\"western Texas\",\"17km NW of Parkfield, CA\",\"5km NE of Westmorland, CA\",\"54 km S of Whites City, New Mexico\",\"34 km W of Las Brisas, Mexico\",\"80 km N of Rachel, Nevada\",\"5km E of Calimesa, CA\",\"21 km NW of Stanley, Idaho\",\"3km NW of The Geysers, CA\"],\"lat\":[31.57,31.61248783,31.61348604,31.6155766,31.62673498,31.62399855,31.63414005,31.71009894,36.0043333,33.0695,31.68670531,31.0122,38.3674,33.9898333,44.3233,38.7943333],\"legendgroup\":\"\",\"lon\":[-115.694,-104.0028423,-103.9791765,-104.0067572,-104.0029099,-103.9967096,-103.9876096,-104.4725011,-120.5643333,-115.5835,-104.3979724,-116.5181,-115.7972,-116.9996667,-115.1565,-122.779],\"marker\":{\"color\":[5.51,7.712609863,8.509558105,7.982543944999999,8.483850098,6.607165527,7.429821777,5.051831055,4.14,11.77,6.080151367,10.0,6.7,15.02,10.0,3.35],\"coloraxis\":\"coloraxis\",\"symbol\":\"circle\"},\"mode\":\"markers\",\"name\":\"\",\"showlegend\":false,\"type\":\"scattergeo\"}],\"name\":\"24\"},{\"data\":[{\"geo\":\"geo\",\"hovertemplate\":\"<b>%{hovertext}</b><br><br>day=23<br>latitude=%{lat}<br>longitude=%{lon}<br>depth=%{marker.color}<extra></extra>\",\"hovertext\":[\"15km E of Seven Trees, CA\",\"5km ESE of Yorba Linda, CA\",\"31 km NW of Toyah, Texas\",\"15km SSW of Searles Valley, CA\",\"55 km S of Whites City, New Mexico\",\"20km N of Ocotillo, CA\",\"31 km SE of Mina, Nevada\",\"53 km SSW of Whites City, New Mexico\",\"3km SSE of Fortuna, CA\",null,\"9km ENE of San Martin, CA\",\"23km SSW of La Quinta, CA\"],\"lat\":[37.2916667,33.8758333,31.52836424,35.6381667,31.6797273,32.91,38.1864,31.71635872,40.5781667,32.78411865,37.1215,33.4806667],\"legendgroup\":\"\",\"lon\":[-121.6641667,-117.7658333,-104.0080874,-117.4441667,-104.4108303,-115.9686667,-117.8655,-104.5581962,-124.14,-100.6872856,-121.5215,-116.4261667],\"marker\":{\"color\":[5.82,4.79,6.735705566,6.62,6.131567383,9.87,6.3,7.828295898,28.35,2.421020508,6.31,5.79],\"coloraxis\":\"coloraxis\",\"symbol\":\"circle\"},\"mode\":\"markers\",\"name\":\"\",\"showlegend\":false,\"type\":\"scattergeo\"}],\"name\":\"23\"},{\"data\":[{\"geo\":\"geo\",\"hovertemplate\":\"<b>%{hovertext}</b><br><br>day=22<br>latitude=%{lat}<br>longitude=%{lon}<br>depth=%{marker.color}<extra></extra>\",\"hovertext\":[\"78 km N of Rachel, Nevada\",\"76 km NNW of Rachel, Nevada\",\"13 km NNW of Miramichi, Canada\",\"37 km WSW of Mentone, Texas\",\"52 km NW of Toyah, Texas\",\"Baja California, Mexico\",\"19km W of Alberto Oviedo Mota, B.C., MX\",\"52 km SSW of Whites City, New Mexico\",\"Baja California, Mexico\",\"40 km NW of Toyah, Texas\",\"7 km SW of Corinne, Utah\",\"57 km SSW of Whites City, New Mexico\",\"6 km SE of Wakita, Oklahoma\",\"22 km ESE of McGill, Nevada\",\"35 km ENE of Austin, Nevada\",\"17 km NE of Austin, Nevada\",\"38 km NE of Austin, Nevada\",\"7km SSW of Muir Beach, CA\",\"5km NNE of Hydesville, CA\"],\"lat\":[38.3489,38.322,47.1331,31.61543446,31.60261979,30.9454,32.2506667,31.72202186,30.7839,31.5651355,41.5098333,31.67840454,36.83533333,39.3107,39.6703,39.6096,39.6995,37.8021667,40.5906667],\"legendgroup\":\"\",\"lon\":[-115.8266,-115.9271,-65.603,-103.9806647,-104.2379952,-116.5078,-115.369,-104.538867,-116.3892,-104.0973856,-112.1785,-104.5330249,-97.87183333,-114.5493,-116.7279,-116.9273,-116.7163,-122.608,-124.0748333],\"marker\":{\"color\":[7.3,4.8,12.292,7.494091797,7.314135742,10.0,8.44,6.234399414,10.0,6.131567383,7.2,6.131567383,7.18,10.0,15.9,12.8,9.8,4.82,24.1],\"coloraxis\":\"coloraxis\",\"symbol\":\"circle\"},\"mode\":\"markers\",\"name\":\"\",\"showlegend\":false,\"type\":\"scattergeo\"}],\"name\":\"22\"},{\"data\":[{\"geo\":\"geo\",\"hovertemplate\":\"<b>%{hovertext}</b><br><br>day=21<br>latitude=%{lat}<br>longitude=%{lon}<br>depth=%{marker.color}<extra></extra>\",\"hovertext\":[\"29 km NE of Benton, California\",\"80 km N of Rachel, Nevada\",\"52 km SSW of Whites City, New Mexico\",\"western Texas\",\"western Texas\",\"54 km S of Whites City, New Mexico\",\"56 km S of Whites City, New Mexico\",\"8km NW of The Geysers, CA\",\"8km NW of The Geysers, CA\"],\"lat\":[37.9964,38.3662,31.72073247,31.68212359,31.67243422,31.6826,31.66692993,38.8256667,38.8333333],\"legendgroup\":\"\",\"lon\":[-118.2278,-115.8242,-104.5270042,-104.3957777,-104.4016123,-104.419,-104.3999478,-122.8228333,-122.8171667],\"marker\":{\"color\":[5.4,10.4,5.977319336,7.416967772999999,6.74855957,5.0,6.851391602,1.28,1.39],\"coloraxis\":\"coloraxis\",\"symbol\":\"circle\"},\"mode\":\"markers\",\"name\":\"\",\"showlegend\":false,\"type\":\"scattergeo\"}],\"name\":\"21\"},{\"data\":[{\"geo\":\"geo\",\"hovertemplate\":\"<b>%{hovertext}</b><br><br>day=20<br>latitude=%{lat}<br>longitude=%{lon}<br>depth=%{marker.color}<extra></extra>\",\"hovertext\":[\"56 km S of Whites City, New Mexico\",\"56 km SSW of Whites City, New Mexico\",\"38 km NNW of Toyah, Texas\",\"30 km NW of Toyah, Texas\",\"10km E of Alum Rock, CA\",\"55 km NW of Toyah, Texas\",\"California-Nevada border region\",\"21km SE of Bodie, CA\",\"18km NW of Belden, CA\",\"54 km NW of Toyah, Texas\",\"100km S of San Clemente Is. (SE tip), CA\",\"36km NE of Redway, CA\",\"western Texas\",\"56 km NW of Toyah, Texas\",\"6km NW of The Geysers, CA\",\"7km NW of The Geysers, CA\"],\"lat\":[31.67402863,31.67866353,31.61467777,31.52457686,37.3605,31.64865291,38.0721,38.0658333,40.1221667,31.6480198,31.9225,40.3495,31.64319288,31.66128988,38.816,38.8233333],\"legendgroup\":\"\",\"lon\":[-104.2907317,-104.4980343,-104.0008352,-104.00686,-121.7188333,-104.223799,-118.8638,-118.8585,-121.401,-104.212762,-118.2288333,-123.5185,-104.2129973,-104.2241581,-122.8108333,-122.8098333],\"marker\":{\"color\":[7.828295898,6.080151367,9.319360352,6.645727539,6.42,6.131567383,12.7,10.77,14.26,7.648339844,5.8,33.05,7.622631836000001,8.008251953,1.68,1.72],\"coloraxis\":\"coloraxis\",\"symbol\":\"circle\"},\"mode\":\"markers\",\"name\":\"\",\"showlegend\":false,\"type\":\"scattergeo\"}],\"name\":\"20\"},{\"data\":[{\"geo\":\"geo\",\"hovertemplate\":\"<b>%{hovertext}</b><br><br>day=19<br>latitude=%{lat}<br>longitude=%{lon}<br>depth=%{marker.color}<extra></extra>\",\"hovertext\":[\"Western Montana\",\"9km WNW of Templeton, CA\",\"38 km WSW of Mentone, Texas\",\"6km SW of Big Bear Lake, CA\",\"6km NW of The Geysers, CA\",\"6km NW of The Geysers, CA\",\"2 km NNW of Circleville, Utah\",\"56 km NW of Toyah, Texas\",\"7km N of Petrolia, CA\",\"37 km NNW of Toyah, Texas\",null,\"1 km NE of Ridgely, Tennessee\"],\"lat\":[46.8015,35.5711667,31.63489585,34.1968333,38.8176667,38.8121667,38.1958333,31.60955928,40.3865,31.6103947,31.64591099,36.2746667],\"legendgroup\":\"\",\"lon\":[-112.6802,-120.8061667,-104.0020069,-116.9511667,-122.8078333,-122.8151667,-112.2805,-104.2722054,-124.2983333,-103.9758004,-104.3809226,-89.4768333],\"marker\":{\"color\":[10.0,3.46,7.468383789,9.08,2.43,3.26,5.76,7.288427734,26.46,8.882324218999997,6.285815430000001,7.65],\"coloraxis\":\"coloraxis\",\"symbol\":\"circle\"},\"mode\":\"markers\",\"name\":\"\",\"showlegend\":false,\"type\":\"scattergeo\"}],\"name\":\"19\"},{\"data\":[{\"geo\":\"geo\",\"hovertemplate\":\"<b>%{hovertext}</b><br><br>day=18<br>latitude=%{lat}<br>longitude=%{lon}<br>depth=%{marker.color}<extra></extra>\",\"hovertext\":[\"western Texas\",\"59 km SSW of Whites City, New Mexico\",\"38 km NW of Toyah, Texas\",\"38 km WSW of Mentone, Texas\",\"western Texas\",\"38 km WSW of Mentone, Texas\",\"37 km WSW of Mentone, Texas\",\"58 km SSW of Whites City, New Mexico\",\"western Texas\",\"61 km SSW of Whites City, New Mexico\",null,\"4 km SSE of Dover, Oklahoma\",\"14km NNW of Lopez Point, CA\"],\"lat\":[31.62950719,31.65396867,31.55345937,31.62847084,31.63956788,31.63248808,31.62771827,31.66548399,31.63077607,31.64886475,35.87416667,35.9405,36.1438333],\"legendgroup\":\"\",\"lon\":[-103.9986185,-104.5125867,-104.0868348,-103.9992862,-104.013195,-104.0005158,-103.9838138,-104.5398877,-103.9971448,-104.5844846,-97.58933333,-97.89,-121.605],\"marker\":{\"color\":[6.041589355,8.008251953,6.568603515999999,8.599536133,6.041589355,6.093005371,7.661193848,6.131567383,9.473608398,7.018513997,9.75,6.42,11.15],\"coloraxis\":\"coloraxis\",\"symbol\":\"circle\"},\"mode\":\"markers\",\"name\":\"\",\"showlegend\":false,\"type\":\"scattergeo\"}],\"name\":\"18\"},{\"data\":[{\"geo\":\"geo\",\"hovertemplate\":\"<b>%{hovertext}</b><br><br>day=31<br>latitude=%{lat}<br>longitude=%{lon}<br>depth=%{marker.color}<extra></extra>\",\"hovertext\":[\"32 km NW of Stanley, Idaho\",\"24km NNE of Trona, CA\",\"55 km NW of Toyah, Texas\",\"Southern Texas\",\"15 km NW of Stanley, Idaho\",\"32 km SE of Malaga, New Mexico\",\"14km ESE of Alum Rock, CA\",\"33 km NW of Toyah, Texas\",\"6km SE of Pleasanton, CA\",\"6km ESE of Wrightwood, CA\",\"6 km E of Elgin, South Carolina\"],\"lat\":[44.3927,35.974,31.61580046,29.24102783,44.3255,32.00623877,37.3158333,31.50369418,37.6296667,34.3418333,34.1625],\"legendgroup\":\"\",\"lon\":[-115.2615,-117.3248333,-104.2655282,-97.46863511,-115.0664,-103.8406251,-121.6805,-104.0615686,-121.8145,-117.569,-80.7191667],\"marker\":{\"color\":[10.0,2.7,7.57121582,2.469930013,10.0,9.730688477,7.25,6.697143555000001,8.56,4.35,3.09],\"coloraxis\":\"coloraxis\",\"symbol\":\"circle\"},\"mode\":\"markers\",\"name\":\"\",\"showlegend\":false,\"type\":\"scattergeo\"}],\"name\":\"31\"}]);\n",
       "                        }).then(function(){\n",
       "                            \n",
       "var gd = document.getElementById('a60298ff-4da0-41d7-8c66-0f19c18d542e');\n",
       "var x = new MutationObserver(function (mutations, observer) {{\n",
       "        var display = window.getComputedStyle(gd).display;\n",
       "        if (!display || display === 'none') {{\n",
       "            console.log([gd, 'removed!']);\n",
       "            Plotly.purge(gd);\n",
       "            observer.disconnect();\n",
       "        }}\n",
       "}});\n",
       "\n",
       "// Listen for the removal of the full notebook cells\n",
       "var notebookContainer = gd.closest('#notebook-container');\n",
       "if (notebookContainer) {{\n",
       "    x.observe(notebookContainer, {childList: true});\n",
       "}}\n",
       "\n",
       "// Listen for the clearing of the current output cell\n",
       "var outputEl = gd.closest('.output');\n",
       "if (outputEl) {{\n",
       "    x.observe(outputEl, {childList: true});\n",
       "}}\n",
       "\n",
       "                        })                };                });            </script>        </div>"
      ]
     },
     "metadata": {},
     "output_type": "display_data"
    }
   ],
   "source": [
    "import pandas as pd\n",
    "import os\n",
    "import matplotlib.pyplot as plt\n",
    "import plotly.express as px\n",
    "URL = \"https://earthquake.usgs.gov/fdsnws/event/1/query.csv?starttime=\" + str(start_date.value) + \"%2000:00:00&endtime=\" + str(end_date.value) + \"%2023:59:59&maxlatitude=50&minlatitude=24.6&maxlongitude=-65&minlongitude=-125&minmagnitude=2.5&orderby=time\"\n",
    "df = pd.read_csv(URL)\n",
    "\n",
    "fig = px.scatter_mapbox(df, lat=\"latitude\", lon=\"longitude\", color=\"mag\",hover_name=\"place\", hover_data=[\"nst\", \"mag\"],\n",
    "                        color_continuous_scale=px.colors.cyclical.IceFire, zoom=3, height=600,\n",
    "                        title=\"Earthquakes Across the United States\",\n",
    "                        template='plotly_dark')\n",
    "fig.update_layout(mapbox_style=\"open-street-map\")\n",
    "fig.update_layout(margin={\"r\":0,\"t\":0,\"l\":0,\"b\":0})\n",
    "fig.show()\n",
    "\n",
    "\n",
    "fig = px.scatter_3d(\n",
    "    df,\n",
    "    title='Earthquake Depth, Magnitude, and Magnitude Error',\n",
    "    x=\"mag\",\n",
    "    y=\"depth\",\n",
    "    z=\"depthError\",\n",
    "    color=\"magError\",\n",
    "    template='plotly_dark',\n",
    "    height=600,\n",
    ")\n",
    "fig.update_layout(showlegend=False)\n",
    "fig.show()\n",
    "\n",
    "\n",
    "fig = px.histogram(df[df['nst']<=100], x=\"nst\",template='plotly_dark',title='Number of Sensors Used per Earthquake',)\n",
    "fig.show()\n",
    "\n",
    "def map_robinson(df, color, animation_frame):\n",
    "# country = px.data.gapminder()\n",
    "    fig = px.scatter_geo(df, lat=\"latitude\", lon=\"longitude\", \n",
    "                         hover_name=\"place\", color = color,\n",
    "                         animation_frame = animation_frame,\n",
    "                         projection=\"natural earth\",\n",
    "                         height = 900,\n",
    "                         template='plotly_dark',\n",
    "                         scope='north america',\n",
    "                         title=\"Location and Depth of Earthquakes across time, between \" + str(start_date.value) + \" and \" + str(end_date.value) \n",
    "                         )                     \n",
    "    fig.show()\n",
    "\n",
    "# Converting time column to datetime obj and splitting it up into year, month and day to potentially use it as filters later.\n",
    "df['time'] = pd.to_datetime(df['time'])\n",
    "df['year'] = pd.DatetimeIndex(df['time']).year\n",
    "df['month'] = pd.DatetimeIndex(df['time']).month\n",
    "df['day'] = pd.DatetimeIndex(df['time']).day\n",
    "\n",
    "#Splitting column based on comma to see if it actually contains only state names that can also be used later\n",
    "df['location_after_comma'] = df['place'].str.rsplit(',').str[-1]\n",
    "\n",
    "\n",
    "map_robinson(df, \"depth\", \"day\")"
   ]
  },
  {
   "cell_type": "code",
   "execution_count": null,
   "metadata": {},
   "outputs": [],
   "source": []
  }
 ],
 "metadata": {
  "kernelspec": {
   "display_name": "Python 3 (ipykernel)",
   "language": "python",
   "name": "python3"
  },
  "language_info": {
   "codemirror_mode": {
    "name": "ipython",
    "version": 3
   },
   "file_extension": ".py",
   "mimetype": "text/x-python",
   "name": "python",
   "nbconvert_exporter": "python",
   "pygments_lexer": "ipython3",
   "version": "3.9.7"
  },
  "vscode": {
   "interpreter": {
    "hash": "94ce52148eb8405b4bced4b98010fe22eb2edbfedb0d1b366bd9cc755b48ffeb"
   }
  }
 },
 "nbformat": 4,
 "nbformat_minor": 4
}
